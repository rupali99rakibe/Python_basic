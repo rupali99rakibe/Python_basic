{
 "cells": [
  {
   "cell_type": "code",
   "execution_count": 22,
   "id": "9b543fe3-3736-4d8c-ab61-572c5ccde4a0",
   "metadata": {},
   "outputs": [],
   "source": [
    "nums = [2,7,5,6]\n",
    "target = 9\n",
    "class Solution(object):\n",
    "    def twoSum(self, nums, target):\n",
    "        for i in range(len(nums)):\n",
    "            for j in range(i+1,len(nums)):\n",
    "               if nums[i] + nums[j] == target: \n",
    "                   return[i,j]"
   ]
  },
  {
   "cell_type": "code",
   "execution_count": 23,
   "id": "58292a8e-9df4-4ee3-bcc0-b0376be072ad",
   "metadata": {},
   "outputs": [],
   "source": [
    "s = Solution()"
   ]
  },
  {
   "cell_type": "code",
   "execution_count": 24,
   "id": "0b9ceeb6-9277-4ce2-b770-2a0f1ce27c7f",
   "metadata": {},
   "outputs": [
    {
     "data": {
      "text/plain": [
       "[0, 1]"
      ]
     },
     "execution_count": 24,
     "metadata": {},
     "output_type": "execute_result"
    }
   ],
   "source": [
    "s.twoSum(nums,target)"
   ]
  },
  {
   "cell_type": "code",
   "execution_count": 16,
   "id": "03be874e-a81c-4c75-98dc-da9223e95543",
   "metadata": {},
   "outputs": [
    {
     "name": "stdout",
     "output_type": "stream",
     "text": [
      "[0, 1]\n"
     ]
    }
   ],
   "source": [
    "class Solution(object):\n",
    "    def twoSum(self, nums, target):\n",
    "        for i in range(len(nums)):\n",
    "            for j in range(i+1, len(nums)):\n",
    "                if nums[i] + nums[j] == target:\n",
    "                    return [i, j]\n",
    "\n",
    "# Test\n",
    "nums = [2, 7, 5, 6]\n",
    "target = 9\n",
    "sol = Solution()\n",
    "print(sol.twoSum(nums, target))"
   ]
  },
  {
   "cell_type": "code",
   "execution_count": 26,
   "id": "2b1f9701-f3ef-435e-9887-b985ecb6c3c6",
   "metadata": {},
   "outputs": [
    {
     "name": "stdout",
     "output_type": "stream",
     "text": [
      "       Product    Quarter  Sales\n",
      "0     Umbrella  quarter_1    417\n",
      "1  SleepingBag  quarter_1    800\n",
      "2     Umbrella  quarter_2    224\n",
      "3  SleepingBag  quarter_2    936\n",
      "4     Umbrella  quarter_3    379\n",
      "5  SleepingBag  quarter_3     93\n",
      "6     Umbrella  quarter_4    611\n",
      "7  SleepingBag  quarter_4    875\n"
     ]
    }
   ],
   "source": [
    "import pandas as pd\n",
    "\n",
    "# Given data\n",
    "data = {\n",
    "    'Product': ['Umbrella', 'SleepingBag'],\n",
    "    'quarter_1': [417, 800],\n",
    "    'quarter_2': [224, 936],\n",
    "    'quarter_3': [379, 93],\n",
    "    'quarter_4': [611, 875]\n",
    "}\n",
    "\n",
    "# Create DataFrame\n",
    "df = pd.DataFrame(data)\n",
    "\n",
    "# Reshape the DataFrame\n",
    "reshaped_df = pd.melt(df, id_vars=['Product'], value_vars=['quarter_1', 'quarter_2', 'quarter_3', 'quarter_4'],\n",
    "                      var_name='Quarter', value_name='Sales')\n",
    "\n",
    "# Print the reshaped DataFrame\n",
    "print(reshaped_df)"
   ]
  },
  {
   "cell_type": "code",
   "execution_count": null,
   "id": "b516400a-30f5-4bac-9661-a7c6632ac13e",
   "metadata": {},
   "outputs": [],
   "source": []
  }
 ],
 "metadata": {
  "kernelspec": {
   "display_name": "Python 3 (ipykernel)",
   "language": "python",
   "name": "python3"
  },
  "language_info": {
   "codemirror_mode": {
    "name": "ipython",
    "version": 3
   },
   "file_extension": ".py",
   "mimetype": "text/x-python",
   "name": "python",
   "nbconvert_exporter": "python",
   "pygments_lexer": "ipython3",
   "version": "3.11.7"
  },
  "widgets": {
   "application/vnd.jupyter.widget-state+json": {
    "state": {},
    "version_major": 2,
    "version_minor": 0
   }
  }
 },
 "nbformat": 4,
 "nbformat_minor": 5
}
