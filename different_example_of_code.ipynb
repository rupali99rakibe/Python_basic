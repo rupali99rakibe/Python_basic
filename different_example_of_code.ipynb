{
 "cells": [
  {
   "cell_type": "code",
   "execution_count": 22,
   "id": "9b543fe3-3736-4d8c-ab61-572c5ccde4a0",
   "metadata": {},
   "outputs": [],
   "source": [
    "nums = [2,7,5,6]\n",
    "target = 9\n",
    "class Solution(object):\n",
    "    def twoSum(self, nums, target):\n",
    "        for i in range(len(nums)):\n",
    "            for j in range(i+1,len(nums)):\n",
    "               if nums[i] + nums[j] == target: \n",
    "                   return[i,j]"
   ]
  },
  {
   "cell_type": "code",
   "execution_count": 23,
   "id": "58292a8e-9df4-4ee3-bcc0-b0376be072ad",
   "metadata": {},
   "outputs": [],
   "source": [
    "s = Solution()"
   ]
  },
  {
   "cell_type": "code",
   "execution_count": 24,
   "id": "0b9ceeb6-9277-4ce2-b770-2a0f1ce27c7f",
   "metadata": {},
   "outputs": [
    {
     "data": {
      "text/plain": [
       "[0, 1]"
      ]
     },
     "execution_count": 24,
     "metadata": {},
     "output_type": "execute_result"
    }
   ],
   "source": [
    "s.twoSum(nums,target)"
   ]
  },
  {
   "cell_type": "code",
   "execution_count": 16,
   "id": "03be874e-a81c-4c75-98dc-da9223e95543",
   "metadata": {},
   "outputs": [
    {
     "name": "stdout",
     "output_type": "stream",
     "text": [
      "[0, 1]\n"
     ]
    }
   ],
   "source": [
    "class Solution(object):\n",
    "    def twoSum(self, nums, target):\n",
    "        for i in range(len(nums)):\n",
    "            for j in range(i+1, len(nums)):\n",
    "                if nums[i] + nums[j] == target:\n",
    "                    return [i, j]\n",
    "\n",
    "# Test\n",
    "nums = [2, 7, 5, 6]\n",
    "target = 9\n",
    "sol = Solution()\n",
    "print(sol.twoSum(nums, target))"
   ]
  },
  {
   "cell_type": "code",
   "execution_count": 26,
   "id": "2b1f9701-f3ef-435e-9887-b985ecb6c3c6",
   "metadata": {},
   "outputs": [
    {
     "name": "stdout",
     "output_type": "stream",
     "text": [
      "       Product    Quarter  Sales\n",
      "0     Umbrella  quarter_1    417\n",
      "1  SleepingBag  quarter_1    800\n",
      "2     Umbrella  quarter_2    224\n",
      "3  SleepingBag  quarter_2    936\n",
      "4     Umbrella  quarter_3    379\n",
      "5  SleepingBag  quarter_3     93\n",
      "6     Umbrella  quarter_4    611\n",
      "7  SleepingBag  quarter_4    875\n"
     ]
    }
   ],
   "source": [
    "import pandas as pd\n",
    "\n",
    "# Given data\n",
    "data = {\n",
    "    'Product': ['Umbrella', 'SleepingBag'],\n",
    "    'quarter_1': [417, 800],\n",
    "    'quarter_2': [224, 936],\n",
    "    'quarter_3': [379, 93],\n",
    "    'quarter_4': [611, 875]\n",
    "}\n",
    "\n",
    "# Create DataFrame\n",
    "df = pd.DataFrame(data)\n",
    "\n",
    "# Reshape the DataFrame\n",
    "reshaped_df = pd.melt(df, id_vars=['Product'], value_vars=['quarter_1', 'quarter_2', 'quarter_3', 'quarter_4'],\n",
    "                      var_name='Quarter', value_name='Sales')\n",
    "\n",
    "# Print the reshaped DataFrame\n",
    "print(reshaped_df)"
   ]
  },
  {
   "cell_type": "code",
   "execution_count": 7,
   "id": "b516400a-30f5-4bac-9661-a7c6632ac13e",
   "metadata": {},
   "outputs": [
    {
     "name": "stdout",
     "output_type": "stream",
     "text": [
      "x = 5\n",
      "y = 10\n"
     ]
    }
   ],
   "source": [
    "# swpping of two numbers\n",
    "x = 10\n",
    "y = 5\n",
    "x,y = y,x\n",
    "print(\"x =\",x)\n",
    "print(\"y =\",y)"
   ]
  },
  {
   "cell_type": "code",
   "execution_count": 8,
   "id": "fa17f16f-d774-4a5c-973e-22933bac57b8",
   "metadata": {},
   "outputs": [
    {
     "name": "stdout",
     "output_type": "stream",
     "text": [
      "x = 10\n",
      "y = 5\n"
     ]
    }
   ],
   "source": [
    "# swapping of two numbers\n",
    "x = 5\n",
    "y = 10\n",
    "x, y = y, x\n",
    "print(\"x =\", x)\n",
    "print(\"y =\", y)\n"
   ]
  },
  {
   "cell_type": "code",
   "execution_count": 15,
   "id": "2f39254e-cf46-4ea2-8585-8a28fc0dba5f",
   "metadata": {},
   "outputs": [
    {
     "name": "stdin",
     "output_type": "stream",
     "text": [
      "Enter the value of a:  9\n",
      "Enter the value of b:  11\n"
     ]
    },
    {
     "name": "stdout",
     "output_type": "stream",
     "text": [
      "before swapping of two element:\n",
      "a= 9\n",
      "b= 11\n",
      "after swapping of two element:\n",
      "a= 11\n",
      "b= 9\n"
     ]
    }
   ],
   "source": [
    "# using user input\n",
    "a = input(\"Enter the value of a: \")\n",
    "b = input(\"Enter the value of b: \")\n",
    "print(\"before swapping of two element:\")\n",
    "print(\"a=\",a)\n",
    "print(\"b=\",b)\n",
    "a,b = b,a\n",
    "print(\"after swapping of two element:\")\n",
    "print(\"a=\",a)\n",
    "print(\"b=\",b)"
   ]
  },
  {
   "cell_type": "code",
   "execution_count": 19,
   "id": "e5e56527-bf06-47c4-9f11-be98591b4fb3",
   "metadata": {},
   "outputs": [
    {
     "name": "stdout",
     "output_type": "stream",
     "text": [
      "addition of two numbers:  15\n"
     ]
    }
   ],
   "source": [
    "#  adding of two numbers\n",
    "a = 5\n",
    "b = 10\n",
    "print(\"addition of two numbers: \", a + b)"
   ]
  },
  {
   "cell_type": "code",
   "execution_count": 21,
   "id": "89b2177e-07b0-442d-9643-9d67cd9b15ba",
   "metadata": {},
   "outputs": [
    {
     "name": "stdout",
     "output_type": "stream",
     "text": [
      "addition of two numbers:  15\n"
     ]
    }
   ],
   "source": [
    "#  adding of two numbers\n",
    "a = 5\n",
    "b = 10\n",
    "print(\"addition of two numbers: \", sum((a,b)))"
   ]
  },
  {
   "cell_type": "code",
   "execution_count": 23,
   "id": "2fd22556-9d13-41dd-872a-23192998d31d",
   "metadata": {},
   "outputs": [
    {
     "data": {
      "text/plain": [
       "2.8284271247461903"
      ]
     },
     "execution_count": 23,
     "metadata": {},
     "output_type": "execute_result"
    }
   ],
   "source": [
    "# find square root of given numbers\n",
    "num = 8\n",
    "num ** 0.5"
   ]
  },
  {
   "cell_type": "code",
   "execution_count": 27,
   "id": "87826b8c-6ac3-4ff7-9102-eece21cc0e16",
   "metadata": {},
   "outputs": [
    {
     "name": "stdin",
     "output_type": "stream",
     "text": [
      "Enter the number:  9\n"
     ]
    },
    {
     "name": "stdout",
     "output_type": "stream",
     "text": [
      "Square root of:  3.0\n"
     ]
    }
   ],
   "source": [
    "# find square root of user number\n",
    "a = float(input(\"Enter the number: \"))\n",
    "print(\"Square root of: \", a ** 0.5)"
   ]
  },
  {
   "cell_type": "code",
   "execution_count": 28,
   "id": "67e07011-2c44-43fc-b146-49ed9385c295",
   "metadata": {},
   "outputs": [
    {
     "name": "stdin",
     "output_type": "stream",
     "text": [
      "Enter the number:  6\n"
     ]
    },
    {
     "name": "stdout",
     "output_type": "stream",
     "text": [
      "Square root of:  2.449489742783178\n"
     ]
    }
   ],
   "source": [
    "a = float(input(\"Enter the number: \"))\n",
    "print(\"Square root of: \", a ** 0.5)"
   ]
  },
  {
   "cell_type": "code",
   "execution_count": 36,
   "id": "d4490536-ea81-43c1-9fbf-baea6a98a80e",
   "metadata": {},
   "outputs": [
    {
     "data": {
      "text/plain": [
       "14.696938456699069"
      ]
     },
     "execution_count": 36,
     "metadata": {},
     "output_type": "execute_result"
    }
   ],
   "source": [
    "# Area of triangle\n",
    "a = 5\n",
    "b = 6\n",
    "c = 7\n",
    "S = (a+b+c)/2  # S = semiperimeter_of_triangle\n",
    "area_of_triangle = (S*(S-a)*(S-b)*(S-c))**0.5\n",
    "area_of_triangle"
   ]
  },
  {
   "cell_type": "code",
   "execution_count": 37,
   "id": "43be2ab9-3c48-40c1-a3f8-a120a356ff89",
   "metadata": {},
   "outputs": [
    {
     "name": "stdin",
     "output_type": "stream",
     "text": [
      "Enter the value:  5\n",
      "Enter the value:  6\n",
      "Enter the value:  7\n"
     ]
    },
    {
     "name": "stdout",
     "output_type": "stream",
     "text": [
      "The value of semiperimeter is:  9.0\n",
      "area of triangle:  14.696938456699069\n"
     ]
    }
   ],
   "source": [
    "a = float(input(\"Enter the value: \"))\n",
    "b = float(input(\"Enter the value: \"))\n",
    "c = float(input(\"Enter the value: \"))\n",
    "s = (a+b+c)/2\n",
    "print(\"The value of semiperimeter is: \",s)\n",
    "area_of_triangle = (s*(s-a)*(s-b)*(s-c))**0.5\n",
    "print(\"area of triangle: \", area_of_triangle)"
   ]
  },
  {
   "cell_type": "code",
   "execution_count": 56,
   "id": "0376133b-0c9b-4af2-8c3f-e4e425b53c6c",
   "metadata": {},
   "outputs": [
    {
     "name": "stdout",
     "output_type": "stream",
     "text": [
      "discriminant quadratic equation:  9\n",
      "solution of quadratic equation:  0.6666666666666666\n",
      "solution of quadratic equation:  0.3333333333333333\n"
     ]
    }
   ],
   "source": [
    "# Solve the quadratic equation \n",
    "# Q = ax**2 + b*x + c\n",
    "a = 9\n",
    "b = -9\n",
    "c = 2\n",
    "# d = -b + or - ((b**2-4(a*c))**0.5)/2*a\n",
    "d = (b**2 - 4 * a * c)\n",
    "print(\"discriminant quadratic equation: \",d)\n",
    "sol_1 = (-b + (d**0.5))/(2 * a)\n",
    "sol_2 = (-b - (d**0.5))/(2 * a)\n",
    "print(\"solution of quadratic equation: \",sol_1)\n",
    "print(\"solution of quadratic equation: \",sol_2)"
   ]
  },
  {
   "cell_type": "code",
   "execution_count": 54,
   "id": "a0febc92-1900-4b85-b0ae-98c182b9ad80",
   "metadata": {},
   "outputs": [],
   "source": [
    "# d = (b**2 - 4 * a * c)**0.5\n",
    "# d"
   ]
  },
  {
   "cell_type": "code",
   "execution_count": 59,
   "id": "1aa8c587-1fa7-4b9b-bcd2-7d4eca3a70e7",
   "metadata": {},
   "outputs": [
    {
     "name": "stdin",
     "output_type": "stream",
     "text": [
      "Enter the value in kilometer:  3.50\n"
     ]
    },
    {
     "name": "stdout",
     "output_type": "stream",
     "text": [
      "%0.2f kilometer is equal to miles:  2.1734999999999998\n"
     ]
    }
   ],
   "source": [
    "# convert kilometer into miles \n",
    "kilometer = float(input(\"Enter the value in kilometer: \"))\n",
    "conversion_factor = 0.621\n",
    "miles = kilometer*conversion_factor\n",
    "print(\"%0.2f kilometer is equal to miles: \",miles)"
   ]
  },
  {
   "cell_type": "code",
   "execution_count": 61,
   "id": "d1ebfbd3-12d9-4377-b566-346ee4b80b04",
   "metadata": {},
   "outputs": [
    {
     "name": "stdin",
     "output_type": "stream",
     "text": [
      "Enter the value in miles:  2.17\n"
     ]
    },
    {
     "name": "stdout",
     "output_type": "stream",
     "text": [
      "%0.2f miles is equal to kilometer:  3.5154\n"
     ]
    }
   ],
   "source": [
    "# convert miles into kilometer\n",
    "miles = float(input(\"Enter the value in miles: \"))\n",
    "conversion_factor = 1.62\n",
    "kilometer = miles*conversion_factor\n",
    "print(\"%0.2f miles is equal to kilometer: \",kilometer)"
   ]
  },
  {
   "cell_type": "code",
   "execution_count": 66,
   "id": "1d0a4003-f773-4b4a-82b4-df512f87b81a",
   "metadata": {},
   "outputs": [
    {
     "data": {
      "text/plain": [
       "6"
      ]
     },
     "execution_count": 66,
     "metadata": {},
     "output_type": "execute_result"
    }
   ],
   "source": [
    "# generate random number\n",
    "import random \n",
    "random.randint(0,9)"
   ]
  },
  {
   "cell_type": "code",
   "execution_count": 67,
   "id": "9fa54ec7-af08-4e5f-af4c-f35c2948d1c8",
   "metadata": {},
   "outputs": [
    {
     "data": {
      "text/plain": [
       "4"
      ]
     },
     "execution_count": 67,
     "metadata": {},
     "output_type": "execute_result"
    }
   ],
   "source": [
    "random.choice([0,1,2,3,4])"
   ]
  },
  {
   "cell_type": "code",
   "execution_count": 68,
   "id": "32eb1c80-7181-4583-8e2a-64114e0b8f60",
   "metadata": {},
   "outputs": [
    {
     "data": {
      "text/plain": [
       "3.5744707019823965"
      ]
     },
     "execution_count": 68,
     "metadata": {},
     "output_type": "execute_result"
    }
   ],
   "source": [
    "random.gauss(mu=9,sigma=11)"
   ]
  },
  {
   "cell_type": "code",
   "execution_count": 70,
   "id": "8a49b035-f433-4fef-b6db-ee82290a6813",
   "metadata": {},
   "outputs": [
    {
     "data": {
      "text/plain": [
       "-16.38366839741755"
      ]
     },
     "execution_count": 70,
     "metadata": {},
     "output_type": "execute_result"
    }
   ],
   "source": [
    "random.gauss(2,10)"
   ]
  },
  {
   "cell_type": "code",
   "execution_count": 72,
   "id": "d13a646f-7d90-4e87-b140-6aeed1040bb1",
   "metadata": {},
   "outputs": [
    {
     "data": {
      "text/plain": [
       "0.6764082155279708"
      ]
     },
     "execution_count": 72,
     "metadata": {},
     "output_type": "execute_result"
    }
   ],
   "source": [
    "random.random()"
   ]
  },
  {
   "cell_type": "code",
   "execution_count": 73,
   "id": "6e6711d6-3360-48fb-99f4-8dabe5be5c99",
   "metadata": {},
   "outputs": [
    {
     "data": {
      "text/plain": [
       "1"
      ]
     },
     "execution_count": 73,
     "metadata": {},
     "output_type": "execute_result"
    }
   ],
   "source": [
    "random.randrange(1,10)"
   ]
  },
  {
   "cell_type": "code",
   "execution_count": 80,
   "id": "6a6b92d7-1c00-4d61-ba36-53a80d1147cd",
   "metadata": {},
   "outputs": [
    {
     "data": {
      "text/plain": [
       "<random.Random at 0x220b949f0a0>"
      ]
     },
     "execution_count": 80,
     "metadata": {},
     "output_type": "execute_result"
    }
   ],
   "source": [
    "rng = random.Random()\n",
    "rng"
   ]
  },
  {
   "cell_type": "code",
   "execution_count": 81,
   "id": "37a3effa-18d1-4382-a881-b55b4085807f",
   "metadata": {},
   "outputs": [
    {
     "name": "stdout",
     "output_type": "stream",
     "text": [
      "random_number 0.04763986500838957\n",
      "random_number 0.4006076458729201\n",
      "random_number 0.31340100257510384\n",
      "random_number 0.02247788503191983\n",
      "random_number 0.1570775809500604\n"
     ]
    }
   ],
   "source": [
    "for i in range(5):\n",
    "    random_number = rng.random()\n",
    "    print(\"random_number\",random_number)"
   ]
  },
  {
   "cell_type": "code",
   "execution_count": 84,
   "id": "65d7a7b9-6fef-4da0-83b5-7d2adeb760f6",
   "metadata": {},
   "outputs": [
    {
     "data": {
      "text/plain": [
       "0.5388005464459785"
      ]
     },
     "execution_count": 84,
     "metadata": {},
     "output_type": "execute_result"
    }
   ],
   "source": [
    "import numpy as np\n",
    "np.random.random()"
   ]
  },
  {
   "cell_type": "code",
   "execution_count": 85,
   "id": "97a5ca81-4a93-4bb1-8ef2-51aee906e064",
   "metadata": {},
   "outputs": [
    {
     "data": {
      "text/plain": [
       "0.50039718288812"
      ]
     },
     "execution_count": 85,
     "metadata": {},
     "output_type": "execute_result"
    }
   ],
   "source": [
    "random.random()"
   ]
  },
  {
   "cell_type": "code",
   "execution_count": 89,
   "id": "3aeff19d-ac99-4ef3-835b-13395b015666",
   "metadata": {},
   "outputs": [
    {
     "name": "stdout",
     "output_type": "stream",
     "text": [
      "random_number 0.055376123536434396\n",
      "random_number 0.3992844753672017\n",
      "random_number 0.9538940084484814\n",
      "random_number 0.45033368800205953\n",
      "random_number 0.8749162789303977\n",
      "random_number 0.297813744596761\n",
      "random_number 0.12854364607337954\n"
     ]
    }
   ],
   "source": [
    "for i in range(7):\n",
    "    random_number = rng.random()\n",
    "    print(\"random_number\",random_number)"
   ]
  },
  {
   "cell_type": "code",
   "execution_count": null,
   "id": "daedbee3-10da-4e63-9565-a67bb7a94c5a",
   "metadata": {},
   "outputs": [],
   "source": []
  },
  {
   "cell_type": "code",
   "execution_count": null,
   "id": "086c062b-7c0c-413b-a58b-ee6e352c5bf1",
   "metadata": {},
   "outputs": [],
   "source": []
  }
 ],
 "metadata": {
  "kernelspec": {
   "display_name": "Python 3 (ipykernel)",
   "language": "python",
   "name": "python3"
  },
  "language_info": {
   "codemirror_mode": {
    "name": "ipython",
    "version": 3
   },
   "file_extension": ".py",
   "mimetype": "text/x-python",
   "name": "python",
   "nbconvert_exporter": "python",
   "pygments_lexer": "ipython3",
   "version": "3.11.7"
  },
  "widgets": {
   "application/vnd.jupyter.widget-state+json": {
    "state": {},
    "version_major": 2,
    "version_minor": 0
   }
  }
 },
 "nbformat": 4,
 "nbformat_minor": 5
}
