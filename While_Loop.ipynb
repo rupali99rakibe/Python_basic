{
 "cells": [
  {
   "cell_type": "code",
   "execution_count": 1,
   "id": "c8ed7dba",
   "metadata": {},
   "outputs": [],
   "source": [
    "# Syntax : \n",
    "# Initiallize\n",
    "# While condition: if codition is true then it's execute\n",
    "# Execution\n",
    "# Increment / Decrement"
   ]
  },
  {
   "cell_type": "code",
   "execution_count": 2,
   "id": "89895d63",
   "metadata": {},
   "outputs": [
    {
     "name": "stdout",
     "output_type": "stream",
     "text": [
      "1\n",
      "2\n",
      "3\n",
      "4\n",
      "5\n"
     ]
    }
   ],
   "source": [
    "a = 1\n",
    "while a <= 5:\n",
    "    print(a)\n",
    "    a += 1"
   ]
  },
  {
   "cell_type": "code",
   "execution_count": 3,
   "id": "280a7cd8",
   "metadata": {},
   "outputs": [
    {
     "name": "stdout",
     "output_type": "stream",
     "text": [
      "10\n",
      "9\n",
      "8\n",
      "7\n",
      "6\n",
      "5\n",
      "4\n",
      "3\n",
      "2\n",
      "1\n"
     ]
    }
   ],
   "source": [
    "a = 10\n",
    "while a > 0:\n",
    "    print(a)\n",
    "    a -= 1"
   ]
  },
  {
   "cell_type": "code",
   "execution_count": 3,
   "id": "ad662944-8fe3-4ad6-9512-8ca0bb1374c2",
   "metadata": {},
   "outputs": [
    {
     "name": "stdout",
     "output_type": "stream",
     "text": [
      "0\n",
      "1\n",
      "2\n",
      "3\n",
      "4\n",
      "5\n",
      "6\n"
     ]
    }
   ],
   "source": [
    "number = 0\n",
    "while number < 7:\n",
    "    print(number)\n",
    "    number+=1"
   ]
  },
  {
   "cell_type": "code",
   "execution_count": 4,
   "id": "25781f4d-6ef6-491f-92dd-6eebf8b8ba14",
   "metadata": {},
   "outputs": [
    {
     "name": "stdout",
     "output_type": "stream",
     "text": [
      "0\n",
      "2\n",
      "4\n",
      "6\n"
     ]
    }
   ],
   "source": [
    "number = 0\n",
    "while number < 7:\n",
    "    print(number)\n",
    "    number+=2"
   ]
  },
  {
   "cell_type": "code",
   "execution_count": 4,
   "id": "06c2852a",
   "metadata": {},
   "outputs": [
    {
     "name": "stdout",
     "output_type": "stream",
     "text": [
      "1\n",
      "2\n",
      "3\n",
      "4\n",
      "5\n",
      "6\n",
      "7\n",
      "8\n",
      "9\n",
      "10\n"
     ]
    }
   ],
   "source": [
    "a = 1\n",
    "while a <= 10:\n",
    "    print(a)\n",
    "    a += 1"
   ]
  },
  {
   "cell_type": "code",
   "execution_count": 5,
   "id": "1353d82f-c69f-44d6-a5c3-574b497d2376",
   "metadata": {},
   "outputs": [
    {
     "name": "stdout",
     "output_type": "stream",
     "text": [
      "10 9 "
     ]
    }
   ],
   "source": [
    "number = 10\n",
    "while number > 5:\n",
    "    print(number , end = \" \")\n",
    "    number = number - 1\n",
    "    if number == 8:\n",
    "        number = 2"
   ]
  },
  {
   "cell_type": "code",
   "execution_count": 5,
   "id": "7f62f1f1",
   "metadata": {},
   "outputs": [
    {
     "name": "stdout",
     "output_type": "stream",
     "text": [
      "2\n",
      "4\n",
      "6\n",
      "8\n",
      "10\n",
      "12\n",
      "14\n",
      "16\n",
      "18\n",
      "20\n"
     ]
    }
   ],
   "source": [
    "# Table Execution using while condition\n",
    "a = 1\n",
    "while a <= 10:\n",
    "    print(a*2)\n",
    "    a += 1"
   ]
  },
  {
   "cell_type": "code",
   "execution_count": 6,
   "id": "6880fec0",
   "metadata": {},
   "outputs": [
    {
     "name": "stdout",
     "output_type": "stream",
     "text": [
      "2\n",
      "4\n",
      "6\n",
      "8\n",
      "10\n",
      "12\n",
      "14\n",
      "16\n",
      "18\n",
      "20\n"
     ]
    }
   ],
   "source": [
    "a = 1 \n",
    "num = 2\n",
    "while a <= 10:\n",
    "    print(a * num)\n",
    "    a += 1"
   ]
  },
  {
   "cell_type": "code",
   "execution_count": 7,
   "id": "d7ba1850",
   "metadata": {},
   "outputs": [
    {
     "name": "stdout",
     "output_type": "stream",
     "text": [
      "1\n",
      "2\n",
      "6\n",
      "24\n",
      "120\n"
     ]
    }
   ],
   "source": [
    "# To find factorial\n",
    "a = 1\n",
    "answer = 1\n",
    "while a <= 5:\n",
    "    answer = answer * a\n",
    "    print(answer)\n",
    "    a += 1"
   ]
  },
  {
   "cell_type": "code",
   "execution_count": 8,
   "id": "e0da7ab1",
   "metadata": {},
   "outputs": [
    {
     "name": "stdout",
     "output_type": "stream",
     "text": [
      "120\n"
     ]
    }
   ],
   "source": [
    "a = 1\n",
    "answer = 1\n",
    "while a <= 5:\n",
    "    answer = answer * a\n",
    "    a += 1    \n",
    "print(answer)"
   ]
  },
  {
   "cell_type": "code",
   "execution_count": 10,
   "id": "f24d9303",
   "metadata": {},
   "outputs": [
    {
     "name": "stdout",
     "output_type": "stream",
     "text": [
      "120\n"
     ]
    }
   ],
   "source": [
    "a = 5\n",
    "answer = 1\n",
    "while a > 0:\n",
    "    answer = answer * a\n",
    "    a -= 1    \n",
    "print(answer)"
   ]
  },
  {
   "cell_type": "code",
   "execution_count": 1,
   "id": "8809cb17-8b2d-4c1c-a4b0-b51f22b031a4",
   "metadata": {},
   "outputs": [
    {
     "name": "stdout",
     "output_type": "stream",
     "text": [
      "9 7 5 "
     ]
    }
   ],
   "source": [
    "number = 10\n",
    "while number > 3:\n",
    "    if number % 2 == 0:\n",
    "        number = number - 1\n",
    "        continue\n",
    "    else:\n",
    "        print(number, end=\" \")\n",
    "        number = number - 1"
   ]
  },
  {
   "cell_type": "code",
   "execution_count": null,
   "id": "3e819810-5729-4b2b-8003-e9fa3410bbbe",
   "metadata": {},
   "outputs": [],
   "source": []
  }
 ],
 "metadata": {
  "kernelspec": {
   "display_name": "Python 3 (ipykernel)",
   "language": "python",
   "name": "python3"
  },
  "language_info": {
   "codemirror_mode": {
    "name": "ipython",
    "version": 3
   },
   "file_extension": ".py",
   "mimetype": "text/x-python",
   "name": "python",
   "nbconvert_exporter": "python",
   "pygments_lexer": "ipython3",
   "version": "3.11.7"
  },
  "widgets": {
   "application/vnd.jupyter.widget-state+json": {
    "state": {},
    "version_major": 2,
    "version_minor": 0
   }
  }
 },
 "nbformat": 4,
 "nbformat_minor": 5
}
