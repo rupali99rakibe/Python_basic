{
 "cells": [
  {
   "cell_type": "code",
   "execution_count": 1,
   "id": "cdf61184",
   "metadata": {},
   "outputs": [
    {
     "data": {
      "text/plain": [
       "[10, 20, 30, 40, 10, 20, 30, 40, 80, 90]"
      ]
     },
     "execution_count": 1,
     "metadata": {},
     "output_type": "execute_result"
    }
   ],
   "source": [
    "l = [10,20,30,40,10,20,30,40,80,90]\n",
    "l"
   ]
  },
  {
   "cell_type": "code",
   "execution_count": 2,
   "id": "b42a86c7",
   "metadata": {},
   "outputs": [],
   "source": [
    "# in a list indexing is available\n",
    "# sequence is remains same\n",
    "# duplicate value will be available\n",
    "# slicing is possible"
   ]
  },
  {
   "cell_type": "code",
   "execution_count": 3,
   "id": "cdb347a2",
   "metadata": {},
   "outputs": [
    {
     "data": {
      "text/plain": [
       "20"
      ]
     },
     "execution_count": 3,
     "metadata": {},
     "output_type": "execute_result"
    }
   ],
   "source": [
    "l[1]"
   ]
  },
  {
   "cell_type": "code",
   "execution_count": 4,
   "id": "c6842706",
   "metadata": {},
   "outputs": [
    {
     "data": {
      "text/plain": [
       "10"
      ]
     },
     "execution_count": 4,
     "metadata": {},
     "output_type": "execute_result"
    }
   ],
   "source": [
    "l[-6]"
   ]
  },
  {
   "cell_type": "code",
   "execution_count": 5,
   "id": "f7774291",
   "metadata": {},
   "outputs": [
    {
     "data": {
      "text/plain": [
       "False"
      ]
     },
     "execution_count": 5,
     "metadata": {},
     "output_type": "execute_result"
    }
   ],
   "source": [
    "10 > 20"
   ]
  },
  {
   "cell_type": "code",
   "execution_count": 6,
   "id": "3689768f",
   "metadata": {},
   "outputs": [
    {
     "data": {
      "text/plain": [
       "True"
      ]
     },
     "execution_count": 6,
     "metadata": {},
     "output_type": "execute_result"
    }
   ],
   "source": [
    "10 < 20"
   ]
  },
  {
   "cell_type": "code",
   "execution_count": 7,
   "id": "a50a381e",
   "metadata": {},
   "outputs": [
    {
     "data": {
      "text/plain": [
       "10"
      ]
     },
     "execution_count": 7,
     "metadata": {},
     "output_type": "execute_result"
    }
   ],
   "source": [
    "min(l)"
   ]
  },
  {
   "cell_type": "code",
   "execution_count": 8,
   "id": "1060790e",
   "metadata": {},
   "outputs": [
    {
     "data": {
      "text/plain": [
       "90"
      ]
     },
     "execution_count": 8,
     "metadata": {},
     "output_type": "execute_result"
    }
   ],
   "source": [
    "max(l)"
   ]
  },
  {
   "cell_type": "code",
   "execution_count": 9,
   "id": "5e9e060d",
   "metadata": {},
   "outputs": [],
   "source": [
    "l1 = ['s','e','t','z']"
   ]
  },
  {
   "cell_type": "code",
   "execution_count": 10,
   "id": "a66a2ba0",
   "metadata": {},
   "outputs": [
    {
     "data": {
      "text/plain": [
       "'e'"
      ]
     },
     "execution_count": 10,
     "metadata": {},
     "output_type": "execute_result"
    }
   ],
   "source": [
    "min(l1)"
   ]
  },
  {
   "cell_type": "code",
   "execution_count": 11,
   "id": "d7126ad2",
   "metadata": {},
   "outputs": [
    {
     "data": {
      "text/plain": [
       "'z'"
      ]
     },
     "execution_count": 11,
     "metadata": {},
     "output_type": "execute_result"
    }
   ],
   "source": [
    "max(l1)"
   ]
  },
  {
   "cell_type": "code",
   "execution_count": 12,
   "id": "3ea7c92c",
   "metadata": {},
   "outputs": [
    {
     "data": {
      "text/plain": [
       "90"
      ]
     },
     "execution_count": 12,
     "metadata": {},
     "output_type": "execute_result"
    }
   ],
   "source": [
    "l.pop()"
   ]
  },
  {
   "cell_type": "code",
   "execution_count": 13,
   "id": "ec18f9eb",
   "metadata": {},
   "outputs": [],
   "source": [
    "l.append(67)"
   ]
  },
  {
   "cell_type": "code",
   "execution_count": 14,
   "id": "4a745f6f",
   "metadata": {},
   "outputs": [
    {
     "data": {
      "text/plain": [
       "[10, 20, 30, 40, 10, 20, 30, 40, 80, 67]"
      ]
     },
     "execution_count": 14,
     "metadata": {},
     "output_type": "execute_result"
    }
   ],
   "source": [
    "l"
   ]
  },
  {
   "cell_type": "code",
   "execution_count": 15,
   "id": "dc65594d",
   "metadata": {},
   "outputs": [],
   "source": [
    "l2 = [1,2,34,5,6]"
   ]
  },
  {
   "cell_type": "code",
   "execution_count": 16,
   "id": "00480bad",
   "metadata": {},
   "outputs": [],
   "source": [
    "l.append(l2)"
   ]
  },
  {
   "cell_type": "code",
   "execution_count": 17,
   "id": "384ee833",
   "metadata": {},
   "outputs": [
    {
     "data": {
      "text/plain": [
       "[10, 20, 30, 40, 10, 20, 30, 40, 80, 67, [1, 2, 34, 5, 6]]"
      ]
     },
     "execution_count": 17,
     "metadata": {},
     "output_type": "execute_result"
    }
   ],
   "source": [
    "l"
   ]
  },
  {
   "cell_type": "code",
   "execution_count": 18,
   "id": "127690cf",
   "metadata": {},
   "outputs": [],
   "source": [
    "l.extend(l2)"
   ]
  },
  {
   "cell_type": "code",
   "execution_count": 19,
   "id": "76160411",
   "metadata": {},
   "outputs": [
    {
     "data": {
      "text/plain": [
       "[10, 20, 30, 40, 10, 20, 30, 40, 80, 67, [1, 2, 34, 5, 6], 1, 2, 34, 5, 6]"
      ]
     },
     "execution_count": 19,
     "metadata": {},
     "output_type": "execute_result"
    }
   ],
   "source": [
    "l"
   ]
  },
  {
   "cell_type": "code",
   "execution_count": 20,
   "id": "11fcc1f6",
   "metadata": {},
   "outputs": [],
   "source": [
    "l.append(11)"
   ]
  },
  {
   "cell_type": "code",
   "execution_count": 21,
   "id": "0fa03cb4",
   "metadata": {},
   "outputs": [
    {
     "data": {
      "text/plain": [
       "[10, 20, 30, 40, 10, 20, 30, 40, 80, 67, [1, 2, 34, 5, 6], 1, 2, 34, 5, 6, 11]"
      ]
     },
     "execution_count": 21,
     "metadata": {},
     "output_type": "execute_result"
    }
   ],
   "source": [
    "l"
   ]
  },
  {
   "cell_type": "code",
   "execution_count": 22,
   "id": "84489c6e",
   "metadata": {},
   "outputs": [],
   "source": [
    "l[2] = 11"
   ]
  },
  {
   "cell_type": "code",
   "execution_count": 23,
   "id": "a11b6adc",
   "metadata": {},
   "outputs": [
    {
     "data": {
      "text/plain": [
       "[10, 20, 11, 40, 10, 20, 30, 40, 80, 67, [1, 2, 34, 5, 6], 1, 2, 34, 5, 6, 11]"
      ]
     },
     "execution_count": 23,
     "metadata": {},
     "output_type": "execute_result"
    }
   ],
   "source": [
    "l"
   ]
  },
  {
   "cell_type": "code",
   "execution_count": 24,
   "id": "41767c08",
   "metadata": {},
   "outputs": [],
   "source": [
    "l.insert(155,'rupali')"
   ]
  },
  {
   "cell_type": "code",
   "execution_count": 25,
   "id": "05939111",
   "metadata": {},
   "outputs": [
    {
     "data": {
      "text/plain": [
       "[10,\n",
       " 20,\n",
       " 11,\n",
       " 40,\n",
       " 10,\n",
       " 20,\n",
       " 30,\n",
       " 40,\n",
       " 80,\n",
       " 67,\n",
       " [1, 2, 34, 5, 6],\n",
       " 1,\n",
       " 2,\n",
       " 34,\n",
       " 5,\n",
       " 6,\n",
       " 11,\n",
       " 'rupali']"
      ]
     },
     "execution_count": 25,
     "metadata": {},
     "output_type": "execute_result"
    }
   ],
   "source": [
    "l"
   ]
  },
  {
   "cell_type": "code",
   "execution_count": 26,
   "id": "c64fe5fe",
   "metadata": {},
   "outputs": [
    {
     "data": {
      "text/plain": [
       "17"
      ]
     },
     "execution_count": 26,
     "metadata": {},
     "output_type": "execute_result"
    }
   ],
   "source": [
    "l.index('rupali')"
   ]
  },
  {
   "cell_type": "code",
   "execution_count": 27,
   "id": "73b89fe9",
   "metadata": {},
   "outputs": [
    {
     "data": {
      "text/plain": [
       "18"
      ]
     },
     "execution_count": 27,
     "metadata": {},
     "output_type": "execute_result"
    }
   ],
   "source": [
    "len(l)"
   ]
  },
  {
   "cell_type": "code",
   "execution_count": 29,
   "id": "5274c6a0",
   "metadata": {},
   "outputs": [],
   "source": [
    "l = [10,11,23,4,6,8,90,83,34]"
   ]
  },
  {
   "cell_type": "code",
   "execution_count": 30,
   "id": "9ad99854",
   "metadata": {},
   "outputs": [],
   "source": [
    "l.sort()      # by default it can sort ascending order"
   ]
  },
  {
   "cell_type": "code",
   "execution_count": 31,
   "id": "43541cce",
   "metadata": {},
   "outputs": [
    {
     "data": {
      "text/plain": [
       "[4, 6, 8, 10, 11, 23, 34, 83, 90]"
      ]
     },
     "execution_count": 31,
     "metadata": {},
     "output_type": "execute_result"
    }
   ],
   "source": [
    "l"
   ]
  },
  {
   "cell_type": "code",
   "execution_count": 32,
   "id": "796244bc",
   "metadata": {},
   "outputs": [],
   "source": [
    "l1 = l.copy()"
   ]
  },
  {
   "cell_type": "code",
   "execution_count": 33,
   "id": "1050ebed",
   "metadata": {},
   "outputs": [
    {
     "data": {
      "text/plain": [
       "[4, 6, 8, 10, 11, 23, 34, 83, 90]"
      ]
     },
     "execution_count": 33,
     "metadata": {},
     "output_type": "execute_result"
    }
   ],
   "source": [
    "l1"
   ]
  },
  {
   "cell_type": "code",
   "execution_count": 34,
   "id": "207f60b6",
   "metadata": {},
   "outputs": [
    {
     "data": {
      "text/plain": [
       "[4, 6, 8, 10, 11, 23, 34, 83, 90, 4, 6, 8, 10, 11, 23, 34, 83, 90]"
      ]
     },
     "execution_count": 34,
     "metadata": {},
     "output_type": "execute_result"
    }
   ],
   "source": [
    "l + l1"
   ]
  },
  {
   "cell_type": "code",
   "execution_count": 36,
   "id": "fa720ff2",
   "metadata": {},
   "outputs": [],
   "source": [
    "# Accessing in a list particular element/nested list\n",
    "l = [10,20,30,[23,24,56,[45,67,89]],90,60,70]"
   ]
  },
  {
   "cell_type": "code",
   "execution_count": 37,
   "id": "03a7306b",
   "metadata": {},
   "outputs": [],
   "source": [
    "# access 30"
   ]
  },
  {
   "cell_type": "code",
   "execution_count": 38,
   "id": "8ae2fb43",
   "metadata": {},
   "outputs": [
    {
     "data": {
      "text/plain": [
       "30"
      ]
     },
     "execution_count": 38,
     "metadata": {},
     "output_type": "execute_result"
    }
   ],
   "source": [
    "l[2]"
   ]
  },
  {
   "cell_type": "code",
   "execution_count": 40,
   "id": "da9a9819",
   "metadata": {},
   "outputs": [
    {
     "data": {
      "text/plain": [
       "45"
      ]
     },
     "execution_count": 40,
     "metadata": {},
     "output_type": "execute_result"
    }
   ],
   "source": [
    "# access 45\n",
    "l[3][3][0]"
   ]
  },
  {
   "cell_type": "code",
   "execution_count": 1,
   "id": "9723acb3-a0b8-4d31-aa9d-6c4590c2e2a8",
   "metadata": {},
   "outputs": [
    {
     "data": {
      "text/plain": [
       "'is'"
      ]
     },
     "execution_count": 1,
     "metadata": {},
     "output_type": "execute_result"
    }
   ],
   "source": [
    "my_list = [\"this\",\"is\",\"1\",\"list\"]\n",
    "my_list[1]"
   ]
  },
  {
   "cell_type": "code",
   "execution_count": 3,
   "id": "5268899c-2132-4c1f-a01e-b62282665d61",
   "metadata": {},
   "outputs": [
    {
     "data": {
      "text/plain": [
       "'a'"
      ]
     },
     "execution_count": 3,
     "metadata": {},
     "output_type": "execute_result"
    }
   ],
   "source": [
    "test = [[\"a\",\"b\"],['x','a'],['b','a'],['x','a']]\n",
    "test[2][1]"
   ]
  },
  {
   "cell_type": "code",
   "execution_count": 9,
   "id": "d0e41e64-9e78-43bb-8a52-100c77484b48",
   "metadata": {},
   "outputs": [
    {
     "data": {
      "text/plain": [
       "['Name', ['A', 'B', 'C', 'D', 'E']]"
      ]
     },
     "execution_count": 9,
     "metadata": {},
     "output_type": "execute_result"
    }
   ],
   "source": [
    "# analytics vidhya counducted an assesment test to hire a data scientist.The candidate evaluate on 5 different subject \"A\",\"B\",\"C\",\"D\",\"E\".The mark\n",
    "# of 5 subject out of 100 given below. help Analytics vidhya to find out the answer of the following question.\n",
    "student_mark = [['Name',[\"A\",\"B\",\"C\",\"D\",\"E\"]],\n",
    "[\"Ankit\",[41,34,45,55,63]],\n",
    "[\"Arvind\",[42,23,34,44,53]],\n",
    "['Lakshay',[32,23,13,54,67]],\n",
    "['Gyan',[23,82,23,63,34]],\n",
    "['Pranav',[21,23,25,56,56]]]\n",
    "student_mark[0]"
   ]
  },
  {
   "cell_type": "code",
   "execution_count": 10,
   "id": "7583251e-47e6-4797-9d69-95fea076dc34",
   "metadata": {},
   "outputs": [
    {
     "data": {
      "text/plain": [
       "['Ankit', [41, 34, 45, 55, 63]]"
      ]
     },
     "execution_count": 10,
     "metadata": {},
     "output_type": "execute_result"
    }
   ],
   "source": [
    "student_mark[1]"
   ]
  },
  {
   "cell_type": "code",
   "execution_count": 11,
   "id": "cd998092-5c48-4a26-b6b8-2b778994b1e5",
   "metadata": {},
   "outputs": [
    {
     "data": {
      "text/plain": [
       "'Ankit'"
      ]
     },
     "execution_count": 11,
     "metadata": {},
     "output_type": "execute_result"
    }
   ],
   "source": [
    "student_mark[1][0]"
   ]
  },
  {
   "cell_type": "code",
   "execution_count": 12,
   "id": "e59226db-c5e7-42b4-afe1-3982b3f427e9",
   "metadata": {},
   "outputs": [
    {
     "data": {
      "text/plain": [
       "[41, 34, 45, 55, 63]"
      ]
     },
     "execution_count": 12,
     "metadata": {},
     "output_type": "execute_result"
    }
   ],
   "source": [
    "student_mark[1][1]"
   ]
  },
  {
   "cell_type": "code",
   "execution_count": 13,
   "id": "83b13c58-02ab-4fb2-a882-d5c8e5c8f753",
   "metadata": {},
   "outputs": [
    {
     "data": {
      "text/plain": [
       "34"
      ]
     },
     "execution_count": 13,
     "metadata": {},
     "output_type": "execute_result"
    }
   ],
   "source": [
    "student_mark[1][1][1]"
   ]
  },
  {
   "cell_type": "code",
   "execution_count": 14,
   "id": "d13fcb10-f507-4325-aee5-3055af279dc9",
   "metadata": {},
   "outputs": [
    {
     "name": "stdout",
     "output_type": "stream",
     "text": [
      "Ankit 34\n",
      "Arvind 23\n",
      "Lakshay 23\n",
      "Gyan 82\n",
      "Pranav 23\n"
     ]
    }
   ],
   "source": [
    "for student in student_mark[1:]:\n",
    "    name = student[0]\n",
    "    marks_in_B = student[1][1]\n",
    "    print(name,marks_in_B)"
   ]
  },
  {
   "cell_type": "code",
   "execution_count": 21,
   "id": "33e54291-4d84-4ec0-9cab-f539d73a2f6f",
   "metadata": {},
   "outputs": [],
   "source": [
    "student_with_in_mark_B = []\n",
    "\n",
    "for student in student_mark[1:]:\n",
    "    name = student[0]\n",
    "    marks_in_B = student[1][1]\n",
    "    student_with_in_mark_B.append([marks_in_B,name])"
   ]
  },
  {
   "cell_type": "code",
   "execution_count": 22,
   "id": "253c7c38-0a43-4a49-a9de-d7f3c9104eeb",
   "metadata": {},
   "outputs": [
    {
     "data": {
      "text/plain": [
       "[[34, 'Ankit'], [23, 'Arvind'], [23, 'Lakshay'], [82, 'Gyan'], [23, 'Pranav']]"
      ]
     },
     "execution_count": 22,
     "metadata": {},
     "output_type": "execute_result"
    }
   ],
   "source": [
    "student_with_in_mark_B"
   ]
  },
  {
   "cell_type": "code",
   "execution_count": 23,
   "id": "9203ac22-84de-47be-951d-b2fac049ce75",
   "metadata": {},
   "outputs": [
    {
     "data": {
      "text/plain": [
       "[[23, 'Arvind'], [23, 'Lakshay'], [23, 'Pranav'], [34, 'Ankit'], [82, 'Gyan']]"
      ]
     },
     "execution_count": 23,
     "metadata": {},
     "output_type": "execute_result"
    }
   ],
   "source": [
    "sorted(student_with_in_mark_B)"
   ]
  },
  {
   "cell_type": "code",
   "execution_count": 24,
   "id": "ca526b7c-0b8f-4a4c-aec5-fd6005947949",
   "metadata": {},
   "outputs": [
    {
     "data": {
      "text/plain": [
       "'Gyan'"
      ]
     },
     "execution_count": 24,
     "metadata": {},
     "output_type": "execute_result"
    }
   ],
   "source": [
    "sorted(student_with_in_mark_B)[-1][1]"
   ]
  },
  {
   "cell_type": "code",
   "execution_count": 25,
   "id": "15fc5796-5b6a-40ff-882b-4335ded5c9a1",
   "metadata": {},
   "outputs": [
    {
     "data": {
      "text/plain": [
       "[[82, 'Gyan'], [34, 'Ankit'], [23, 'Pranav'], [23, 'Lakshay'], [23, 'Arvind']]"
      ]
     },
     "execution_count": 25,
     "metadata": {},
     "output_type": "execute_result"
    }
   ],
   "source": [
    "sorted(student_with_in_mark_B,reverse=True)"
   ]
  },
  {
   "cell_type": "code",
   "execution_count": 27,
   "id": "dc2c660d-0109-4c74-9621-0b5ecb76bc69",
   "metadata": {},
   "outputs": [
    {
     "data": {
      "text/plain": [
       "'Gyan'"
      ]
     },
     "execution_count": 27,
     "metadata": {},
     "output_type": "execute_result"
    }
   ],
   "source": [
    "sorted(student_with_in_mark_B,reverse=True)[0][1]"
   ]
  },
  {
   "cell_type": "code",
   "execution_count": null,
   "id": "71129422-fe0b-43c0-9098-5e47b2c06238",
   "metadata": {},
   "outputs": [],
   "source": []
  }
 ],
 "metadata": {
  "kernelspec": {
   "display_name": "Python 3 (ipykernel)",
   "language": "python",
   "name": "python3"
  },
  "language_info": {
   "codemirror_mode": {
    "name": "ipython",
    "version": 3
   },
   "file_extension": ".py",
   "mimetype": "text/x-python",
   "name": "python",
   "nbconvert_exporter": "python",
   "pygments_lexer": "ipython3",
   "version": "3.11.7"
  },
  "widgets": {
   "application/vnd.jupyter.widget-state+json": {
    "state": {},
    "version_major": 2,
    "version_minor": 0
   }
  }
 },
 "nbformat": 4,
 "nbformat_minor": 5
}
