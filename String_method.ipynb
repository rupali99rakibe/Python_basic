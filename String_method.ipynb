{
 "cells": [
  {
   "cell_type": "code",
   "execution_count": 1,
   "id": "42280e35",
   "metadata": {},
   "outputs": [
    {
     "data": {
      "text/plain": [
       "'python'"
      ]
     },
     "execution_count": 1,
     "metadata": {},
     "output_type": "execute_result"
    }
   ],
   "source": [
    "a = 'python'\n",
    "a"
   ]
  },
  {
   "cell_type": "code",
   "execution_count": 2,
   "id": "48d8e8ff",
   "metadata": {},
   "outputs": [
    {
     "name": "stdout",
     "output_type": "stream",
     "text": [
      "python\n"
     ]
    }
   ],
   "source": [
    "print(a)"
   ]
  },
  {
   "cell_type": "code",
   "execution_count": 3,
   "id": "0cbf1baa",
   "metadata": {},
   "outputs": [
    {
     "data": {
      "text/plain": [
       "6"
      ]
     },
     "execution_count": 3,
     "metadata": {},
     "output_type": "execute_result"
    }
   ],
   "source": [
    "# To find length of string\n",
    "len(a)"
   ]
  },
  {
   "cell_type": "code",
   "execution_count": 4,
   "id": "ce97fadf",
   "metadata": {},
   "outputs": [
    {
     "data": {
      "text/plain": [
       "3"
      ]
     },
     "execution_count": 4,
     "metadata": {},
     "output_type": "execute_result"
    }
   ],
   "source": [
    "r = '111'\n",
    "len(r)"
   ]
  },
  {
   "cell_type": "code",
   "execution_count": 5,
   "id": "f66b5bee",
   "metadata": {},
   "outputs": [
    {
     "data": {
      "text/plain": [
       "'o'"
      ]
     },
     "execution_count": 5,
     "metadata": {},
     "output_type": "execute_result"
    }
   ],
   "source": [
    "# slicing of string\n",
    "# syntax of slicing = variable[start:stop:step]\n",
    "a[4]"
   ]
  },
  {
   "cell_type": "code",
   "execution_count": 6,
   "id": "d9669cfe",
   "metadata": {},
   "outputs": [
    {
     "data": {
      "text/plain": [
       "'yth'"
      ]
     },
     "execution_count": 6,
     "metadata": {},
     "output_type": "execute_result"
    }
   ],
   "source": [
    "a[1:4]"
   ]
  },
  {
   "cell_type": "code",
   "execution_count": 7,
   "id": "0dff2236",
   "metadata": {},
   "outputs": [
    {
     "data": {
      "text/plain": [
       "'python'"
      ]
     },
     "execution_count": 7,
     "metadata": {},
     "output_type": "execute_result"
    }
   ],
   "source": [
    "a[:6]"
   ]
  },
  {
   "cell_type": "code",
   "execution_count": 8,
   "id": "e3376c23",
   "metadata": {},
   "outputs": [
    {
     "data": {
      "text/plain": [
       "'python'"
      ]
     },
     "execution_count": 8,
     "metadata": {},
     "output_type": "execute_result"
    }
   ],
   "source": [
    "a[:8]"
   ]
  },
  {
   "cell_type": "code",
   "execution_count": 9,
   "id": "1ec62aed",
   "metadata": {},
   "outputs": [],
   "source": [
    "r = 'Python learning is easy'"
   ]
  },
  {
   "cell_type": "code",
   "execution_count": 10,
   "id": "f14f0315",
   "metadata": {},
   "outputs": [
    {
     "data": {
      "text/plain": [
       "'Python lea'"
      ]
     },
     "execution_count": 10,
     "metadata": {},
     "output_type": "execute_result"
    }
   ],
   "source": [
    "r[:10]"
   ]
  },
  {
   "cell_type": "code",
   "execution_count": 11,
   "id": "43442734",
   "metadata": {},
   "outputs": [
    {
     "data": {
      "text/plain": [
       "'Pto e'"
      ]
     },
     "execution_count": 11,
     "metadata": {},
     "output_type": "execute_result"
    }
   ],
   "source": [
    "r[:10:2]"
   ]
  },
  {
   "cell_type": "code",
   "execution_count": 12,
   "id": "0d0fe10c",
   "metadata": {},
   "outputs": [
    {
     "data": {
      "text/plain": [
       "''"
      ]
     },
     "execution_count": 12,
     "metadata": {},
     "output_type": "execute_result"
    }
   ],
   "source": [
    "r[-1:-6]"
   ]
  },
  {
   "cell_type": "code",
   "execution_count": 13,
   "id": "56415a09",
   "metadata": {},
   "outputs": [
    {
     "data": {
      "text/plain": [
       "'s eas'"
      ]
     },
     "execution_count": 13,
     "metadata": {},
     "output_type": "execute_result"
    }
   ],
   "source": [
    "r[-6:-1]"
   ]
  },
  {
   "cell_type": "code",
   "execution_count": 14,
   "id": "30ed583c",
   "metadata": {},
   "outputs": [
    {
     "data": {
      "text/plain": [
       "'ysae '"
      ]
     },
     "execution_count": 14,
     "metadata": {},
     "output_type": "execute_result"
    }
   ],
   "source": [
    "r[-1:-6:-1]"
   ]
  },
  {
   "cell_type": "code",
   "execution_count": 15,
   "id": "0f3d9e29",
   "metadata": {},
   "outputs": [
    {
     "data": {
      "text/plain": [
       "113333.33333333333"
      ]
     },
     "execution_count": 15,
     "metadata": {},
     "output_type": "execute_result"
    }
   ],
   "source": [
    "# Type casting\n",
    "amount = 120000\n",
    "year = 9\n",
    "roi = 8.5\n",
    "(amount * roi)/year"
   ]
  },
  {
   "cell_type": "code",
   "execution_count": 16,
   "id": "010269c0",
   "metadata": {},
   "outputs": [
    {
     "name": "stdout",
     "output_type": "stream",
     "text": [
      "Enter your amount: 120000\n",
      "Enter your year: 9\n"
     ]
    }
   ],
   "source": [
    "amount = input('Enter your amount: ')\n",
    "year = input('Enter your year: ')"
   ]
  },
  {
   "cell_type": "code",
   "execution_count": 17,
   "id": "7cfdf5ce",
   "metadata": {},
   "outputs": [
    {
     "data": {
      "text/plain": [
       "str"
      ]
     },
     "execution_count": 17,
     "metadata": {},
     "output_type": "execute_result"
    }
   ],
   "source": [
    "type(amount)"
   ]
  },
  {
   "cell_type": "code",
   "execution_count": 18,
   "id": "36b9dac1",
   "metadata": {},
   "outputs": [
    {
     "data": {
      "text/plain": [
       "str"
      ]
     },
     "execution_count": 18,
     "metadata": {},
     "output_type": "execute_result"
    }
   ],
   "source": [
    "type(year)"
   ]
  },
  {
   "cell_type": "code",
   "execution_count": 19,
   "id": "ba4f9c7f",
   "metadata": {},
   "outputs": [],
   "source": [
    "amount = int(amount)"
   ]
  },
  {
   "cell_type": "code",
   "execution_count": 20,
   "id": "ded2e617",
   "metadata": {},
   "outputs": [
    {
     "data": {
      "text/plain": [
       "int"
      ]
     },
     "execution_count": 20,
     "metadata": {},
     "output_type": "execute_result"
    }
   ],
   "source": [
    "type(amount)"
   ]
  },
  {
   "cell_type": "code",
   "execution_count": 21,
   "id": "f49e6a54",
   "metadata": {},
   "outputs": [],
   "source": [
    "year = int(year)"
   ]
  },
  {
   "cell_type": "code",
   "execution_count": 22,
   "id": "8eec1fbf",
   "metadata": {},
   "outputs": [
    {
     "data": {
      "text/plain": [
       "int"
      ]
     },
     "execution_count": 22,
     "metadata": {},
     "output_type": "execute_result"
    }
   ],
   "source": [
    "type(year)"
   ]
  },
  {
   "cell_type": "code",
   "execution_count": 23,
   "id": "33672fc0",
   "metadata": {},
   "outputs": [],
   "source": [
    "a = '      python          '"
   ]
  },
  {
   "cell_type": "code",
   "execution_count": 24,
   "id": "a6a1af23",
   "metadata": {},
   "outputs": [
    {
     "data": {
      "text/plain": [
       "'python'"
      ]
     },
     "execution_count": 24,
     "metadata": {},
     "output_type": "execute_result"
    }
   ],
   "source": [
    "a.strip()"
   ]
  },
  {
   "cell_type": "code",
   "execution_count": 25,
   "id": "49ef4731",
   "metadata": {},
   "outputs": [
    {
     "data": {
      "text/plain": [
       "'      python'"
      ]
     },
     "execution_count": 25,
     "metadata": {},
     "output_type": "execute_result"
    }
   ],
   "source": [
    "a.rstrip()"
   ]
  },
  {
   "cell_type": "code",
   "execution_count": 26,
   "id": "d623c4ee",
   "metadata": {},
   "outputs": [
    {
     "data": {
      "text/plain": [
       "'python          '"
      ]
     },
     "execution_count": 26,
     "metadata": {},
     "output_type": "execute_result"
    }
   ],
   "source": [
    "a.lstrip()"
   ]
  },
  {
   "cell_type": "code",
   "execution_count": 27,
   "id": "eed1d0c6",
   "metadata": {},
   "outputs": [],
   "source": [
    "r = 'learning python is easy'"
   ]
  },
  {
   "cell_type": "code",
   "execution_count": 28,
   "id": "998f664d",
   "metadata": {},
   "outputs": [
    {
     "data": {
      "text/plain": [
       "2"
      ]
     },
     "execution_count": 28,
     "metadata": {},
     "output_type": "execute_result"
    }
   ],
   "source": [
    "r.find('a')"
   ]
  },
  {
   "cell_type": "code",
   "execution_count": 29,
   "id": "dfd722a6",
   "metadata": {},
   "outputs": [
    {
     "data": {
      "text/plain": [
       "2"
      ]
     },
     "execution_count": 29,
     "metadata": {},
     "output_type": "execute_result"
    }
   ],
   "source": [
    "r.count('a')"
   ]
  },
  {
   "cell_type": "code",
   "execution_count": 30,
   "id": "d0528c14",
   "metadata": {},
   "outputs": [
    {
     "data": {
      "text/plain": [
       "1"
      ]
     },
     "execution_count": 30,
     "metadata": {},
     "output_type": "execute_result"
    }
   ],
   "source": [
    "r.count('yth')"
   ]
  },
  {
   "cell_type": "code",
   "execution_count": 31,
   "id": "7a0aad8d",
   "metadata": {},
   "outputs": [],
   "source": [
    "a = 'python python python python python'"
   ]
  },
  {
   "cell_type": "code",
   "execution_count": 32,
   "id": "f3fe48e8",
   "metadata": {},
   "outputs": [
    {
     "data": {
      "text/plain": [
       "['py', 'hon py', 'hon py', 'hon py', 'hon py', 'hon']"
      ]
     },
     "execution_count": 32,
     "metadata": {},
     "output_type": "execute_result"
    }
   ],
   "source": [
    "a.split('t')"
   ]
  },
  {
   "cell_type": "code",
   "execution_count": 33,
   "id": "ea47c569",
   "metadata": {},
   "outputs": [
    {
     "data": {
      "text/plain": [
       "['python', 'python', 'python', 'python', 'python']"
      ]
     },
     "execution_count": 33,
     "metadata": {},
     "output_type": "execute_result"
    }
   ],
   "source": [
    "a.split(\" \")"
   ]
  },
  {
   "cell_type": "code",
   "execution_count": 34,
   "id": "db640895",
   "metadata": {},
   "outputs": [],
   "source": [
    "a1 = 'pythonpythonpythonpythonpython'"
   ]
  },
  {
   "cell_type": "code",
   "execution_count": 35,
   "id": "8d0ae507",
   "metadata": {},
   "outputs": [
    {
     "data": {
      "text/plain": [
       "['pythonpythonpythonpythonpython']"
      ]
     },
     "execution_count": 35,
     "metadata": {},
     "output_type": "execute_result"
    }
   ],
   "source": [
    "a1.split(\" \")"
   ]
  },
  {
   "cell_type": "code",
   "execution_count": 36,
   "id": "35d7ec33",
   "metadata": {},
   "outputs": [
    {
     "data": {
      "text/plain": [
       "['', 'ython python python python python']"
      ]
     },
     "execution_count": 36,
     "metadata": {},
     "output_type": "execute_result"
    }
   ],
   "source": [
    "a.split(\"p\",maxsplit=1)"
   ]
  },
  {
   "cell_type": "code",
   "execution_count": 37,
   "id": "defc9d76",
   "metadata": {},
   "outputs": [],
   "source": [
    "r = 'python is easy'"
   ]
  },
  {
   "cell_type": "code",
   "execution_count": 38,
   "id": "e2c20e45",
   "metadata": {},
   "outputs": [
    {
     "data": {
      "text/plain": [
       "'python is hard'"
      ]
     },
     "execution_count": 38,
     "metadata": {},
     "output_type": "execute_result"
    }
   ],
   "source": [
    "r.replace('easy','hard')"
   ]
  },
  {
   "cell_type": "code",
   "execution_count": 39,
   "id": "86414428",
   "metadata": {},
   "outputs": [],
   "source": [
    "k = 'PyThon IS Easy'"
   ]
  },
  {
   "cell_type": "code",
   "execution_count": 40,
   "id": "61a8d3b4",
   "metadata": {},
   "outputs": [
    {
     "data": {
      "text/plain": [
       "'python is easy'"
      ]
     },
     "execution_count": 40,
     "metadata": {},
     "output_type": "execute_result"
    }
   ],
   "source": [
    "k.lower()"
   ]
  },
  {
   "cell_type": "code",
   "execution_count": 41,
   "id": "48839aa3",
   "metadata": {},
   "outputs": [
    {
     "data": {
      "text/plain": [
       "'PYTHON IS EASY'"
      ]
     },
     "execution_count": 41,
     "metadata": {},
     "output_type": "execute_result"
    }
   ],
   "source": [
    "k.upper()"
   ]
  },
  {
   "cell_type": "code",
   "execution_count": 42,
   "id": "7c9d4597",
   "metadata": {},
   "outputs": [
    {
     "data": {
      "text/plain": [
       "'Python is easy'"
      ]
     },
     "execution_count": 42,
     "metadata": {},
     "output_type": "execute_result"
    }
   ],
   "source": [
    "k.capitalize()"
   ]
  },
  {
   "cell_type": "code",
   "execution_count": 43,
   "id": "11cbd760",
   "metadata": {},
   "outputs": [
    {
     "data": {
      "text/plain": [
       "'Python Is Easy'"
      ]
     },
     "execution_count": 43,
     "metadata": {},
     "output_type": "execute_result"
    }
   ],
   "source": [
    "k.title()"
   ]
  },
  {
   "cell_type": "code",
   "execution_count": 54,
   "id": "9eaf3fa6",
   "metadata": {},
   "outputs": [
    {
     "data": {
      "text/plain": [
       "'pYtHON is eASY'"
      ]
     },
     "execution_count": 54,
     "metadata": {},
     "output_type": "execute_result"
    }
   ],
   "source": [
    "k.swapcase()"
   ]
  },
  {
   "cell_type": "code",
   "execution_count": 44,
   "id": "c147ed08",
   "metadata": {},
   "outputs": [
    {
     "data": {
      "text/plain": [
       "False"
      ]
     },
     "execution_count": 44,
     "metadata": {},
     "output_type": "execute_result"
    }
   ],
   "source": [
    "k.isalnum()"
   ]
  },
  {
   "cell_type": "code",
   "execution_count": 45,
   "id": "6715cbd3",
   "metadata": {},
   "outputs": [
    {
     "data": {
      "text/plain": [
       "False"
      ]
     },
     "execution_count": 45,
     "metadata": {},
     "output_type": "execute_result"
    }
   ],
   "source": [
    "k.isalpha()"
   ]
  },
  {
   "cell_type": "code",
   "execution_count": 46,
   "id": "4250cbb4",
   "metadata": {},
   "outputs": [
    {
     "data": {
      "text/plain": [
       "False"
      ]
     },
     "execution_count": 46,
     "metadata": {},
     "output_type": "execute_result"
    }
   ],
   "source": [
    "k.islower()"
   ]
  },
  {
   "cell_type": "code",
   "execution_count": 47,
   "id": "2b1eb4c5",
   "metadata": {},
   "outputs": [
    {
     "data": {
      "text/plain": [
       "False"
      ]
     },
     "execution_count": 47,
     "metadata": {},
     "output_type": "execute_result"
    }
   ],
   "source": [
    "k.isupper()"
   ]
  },
  {
   "cell_type": "code",
   "execution_count": 48,
   "id": "e2c12f51",
   "metadata": {},
   "outputs": [
    {
     "data": {
      "text/plain": [
       "False"
      ]
     },
     "execution_count": 48,
     "metadata": {},
     "output_type": "execute_result"
    }
   ],
   "source": [
    "k.isspace()"
   ]
  },
  {
   "cell_type": "code",
   "execution_count": 49,
   "id": "e70c7fce",
   "metadata": {},
   "outputs": [
    {
     "data": {
      "text/plain": [
       "False"
      ]
     },
     "execution_count": 49,
     "metadata": {},
     "output_type": "execute_result"
    }
   ],
   "source": [
    "k.isnumeric()"
   ]
  },
  {
   "cell_type": "code",
   "execution_count": 50,
   "id": "9c6b48cb",
   "metadata": {},
   "outputs": [
    {
     "data": {
      "text/plain": [
       "False"
      ]
     },
     "execution_count": 50,
     "metadata": {},
     "output_type": "execute_result"
    }
   ],
   "source": [
    "k.isalnum()"
   ]
  },
  {
   "cell_type": "code",
   "execution_count": 51,
   "id": "36f1e1d7",
   "metadata": {},
   "outputs": [
    {
     "data": {
      "text/plain": [
       "['learning', 'python', 'is', 'easy']"
      ]
     },
     "execution_count": 51,
     "metadata": {},
     "output_type": "execute_result"
    }
   ],
   "source": [
    "r = 'learning python is easy'\n",
    "r.split(' ')"
   ]
  },
  {
   "cell_type": "code",
   "execution_count": 52,
   "id": "65564fba",
   "metadata": {},
   "outputs": [],
   "source": [
    "p = r.split(' ')"
   ]
  },
  {
   "cell_type": "code",
   "execution_count": 53,
   "id": "47038c37",
   "metadata": {},
   "outputs": [
    {
     "data": {
      "text/plain": [
       "'learning python is easy'"
      ]
     },
     "execution_count": 53,
     "metadata": {},
     "output_type": "execute_result"
    }
   ],
   "source": [
    "' '.join(p)"
   ]
  },
  {
   "cell_type": "code",
   "execution_count": 58,
   "id": "26e119e9",
   "metadata": {},
   "outputs": [
    {
     "data": {
      "text/plain": [
       "'   learning python is easy    '"
      ]
     },
     "execution_count": 58,
     "metadata": {},
     "output_type": "execute_result"
    }
   ],
   "source": [
    "r.center(30)"
   ]
  },
  {
   "cell_type": "code",
   "execution_count": 59,
   "id": "9b7f0369",
   "metadata": {},
   "outputs": [],
   "source": [
    "a = '111'"
   ]
  },
  {
   "cell_type": "code",
   "execution_count": 60,
   "id": "b9f6f723",
   "metadata": {},
   "outputs": [
    {
     "data": {
      "text/plain": [
       "True"
      ]
     },
     "execution_count": 60,
     "metadata": {},
     "output_type": "execute_result"
    }
   ],
   "source": [
    "a.isnumeric()"
   ]
  },
  {
   "cell_type": "code",
   "execution_count": 61,
   "id": "de4b7ff6",
   "metadata": {},
   "outputs": [
    {
     "data": {
      "text/plain": [
       "True"
      ]
     },
     "execution_count": 61,
     "metadata": {},
     "output_type": "execute_result"
    }
   ],
   "source": [
    "a.isdigit()"
   ]
  },
  {
   "cell_type": "code",
   "execution_count": 1,
   "id": "8df59ccb-d9ba-4cb9-b6e4-317b897df5c2",
   "metadata": {},
   "outputs": [],
   "source": [
    "my_string = \"Analytics Vidhya creating a next generation data science eco-system\""
   ]
  },
  {
   "cell_type": "code",
   "execution_count": 2,
   "id": "b06b867e-230e-4325-859c-2d9d9776787f",
   "metadata": {},
   "outputs": [
    {
     "data": {
      "text/plain": [
       "67"
      ]
     },
     "execution_count": 2,
     "metadata": {},
     "output_type": "execute_result"
    }
   ],
   "source": [
    "# length of string\n",
    "len(my_string)"
   ]
  },
  {
   "cell_type": "code",
   "execution_count": 3,
   "id": "69668ea9-08b3-4ece-a2ee-63f72d42ab9a",
   "metadata": {},
   "outputs": [
    {
     "data": {
      "text/plain": [
       "'A'"
      ]
     },
     "execution_count": 3,
     "metadata": {},
     "output_type": "execute_result"
    }
   ],
   "source": [
    "# access character from string\n",
    "my_string[0]"
   ]
  },
  {
   "cell_type": "code",
   "execution_count": 4,
   "id": "6b4ea288-5d29-4f1b-9409-4c1aede563b9",
   "metadata": {},
   "outputs": [
    {
     "data": {
      "text/plain": [
       "' '"
      ]
     },
     "execution_count": 4,
     "metadata": {},
     "output_type": "execute_result"
    }
   ],
   "source": [
    "my_string[9]"
   ]
  },
  {
   "cell_type": "code",
   "execution_count": 5,
   "id": "bf446729-1dd3-4abc-8a9c-5c10263facb0",
   "metadata": {},
   "outputs": [
    {
     "data": {
      "text/plain": [
       "'Vidhya creating a next generation data science '"
      ]
     },
     "execution_count": 5,
     "metadata": {},
     "output_type": "execute_result"
    }
   ],
   "source": [
    "my_string[10:-10]"
   ]
  },
  {
   "cell_type": "code",
   "execution_count": 6,
   "id": "09cd93a9-7f5d-4da1-9bb2-843b7a3cf819",
   "metadata": {},
   "outputs": [
    {
     "data": {
      "text/plain": [
       "'metsys-oce ecneics atad noitareneg txen a gnitaerc ayhdiV scitylanA'"
      ]
     },
     "execution_count": 6,
     "metadata": {},
     "output_type": "execute_result"
    }
   ],
   "source": [
    "# reverse a string\n",
    "my_string[::-1]"
   ]
  },
  {
   "cell_type": "code",
   "execution_count": 7,
   "id": "6a7084cb-a1a1-4b30-9d50-6007cbf028b4",
   "metadata": {},
   "outputs": [
    {
     "data": {
      "text/plain": [
       "7"
      ]
     },
     "execution_count": 7,
     "metadata": {},
     "output_type": "execute_result"
    }
   ],
   "source": [
    "my_string.count(\"a\")"
   ]
  },
  {
   "cell_type": "code",
   "execution_count": 8,
   "id": "8980d863-06f8-4f2d-90f5-271aa6cf2021",
   "metadata": {},
   "outputs": [
    {
     "data": {
      "text/plain": [
       "1"
      ]
     },
     "execution_count": 8,
     "metadata": {},
     "output_type": "execute_result"
    }
   ],
   "source": [
    "my_string.count(\"A\")"
   ]
  },
  {
   "cell_type": "code",
   "execution_count": 9,
   "id": "dd67d90d-3821-4d18-8d26-8244db282917",
   "metadata": {},
   "outputs": [
    {
     "data": {
      "text/plain": [
       "2"
      ]
     },
     "execution_count": 9,
     "metadata": {},
     "output_type": "execute_result"
    }
   ],
   "source": [
    "my_string.find(\"a\")"
   ]
  },
  {
   "cell_type": "code",
   "execution_count": 10,
   "id": "039c35c0-1cc2-43db-be65-f624d7b6b20e",
   "metadata": {},
   "outputs": [
    {
     "data": {
      "text/plain": [
       "6"
      ]
     },
     "execution_count": 10,
     "metadata": {},
     "output_type": "execute_result"
    }
   ],
   "source": [
    "my_string[10:-10].count(\"a\")"
   ]
  },
  {
   "cell_type": "code",
   "execution_count": 13,
   "id": "fc650544-9de3-499e-b92e-75f1c5cfbbb6",
   "metadata": {},
   "outputs": [
    {
     "data": {
      "text/plain": [
       "28"
      ]
     },
     "execution_count": 13,
     "metadata": {},
     "output_type": "execute_result"
    }
   ],
   "source": [
    "my_string.find(\"next\")"
   ]
  },
  {
   "cell_type": "code",
   "execution_count": 11,
   "id": "ade25215-b054-47c6-94ed-021de7e9e28d",
   "metadata": {},
   "outputs": [
    {
     "data": {
      "text/plain": [
       "28"
      ]
     },
     "execution_count": 11,
     "metadata": {},
     "output_type": "execute_result"
    }
   ],
   "source": [
    "my_string.index(\"next\")"
   ]
  },
  {
   "cell_type": "code",
   "execution_count": 12,
   "id": "0631cf54-2e82-4089-811a-741003577207",
   "metadata": {},
   "outputs": [
    {
     "data": {
      "text/plain": [
       "17"
      ]
     },
     "execution_count": 12,
     "metadata": {},
     "output_type": "execute_result"
    }
   ],
   "source": [
    "my_string.index(\"creating\")"
   ]
  },
  {
   "cell_type": "code",
   "execution_count": 14,
   "id": "7900d691-936d-477c-a231-87dac9adba5e",
   "metadata": {},
   "outputs": [
    {
     "data": {
      "text/plain": [
       "False"
      ]
     },
     "execution_count": 14,
     "metadata": {},
     "output_type": "execute_result"
    }
   ],
   "source": [
    "my_string.startswith(\"analytics\")"
   ]
  },
  {
   "cell_type": "code",
   "execution_count": 15,
   "id": "4a448a15-8763-4278-9e4e-a1b28ec46896",
   "metadata": {},
   "outputs": [
    {
     "data": {
      "text/plain": [
       "True"
      ]
     },
     "execution_count": 15,
     "metadata": {},
     "output_type": "execute_result"
    }
   ],
   "source": [
    "my_string.startswith(\"Analytics\")"
   ]
  },
  {
   "cell_type": "code",
   "execution_count": 16,
   "id": "05e235a3-f654-4f7b-a482-fb465fa110ec",
   "metadata": {},
   "outputs": [
    {
     "data": {
      "text/plain": [
       "True"
      ]
     },
     "execution_count": 16,
     "metadata": {},
     "output_type": "execute_result"
    }
   ],
   "source": [
    "my_string.endswith(\"eco-system\")"
   ]
  },
  {
   "cell_type": "code",
   "execution_count": 17,
   "id": "643e31f3-46a0-4f40-9cdb-43b16f859915",
   "metadata": {},
   "outputs": [
    {
     "data": {
      "text/plain": [
       "'ANALYTICS VIDHYA CREATING A NEXT GENERATION DATA SCIENCE ECO-SYSTEM'"
      ]
     },
     "execution_count": 17,
     "metadata": {},
     "output_type": "execute_result"
    }
   ],
   "source": [
    "my_string.upper()"
   ]
  },
  {
   "cell_type": "code",
   "execution_count": 18,
   "id": "27bccef0-e76f-466a-95d6-8f88c5d4884c",
   "metadata": {},
   "outputs": [
    {
     "data": {
      "text/plain": [
       "'analytics vidhya creating a next generation data science eco-system'"
      ]
     },
     "execution_count": 18,
     "metadata": {},
     "output_type": "execute_result"
    }
   ],
   "source": [
    "my_string.lower()"
   ]
  },
  {
   "cell_type": "code",
   "execution_count": 19,
   "id": "b2690a53-f435-4ed9-9070-d70faf897206",
   "metadata": {},
   "outputs": [
    {
     "data": {
      "text/plain": [
       "'Analytics vidhya creating a next generation data science eco-system'"
      ]
     },
     "execution_count": 19,
     "metadata": {},
     "output_type": "execute_result"
    }
   ],
   "source": [
    "my_string.capitalize()"
   ]
  },
  {
   "cell_type": "code",
   "execution_count": 20,
   "id": "a3e61b29-16cb-4b1a-bfb1-7f4010b4f3b3",
   "metadata": {},
   "outputs": [
    {
     "data": {
      "text/plain": [
       "'Analytics Vidhya Creating A Next Generation Data Science Eco-System'"
      ]
     },
     "execution_count": 20,
     "metadata": {},
     "output_type": "execute_result"
    }
   ],
   "source": [
    "my_string.title()"
   ]
  },
  {
   "cell_type": "code",
   "execution_count": 21,
   "id": "b8d02854-67b7-46ed-bcbd-d7fc7bff1261",
   "metadata": {},
   "outputs": [
    {
     "data": {
      "text/plain": [
       "False"
      ]
     },
     "execution_count": 21,
     "metadata": {},
     "output_type": "execute_result"
    }
   ],
   "source": [
    "my_string.islower()"
   ]
  },
  {
   "cell_type": "code",
   "execution_count": 22,
   "id": "b2149159-0505-40a3-8d89-38d7fbaff670",
   "metadata": {},
   "outputs": [
    {
     "data": {
      "text/plain": [
       "False"
      ]
     },
     "execution_count": 22,
     "metadata": {},
     "output_type": "execute_result"
    }
   ],
   "source": [
    "my_string.isupper()"
   ]
  },
  {
   "cell_type": "code",
   "execution_count": 23,
   "id": "d6048df0-a072-4ebb-a38f-fbda7a49d7dc",
   "metadata": {},
   "outputs": [
    {
     "data": {
      "text/plain": [
       "False"
      ]
     },
     "execution_count": 23,
     "metadata": {},
     "output_type": "execute_result"
    }
   ],
   "source": [
    "my_string.isalnum()"
   ]
  },
  {
   "cell_type": "code",
   "execution_count": 24,
   "id": "a0392c7e-fa73-4c7a-97d6-f5bdc3839111",
   "metadata": {},
   "outputs": [
    {
     "data": {
      "text/plain": [
       "False"
      ]
     },
     "execution_count": 24,
     "metadata": {},
     "output_type": "execute_result"
    }
   ],
   "source": [
    "my_string.isalpha()"
   ]
  },
  {
   "cell_type": "code",
   "execution_count": 25,
   "id": "275672c1-5b43-4d6a-9f6b-835891e70c8b",
   "metadata": {},
   "outputs": [
    {
     "data": {
      "text/plain": [
       "'python is learn to easy'"
      ]
     },
     "execution_count": 25,
     "metadata": {},
     "output_type": "execute_result"
    }
   ],
   "source": [
    "r = \"java is learn to easy\"\n",
    "r.replace(\"java\",\"python\")"
   ]
  },
  {
   "cell_type": "code",
   "execution_count": 26,
   "id": "bf52627e-c5ec-41a6-8401-73ce503a2b6d",
   "metadata": {},
   "outputs": [
    {
     "data": {
      "text/plain": [
       "['python', 'is', 'learn', 'to', 'easy']"
      ]
     },
     "execution_count": 26,
     "metadata": {},
     "output_type": "execute_result"
    }
   ],
   "source": [
    "'python is learn to easy'.split(\" \")"
   ]
  },
  {
   "cell_type": "code",
   "execution_count": 27,
   "id": "71e76a3e-1fe0-4532-beae-13645d23ce24",
   "metadata": {},
   "outputs": [
    {
     "data": {
      "text/plain": [
       "['python is learn to ', '']"
      ]
     },
     "execution_count": 27,
     "metadata": {},
     "output_type": "execute_result"
    }
   ],
   "source": [
    "'python is learn to easy'.split(\"easy\")"
   ]
  },
  {
   "cell_type": "code",
   "execution_count": 28,
   "id": "0ff701ac-ca5c-4163-9f4b-e156f99d9bdf",
   "metadata": {},
   "outputs": [
    {
     "data": {
      "text/plain": [
       "5"
      ]
     },
     "execution_count": 28,
     "metadata": {},
     "output_type": "execute_result"
    }
   ],
   "source": [
    "len('python is learn to easy'.split(\" \"))"
   ]
  },
  {
   "cell_type": "code",
   "execution_count": 30,
   "id": "f79b5900-3046-43ec-98c9-3252e87ce363",
   "metadata": {},
   "outputs": [
    {
     "name": "stdout",
     "output_type": "stream",
     "text": [
      "[1, 1, 0, 0, 2]\n"
     ]
    }
   ],
   "source": [
    "my_list = [\"lakshay\",\"sanand\",\"arvind\",\"aishwarya\",\"prateek\"]\n",
    "find_a = []\n",
    "for name in my_list:\n",
    "    x = name.find(\"a\")\n",
    "    find_a.append(x)\n",
    "print(find_a)"
   ]
  },
  {
   "cell_type": "code",
   "execution_count": 34,
   "id": "cc795c76-084e-4ba0-8c97-16f4e20a9009",
   "metadata": {},
   "outputs": [
    {
     "name": "stdout",
     "output_type": "stream",
     "text": [
      "[4, 2, 4, 5, 2]\n"
     ]
    }
   ],
   "source": [
    "state = [\"haryana\",\"punjab\",\"rajasthan\",\"karnataka\",\"goa\"]\n",
    "output = []\n",
    "for i in state:\n",
    "    split_with_a = i.split(\"a\")\n",
    "    output.append(len(split_with_a))\n",
    "print(output)"
   ]
  },
  {
   "cell_type": "code",
   "execution_count": null,
   "id": "45c29ee2-b311-48ac-8dee-938985010660",
   "metadata": {},
   "outputs": [],
   "source": []
  }
 ],
 "metadata": {
  "kernelspec": {
   "display_name": "Python 3 (ipykernel)",
   "language": "python",
   "name": "python3"
  },
  "language_info": {
   "codemirror_mode": {
    "name": "ipython",
    "version": 3
   },
   "file_extension": ".py",
   "mimetype": "text/x-python",
   "name": "python",
   "nbconvert_exporter": "python",
   "pygments_lexer": "ipython3",
   "version": "3.11.7"
  },
  "widgets": {
   "application/vnd.jupyter.widget-state+json": {
    "state": {},
    "version_major": 2,
    "version_minor": 0
   }
  }
 },
 "nbformat": 4,
 "nbformat_minor": 5
}
