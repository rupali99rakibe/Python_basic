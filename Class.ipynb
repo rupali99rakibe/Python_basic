{
 "cells": [
  {
   "cell_type": "code",
   "execution_count": 1,
   "id": "7bd875bc-661b-49d5-8752-258261d5e12c",
   "metadata": {},
   "outputs": [
    {
     "name": "stdout",
     "output_type": "stream",
     "text": [
      "['__class__', '__delattr__', '__dict__', '__dir__', '__doc__', '__eq__', '__format__', '__ge__', '__getattribute__', '__getstate__', '__gt__', '__hash__', '__init__', '__init_subclass__', '__le__', '__lt__', '__module__', '__ne__', '__new__', '__reduce__', '__reduce_ex__', '__repr__', '__setattr__', '__sizeof__', '__str__', '__subclasshook__', '__weakref__', 'engine', 'tyres', 'windows']\n"
     ]
    }
   ],
   "source": [
    "# Classes\n",
    "# Classes are real-world entities or object\n",
    "# attributes\n",
    "# method -- actions of the class\n",
    "class Car:\n",
    "    pass\n",
    "\n",
    "car1= Car()\n",
    "car2=Car()\n",
    "\n",
    "car1.windows=4\n",
    "car1.tyres=4\n",
    "car1.engine=\"disel\"\n",
    "\n",
    "car2.windows=6\n",
    "car2.tyres=6\n",
    "car2.engine=\"petrol\"\n",
    "car2.seats=4\n",
    "\n",
    "\n",
    "# print(car1.engine)\n",
    "# print(car2.engine)\n",
    "print(dir(car1))"
   ]
  },
  {
   "cell_type": "code",
   "execution_count": 2,
   "id": "15ad7370-e7d1-4bf5-9e21-85c9de16da45",
   "metadata": {},
   "outputs": [
    {
     "name": "stdout",
     "output_type": "stream",
     "text": [
      "The no. of tyres in object in car1 is 4\n",
      "The no. of windows in object car1 is 4\n",
      "The car type is petrol engine\n"
     ]
    }
   ],
   "source": [
    "class Car:\n",
    "    # consructor\n",
    "    def __init__(self,windows,tyres,engine):\n",
    "        self.windows = windows\n",
    "        self.tyres = tyres\n",
    "        self.engine = engine\n",
    "\n",
    "    def self_driving(self):\n",
    "        print(\"The car type is {} engine\".format(self.engine))\n",
    "\n",
    "car1=Car(4,4,\"petrol\")\n",
    "print(\"The no. of tyres in object in car1 is {}\".format(car1.tyres))\n",
    "print(\"The no. of windows in object car1 is {}\".format(car1.windows))\n",
    "car1.self_driving()"
   ]
  },
  {
   "cell_type": "code",
   "execution_count": 6,
   "id": "83692e5b-6197-448c-af90-6f0f5e353aae",
   "metadata": {},
   "outputs": [
    {
     "name": "stdout",
     "output_type": "stream",
     "text": [
      "The no. of tyres in object in car1 is 4\n",
      "The no. of windows in object car1 is 4\n",
      "The car type is electric engine\n"
     ]
    }
   ],
   "source": [
    "class Car:\n",
    "    # consructor\n",
    "    def __init__(self,windows,tyres,engine):\n",
    "        self.windows = windows\n",
    "        self.tyres = tyres\n",
    "        self.engine = engine\n",
    "\n",
    "    def self_driving(self,engine):\n",
    "        print(\"The car type is {} engine\".format(engine))\n",
    "\n",
    "car1=Car(4,4,\"petrol\")\n",
    "print(\"The no. of tyres in object in car1 is {}\".format(car1.tyres))\n",
    "print(\"The no. of windows in object car1 is {}\".format(car1.windows))\n",
    "car1.self_driving(\"electric\")"
   ]
  },
  {
   "cell_type": "code",
   "execution_count": 8,
   "id": "84efef1d-8c7c-424a-acaf-a9c58f2c6100",
   "metadata": {},
   "outputs": [
    {
     "name": "stdout",
     "output_type": "stream",
     "text": [
      "<__main__.Animal object at 0x000001C3D9509490>\n"
     ]
    }
   ],
   "source": [
    "class Animal:\n",
    "    def __init__(self,name,species):\n",
    "        self.name = name\n",
    "        self.species=species\n",
    "    def __init__(self,name,species,age):\n",
    "        self.name=name\n",
    "        self.species=species\n",
    "        self.age=age\n",
    "    def make_sound(self, sound):\n",
    "        return \"The animal is{} and says {}\".format(self)\n",
    "\n",
    "dog=Animal(\"dog\",\"mammals\",17)\n",
    "print(dog)"
   ]
  },
  {
   "cell_type": "code",
   "execution_count": 19,
   "id": "e916e919-3bd2-4402-8c61-8326a81bcbaf",
   "metadata": {},
   "outputs": [
    {
     "name": "stdout",
     "output_type": "stream",
     "text": [
      "dog\n",
      "mammals\n",
      "17\n",
      "The mammals is dog and says woof woof\n"
     ]
    }
   ],
   "source": [
    "class Animal:    \n",
    "    def __init__(self,*args):\n",
    "        if len(args)==1:\n",
    "            self.name = args[0]\n",
    "        elif len(args)==2:\n",
    "            self.name = args[0]\n",
    "            self.species = args[1]\n",
    "        elif len(args)==3:\n",
    "            self.name = args[0]\n",
    "            self.species = args[1]\n",
    "            self.age = args[2]\n",
    "    \n",
    "    def make_sound(self,sound):\n",
    "        return \"The animal is {} and says {}\".format(self.species,self.name,sound)\n",
    "    \n",
    "    dog=Animal(\"dog\",\"mammals\",17)\n",
    "    print(dog.name)\n",
    "    print(dog.species)\n",
    "    print(dog.age)\n",
    "    print(dog.make_sound(\"woof woof\"))"
   ]
  },
  {
   "cell_type": "code",
   "execution_count": 17,
   "id": "a1fa3b77-e2ce-4c15-8fbe-bb9b2a065415",
   "metadata": {},
   "outputs": [
    {
     "name": "stdout",
     "output_type": "stream",
     "text": [
      "dog\n",
      "mammals\n",
      "17\n",
      "The mammals is dog and says woof woof\n"
     ]
    }
   ],
   "source": [
    "class Animal:\n",
    "    def __init__(self, *args):\n",
    "        if len(args) == 1:\n",
    "            self.name = args[0]\n",
    "        elif len(args) == 2:\n",
    "            self.name = args[0]\n",
    "            self.species = args[1]\n",
    "        elif len(args) == 3:\n",
    "            self.name = args[0]\n",
    "            self.species = args[1]\n",
    "            self.age = args[2]\n",
    "\n",
    "    def make_sound(self, sound):\n",
    "        return \"The {} is {} and says {}\".format(self.species, self.name, sound)\n",
    "\n",
    "dog = Animal(\"dog\", \"mammals\", 17)\n",
    "print(dog.name)\n",
    "print(dog.species)\n",
    "print(dog.age)\n",
    "print(dog.make_sound(\"woof woof\"))\n"
   ]
  },
  {
   "cell_type": "code",
   "execution_count": 24,
   "id": "62ea91e3-0378-4110-990e-9517a6d67eeb",
   "metadata": {},
   "outputs": [
    {
     "name": "stdout",
     "output_type": "stream",
     "text": [
      "200\n",
      "4\n",
      "Disel\n",
      "Car is used for driving\n"
     ]
    }
   ],
   "source": [
    "class Car:\n",
    "    def __init__(self,windows,doors,enginetype):\n",
    "        self.windows=windows\n",
    "        self.doors=doors\n",
    "        self.enginetype=enginetype\n",
    "    def driving(self):\n",
    "        print(\"Car is used for driving\")\n",
    "# Audi car is inheriting from car class\n",
    "class Audi(Car):\n",
    "    def __init__(self,windows,doors,enginetype,horsepower):\n",
    "        super().__init__(windows,doors,enginetype)\n",
    "        self.horsepower = horsepower\n",
    "\n",
    "audiq7=Audi(4,5,\"Disel\",200)\n",
    "print(audiq7.horsepower)\n",
    "print(audiq7.windows)\n",
    "print(audiq7.enginetype)\n",
    "audiq7.driving()"
   ]
  },
  {
   "cell_type": "code",
   "execution_count": 25,
   "id": "1588f930-0afe-46b5-876e-90255f4da47a",
   "metadata": {},
   "outputs": [
    {
     "name": "stdout",
     "output_type": "stream",
     "text": [
      "200\n",
      "4\n",
      "Disel\n",
      "Car is used for driving\n",
      "it is a self driving car\n"
     ]
    }
   ],
   "source": [
    "class Car:\n",
    "    def __init__(self,windows,doors,enginetype):\n",
    "        self.windows=windows\n",
    "        self.doors=doors\n",
    "        self.enginetype=enginetype\n",
    "    def driving(self):\n",
    "        print(\"Car is used for driving\")\n",
    "# Audi car is inheriting from car class\n",
    "class Audi(Car):\n",
    "    def __init__(self,windows,doors,enginetype,horsepower):\n",
    "        super().__init__(windows,doors,enginetype)\n",
    "        self.horsepower = horsepower\n",
    "    def selfdriving(self):\n",
    "        print(\"it is a self driving car\")\n",
    "        \n",
    "audiq7=Audi(4,5,\"Disel\",200)\n",
    "print(audiq7.horsepower)\n",
    "print(audiq7.windows)\n",
    "print(audiq7.enginetype)\n",
    "audiq7.driving()\n",
    "audiq7.selfdriving()"
   ]
  },
  {
   "cell_type": "code",
   "execution_count": 26,
   "id": "dc3658d0-5661-44e8-999e-c17649476ff2",
   "metadata": {},
   "outputs": [
    {
     "name": "stdout",
     "output_type": "stream",
     "text": [
      "200\n",
      "4\n",
      "Disel\n",
      "Car is used for driving\n",
      "it is a self driving car\n",
      "<__main__.Car object at 0x000001C3D9D87F50>\n",
      "<__main__.Audi object at 0x000001C3D9DAAD90>\n",
      "['__class__', '__delattr__', '__dict__', '__dir__', '__doc__', '__eq__', '__format__', '__ge__', '__getattribute__', '__getstate__', '__gt__', '__hash__', '__init__', '__init_subclass__', '__le__', '__lt__', '__module__', '__ne__', '__new__', '__reduce__', '__reduce_ex__', '__repr__', '__setattr__', '__sizeof__', '__str__', '__subclasshook__', '__weakref__', 'doors', 'driving', 'enginetype', 'horsepower', 'selfdriving', 'windows']\n"
     ]
    }
   ],
   "source": [
    "class Car:\n",
    "    def __init__(self,windows,doors,enginetype):\n",
    "        self.windows=windows\n",
    "        self.doors=doors\n",
    "        self.enginetype=enginetype\n",
    "    def driving(self):\n",
    "        print(\"Car is used for driving\")\n",
    "# Audi car is inheriting from car class\n",
    "class Audi(Car):\n",
    "    def __init__(self,windows,doors,enginetype,horsepower):\n",
    "        super().__init__(windows,doors,enginetype)\n",
    "        self.horsepower = horsepower\n",
    "    def selfdriving(self):\n",
    "        print(\"it is a self driving car\")\n",
    "        \n",
    "audiq7=Audi(4,5,\"Disel\",200)\n",
    "print(audiq7.horsepower)\n",
    "print(audiq7.windows)\n",
    "print(audiq7.enginetype)\n",
    "audiq7.driving()\n",
    "audiq7.selfdriving()\n",
    "car1=Car(4,5,\"Disel\")\n",
    "print(car1)\n",
    "print(audiq7) \n",
    "print(dir(audiq7))"
   ]
  },
  {
   "cell_type": "code",
   "execution_count": 27,
   "id": "85e39433-9bf2-4039-859e-9ba01fcd5472",
   "metadata": {},
   "outputs": [
    {
     "name": "stdout",
     "output_type": "stream",
     "text": [
      "200\n",
      "4\n",
      "Disel\n",
      "Car is used for driving\n",
      "it is a self driving car\n",
      "<__main__.Car object at 0x000001C3D9DAB3D0>\n",
      "<__main__.Audi object at 0x000001C3D9DAAB90>\n",
      "['__class__', '__delattr__', '__dict__', '__dir__', '__doc__', '__eq__', '__format__', '__ge__', '__getattribute__', '__getstate__', '__gt__', '__hash__', '__init__', '__init_subclass__', '__le__', '__lt__', '__module__', '__ne__', '__new__', '__reduce__', '__reduce_ex__', '__repr__', '__setattr__', '__sizeof__', '__str__', '__subclasshook__', '__weakref__', 'doors', 'driving', 'enginetype', 'horsepower', 'selfdriving', 'windows']\n",
      "['__class__', '__delattr__', '__dict__', '__dir__', '__doc__', '__eq__', '__format__', '__ge__', '__getattribute__', '__getstate__', '__gt__', '__hash__', '__init__', '__init_subclass__', '__le__', '__lt__', '__module__', '__ne__', '__new__', '__reduce__', '__reduce_ex__', '__repr__', '__setattr__', '__sizeof__', '__str__', '__subclasshook__', '__weakref__', 'doors', 'driving', 'enginetype', 'windows']\n"
     ]
    }
   ],
   "source": [
    "class Car:\n",
    "    def __init__(self,windows,doors,enginetype):\n",
    "        self.windows=windows\n",
    "        self.doors=doors\n",
    "        self.enginetype=enginetype\n",
    "    def driving(self):\n",
    "        print(\"Car is used for driving\")\n",
    "# Audi car is inheriting from car class\n",
    "class Audi(Car):\n",
    "    def __init__(self,windows,doors,enginetype,horsepower):\n",
    "        super().__init__(windows,doors,enginetype)\n",
    "        self.horsepower = horsepower\n",
    "    def selfdriving(self):\n",
    "        print(\"it is a self driving car\")\n",
    "        \n",
    "audiq7=Audi(4,5,\"Disel\",200)\n",
    "print(audiq7.horsepower)\n",
    "print(audiq7.windows)\n",
    "print(audiq7.enginetype)\n",
    "audiq7.driving()\n",
    "audiq7.selfdriving()\n",
    "car1=Car(4,5,\"Disel\")\n",
    "print(car1)\n",
    "print(audiq7) \n",
    "print(dir(audiq7))\n",
    "print(dir(car1))"
   ]
  },
  {
   "cell_type": "code",
   "execution_count": null,
   "id": "daaa60ae-fa85-49d9-be6f-f67485e8dc18",
   "metadata": {},
   "outputs": [],
   "source": []
  }
 ],
 "metadata": {
  "kernelspec": {
   "display_name": "Python 3 (ipykernel)",
   "language": "python",
   "name": "python3"
  },
  "language_info": {
   "codemirror_mode": {
    "name": "ipython",
    "version": 3
   },
   "file_extension": ".py",
   "mimetype": "text/x-python",
   "name": "python",
   "nbconvert_exporter": "python",
   "pygments_lexer": "ipython3",
   "version": "3.11.7"
  },
  "widgets": {
   "application/vnd.jupyter.widget-state+json": {
    "state": {},
    "version_major": 2,
    "version_minor": 0
   }
  }
 },
 "nbformat": 4,
 "nbformat_minor": 5
}
