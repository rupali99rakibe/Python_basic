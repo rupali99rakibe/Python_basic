{
 "cells": [
  {
   "cell_type": "code",
   "execution_count": 1,
   "id": "1a223bcf-47e7-41c3-9102-fcae135c982d",
   "metadata": {},
   "outputs": [],
   "source": [
    "# In a file handling four mode\n",
    "# read mode(r) - if file is available then it's open, if not available it show error.\n",
    "# Write mode(w) - if file is available then it's open, if it is not available it will be create new file with same name\n",
    "# append mode(a) - in a append mode it can save the history\n",
    "# create(x) - it will create a new file with that name,but show error if file is already exist"
   ]
  },
  {
   "cell_type": "code",
   "execution_count": 2,
   "id": "6b820294-fbc9-4789-b401-37806f4f5c8e",
   "metadata": {},
   "outputs": [],
   "source": [
    "# four type of function in file handling\n",
    "# 1. Open()\n",
    "# 2. write()\n",
    "# 3. close()\n",
    "# 4. readlines()"
   ]
  },
  {
   "cell_type": "code",
   "execution_count": 3,
   "id": "95cf0b27-cb47-4c30-97d3-0baa4bd489fb",
   "metadata": {},
   "outputs": [
    {
     "data": {
      "text/plain": [
       "27"
      ]
     },
     "execution_count": 3,
     "metadata": {},
     "output_type": "execute_result"
    }
   ],
   "source": [
    "# Write mode\n",
    "f = open('test.text','w')\n",
    "f.write(\"This is file handling class\")"
   ]
  },
  {
   "cell_type": "code",
   "execution_count": 4,
   "id": "4be4da83-20dd-4baf-9808-92037ab19035",
   "metadata": {},
   "outputs": [],
   "source": [
    "f.close() # if we don't close any file they can't enter a text"
   ]
  },
  {
   "cell_type": "code",
   "execution_count": 5,
   "id": "426db5e9-5164-4c3f-b641-683ac2a54b58",
   "metadata": {},
   "outputs": [],
   "source": [
    "# read mode(r)\n",
    "f = open(\"test.text\",\"r\")"
   ]
  },
  {
   "cell_type": "code",
   "execution_count": 6,
   "id": "0a2705c3-feac-48f7-b9a6-eb036ee5f50f",
   "metadata": {},
   "outputs": [],
   "source": [
    "f.close()"
   ]
  },
  {
   "cell_type": "code",
   "execution_count": 7,
   "id": "b6583c05-4180-49f2-a5c1-01b1a14512d3",
   "metadata": {},
   "outputs": [
    {
     "data": {
      "text/plain": [
       "32"
      ]
     },
     "execution_count": 7,
     "metadata": {},
     "output_type": "execute_result"
    }
   ],
   "source": [
    "# append mode(a)\n",
    "f = open(\"test.txt\" , \"a\")\n",
    "f.write(\" we are a learning file handling\")"
   ]
  },
  {
   "cell_type": "code",
   "execution_count": 8,
   "id": "191fbc65-9255-4d3d-b2a2-d396d7e46d04",
   "metadata": {},
   "outputs": [],
   "source": [
    "f.close()"
   ]
  },
  {
   "cell_type": "code",
   "execution_count": 11,
   "id": "880520e9-fc90-4075-b1fd-de448478847a",
   "metadata": {},
   "outputs": [],
   "source": [
    "r = [10,20,30,40]\n",
    "f = open(\"test1.txt\",\"a\")\n",
    "f.write(\"we are doing append method\")\n",
    "f.write(\"\\n\")\n",
    "f.write(\"input is:\")\n",
    "f.write(str(r))\n",
    "f.write(\"\\n\")\n",
    "r.append(9)\n",
    "f.write(\"output is:\")\n",
    "f.write(str(r))\n",
    "f.write(\"\\n\")\n",
    "f.close()"
   ]
  },
  {
   "cell_type": "code",
   "execution_count": 16,
   "id": "375b133f-66bf-447a-8d00-15fce70aa51f",
   "metadata": {},
   "outputs": [],
   "source": [
    "f = open(\"test3.txt\",\"x\")\n",
    "f.write(\"This is file handling\")\n",
    "f.close()"
   ]
  },
  {
   "cell_type": "code",
   "execution_count": 19,
   "id": "e4be6d52-282b-4742-a451-edbe2edb8bd8",
   "metadata": {},
   "outputs": [],
   "source": [
    "f = open(\"test3.txt\",\"r\")"
   ]
  },
  {
   "cell_type": "code",
   "execution_count": 20,
   "id": "12073a3b-7b22-49b2-9601-91beaf69d0d6",
   "metadata": {},
   "outputs": [
    {
     "data": {
      "text/plain": [
       "'This is file handling'"
      ]
     },
     "execution_count": 20,
     "metadata": {},
     "output_type": "execute_result"
    }
   ],
   "source": [
    "f.read()"
   ]
  },
  {
   "cell_type": "code",
   "execution_count": 21,
   "id": "d69018f1-7420-482b-8b3a-c570c9467bed",
   "metadata": {},
   "outputs": [
    {
     "data": {
      "text/plain": [
       "21"
      ]
     },
     "execution_count": 21,
     "metadata": {},
     "output_type": "execute_result"
    }
   ],
   "source": [
    "f.tell()"
   ]
  },
  {
   "cell_type": "code",
   "execution_count": 26,
   "id": "05da4f52-f7f4-4084-a798-84d9e97e3de0",
   "metadata": {},
   "outputs": [
    {
     "data": {
      "text/plain": [
       "[]"
      ]
     },
     "execution_count": 26,
     "metadata": {},
     "output_type": "execute_result"
    }
   ],
   "source": [
    "f.readlines()"
   ]
  }
 ],
 "metadata": {
  "kernelspec": {
   "display_name": "Python 3 (ipykernel)",
   "language": "python",
   "name": "python3"
  },
  "language_info": {
   "codemirror_mode": {
    "name": "ipython",
    "version": 3
   },
   "file_extension": ".py",
   "mimetype": "text/x-python",
   "name": "python",
   "nbconvert_exporter": "python",
   "pygments_lexer": "ipython3",
   "version": "3.11.5"
  }
 },
 "nbformat": 4,
 "nbformat_minor": 5
}
