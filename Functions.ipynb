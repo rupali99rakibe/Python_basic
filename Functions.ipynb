{
 "cells": [
  {
   "cell_type": "raw",
   "id": "377c4fb0-3e49-4c02-9ea8-7f06ef334759",
   "metadata": {},
   "source": [
    "# 1.TO make code more readable\n",
    "# 2.To make code more efficient \n",
    "# 3.to make code more maintainable\n",
    "# 4.to make code more usable\n",
    "# To make code more extensible"
   ]
  },
  {
   "cell_type": "code",
   "execution_count": 1,
   "id": "abaa3a73-6f63-446c-9422-1a98e8f9c21d",
   "metadata": {},
   "outputs": [
    {
     "name": "stdout",
     "output_type": "stream",
     "text": [
      "Rupali is a very good girl\n",
      "Rupali is a very good girl\n",
      "Rupali is a very good girl\n"
     ]
    }
   ],
   "source": [
    "print(\"Rupali is a very good girl\")\n",
    "print(\"Rupali is a very good girl\")\n",
    "print(\"Rupali is a very good girl\")"
   ]
  },
  {
   "cell_type": "code",
   "execution_count": 3,
   "id": "ced27029-69fc-41a6-b40b-135bceaecbd4",
   "metadata": {},
   "outputs": [
    {
     "name": "stdout",
     "output_type": "stream",
     "text": [
      "Rupali is a very good girl\n",
      "Rupali is a very good girl\n",
      "Rupali is a very good girl\n"
     ]
    }
   ],
   "source": [
    "def welcome():\n",
    "    print(\"Rupali is a very good girl\")\n",
    "welcome()\n",
    "welcome()\n",
    "welcome()"
   ]
  },
  {
   "cell_type": "code",
   "execution_count": 4,
   "id": "8c5f0a45-cb78-4ea9-b2f3-73a659ec8f9b",
   "metadata": {},
   "outputs": [
    {
     "name": "stdout",
     "output_type": "stream",
     "text": [
      "Rupali is a very smart girl\n",
      "Rupali is a very smart girl\n",
      "Rupali is a very smart girl\n"
     ]
    }
   ],
   "source": [
    "def welcome():\n",
    "    print(\"Rupali is a very smart girl\")\n",
    "welcome()\n",
    "welcome()\n",
    "welcome()"
   ]
  },
  {
   "cell_type": "code",
   "execution_count": 12,
   "id": "502c387b-664d-4e65-83f0-cd28bf7434fa",
   "metadata": {},
   "outputs": [
    {
     "name": "stdout",
     "output_type": "stream",
     "text": [
      "Rupali is a very smart girl hard worker\n",
      "Rupali is a very smart girl\n",
      "Rupali is a very smart girl\n"
     ]
    }
   ],
   "source": [
    "def welcome():\n",
    "    return \"Rupali is a very smart girl\"\n",
    "msg=welcome()\n",
    "print(msg + \" hard worker\")\n",
    "print(msg)\n",
    "print(msg)"
   ]
  },
  {
   "cell_type": "code",
   "execution_count": 11,
   "id": "9e676a73-12ee-4843-984f-e4cda78e1ad3",
   "metadata": {},
   "outputs": [
    {
     "name": "stdout",
     "output_type": "stream",
     "text": [
      "Rupali is a very smart girl\n",
      "Rupali is a very smart girl\n",
      "Rupali is a very smart girl\n"
     ]
    }
   ],
   "source": [
    "def welcome():\n",
    "    return \"Rupali is a very smart girl\"\n",
    "print(welcome())\n",
    "print(welcome())\n",
    "print(welcome())"
   ]
  },
  {
   "cell_type": "code",
   "execution_count": 13,
   "id": "3d1f82c8-6675-4128-998d-8d7104b0507e",
   "metadata": {},
   "outputs": [
    {
     "name": "stdout",
     "output_type": "stream",
     "text": [
      "Rupali is a smart girl she also a hard worker\n"
     ]
    }
   ],
   "source": [
    "def welcome():\n",
    "    \"\"\"\n",
    "    Description: This function will show a girl information message\n",
    "\n",
    "    Return: This function will return the girl's information message\n",
    "    \n",
    "    \"\"\"\n",
    "    return \"Rupali is a smart girl\"\n",
    "msg = welcome()\n",
    "print(msg + \" she also a hard worker\")"
   ]
  },
  {
   "cell_type": "code",
   "execution_count": 15,
   "id": "e6d773b9-3a38-4983-a3bc-8abde35af1e8",
   "metadata": {},
   "outputs": [
    {
     "name": "stdout",
     "output_type": "stream",
     "text": [
      "Rupali is a smart girl she also a hard worker\n"
     ]
    }
   ],
   "source": [
    "def welcome(msg)->str:\n",
    "    \"\"\"\n",
    "    Description: This function will show a girl information message\n",
    "\n",
    "    Return: This function will return the girl's information message\n",
    "    \n",
    "    \"\"\"\n",
    "    # return \"Rupali is a smart girl\"\n",
    "msg = welcome(\"Rupali is a smart girl\")\n",
    "print(msg + \" she also a hard worker\")"
   ]
  },
  {
   "cell_type": "code",
   "execution_count": 16,
   "id": "7b5c6b45-22f4-4198-b013-e269aa77fa5a",
   "metadata": {},
   "outputs": [],
   "source": [
    "def even_odd_sum(lst):\n",
    "    \"\"\"\n",
    "    Description: This function will add an odd number to a list\n",
    "\n",
    "    Return: This function will return the sum of even and odd numbers in list\n",
    "    \n",
    "    \"\"\"\n",
    "    even_sum=0\n",
    "    odd_sum=0\n",
    "    for i in lst:\n",
    "        if i%2==0:\n",
    "            even_sum+=i\n",
    "        else:\n",
    "            odd_sum+=i\n",
    "    return even_sum,odd_sum"
   ]
  },
  {
   "cell_type": "code",
   "execution_count": 19,
   "id": "9d474359-3211-4596-9f36-fc1472dbc0a5",
   "metadata": {},
   "outputs": [
    {
     "name": "stdout",
     "output_type": "stream",
     "text": [
      "68 39\n"
     ]
    }
   ],
   "source": [
    "sum1,sum2=even_odd_sum([1,2,3,4,5,6,7,23,56])\n",
    "print(sum1,sum2)"
   ]
  },
  {
   "cell_type": "code",
   "execution_count": 21,
   "id": "eb8ce455-eae4-42b2-9d10-004a65e42842",
   "metadata": {},
   "outputs": [
    {
     "name": "stdout",
     "output_type": "stream",
     "text": [
      "Hello Rupali you are 24 year old\n"
     ]
    }
   ],
   "source": [
    "def hello(name,age):\n",
    "    print(\"Hello \" +name + \" you are \"+ str(age)+\" year old\")\n",
    "\n",
    "hello(\"Rupali\",24)"
   ]
  },
  {
   "cell_type": "code",
   "execution_count": 22,
   "id": "73298a58-7c4a-4142-8b85-fe71d95c13c5",
   "metadata": {},
   "outputs": [
    {
     "name": "stdout",
     "output_type": "stream",
     "text": [
      "('Rupali', 'Rakibe')\n",
      "{'age': 25, 'dob': 1999}\n"
     ]
    }
   ],
   "source": [
    "def hello(*args,**kwargs):\n",
    "    print(args)\n",
    "    print(kwargs)\n",
    "hello(\"Rupali\",\"Rakibe\",age=25,dob=1999)"
   ]
  },
  {
   "cell_type": "code",
   "execution_count": 24,
   "id": "b4aaedb3-02ec-4528-bd7f-af25a5426809",
   "metadata": {},
   "outputs": [
    {
     "name": "stdout",
     "output_type": "stream",
     "text": [
      "(['Rupali', 'Rakibe'], {'age': 24, 'dob': 1999})\n",
      "{}\n"
     ]
    }
   ],
   "source": [
    "def hello(*args,**kwargs):\n",
    "    print(args)\n",
    "    print(kwargs)\n",
    "# hello(\"Rupali\",\"Rakibe\",age=25,dob=1999)\n",
    "l=list(('Rupali',\"Rakibe\"))\n",
    "dict_val={\"age\":24,\"dob\":1999}\n",
    "\n",
    "hello(l,dict_val)"
   ]
  },
  {
   "cell_type": "code",
   "execution_count": 31,
   "id": "b614be0f-8ace-4978-8883-f2b615ccecff",
   "metadata": {},
   "outputs": [
    {
     "name": "stdout",
     "output_type": "stream",
     "text": [
      "('Rupali', 'Rakibe', '1', '2', '3')\n",
      "{'df': '45', 'db': '1999'}\n"
     ]
    }
   ],
   "source": [
    "def hello(*args,**kwargs):\n",
    "    print(args)\n",
    "    print(kwargs)\n",
    "# hello(\"Rupali\",\"Rakibe\",age=25,dob=1999)\n",
    "l=list(('Rupali',\"Rakibe\"))\n",
    "dict_val={\"age\":24,\"dob\":1999}\n",
    "\n",
    "# hello(*l,**dict_val)\n",
    "hello('Rupali',\"Rakibe\",\"1\",\"2\",\"3\",df=\"45\",db=\"1999\")"
   ]
  },
  {
   "cell_type": "code",
   "execution_count": null,
   "id": "2058de03-5c39-4dc6-b23c-958bf55ae127",
   "metadata": {},
   "outputs": [],
   "source": []
  }
 ],
 "metadata": {
  "kernelspec": {
   "display_name": "Python 3 (ipykernel)",
   "language": "python",
   "name": "python3"
  },
  "language_info": {
   "codemirror_mode": {
    "name": "ipython",
    "version": 3
   },
   "file_extension": ".py",
   "mimetype": "text/x-python",
   "name": "python",
   "nbconvert_exporter": "python",
   "pygments_lexer": "ipython3",
   "version": "3.11.7"
  },
  "widgets": {
   "application/vnd.jupyter.widget-state+json": {
    "state": {},
    "version_major": 2,
    "version_minor": 0
   }
  }
 },
 "nbformat": 4,
 "nbformat_minor": 5
}
