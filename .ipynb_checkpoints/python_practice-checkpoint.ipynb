{
 "cells": [
  {
   "cell_type": "markdown",
   "id": "a45795a9-a717-410e-9bc9-d3fc8845ebc7",
   "metadata": {},
   "source": [
    "# Prime number"
   ]
  },
  {
   "cell_type": "code",
   "execution_count": 6,
   "id": "29f34e85-2cf1-4e03-9abc-9bfa8cc7e46f",
   "metadata": {},
   "outputs": [
    {
     "name": "stdout",
     "output_type": "stream",
     "text": [
      "is not a prime number\n"
     ]
    }
   ],
   "source": [
    "num = 99\n",
    "X = 0\n",
    "if num == 1:\n",
    "    print(\"is not a prime number\")\n",
    "elif num > 1:\n",
    "    for i in range(2,num):\n",
    "        if(num % i) == 0:\n",
    "            X = 1\n",
    "            break\n",
    "    if X:\n",
    "        print(\"is not a prime number\")\n",
    "    else:\n",
    "        print(\"it is a prime number\")"
   ]
  },
  {
   "cell_type": "code",
   "execution_count": 12,
   "id": "488e0e8c-e13f-440e-a66b-151c2bcf3fb6",
   "metadata": {},
   "outputs": [
    {
     "name": "stdout",
     "output_type": "stream",
     "text": [
      "is not a prime number\n"
     ]
    }
   ],
   "source": [
    "n = 312\n",
    "if n == 1:\n",
    "    print(\"is not a prime number\")\n",
    "elif n > 1:\n",
    "    for i in range(2,n):\n",
    "        if (n % i) == 0:\n",
    "            print(\"is not a prime number\")\n",
    "            # print(i,\"times\",num//i,\"is\",num)\n",
    "            break\n",
    "    else:\n",
    "        print(\"is a prime number\")\n",
    "# else:\n",
    "#     print(num,\"is not a prime number\")"
   ]
  },
  {
   "cell_type": "code",
   "execution_count": 22,
   "id": "457bb9d5-2da3-4e61-89dc-abc16fcaa07a",
   "metadata": {},
   "outputs": [],
   "source": [
    "def prime_num(n):\n",
    "    if n == 1:\n",
    "        print(\"it is not a prime number\")\n",
    "    elif n > 1:\n",
    "        for i in range(2,n):\n",
    "            if (n % i) == 0:\n",
    "                print(\"is not a prime number\")\n",
    "                break\n",
    "        else:\n",
    "            print(\"is a prime number\")"
   ]
  },
  {
   "cell_type": "code",
   "execution_count": 25,
   "id": "232866a1-bca1-4db9-8711-c218cfc8306d",
   "metadata": {},
   "outputs": [
    {
     "name": "stdout",
     "output_type": "stream",
     "text": [
      "is a prime number\n"
     ]
    }
   ],
   "source": [
    "prime_num(11)"
   ]
  },
  {
   "cell_type": "code",
   "execution_count": 17,
   "id": "c217c3ac-7cb5-4213-96c9-ab7ad88fb404",
   "metadata": {},
   "outputs": [
    {
     "name": "stdout",
     "output_type": "stream",
     "text": [
      "2\n",
      "3\n",
      "5\n",
      "7\n",
      "11\n",
      "13\n",
      "17\n",
      "19\n",
      "23\n",
      "29\n",
      "31\n",
      "37\n",
      "41\n",
      "43\n",
      "47\n",
      "53\n",
      "59\n",
      "61\n",
      "67\n",
      "71\n",
      "73\n",
      "79\n",
      "83\n",
      "89\n",
      "97\n"
     ]
    }
   ],
   "source": [
    "lower = 1\n",
    "upper = 100\n",
    "# print(\"Prime number between\", lower,\"and\",upper,\"are:\")\n",
    "for num in range(lower, upper + 1):\n",
    "    if num > 1:\n",
    "        for i in range(2,num):\n",
    "            if (num % i) == 0:\n",
    "                break\n",
    "        else:\n",
    "            print(num)"
   ]
  },
  {
   "cell_type": "code",
   "execution_count": 20,
   "id": "bc160c2e-14c8-490a-9ee0-06806d1d2bd8",
   "metadata": {},
   "outputs": [],
   "source": [
    "def prime_num(lower,upper):\n",
    "    for num in range(lower, upper+1):\n",
    "        if num > 1:\n",
    "            for i in range(2,num):\n",
    "                if (num % i) == 0:\n",
    "                    break\n",
    "            else:\n",
    "                print(num)"
   ]
  },
  {
   "cell_type": "code",
   "execution_count": 21,
   "id": "77093745-27f7-461c-ad95-1ecdaf3120a2",
   "metadata": {},
   "outputs": [
    {
     "name": "stdout",
     "output_type": "stream",
     "text": [
      "2\n",
      "3\n",
      "5\n",
      "7\n",
      "11\n",
      "13\n",
      "17\n",
      "19\n",
      "23\n",
      "29\n",
      "31\n",
      "37\n",
      "41\n",
      "43\n",
      "47\n",
      "53\n",
      "59\n",
      "61\n",
      "67\n",
      "71\n",
      "73\n",
      "79\n",
      "83\n",
      "89\n",
      "97\n"
     ]
    }
   ],
   "source": [
    "prime_num(1,100)"
   ]
  },
  {
   "cell_type": "markdown",
   "id": "ac42a5fa-7249-49f2-8d30-11564b39bf89",
   "metadata": {},
   "source": [
    "# fibonnaci series"
   ]
  },
  {
   "cell_type": "code",
   "execution_count": 27,
   "id": "308ce843-14c9-43ff-9d49-06787c937aac",
   "metadata": {},
   "outputs": [
    {
     "name": "stdin",
     "output_type": "stream",
     "text": [
      "How many terms?  4\n"
     ]
    },
    {
     "name": "stdout",
     "output_type": "stream",
     "text": [
      "Fibonnaci sequence:\n",
      "0\n",
      "1\n",
      "1\n",
      "2\n"
     ]
    }
   ],
   "source": [
    "nterms = int(input(\"How many terms? \"))\n",
    "n1,n2 = 0,1\n",
    "count = 0\n",
    "if nterms <= 0:\n",
    "    print(\"Please Enter a positive integer\")\n",
    "elif nterms == 1:\n",
    "    print(\"Fibonacci sequence upto\",nterms,\":\")\n",
    "    print(n1)\n",
    "else:\n",
    "    print(\"Fibonnaci sequence:\")\n",
    "    while count < nterms:\n",
    "        print(n1)\n",
    "        nth = n1 + n2\n",
    "        n1 = n2\n",
    "        n2 = nth\n",
    "        count += 1"
   ]
  },
  {
   "cell_type": "code",
   "execution_count": 44,
   "id": "17bf8540-ec35-454a-a22e-da2ac6195716",
   "metadata": {},
   "outputs": [],
   "source": [
    "def fibonacci_series(nterm,n1,n2):\n",
    "    if nterm <= 0:\n",
    "        print('positive integer')\n",
    "    elif nterm == 1:\n",
    "        print(\"Fibonacci Sequence upto\",nterm)\n",
    "        print(n1)\n",
    "    else:\n",
    "        print(\"Fibonacci Sequence: \")\n",
    "        count = 0\n",
    "        while count < nterm:\n",
    "            print(n1)\n",
    "            nth = n1 + n2\n",
    "            n1 = n2\n",
    "            n2 = nth\n",
    "            count += 1"
   ]
  },
  {
   "cell_type": "code",
   "execution_count": 45,
   "id": "5a6427fb-474f-4ea0-b147-a3fdc9a2d77b",
   "metadata": {},
   "outputs": [
    {
     "name": "stdout",
     "output_type": "stream",
     "text": [
      "Fibonacci Sequence: \n",
      "0\n",
      "1\n",
      "1\n",
      "2\n"
     ]
    }
   ],
   "source": [
    "fibonacci_series(4,0,1)"
   ]
  },
  {
   "cell_type": "code",
   "execution_count": 43,
   "id": "595f530d-d11b-46f9-8df9-862a4650f76e",
   "metadata": {},
   "outputs": [
    {
     "name": "stdout",
     "output_type": "stream",
     "text": [
      "Fibonacci Sequence: \n",
      "0\n",
      "1\n",
      "1\n",
      "2\n"
     ]
    }
   ],
   "source": [
    "def fibonacci_series(nterm, n1, n2):\n",
    "    if nterm <= 0:\n",
    "        print('Positive integer required')\n",
    "    elif nterm == 1:\n",
    "        print(\"Fibonacci Sequence upto\", nterm)\n",
    "        print(n1)\n",
    "    else:\n",
    "        print(\"Fibonacci Sequence: \")\n",
    "        count = 0  # Initialize count\n",
    "        while count < nterm:\n",
    "            print(n1)\n",
    "            nth = n1 + n2\n",
    "            n1 = n2\n",
    "            n2 = nth\n",
    "            count += 1\n",
    "\n",
    "fibonacci_series(4, 0, 1)"
   ]
  },
  {
   "cell_type": "markdown",
   "id": "02ec46dd-220b-4187-89fb-a92d18f1b5ae",
   "metadata": {},
   "source": [
    "# Python Program to display power of 2 using anonymous function"
   ]
  },
  {
   "cell_type": "code",
   "execution_count": 52,
   "id": "cfcdfd8c-8a25-4d0d-89c2-89428730a4b6",
   "metadata": {},
   "outputs": [
    {
     "name": "stdout",
     "output_type": "stream",
     "text": [
      "The total term are: 4\n",
      "2 raised to power 0 is 1\n",
      "2 raised to power 1 is 2\n",
      "2 raised to power 2 is 4\n",
      "2 raised to power 3 is 8\n"
     ]
    }
   ],
   "source": [
    "n = 4\n",
    "op = list(map(lambda x : 2 ** x, range(n)))\n",
    "print(\"The total term are:\",n)\n",
    "for i in range(n):\n",
    "    print(\"2 raised to power\",i,\"is\",op[i])"
   ]
  },
  {
   "cell_type": "markdown",
   "id": "9bfea36b-b6d3-4015-b1a4-7253c87d04ac",
   "metadata": {},
   "source": [
    "# factorial number"
   ]
  },
  {
   "cell_type": "code",
   "execution_count": 4,
   "id": "1491a6a6-8379-482a-ba20-55f7d6a827dc",
   "metadata": {},
   "outputs": [
    {
     "name": "stdout",
     "output_type": "stream",
     "text": [
      "120\n"
     ]
    }
   ],
   "source": [
    "a = 5\n",
    "total =1\n",
    "for i in range(1,a+1):\n",
    "    total = i*total\n",
    "print(total)"
   ]
  },
  {
   "cell_type": "code",
   "execution_count": 11,
   "id": "a09be4fa-74fe-4e15-980c-d34af878d897",
   "metadata": {},
   "outputs": [],
   "source": [
    "# using local variable\n",
    "def factorial_num(n):\n",
    "    factorial = 1\n",
    "    for i in range(1,n+1):\n",
    "        factorial = i * factorial\n",
    "    print(factorial)"
   ]
  },
  {
   "cell_type": "code",
   "execution_count": 12,
   "id": "c6fa4a93-e7c9-462d-abb6-0a3a574b1493",
   "metadata": {},
   "outputs": [
    {
     "name": "stdout",
     "output_type": "stream",
     "text": [
      "362880\n"
     ]
    }
   ],
   "source": [
    "factorial_num(9)"
   ]
  },
  {
   "cell_type": "code",
   "execution_count": 15,
   "id": "4b264646-0ef3-4059-a071-ecf3f1fd3b78",
   "metadata": {},
   "outputs": [],
   "source": [
    "# using global variable\n",
    "factorial = 1\n",
    "def factorial_num(n):\n",
    "    global factorial\n",
    "    for i in range(1,n+1):\n",
    "        factorial = i * factorial\n",
    "    print(factorial)"
   ]
  },
  {
   "cell_type": "code",
   "execution_count": 16,
   "id": "4ec921fe-4681-4c06-9565-ae777477c357",
   "metadata": {},
   "outputs": [
    {
     "name": "stdout",
     "output_type": "stream",
     "text": [
      "362880\n"
     ]
    }
   ],
   "source": [
    "factorial_num(9)"
   ]
  },
  {
   "cell_type": "code",
   "execution_count": 17,
   "id": "6af383e5-f12a-493e-91c6-0012c7b1011d",
   "metadata": {},
   "outputs": [
    {
     "name": "stdout",
     "output_type": "stream",
     "text": [
      "7\n",
      "14\n",
      "21\n",
      "28\n",
      "35\n",
      "42\n",
      "49\n",
      "56\n",
      "63\n",
      "70\n"
     ]
    }
   ],
   "source": [
    "# display table multiplication\n",
    "num = 7\n",
    "for i in range(1,11):\n",
    "    print(i*num)"
   ]
  },
  {
   "cell_type": "code",
   "execution_count": 18,
   "id": "81cc5379-3db8-4714-91ee-4da6d2533add",
   "metadata": {},
   "outputs": [
    {
     "name": "stdout",
     "output_type": "stream",
     "text": [
      "7 x 1 = 7\n",
      "7 x 2 = 14\n",
      "7 x 3 = 21\n",
      "7 x 4 = 28\n",
      "7 x 5 = 35\n",
      "7 x 6 = 42\n",
      "7 x 7 = 49\n",
      "7 x 8 = 56\n",
      "7 x 9 = 63\n",
      "7 x 10 = 70\n"
     ]
    }
   ],
   "source": [
    "num = 7\n",
    "for i in range(1,11):\n",
    "    print(num,\"x\",i,\"=\",i*num)"
   ]
  },
  {
   "cell_type": "markdown",
   "id": "d35a38e4-68c8-4a04-9346-46425873a9d2",
   "metadata": {},
   "source": [
    "# function for a Table"
   ]
  },
  {
   "cell_type": "code",
   "execution_count": 20,
   "id": "691eb4ec-ac48-4b29-8ea5-af6c4c071a34",
   "metadata": {},
   "outputs": [],
   "source": [
    "def table(n):\n",
    "    for i in range(1,11):\n",
    "        print(i*n)"
   ]
  },
  {
   "cell_type": "code",
   "execution_count": 21,
   "id": "d0c084e9-22db-4658-af24-30bcbcfebcf2",
   "metadata": {},
   "outputs": [
    {
     "name": "stdout",
     "output_type": "stream",
     "text": [
      "7\n",
      "14\n",
      "21\n",
      "28\n",
      "35\n",
      "42\n",
      "49\n",
      "56\n",
      "63\n",
      "70\n"
     ]
    }
   ],
   "source": [
    "table(7)"
   ]
  },
  {
   "cell_type": "code",
   "execution_count": 24,
   "id": "e887b162-e610-4e7e-9f79-fe3435db40bd",
   "metadata": {},
   "outputs": [
    {
     "name": "stdin",
     "output_type": "stream",
     "text": [
      "Enter number of rows:  9\n"
     ]
    },
    {
     "name": "stdout",
     "output_type": "stream",
     "text": [
      "1 \n",
      "1 2 \n",
      "1 2 3 \n",
      "1 2 3 4 \n",
      "1 2 3 4 5 \n",
      "1 2 3 4 5 6 \n",
      "1 2 3 4 5 6 7 \n",
      "1 2 3 4 5 6 7 8 \n",
      "1 2 3 4 5 6 7 8 9 \n"
     ]
    }
   ],
   "source": [
    "# To print pyramid using number\n",
    "rows = int(input(\"Enter number of rows: \"))\n",
    "for i in range(rows):\n",
    "    for j in range(i+1):\n",
    "        print(j+1,end=\" \")\n",
    "    print()"
   ]
  },
  {
   "cell_type": "code",
   "execution_count": 27,
   "id": "9bfd804a-47b0-45f4-a73b-e4f10989a9ad",
   "metadata": {},
   "outputs": [
    {
     "name": "stdout",
     "output_type": "stream",
     "text": [
      "1 \n",
      "1 2 \n",
      "1 2 3 \n",
      "1 2 3 4 \n",
      "1 2 3 4 5 \n",
      "1 2 3 4 5 6 \n",
      "1 2 3 4 5 6 7 \n",
      "1 2 3 4 5 6 7 8 \n"
     ]
    }
   ],
   "source": [
    "n = 8\n",
    "for i in range(n):\n",
    "    for j in range(i+1):\n",
    "        print(j+1,end=\" \")\n",
    "    print()"
   ]
  },
  {
   "cell_type": "code",
   "execution_count": 25,
   "id": "540857c5-5780-4d90-bd98-d407e046747c",
   "metadata": {},
   "outputs": [],
   "source": [
    "# Function for a pyramid\n",
    "def pyramid_num(n):\n",
    "    for i in range(n):\n",
    "        for j in range(i+1):\n",
    "            print(j+1,end=\" \")\n",
    "        print()"
   ]
  },
  {
   "cell_type": "code",
   "execution_count": 26,
   "id": "f2cf194b-ff1e-4c29-bd49-70eaad46e5dd",
   "metadata": {},
   "outputs": [
    {
     "name": "stdout",
     "output_type": "stream",
     "text": [
      "1 \n",
      "1 2 \n",
      "1 2 3 \n",
      "1 2 3 4 \n",
      "1 2 3 4 5 \n",
      "1 2 3 4 5 6 \n",
      "1 2 3 4 5 6 7 \n",
      "1 2 3 4 5 6 7 8 \n",
      "1 2 3 4 5 6 7 8 9 \n"
     ]
    }
   ],
   "source": [
    "pyramid_num(9)"
   ]
  },
  {
   "cell_type": "code",
   "execution_count": 31,
   "id": "76c0b01d-35ac-48cd-88ff-5692fc1d612d",
   "metadata": {},
   "outputs": [
    {
     "name": "stdin",
     "output_type": "stream",
     "text": [
      "Enter number of rows:  9\n"
     ]
    },
    {
     "name": "stdout",
     "output_type": "stream",
     "text": [
      "                9 \n",
      "              9 9 9 \n",
      "            9 9 9 9 9 \n",
      "          9 9 9 9 9 9 9 \n",
      "        9 9 9 9 9 9 9 9 9 \n",
      "      9 9 9 9 9 9 9 9 9 9 9 \n",
      "    9 9 9 9 9 9 9 9 9 9 9 9 9 \n",
      "  9 9 9 9 9 9 9 9 9 9 9 9 9 9 9 \n",
      "9 9 9 9 9 9 9 9 9 9 9 9 9 9 9 9 9 \n"
     ]
    }
   ],
   "source": [
    "rows = int(input(\"Enter number of rows: \"))\n",
    "\n",
    "k = 0\n",
    "\n",
    "for i in range(1, rows+1):\n",
    "    for space in range(1, (rows-i)+1):\n",
    "        print(end=\"  \")\n",
    "    while k != (2 * i-1):\n",
    "        print(\"9 \", end=\"\")\n",
    "        k += 1\n",
    "    k = 0\n",
    "    print()"
   ]
  },
  {
   "cell_type": "code",
   "execution_count": 38,
   "id": "1c538052-e8e4-49cb-a92a-fa8dfb166682",
   "metadata": {},
   "outputs": [
    {
     "name": "stdout",
     "output_type": "stream",
     "text": [
      "9 9 9 9 9 9 9 9 9 9 9 9 9 9 9 9 9 \n"
     ]
    }
   ],
   "source": [
    "# for i in range(1, rows+1):\n",
    "for space in range(1, (rows-i)+1):\n",
    "        print(end=\"  \")\n",
    "while k != (2 * i-1):\n",
    "        print(\"9 \", end=\"\")\n",
    "        k += 1\n",
    "k = 0\n",
    "print()\n",
    "for i in range(n):\n",
    "    for j in range(i+1):\n",
    "        print(j+1,end=\" \")\n",
    "    print()"
   ]
  },
  {
   "cell_type": "code",
   "execution_count": 47,
   "id": "d38f668c-4b21-4c63-a920-5e49035f0996",
   "metadata": {},
   "outputs": [
    {
     "name": "stdout",
     "output_type": "stream",
     "text": [
      "                9 \n",
      "              9 9 9 \n",
      "            9 9 9 9 9 \n",
      "          9 9 9 9 9 9 9 \n",
      "        9 9 9 9 9 9 9 9 9 \n",
      "      9 9 9 9 9 9 9 9 9 9 9 \n",
      "    9 9 9 9 9 9 9 9 9 9 9 9 9 \n",
      "  9 9 9 9 9 9 9 9 9 9 9 9 9 9 9 \n",
      "9 9 9 9 9 9 9 9 9 9 9 9 9 9 9 9 9 \n"
     ]
    }
   ],
   "source": [
    "rows = 9\n",
    "k = 0\n",
    "for i in range(1, rows+1):\n",
    "    for space in range(1, (rows-i)+1):\n",
    "        print(end=\"  \")\n",
    "    while k != (2 * i-1):\n",
    "        print(\"9 \", end=\"\")\n",
    "        k += 1\n",
    "    k = 0\n",
    "    print()"
   ]
  },
  {
   "cell_type": "code",
   "execution_count": 64,
   "id": "403d6659-70fd-43d8-ba86-63f51401ffcd",
   "metadata": {},
   "outputs": [
    {
     "name": "stdout",
     "output_type": "stream",
     "text": [
      "                r \n",
      "              r r r \n",
      "            r r r r r \n",
      "          r r r r r r r \n",
      "        r r r r r r r r r \n",
      "      r r r r r r r r r r r \n",
      "    r r r r r r r r r r r r r \n",
      "  r r r r r r r r r r r r r r r \n",
      "r r r r r r r r r r r r r r r r r \n"
     ]
    }
   ],
   "source": [
    "n = 9\n",
    "a = 0\n",
    "for i in range(1, n+1):\n",
    "    for space in range(1, (n-i)+1):\n",
    "        print(end=\"  \")\n",
    "    while a != (2 * i-1):\n",
    "        print(\"r \", end='')\n",
    "        a += 1\n",
    "    a = 0\n",
    "    print()"
   ]
  },
  {
   "cell_type": "code",
   "execution_count": null,
   "id": "8bb50509-2fd0-4945-8175-9201a92340f0",
   "metadata": {},
   "outputs": [],
   "source": [
    "m = 9\n",
    "b = 0\n",
    "def pyra_fun(x):"
   ]
  },
  {
   "cell_type": "code",
   "execution_count": null,
   "id": "f0dc9885-9a3a-4e00-9f75-312d995c4b1b",
   "metadata": {},
   "outputs": [],
   "source": []
  }
 ],
 "metadata": {
  "kernelspec": {
   "display_name": "Python 3 (ipykernel)",
   "language": "python",
   "name": "python3"
  },
  "language_info": {
   "codemirror_mode": {
    "name": "ipython",
    "version": 3
   },
   "file_extension": ".py",
   "mimetype": "text/x-python",
   "name": "python",
   "nbconvert_exporter": "python",
   "pygments_lexer": "ipython3",
   "version": "3.11.7"
  },
  "widgets": {
   "application/vnd.jupyter.widget-state+json": {
    "state": {},
    "version_major": 2,
    "version_minor": 0
   }
  }
 },
 "nbformat": 4,
 "nbformat_minor": 5
}
