{
 "cells": [
  {
   "cell_type": "code",
   "execution_count": 1,
   "id": "bb1afa1a-e641-4e2c-9998-33b71a5f7f26",
   "metadata": {},
   "outputs": [
    {
     "name": "stdout",
     "output_type": "stream",
     "text": [
      "Hello World\n",
      "Welcome to my life\n"
     ]
    }
   ],
   "source": [
    "print(\"Hello World\")\n",
    "print(\"Welcome to my life\")"
   ]
  },
  {
   "cell_type": "code",
   "execution_count": 2,
   "id": "01bd7406-d14d-4627-b520-0efb586f7121",
   "metadata": {},
   "outputs": [
    {
     "name": "stdout",
     "output_type": "stream",
     "text": [
      "Hello\n"
     ]
    }
   ],
   "source": [
    "# Single-line comment and multiline comments\n",
    "\"\"\"\n",
    "Welcome to my \n",
    "life\n",
    "\n",
    "\"\"\"\n",
    "print(\"Hello\")"
   ]
  },
  {
   "cell_type": "code",
   "execution_count": 3,
   "id": "47e68391-60e6-4443-9eea-b0d5b62b1310",
   "metadata": {},
   "outputs": [
    {
     "data": {
      "text/plain": [
       "int"
      ]
     },
     "execution_count": 3,
     "metadata": {},
     "output_type": "execute_result"
    }
   ],
   "source": [
    "# variable Declaration\n",
    "a = 10\n",
    "type(a)"
   ]
  },
  {
   "cell_type": "code",
   "execution_count": 4,
   "id": "cb8abf62-ca51-461d-a99c-512b8e1b28c7",
   "metadata": {},
   "outputs": [
    {
     "data": {
      "text/plain": [
       "10"
      ]
     },
     "execution_count": 4,
     "metadata": {},
     "output_type": "execute_result"
    }
   ],
   "source": [
    "a"
   ]
  },
  {
   "cell_type": "code",
   "execution_count": 5,
   "id": "a05fd8f9-860b-4593-bba0-a8bcd9e61647",
   "metadata": {},
   "outputs": [
    {
     "name": "stdout",
     "output_type": "stream",
     "text": [
      "10\n"
     ]
    }
   ],
   "source": [
    "print(a)"
   ]
  },
  {
   "cell_type": "code",
   "execution_count": 6,
   "id": "0fd72dab-69d3-42ef-96fd-a5e455a3285c",
   "metadata": {},
   "outputs": [],
   "source": [
    "tenth =10\n",
    "b=2\n",
    "c='rupali'"
   ]
  },
  {
   "cell_type": "code",
   "execution_count": 7,
   "id": "88351788-33ca-4355-a471-cff4a925aaaa",
   "metadata": {},
   "outputs": [
    {
     "data": {
      "text/plain": [
       "str"
      ]
     },
     "execution_count": 7,
     "metadata": {},
     "output_type": "execute_result"
    }
   ],
   "source": [
    "type(c)"
   ]
  },
  {
   "cell_type": "code",
   "execution_count": 8,
   "id": "493ea683-befb-42c0-8a69-a09cffd07e5a",
   "metadata": {},
   "outputs": [],
   "source": [
    "a1= 2"
   ]
  },
  {
   "cell_type": "code",
   "execution_count": 9,
   "id": "6ee1b6f1-1f91-4118-abfe-2522dc7319b6",
   "metadata": {},
   "outputs": [
    {
     "name": "stdout",
     "output_type": "stream",
     "text": [
      "rupali\n"
     ]
    }
   ],
   "source": [
    "first_name = 'rupali'\n",
    "print(first_name)"
   ]
  },
  {
   "cell_type": "code",
   "execution_count": 10,
   "id": "e8902a37-af3c-4e02-bd7c-3347db69157c",
   "metadata": {},
   "outputs": [
    {
     "data": {
      "text/plain": [
       "int"
      ]
     },
     "execution_count": 10,
     "metadata": {},
     "output_type": "execute_result"
    }
   ],
   "source": [
    "#integers\n",
    "a=1\n",
    "type(a)"
   ]
  },
  {
   "cell_type": "code",
   "execution_count": 11,
   "id": "2376e604-9ed2-496d-acab-111ea604ce09",
   "metadata": {},
   "outputs": [
    {
     "name": "stdout",
     "output_type": "stream",
     "text": [
      "<class 'int'>\n"
     ]
    }
   ],
   "source": [
    "print(type(a))"
   ]
  },
  {
   "cell_type": "code",
   "execution_count": 12,
   "id": "9d86bab8-b054-4bb6-b15c-4e41f72a0db2",
   "metadata": {},
   "outputs": [
    {
     "name": "stdout",
     "output_type": "stream",
     "text": [
      "3\n"
     ]
    }
   ],
   "source": [
    "a = 1\n",
    "b = 2\n",
    "print(a+b)"
   ]
  },
  {
   "cell_type": "code",
   "execution_count": 13,
   "id": "0ab392fa-4fe3-40e9-bd96-18fa62e5d0ac",
   "metadata": {},
   "outputs": [
    {
     "data": {
      "text/plain": [
       "190.5"
      ]
     },
     "execution_count": 13,
     "metadata": {},
     "output_type": "execute_result"
    }
   ],
   "source": [
    "#floating\n",
    "a=190.5\n",
    "a"
   ]
  },
  {
   "cell_type": "code",
   "execution_count": 14,
   "id": "dcbadff5-e031-4426-a0c3-1d1070640c34",
   "metadata": {},
   "outputs": [
    {
     "name": "stdout",
     "output_type": "stream",
     "text": [
      "<class 'float'>\n"
     ]
    }
   ],
   "source": [
    "print(type(a))"
   ]
  },
  {
   "cell_type": "code",
   "execution_count": 15,
   "id": "f24d6244-daac-4bbd-a7a1-75b391c83e08",
   "metadata": {},
   "outputs": [
    {
     "data": {
      "text/plain": [
       "190"
      ]
     },
     "execution_count": 15,
     "metadata": {},
     "output_type": "execute_result"
    }
   ],
   "source": [
    "int(a)"
   ]
  },
  {
   "cell_type": "code",
   "execution_count": 16,
   "id": "04537d79-fdbc-4186-b9bf-b6feda1e1a06",
   "metadata": {},
   "outputs": [],
   "source": [
    "# Boolean\n",
    "a1=True\n",
    "b1= False"
   ]
  },
  {
   "cell_type": "code",
   "execution_count": 17,
   "id": "c0b69f61-e2b1-4d55-b403-2e4031dc00ec",
   "metadata": {},
   "outputs": [
    {
     "data": {
      "text/plain": [
       "bool"
      ]
     },
     "execution_count": 17,
     "metadata": {},
     "output_type": "execute_result"
    }
   ],
   "source": [
    "type(a1)"
   ]
  },
  {
   "cell_type": "code",
   "execution_count": 18,
   "id": "5e71b967-955e-40ca-a3ee-2ac3923c460d",
   "metadata": {},
   "outputs": [
    {
     "data": {
      "text/plain": [
       "bool"
      ]
     },
     "execution_count": 18,
     "metadata": {},
     "output_type": "execute_result"
    }
   ],
   "source": [
    "type(b1)"
   ]
  },
  {
   "cell_type": "code",
   "execution_count": 19,
   "id": "985a2275-785e-4a63-b920-4bf9b9017d1a",
   "metadata": {},
   "outputs": [
    {
     "data": {
      "text/plain": [
       "(bool, bool)"
      ]
     },
     "execution_count": 19,
     "metadata": {},
     "output_type": "execute_result"
    }
   ],
   "source": [
    "type(a1),type(b1)"
   ]
  },
  {
   "cell_type": "code",
   "execution_count": 20,
   "id": "de3cbaa4-76d1-4e58-95cc-6ecf947a0fe5",
   "metadata": {},
   "outputs": [
    {
     "data": {
      "text/plain": [
       "True"
      ]
     },
     "execution_count": 20,
     "metadata": {},
     "output_type": "execute_result"
    }
   ],
   "source": [
    "a1|b1"
   ]
  },
  {
   "cell_type": "code",
   "execution_count": 21,
   "id": "c0c8ab0e-82d1-4ccc-9204-342db9227d56",
   "metadata": {},
   "outputs": [
    {
     "data": {
      "text/plain": [
       "True"
      ]
     },
     "execution_count": 21,
     "metadata": {},
     "output_type": "execute_result"
    }
   ],
   "source": [
    "a1 or b1"
   ]
  },
  {
   "cell_type": "code",
   "execution_count": 22,
   "id": "a956df24-f736-4b2d-80ba-c5e974de97b7",
   "metadata": {},
   "outputs": [
    {
     "name": "stdout",
     "output_type": "stream",
     "text": [
      "Rupali\n",
      "<class 'str'>\n"
     ]
    }
   ],
   "source": [
    "# Strings\n",
    "name=\"Rupali\"\n",
    "print(name)\n",
    "print(type(name))"
   ]
  },
  {
   "cell_type": "code",
   "execution_count": 23,
   "id": "6a2de16b-4758-4040-93e4-0745d6ff640f",
   "metadata": {},
   "outputs": [
    {
     "data": {
      "text/plain": [
       "'Rupali Rakibe'"
      ]
     },
     "execution_count": 23,
     "metadata": {},
     "output_type": "execute_result"
    }
   ],
   "source": [
    "name + \" Rakibe\""
   ]
  },
  {
   "cell_type": "code",
   "execution_count": 24,
   "id": "329822ea-b5a5-4c7b-99f7-280a4d0a219e",
   "metadata": {},
   "outputs": [],
   "source": [
    "# Complex number\n",
    "j = 1-2.3j"
   ]
  },
  {
   "cell_type": "code",
   "execution_count": 25,
   "id": "5bfb5819-8ba1-4b32-a85d-70a8474e8b3c",
   "metadata": {},
   "outputs": [
    {
     "name": "stdout",
     "output_type": "stream",
     "text": [
      "1.0\n"
     ]
    }
   ],
   "source": [
    "print(j.real)"
   ]
  },
  {
   "cell_type": "code",
   "execution_count": 26,
   "id": "3a96eb89-1ca9-4689-9d79-68a276f9673f",
   "metadata": {},
   "outputs": [
    {
     "name": "stdout",
     "output_type": "stream",
     "text": [
      "-2.3\n"
     ]
    }
   ],
   "source": [
    "print(j.imag)"
   ]
  },
  {
   "cell_type": "code",
   "execution_count": 27,
   "id": "e7c7d8bc-fa2f-482b-bfb2-d7807155fed4",
   "metadata": {},
   "outputs": [],
   "source": [
    "# Dynamic typing\n",
    "a = 10\n",
    "a = \"Rupali\""
   ]
  },
  {
   "cell_type": "code",
   "execution_count": 28,
   "id": "71a7249e-bcd8-48bd-bb2c-1c48778b1c6b",
   "metadata": {},
   "outputs": [],
   "source": [
    "# Strong Typing\n",
    "a='rupali'"
   ]
  },
  {
   "cell_type": "code",
   "execution_count": 29,
   "id": "bf348e2b-3714-426c-aad5-f3b0d0db4c6c",
   "metadata": {},
   "outputs": [
    {
     "data": {
      "text/plain": [
       "'rupali9'"
      ]
     },
     "execution_count": 29,
     "metadata": {},
     "output_type": "execute_result"
    }
   ],
   "source": [
    "a+\"9\""
   ]
  },
  {
   "cell_type": "code",
   "execution_count": 30,
   "id": "543a260b-95e3-4583-b74e-7ba4bc2241c5",
   "metadata": {},
   "outputs": [
    {
     "name": "stdout",
     "output_type": "stream",
     "text": [
      "The value is:  100\n"
     ]
    }
   ],
   "source": [
    "# String formatting\n",
    "a = 100\n",
    "print(\"The value is: \", a)"
   ]
  },
  {
   "cell_type": "code",
   "execution_count": 31,
   "id": "7bd60ed7-fe56-42b4-a74f-efa031112c17",
   "metadata": {},
   "outputs": [
    {
     "name": "stdout",
     "output_type": "stream",
     "text": [
      "The first name is Rupali and last name is Rakibe\n"
     ]
    }
   ],
   "source": [
    "first_name = \"Rupali\"\n",
    "last_name = \"Rakibe\"\n",
    "print(\"The first name is {} and last name is {}\".format(first_name,last_name))"
   ]
  },
  {
   "cell_type": "code",
   "execution_count": 32,
   "id": "26426465-6d48-4cdd-bcc0-7b62c76aa0b8",
   "metadata": {},
   "outputs": [
    {
     "name": "stdout",
     "output_type": "stream",
     "text": [
      "The first name is Rupali and last name is Rakibe\n"
     ]
    }
   ],
   "source": [
    "first_name = \"Rupali\"\n",
    "last_name = \"Rakibe\"\n",
    "print(\"The first name is {1} and last name is {0}\".format(last_name,first_name))"
   ]
  },
  {
   "cell_type": "code",
   "execution_count": 33,
   "id": "edc022ee-c6c2-4025-827f-a5a6f9d0849c",
   "metadata": {},
   "outputs": [
    {
     "name": "stdout",
     "output_type": "stream",
     "text": [
      "The first name is Rupali and last name is Rakibe\n"
     ]
    }
   ],
   "source": [
    "first_name = \"Rupali\"\n",
    "last_name = \"Rakibe\"\n",
    "print(\"The first name is {a} and last name is {b}\".format(b=last_name,a=first_name))"
   ]
  },
  {
   "cell_type": "code",
   "execution_count": 34,
   "id": "2027a1a8-49c7-4534-8cca-6ecd38c34faf",
   "metadata": {},
   "outputs": [
    {
     "name": "stdin",
     "output_type": "stream",
     "text": [
      "Enter the number A 2\n",
      "Enter the number b 3\n"
     ]
    },
    {
     "name": "stdout",
     "output_type": "stream",
     "text": [
      "23\n"
     ]
    }
   ],
   "source": [
    "# input type\n",
    "a = input(\"Enter the number A\")\n",
    "b = input(\"Enter the number b\")\n",
    "print(a+b)"
   ]
  },
  {
   "cell_type": "code",
   "execution_count": 35,
   "id": "35197ad8-657b-4446-b5f1-7c907fa3f88a",
   "metadata": {},
   "outputs": [
    {
     "name": "stdin",
     "output_type": "stream",
     "text": [
      "Enter the number A 3\n",
      "Enter the number b 4\n"
     ]
    },
    {
     "name": "stdout",
     "output_type": "stream",
     "text": [
      "7\n"
     ]
    }
   ],
   "source": [
    "# input type\n",
    "a = input(\"Enter the number A\")\n",
    "b = input(\"Enter the number b\")\n",
    "print(int(a)+int(b))"
   ]
  },
  {
   "cell_type": "code",
   "execution_count": 36,
   "id": "c93161d2-0a99-48e7-a65c-73f8a3bff65d",
   "metadata": {},
   "outputs": [
    {
     "name": "stdin",
     "output_type": "stream",
     "text": [
      "Enter the number:  4\n"
     ]
    },
    {
     "name": "stdout",
     "output_type": "stream",
     "text": [
      "4.0\n"
     ]
    }
   ],
   "source": [
    "# if statement \n",
    "val = input(\"Enter the number: \")\n",
    "val_float=float(val)\n",
    "print(val_float)"
   ]
  },
  {
   "cell_type": "code",
   "execution_count": 37,
   "id": "beb240f6-76bb-42a7-886a-b7676303db8f",
   "metadata": {},
   "outputs": [
    {
     "name": "stdin",
     "output_type": "stream",
     "text": [
      "Enter the number:  5\n"
     ]
    }
   ],
   "source": [
    "val = input(\"Enter the number: \")\n",
    "val_float=float(val)\n",
    "if(val_float>100):\n",
    "    print(\"The number is greater than hundred\")"
   ]
  },
  {
   "cell_type": "code",
   "execution_count": 38,
   "id": "f2337467-c709-4349-b035-953ef05bae4b",
   "metadata": {},
   "outputs": [
    {
     "data": {
      "text/plain": [
       "0"
      ]
     },
     "execution_count": 38,
     "metadata": {},
     "output_type": "execute_result"
    }
   ],
   "source": [
    "10 % 2"
   ]
  },
  {
   "cell_type": "code",
   "execution_count": 39,
   "id": "e602959c-c739-4928-8919-33e972db596b",
   "metadata": {},
   "outputs": [
    {
     "data": {
      "text/plain": [
       "True"
      ]
     },
     "execution_count": 39,
     "metadata": {},
     "output_type": "execute_result"
    }
   ],
   "source": [
    "10 % 2 == 0"
   ]
  },
  {
   "cell_type": "code",
   "execution_count": 40,
   "id": "b40cbce1-b29e-4c2f-a463-bce9fb5c3544",
   "metadata": {},
   "outputs": [
    {
     "data": {
      "text/plain": [
       "False"
      ]
     },
     "execution_count": 40,
     "metadata": {},
     "output_type": "execute_result"
    }
   ],
   "source": [
    "10 % 2 != 0"
   ]
  },
  {
   "cell_type": "code",
   "execution_count": 41,
   "id": "95e772e1-6017-44bb-9f92-d9e3b37c0306",
   "metadata": {},
   "outputs": [
    {
     "name": "stdin",
     "output_type": "stream",
     "text": [
      "Enter The number  3\n"
     ]
    },
    {
     "name": "stdout",
     "output_type": "stream",
     "text": [
      "The number is odd\n"
     ]
    }
   ],
   "source": [
    "a = input(\"Enter The number \")\n",
    "a_float = float(a)\n",
    "if(a_float%2==0):\n",
    "    print(\"The number is even\")\n",
    "else:\n",
    "    print(\"The number is odd\")"
   ]
  },
  {
   "cell_type": "code",
   "execution_count": 42,
   "id": "1b2b2457-3b75-418b-a78c-75cd39767d18",
   "metadata": {},
   "outputs": [
    {
     "name": "stdin",
     "output_type": "stream",
     "text": [
      "Enter the age:  34\n"
     ]
    },
    {
     "name": "stdout",
     "output_type": "stream",
     "text": [
      "You are not minor\n"
     ]
    }
   ],
   "source": [
    "# Age form\n",
    "age = float(input(\"Enter the age: \"))\n",
    "if(age<18):\n",
    "    print(\"Minor age\")\n",
    "else:\n",
    "    print(\"You are not minor\")"
   ]
  },
  {
   "cell_type": "code",
   "execution_count": 43,
   "id": "0efe00dd-e144-4cea-a7e8-b6b8795a927a",
   "metadata": {},
   "outputs": [
    {
     "name": "stdin",
     "output_type": "stream",
     "text": [
      "Enter the age:  34\n"
     ]
    },
    {
     "name": "stdout",
     "output_type": "stream",
     "text": [
      "Mid Age\n"
     ]
    }
   ],
   "source": [
    "# Age form\n",
    "age = float(input(\"Enter the age: \"))\n",
    "if(age<18):\n",
    "    print(\"Minor age\")\n",
    "elif(age>=18 and age<=45):\n",
    "    print(\"Mid Age\")\n",
    "elif (age>45 and age<=50):\n",
    "    print(\"Senior Mid age\")\n",
    "else:\n",
    "    print(\"Senior Citizen\")"
   ]
  },
  {
   "cell_type": "code",
   "execution_count": 55,
   "id": "85e2936a-7572-4f35-9b3e-e518c93e62d1",
   "metadata": {},
   "outputs": [
    {
     "name": "stdin",
     "output_type": "stream",
     "text": [
      "Enter the age:  67\n"
     ]
    },
    {
     "name": "stdout",
     "output_type": "stream",
     "text": [
      "Senior Citizen\n"
     ]
    }
   ],
   "source": [
    "### nested if else\n",
    "# Age form\n",
    "age = float(input(\"Enter the age: \"))\n",
    "if(age<18):\n",
    "    print(\"Minor age\")\n",
    "    if (age<15):\n",
    "        print(\"You are in school\")\n",
    "    else:\n",
    "        print(\"you are in college\")\n",
    "elif(age>=18 and age<=45):\n",
    "    print(\"Mid Age\")\n",
    "elif (age>45 and age<=50):\n",
    "    print(\"Senior Mid age\")\n",
    "else:\n",
    "    print(\"Senior Citizen\")"
   ]
  },
  {
   "cell_type": "code",
   "execution_count": 45,
   "id": "14ef13de-9f7d-463e-964b-502799dbc88a",
   "metadata": {},
   "outputs": [
    {
     "name": "stdout",
     "output_type": "stream",
     "text": [
      "1\n",
      "2\n",
      "3\n",
      "4\n",
      "5\n",
      "6\n",
      "7\n"
     ]
    }
   ],
   "source": [
    "# Loops Statement\n",
    "# for loop, while loop\n",
    "lst=[1,2,3,4,5,6,7]\n",
    "for i in lst:\n",
    "    print(i)"
   ]
  },
  {
   "cell_type": "code",
   "execution_count": 46,
   "id": "12505f8e-5d80-433c-9c06-d9260fdbbf95",
   "metadata": {},
   "outputs": [
    {
     "name": "stdout",
     "output_type": "stream",
     "text": [
      "1\n",
      "4\n",
      "9\n",
      "16\n",
      "25\n",
      "36\n",
      "49\n"
     ]
    }
   ],
   "source": [
    "lst=[1,2,3,4,5,6,7]\n",
    "for i in lst:\n",
    "    print(i**2)"
   ]
  },
  {
   "cell_type": "code",
   "execution_count": 47,
   "id": "7d66ba88-4b1e-4805-85e1-da0534468279",
   "metadata": {},
   "outputs": [
    {
     "name": "stdout",
     "output_type": "stream",
     "text": [
      "1\n",
      "3\n",
      "6\n",
      "10\n",
      "15\n",
      "21\n",
      "28\n"
     ]
    }
   ],
   "source": [
    "# Find the sum of element in the list\n",
    "lst=[1,2,3,4,5,6,7]\n",
    "sum1 = 0\n",
    "for i in lst:\n",
    "    sum1 = sum1+i\n",
    "    print(sum1)"
   ]
  },
  {
   "cell_type": "code",
   "execution_count": 48,
   "id": "e9136630-5e80-4698-959b-ed4c290be91e",
   "metadata": {},
   "outputs": [
    {
     "name": "stdout",
     "output_type": "stream",
     "text": [
      "Even Sum is 12\n",
      "odd Sum is 16\n"
     ]
    }
   ],
   "source": [
    "# Find the sum of even and odd number\n",
    "l = [1,2,3,4,5,6,7]\n",
    "even_sum=0\n",
    "odd_sum=0\n",
    "for i in l:\n",
    "    if(i%2==0):\n",
    "        even_sum=even_sum+i\n",
    "    else:\n",
    "        odd_sum=odd_sum+i\n",
    "\n",
    "print(\"Even Sum is {}\".format(even_sum))\n",
    "print(\"odd Sum is {}\".format(odd_sum))"
   ]
  },
  {
   "cell_type": "code",
   "execution_count": 49,
   "id": "b0e2b9f5-e186-40b4-aed0-6756efeaeb56",
   "metadata": {},
   "outputs": [
    {
     "name": "stdout",
     "output_type": "stream",
     "text": [
      "0\n",
      "1\n",
      "2\n",
      "3\n",
      "4\n",
      "5\n",
      "6\n",
      "7\n",
      "8\n",
      "9\n",
      "10\n"
     ]
    }
   ],
   "source": [
    "# While condition\n",
    "i = 0\n",
    "while(i<=10):\n",
    "    print(i)\n",
    "    i=i+1"
   ]
  },
  {
   "cell_type": "code",
   "execution_count": 50,
   "id": "4f2c2fd9-4846-49ec-8bff-bcfb5228b7c9",
   "metadata": {},
   "outputs": [
    {
     "name": "stdout",
     "output_type": "stream",
     "text": [
      "1\n",
      "2\n",
      "3\n",
      "4\n",
      "5\n",
      "6\n",
      "7\n",
      "8\n",
      "9\n",
      "10\n",
      "11\n"
     ]
    }
   ],
   "source": [
    "i = 0\n",
    "while(i<=10):\n",
    "    i=i+1\n",
    "    print(i)"
   ]
  },
  {
   "cell_type": "code",
   "execution_count": 51,
   "id": "e619a2e6-d22e-4310-a733-ea6f6b75a349",
   "metadata": {},
   "outputs": [
    {
     "name": "stdout",
     "output_type": "stream",
     "text": [
      "30 25\n"
     ]
    }
   ],
   "source": [
    "# While condition\n",
    "i=0\n",
    "even_sum=0\n",
    "odd_sum=0\n",
    "while(i<=10):\n",
    "    if(i%2==0):\n",
    "        even_sum=even_sum+i\n",
    "    else:\n",
    "        odd_sum=odd_sum+i\n",
    "    i=i+1\n",
    "print(even_sum,odd_sum)"
   ]
  },
  {
   "cell_type": "code",
   "execution_count": 52,
   "id": "bfa9daa5-0973-49c4-9c97-bdee6fd9cad8",
   "metadata": {},
   "outputs": [
    {
     "name": "stdout",
     "output_type": "stream",
     "text": [
      "1\n",
      "2\n",
      "3\n",
      "4\n"
     ]
    }
   ],
   "source": [
    "# break\n",
    "x=1\n",
    "while(x<7):\n",
    "    print(x)\n",
    "    if x==4:\n",
    "        break\n",
    "    x=x+1"
   ]
  },
  {
   "cell_type": "code",
   "execution_count": 57,
   "id": "42fea216-79b5-4b08-828b-496c462afec4",
   "metadata": {},
   "outputs": [
    {
     "name": "stdout",
     "output_type": "stream",
     "text": [
      "1\n",
      "2\n",
      "3\n"
     ]
    }
   ],
   "source": [
    "# break\n",
    "x=1\n",
    "while(x<7):\n",
    "    if x==4:\n",
    "        break\n",
    "    print(x)\n",
    "    x=x+1"
   ]
  },
  {
   "cell_type": "code",
   "execution_count": 59,
   "id": "f3fb8b3d-e0c0-46cc-8b0d-f764618d9497",
   "metadata": {},
   "outputs": [
    {
     "name": "stdout",
     "output_type": "stream",
     "text": [
      "1\n",
      "2\n",
      "3\n",
      "5\n",
      "6\n",
      "7\n"
     ]
    }
   ],
   "source": [
    "# Continue\n",
    "x=0\n",
    "while x<7:\n",
    "    x=x+1\n",
    "    if x==4:\n",
    "        continue\n",
    "    print(x)"
   ]
  },
  {
   "cell_type": "code",
   "execution_count": null,
   "id": "a0d9173b-7e1e-4bca-b5de-adc452c09a35",
   "metadata": {},
   "outputs": [],
   "source": []
  }
 ],
 "metadata": {
  "kernelspec": {
   "display_name": "Python 3 (ipykernel)",
   "language": "python",
   "name": "python3"
  },
  "language_info": {
   "codemirror_mode": {
    "name": "ipython",
    "version": 3
   },
   "file_extension": ".py",
   "mimetype": "text/x-python",
   "name": "python",
   "nbconvert_exporter": "python",
   "pygments_lexer": "ipython3",
   "version": "3.11.7"
  },
  "widgets": {
   "application/vnd.jupyter.widget-state+json": {
    "state": {},
    "version_major": 2,
    "version_minor": 0
   }
  }
 },
 "nbformat": 4,
 "nbformat_minor": 5
}
