{
 "cells": [
  {
   "cell_type": "code",
   "execution_count": 1,
   "id": "18e73150",
   "metadata": {},
   "outputs": [
    {
     "name": "stdout",
     "output_type": "stream",
     "text": [
      "A is positive\n"
     ]
    }
   ],
   "source": [
    "# if you can work with single condition and one output\n",
    "a = 115\n",
    "if a>0:\n",
    "    print(\"A is positive\")"
   ]
  },
  {
   "cell_type": "code",
   "execution_count": 2,
   "id": "146153ae",
   "metadata": {},
   "outputs": [
    {
     "name": "stdout",
     "output_type": "stream",
     "text": [
      "A is negative\n"
     ]
    }
   ],
   "source": [
    "# if you can work with single condition and two output\n",
    "a = -115\n",
    "if a > 0:\n",
    "    print(\"A is positive\")\n",
    "else:\n",
    "    print(\"A is negative\")"
   ]
  },
  {
   "cell_type": "code",
   "execution_count": 3,
   "id": "ef9a8d8b",
   "metadata": {},
   "outputs": [
    {
     "name": "stdout",
     "output_type": "stream",
     "text": [
      "A is negative\n"
     ]
    }
   ],
   "source": [
    "a = 0\n",
    "if a > 0:\n",
    "    print(\"A is positive\")\n",
    "else:\n",
    "    print(\"A is negative\")"
   ]
  },
  {
   "cell_type": "code",
   "execution_count": 4,
   "id": "9e343ddf",
   "metadata": {},
   "outputs": [
    {
     "name": "stdout",
     "output_type": "stream",
     "text": [
      "A is negative\n"
     ]
    }
   ],
   "source": [
    "a = 0\n",
    "if a > 0:\n",
    "    print(\"A is positive\")\n",
    "else:\n",
    "    print(\"A is negative\")"
   ]
  },
  {
   "cell_type": "code",
   "execution_count": 5,
   "id": "04dcb0ca",
   "metadata": {},
   "outputs": [
    {
     "name": "stdout",
     "output_type": "stream",
     "text": [
      "A is zero\n"
     ]
    }
   ],
   "source": [
    "# if you can working with two or more condition and multiple output then use \"elif\"\n",
    "a = 0\n",
    "if a > 0:\n",
    "    print(\"A is positive\")\n",
    "elif a == 0:\n",
    "    print(\"A is zero\")\n",
    "else:\n",
    "    print(\"A is negative\")"
   ]
  },
  {
   "cell_type": "code",
   "execution_count": 6,
   "id": "89b16694",
   "metadata": {},
   "outputs": [
    {
     "name": "stdout",
     "output_type": "stream",
     "text": [
      "A is positive\n"
     ]
    }
   ],
   "source": [
    "# if your value/variable stored in string it can show error then with the help of typecasting and then apply a condition:\n",
    "a = '11'\n",
    "a =int(a)\n",
    "if a > 0:\n",
    "    print(\"A is positive\")\n",
    "elif a == 0:\n",
    "    print(\"A is zero\")\n",
    "else:\n",
    "    print(\"A is negative\")"
   ]
  },
  {
   "cell_type": "code",
   "execution_count": 7,
   "id": "520e3d96",
   "metadata": {},
   "outputs": [
    {
     "name": "stdout",
     "output_type": "stream",
     "text": [
      "Enter a number :56\n",
      "A is positive\n"
     ]
    }
   ],
   "source": [
    "# if your value is given in function then it automatically goes on string format,we remove a string format also \n",
    "# the help of Typecasting so here use int(input(\"Enter a number :\")) also and variable = int(a)\n",
    "a = input(\"Enter a number :\")\n",
    "a = int(a)\n",
    "if a > 0:\n",
    "    print(\"A is positive\")\n",
    "elif a == 0:\n",
    "    print(\"A is zero\")\n",
    "else:\n",
    "    print(\"A is negative\")"
   ]
  },
  {
   "cell_type": "code",
   "execution_count": 8,
   "id": "8ec0dec0",
   "metadata": {},
   "outputs": [
    {
     "name": "stdout",
     "output_type": "stream",
     "text": [
      "A is odd number\n"
     ]
    }
   ],
   "source": [
    "a = 15\n",
    "if a % 2 == 0:\n",
    "    print(\"A is even number\")\n",
    "else:\n",
    "    print(\"A is odd number\")"
   ]
  },
  {
   "cell_type": "code",
   "execution_count": 9,
   "id": "c7e95160",
   "metadata": {},
   "outputs": [
    {
     "name": "stdout",
     "output_type": "stream",
     "text": [
      "A is negative\n"
     ]
    }
   ],
   "source": [
    "# nested if else, here we can give multiple condition without elif\n",
    "a = 0\n",
    "if a > 0:\n",
    "    print(\"A is positive\")\n",
    "else:\n",
    "    print(\"A is negative\")"
   ]
  },
  {
   "cell_type": "code",
   "execution_count": 10,
   "id": "ad24e3f6",
   "metadata": {},
   "outputs": [
    {
     "name": "stdout",
     "output_type": "stream",
     "text": [
      "A is negative\n"
     ]
    }
   ],
   "source": [
    "a = 0\n",
    "if a >= 0:\n",
    "    if a > 0:\n",
    "        print(\"A is positive\")\n",
    "    else:\n",
    "        print(\"A is negative\")"
   ]
  },
  {
   "cell_type": "code",
   "execution_count": 11,
   "id": "563eeba2",
   "metadata": {},
   "outputs": [
    {
     "name": "stdout",
     "output_type": "stream",
     "text": [
      "A is positive\n",
      "code is over\n"
     ]
    }
   ],
   "source": [
    "a = 9\n",
    "if a > 0:\n",
    "    print(\"A is positive\")\n",
    "    print(\"code is over\")"
   ]
  },
  {
   "cell_type": "code",
   "execution_count": 12,
   "id": "f3c85dd7",
   "metadata": {},
   "outputs": [
    {
     "name": "stdout",
     "output_type": "stream",
     "text": [
      "A is positive\n",
      "code is over\n"
     ]
    }
   ],
   "source": [
    "a = 9\n",
    "if a > 0:\n",
    "    print(\"A is positive\")\n",
    "print(\"code is over\")"
   ]
  },
  {
   "cell_type": "code",
   "execution_count": 13,
   "id": "88a38545",
   "metadata": {},
   "outputs": [],
   "source": [
    "a = -45\n",
    "if a > 0:\n",
    "    print(\"A is positive\")\n",
    "    print(\"code is over\")"
   ]
  },
  {
   "cell_type": "code",
   "execution_count": 14,
   "id": "f977209e",
   "metadata": {},
   "outputs": [
    {
     "name": "stdout",
     "output_type": "stream",
     "text": [
      "code is over\n"
     ]
    }
   ],
   "source": [
    "a = -45\n",
    "if a > 0:\n",
    "    print(\"A is positive\")\n",
    "print(\"code is over\")"
   ]
  },
  {
   "cell_type": "code",
   "execution_count": 15,
   "id": "e432ca52",
   "metadata": {},
   "outputs": [],
   "source": [
    "# Statement\n",
    "a = 111\n",
    "if a > 20:\n",
    "    pass"
   ]
  },
  {
   "cell_type": "code",
   "execution_count": 16,
   "id": "04a791c7",
   "metadata": {},
   "outputs": [
    {
     "name": "stdout",
     "output_type": "stream",
     "text": [
      "A is an integer\n"
     ]
    }
   ],
   "source": [
    "a = 111\n",
    "if a > 20:\n",
    "    print(\"A is an integer\")"
   ]
  },
  {
   "cell_type": "code",
   "execution_count": 17,
   "id": "282918d5",
   "metadata": {},
   "outputs": [
    {
     "name": "stdout",
     "output_type": "stream",
     "text": [
      "Enter your usernamepass@\n",
      "logged in\n"
     ]
    }
   ],
   "source": [
    "Username = input(\"Enter your username\")\n",
    "U1 = \"pass@\"\n",
    "if Username == U1:\n",
    "    print(\"logged in\")\n",
    "else:\n",
    "    print(\"Username is incorrect\")"
   ]
  },
  {
   "cell_type": "code",
   "execution_count": 18,
   "id": "82c2a2ff",
   "metadata": {},
   "outputs": [
    {
     "name": "stdout",
     "output_type": "stream",
     "text": [
      "Enter your usernamePAss@\n",
      "logged in\n"
     ]
    }
   ],
   "source": [
    "# above code is run only we can Enter only same format(lower case) letter because python is case sensitive.\n",
    "# if username is pass into a uppercase,title,capitallize and swapcase then we change these format with the help of typecasting\n",
    "# Here also possible two condition (input(\"Enter your username\")).lower() and Username.lower() == U1\n",
    "Username = (input(\"Enter your username\")).lower()\n",
    "U1 = \"pass@\"\n",
    "if Username == U1:\n",
    "    print(\"logged in\")\n",
    "else:\n",
    "    print(\"Username is incorrect\")"
   ]
  },
  {
   "cell_type": "code",
   "execution_count": 19,
   "id": "173e7f81",
   "metadata": {},
   "outputs": [
    {
     "name": "stdout",
     "output_type": "stream",
     "text": [
      "Enter your username :pASs@\n",
      "enter your password :12345\n",
      "logged in\n"
     ]
    }
   ],
   "source": [
    "# To check condition using logical operator \n",
    "Username = input(\"Enter your username :\").title()\n",
    "Password = int(input(\"enter your password :\"))\n",
    "U1 = \"Pass@\"\n",
    "P1 = 12345\n",
    "if Username == U1 and Password == P1:\n",
    "    print(\"logged in\")\n",
    "else:\n",
    "    print(\"Username/Password is incorrect\")"
   ]
  },
  {
   "cell_type": "code",
   "execution_count": 24,
   "id": "3d5d2c1e",
   "metadata": {},
   "outputs": [
    {
     "name": "stdout",
     "output_type": "stream",
     "text": [
      "Enter your marks: 67\n",
      "A\n"
     ]
    }
   ],
   "source": [
    "marks = int(input(\"Enter your marks: \"))\n",
    "if marks < 40:\n",
    "    print(\"Fail\")\n",
    "elif marks <= 50:\n",
    "    print(\"C\")\n",
    "elif marks <= 65:\n",
    "    print(\"B\")\n",
    "elif marks <= 75:\n",
    "    print(\"A\")\n",
    "else:\n",
    "    print(\"A+\")"
   ]
  },
  {
   "cell_type": "code",
   "execution_count": null,
   "id": "c7d96b8c",
   "metadata": {},
   "outputs": [],
   "source": []
  }
 ],
 "metadata": {
  "kernelspec": {
   "display_name": "Python 3 (ipykernel)",
   "language": "python",
   "name": "python3"
  },
  "language_info": {
   "codemirror_mode": {
    "name": "ipython",
    "version": 3
   },
   "file_extension": ".py",
   "mimetype": "text/x-python",
   "name": "python",
   "nbconvert_exporter": "python",
   "pygments_lexer": "ipython3",
   "version": "3.11.7"
  },
  "widgets": {
   "application/vnd.jupyter.widget-state+json": {
    "state": {},
    "version_major": 2,
    "version_minor": 0
   }
  }
 },
 "nbformat": 4,
 "nbformat_minor": 5
}
