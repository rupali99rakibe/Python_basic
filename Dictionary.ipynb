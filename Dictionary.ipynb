{
 "cells": [
  {
   "cell_type": "code",
   "execution_count": 3,
   "id": "af45eef2",
   "metadata": {},
   "outputs": [],
   "source": [
    "d = {'key':'value','name':'rupali','age':24}"
   ]
  },
  {
   "cell_type": "code",
   "execution_count": 2,
   "id": "cd7701d8",
   "metadata": {},
   "outputs": [
    {
     "data": {
      "text/plain": [
       "3"
      ]
     },
     "execution_count": 2,
     "metadata": {},
     "output_type": "execute_result"
    }
   ],
   "source": [
    "len(d)"
   ]
  },
  {
   "cell_type": "code",
   "execution_count": 3,
   "id": "bfaa9a61",
   "metadata": {},
   "outputs": [
    {
     "data": {
      "text/plain": [
       "24"
      ]
     },
     "execution_count": 3,
     "metadata": {},
     "output_type": "execute_result"
    }
   ],
   "source": [
    "d['age']"
   ]
  },
  {
   "cell_type": "code",
   "execution_count": 4,
   "id": "9ac893ed",
   "metadata": {},
   "outputs": [
    {
     "data": {
      "text/plain": [
       "'rupali'"
      ]
     },
     "execution_count": 4,
     "metadata": {},
     "output_type": "execute_result"
    }
   ],
   "source": [
    "d['name']"
   ]
  },
  {
   "cell_type": "code",
   "execution_count": 5,
   "id": "ece861da",
   "metadata": {},
   "outputs": [
    {
     "data": {
      "text/plain": [
       "{'key': 'value', 'name': 'rupali', 'age': 24, 'sir name': 'rakibe'}"
      ]
     },
     "execution_count": 5,
     "metadata": {},
     "output_type": "execute_result"
    }
   ],
   "source": [
    "d['sir name'] = 'rakibe'\n",
    "d"
   ]
  },
  {
   "cell_type": "code",
   "execution_count": 6,
   "id": "b0b971c0",
   "metadata": {},
   "outputs": [
    {
     "data": {
      "text/plain": [
       "{'key': 'value',\n",
       " 'name': 'rupali',\n",
       " 'age': 24,\n",
       " 'sir name': 'rakibe',\n",
       " 'email': 'rupali9@gmail.com'}"
      ]
     },
     "execution_count": 6,
     "metadata": {},
     "output_type": "execute_result"
    }
   ],
   "source": [
    "d['email'] = 'rupali9@gmail.com'\n",
    "d"
   ]
  },
  {
   "cell_type": "code",
   "execution_count": 7,
   "id": "4beffa98",
   "metadata": {},
   "outputs": [
    {
     "data": {
      "text/plain": [
       "'value'"
      ]
     },
     "execution_count": 7,
     "metadata": {},
     "output_type": "execute_result"
    }
   ],
   "source": [
    "d['key']"
   ]
  },
  {
   "cell_type": "code",
   "execution_count": 8,
   "id": "9a090691",
   "metadata": {},
   "outputs": [
    {
     "ename": "KeyError",
     "evalue": "'course'",
     "output_type": "error",
     "traceback": [
      "\u001b[1;31m---------------------------------------------------------------------------\u001b[0m",
      "\u001b[1;31mKeyError\u001b[0m                                  Traceback (most recent call last)",
      "Cell \u001b[1;32mIn[8], line 1\u001b[0m\n\u001b[1;32m----> 1\u001b[0m d[\u001b[38;5;124m'\u001b[39m\u001b[38;5;124mcourse\u001b[39m\u001b[38;5;124m'\u001b[39m]\n",
      "\u001b[1;31mKeyError\u001b[0m: 'course'"
     ]
    }
   ],
   "source": [
    "d['course']"
   ]
  },
  {
   "cell_type": "code",
   "execution_count": 4,
   "id": "4e9a36d7",
   "metadata": {},
   "outputs": [],
   "source": [
    "d.get('course')"
   ]
  },
  {
   "cell_type": "code",
   "execution_count": 5,
   "id": "524f4400",
   "metadata": {},
   "outputs": [],
   "source": [
    "r = {'age':24,'skills':{'tech':'html','data science':['python','mysql']}}"
   ]
  },
  {
   "cell_type": "code",
   "execution_count": 6,
   "id": "c78097d7",
   "metadata": {},
   "outputs": [],
   "source": [
    "# access python"
   ]
  },
  {
   "cell_type": "code",
   "execution_count": 7,
   "id": "dbffa773",
   "metadata": {},
   "outputs": [
    {
     "data": {
      "text/plain": [
       "'python'"
      ]
     },
     "execution_count": 7,
     "metadata": {},
     "output_type": "execute_result"
    }
   ],
   "source": [
    "r['skills']['data science'][0]"
   ]
  },
  {
   "cell_type": "code",
   "execution_count": 8,
   "id": "d4c52e2a",
   "metadata": {},
   "outputs": [
    {
     "data": {
      "text/plain": [
       "dict_items([('age', 24), ('skills', {'tech': 'html', 'data science': ['python', 'mysql']})])"
      ]
     },
     "execution_count": 8,
     "metadata": {},
     "output_type": "execute_result"
    }
   ],
   "source": [
    "r.items()"
   ]
  },
  {
   "cell_type": "code",
   "execution_count": 9,
   "id": "ba218214",
   "metadata": {},
   "outputs": [
    {
     "data": {
      "text/plain": [
       "dict_keys(['age', 'skills'])"
      ]
     },
     "execution_count": 9,
     "metadata": {},
     "output_type": "execute_result"
    }
   ],
   "source": [
    "r.keys()"
   ]
  },
  {
   "cell_type": "code",
   "execution_count": 10,
   "id": "a977f9eb",
   "metadata": {},
   "outputs": [
    {
     "data": {
      "text/plain": [
       "dict_values([24, {'tech': 'html', 'data science': ['python', 'mysql']}])"
      ]
     },
     "execution_count": 10,
     "metadata": {},
     "output_type": "execute_result"
    }
   ],
   "source": [
    "r.values()"
   ]
  },
  {
   "cell_type": "code",
   "execution_count": 12,
   "id": "02fb3350",
   "metadata": {},
   "outputs": [],
   "source": [
    "dict = {'ramesh':[150,46],\"suresh\":[146,48],\"suddesh\":[160,50]}"
   ]
  },
  {
   "cell_type": "code",
   "execution_count": 14,
   "id": "24aff865-cbfc-445c-b474-9f520747b653",
   "metadata": {},
   "outputs": [
    {
     "data": {
      "text/plain": [
       "[146, 48]"
      ]
     },
     "execution_count": 14,
     "metadata": {},
     "output_type": "execute_result"
    }
   ],
   "source": [
    "dict[\"suresh\"]"
   ]
  },
  {
   "cell_type": "code",
   "execution_count": 16,
   "id": "7505d08f-7689-44ae-8a6d-04b7a467e09b",
   "metadata": {},
   "outputs": [],
   "source": [
    "dict[\"neeraj\"]=[176,75]"
   ]
  },
  {
   "cell_type": "code",
   "execution_count": 17,
   "id": "d1876b86-e4ee-41c2-b3aa-af3b4d3f07ec",
   "metadata": {},
   "outputs": [
    {
     "data": {
      "text/plain": [
       "{'ramesh': [150, 46],\n",
       " 'suresh': [146, 48],\n",
       " 'suddesh': [160, 50],\n",
       " 'neeraj': [176, 75]}"
      ]
     },
     "execution_count": 17,
     "metadata": {},
     "output_type": "execute_result"
    }
   ],
   "source": [
    "dict"
   ]
  },
  {
   "cell_type": "code",
   "execution_count": 18,
   "id": "056f2408-8eaf-4c07-a972-2146c0349a72",
   "metadata": {},
   "outputs": [],
   "source": [
    "dict.update({\"sunil\":[150,70],\"deesha\":[155,180]})"
   ]
  },
  {
   "cell_type": "code",
   "execution_count": 19,
   "id": "0475298f-6dc1-43cf-b362-cdcc8bbc81a8",
   "metadata": {},
   "outputs": [
    {
     "data": {
      "text/plain": [
       "{'ramesh': [150, 46],\n",
       " 'suresh': [146, 48],\n",
       " 'suddesh': [160, 50],\n",
       " 'neeraj': [176, 75],\n",
       " 'sunil': [150, 70],\n",
       " 'deesha': [155, 180]}"
      ]
     },
     "execution_count": 19,
     "metadata": {},
     "output_type": "execute_result"
    }
   ],
   "source": [
    "dict"
   ]
  },
  {
   "cell_type": "code",
   "execution_count": 21,
   "id": "b228da6b-a889-4faa-a6a6-129e3bb360a8",
   "metadata": {},
   "outputs": [],
   "source": [
    "del dict[\"sunil\"]"
   ]
  },
  {
   "cell_type": "code",
   "execution_count": 22,
   "id": "377d8887-178c-4891-b4ab-e4a70c2620e8",
   "metadata": {},
   "outputs": [
    {
     "data": {
      "text/plain": [
       "{'ramesh': [150, 46],\n",
       " 'suresh': [146, 48],\n",
       " 'suddesh': [160, 50],\n",
       " 'neeraj': [176, 75],\n",
       " 'deesha': [155, 180]}"
      ]
     },
     "execution_count": 22,
     "metadata": {},
     "output_type": "execute_result"
    }
   ],
   "source": [
    "dict"
   ]
  },
  {
   "cell_type": "code",
   "execution_count": 24,
   "id": "ff1dfbb1-7136-4705-93be-3d281f91a7f8",
   "metadata": {},
   "outputs": [],
   "source": [
    "dictionary = {\n",
    "    \"name\":\"abc\",\n",
    "    \"age\":21,\n",
    "    \"rollno\":\"CSE100\",\n",
    "    \"percentage\":85,\n",
    "    \"attendance\":74,\n",
    "     \"city\":\"Nashik\",\n",
    "    \"country\":\"India\"\n",
    "    }"
   ]
  },
  {
   "cell_type": "code",
   "execution_count": 25,
   "id": "087948fb-0ca8-4100-8f90-805f57e07ccd",
   "metadata": {},
   "outputs": [
    {
     "data": {
      "text/plain": [
       "{'name': 'abc',\n",
       " 'age': 21,\n",
       " 'rollno': 'CSE100',\n",
       " 'percentage': 85,\n",
       " 'attendance': 74,\n",
       " 'city': 'Nashik',\n",
       " 'country': 'India'}"
      ]
     },
     "execution_count": 25,
     "metadata": {},
     "output_type": "execute_result"
    }
   ],
   "source": [
    "dictionary"
   ]
  },
  {
   "cell_type": "code",
   "execution_count": 26,
   "id": "97e1d4bd-e3a2-4ef4-9ceb-0c0b22bebaae",
   "metadata": {},
   "outputs": [
    {
     "name": "stdout",
     "output_type": "stream",
     "text": [
      "name is  abc\n"
     ]
    }
   ],
   "source": [
    "print(\"name is \",dictionary['name'])"
   ]
  },
  {
   "cell_type": "code",
   "execution_count": 27,
   "id": "e08d3f71-2a42-41da-84d9-383fae15a9c1",
   "metadata": {},
   "outputs": [
    {
     "name": "stdout",
     "output_type": "stream",
     "text": [
      "age before updation  21\n"
     ]
    }
   ],
   "source": [
    "print(\"age before updation \",dictionary[\"age\"])"
   ]
  },
  {
   "cell_type": "code",
   "execution_count": 28,
   "id": "35a1bb1a-f38e-48d3-b6b8-25333089983b",
   "metadata": {},
   "outputs": [
    {
     "name": "stdout",
     "output_type": "stream",
     "text": [
      "age before updation  21\n",
      "age after updation  25\n"
     ]
    }
   ],
   "source": [
    "print(\"age before updation \",dictionary[\"age\"])\n",
    "dictionary[\"age\"] = 25\n",
    "print(\"age after updation \",dictionary[\"age\"])"
   ]
  },
  {
   "cell_type": "code",
   "execution_count": 29,
   "id": "e8a11e3f-9e60-4f24-9f6e-ce5b5d939896",
   "metadata": {},
   "outputs": [],
   "source": [
    "dictionary.update({\"pincode\":[15070],\"last_name\":[\"xyz\"]})"
   ]
  },
  {
   "cell_type": "code",
   "execution_count": 30,
   "id": "7c0c6bc1-40d3-4ea3-86b3-e85ecd573fe7",
   "metadata": {},
   "outputs": [
    {
     "data": {
      "text/plain": [
       "{'name': 'abc',\n",
       " 'age': 25,\n",
       " 'rollno': 'CSE100',\n",
       " 'percentage': 85,\n",
       " 'attendance': 74,\n",
       " 'city': 'Nashik',\n",
       " 'country': 'India',\n",
       " 'pincode': [15070],\n",
       " 'last_name': ['xyz']}"
      ]
     },
     "execution_count": 30,
     "metadata": {},
     "output_type": "execute_result"
    }
   ],
   "source": [
    "dictionary"
   ]
  },
  {
   "cell_type": "code",
   "execution_count": 32,
   "id": "49ba2f49-0e19-4ab8-810b-3d8b3c428da0",
   "metadata": {},
   "outputs": [],
   "source": [
    "dictionary.update({\"housecode\":[15070],\"first_name\":[\"xyz\"]})"
   ]
  },
  {
   "cell_type": "code",
   "execution_count": 33,
   "id": "bacab87e-f56b-4a57-b1cb-c778d43db07e",
   "metadata": {},
   "outputs": [
    {
     "data": {
      "text/plain": [
       "{'name': 'abc',\n",
       " 'age': 25,\n",
       " 'rollno': 'CSE100',\n",
       " 'percentage': 85,\n",
       " 'attendance': 74,\n",
       " 'city': 'Nashik',\n",
       " 'country': 'India',\n",
       " 'pincode': [15070],\n",
       " 'last_name': ['xyz'],\n",
       " 'housecode': [15070],\n",
       " 'first_name': ['xyz']}"
      ]
     },
     "execution_count": 33,
     "metadata": {},
     "output_type": "execute_result"
    }
   ],
   "source": [
    "dictionary"
   ]
  },
  {
   "cell_type": "code",
   "execution_count": 35,
   "id": "36952ebd-c82a-4be0-a02a-136e3d2f98bb",
   "metadata": {},
   "outputs": [],
   "source": [
    "sample = {\n",
    "    \"string\":\"string\",\n",
    "    1.5:\"float\",\n",
    "    10:\"integer\",\n",
    "    False:\"boolean\"\n",
    "}"
   ]
  },
  {
   "cell_type": "code",
   "execution_count": 36,
   "id": "89ab039e-e08a-4caf-b0d4-c72cc26cdca7",
   "metadata": {},
   "outputs": [
    {
     "data": {
      "text/plain": [
       "{'string': 'string', 1.5: 'float', 10: 'integer', False: 'boolean'}"
      ]
     },
     "execution_count": 36,
     "metadata": {},
     "output_type": "execute_result"
    }
   ],
   "source": [
    "sample"
   ]
  },
  {
   "cell_type": "code",
   "execution_count": 37,
   "id": "26554f38-c1d7-4847-8e8a-e36b63b76194",
   "metadata": {},
   "outputs": [
    {
     "data": {
      "text/plain": [
       "'boolean'"
      ]
     },
     "execution_count": 37,
     "metadata": {},
     "output_type": "execute_result"
    }
   ],
   "source": [
    "sample[False]"
   ]
  },
  {
   "cell_type": "code",
   "execution_count": 38,
   "id": "94071c63-f4fa-42a4-a11f-0ea29d2cd11a",
   "metadata": {},
   "outputs": [
    {
     "data": {
      "text/plain": [
       "'float'"
      ]
     },
     "execution_count": 38,
     "metadata": {},
     "output_type": "execute_result"
    }
   ],
   "source": [
    "sample[1.5]"
   ]
  },
  {
   "cell_type": "code",
   "execution_count": 39,
   "id": "5c97a472-c442-497c-bce8-6582e3de8d39",
   "metadata": {},
   "outputs": [],
   "source": [
    "sample = {\"A\":1,\n",
    "         \"B\":2,\n",
    "         \"C\":3,}"
   ]
  },
  {
   "cell_type": "code",
   "execution_count": 40,
   "id": "e48d53bf-6683-4812-a6e5-0abf0471ef93",
   "metadata": {},
   "outputs": [
    {
     "data": {
      "text/plain": [
       "{'A': 1, 'B': 2, 'C': 3}"
      ]
     },
     "execution_count": 40,
     "metadata": {},
     "output_type": "execute_result"
    }
   ],
   "source": [
    "sample"
   ]
  },
  {
   "cell_type": "code",
   "execution_count": 41,
   "id": "fd5e81dc-8669-4169-8355-03b5e2a5ebd8",
   "metadata": {},
   "outputs": [
    {
     "data": {
      "text/plain": [
       "1"
      ]
     },
     "execution_count": 41,
     "metadata": {},
     "output_type": "execute_result"
    }
   ],
   "source": [
    "sample[\"A\"]"
   ]
  },
  {
   "cell_type": "code",
   "execution_count": 42,
   "id": "d03471e1-c012-46e8-b67c-53350a3a053a",
   "metadata": {},
   "outputs": [],
   "source": [
    "sample = {\"A\":1,\n",
    "         \"B\":2,\n",
    "         \"C\":3,\n",
    "         \"A\":100}"
   ]
  },
  {
   "cell_type": "code",
   "execution_count": 43,
   "id": "d8e28007-7ce0-4a7c-b46e-0059dd0d2c5c",
   "metadata": {},
   "outputs": [
    {
     "data": {
      "text/plain": [
       "100"
      ]
     },
     "execution_count": 43,
     "metadata": {},
     "output_type": "execute_result"
    }
   ],
   "source": [
    "sample[\"A\"]"
   ]
  },
  {
   "cell_type": "code",
   "execution_count": 46,
   "id": "d69917a6-55f3-40f8-9676-2c6731b1a867",
   "metadata": {},
   "outputs": [],
   "source": [
    "my_dict_1 = {\n",
    "    \"key_1\":\"value_1\",\n",
    "    \"key_2\":\"value_2\",\n",
    "    \"key_3\":3\n",
    "}\n",
    "my_dict_2 = {\n",
    "    \"key_3\":3,\n",
    "    \"key_1\":\"value_1\",\n",
    "    \"key_2\":\"value_2\"\n",
    "}"
   ]
  },
  {
   "cell_type": "code",
   "execution_count": 47,
   "id": "2e91c53f-b0d3-422f-a202-f638904c76b2",
   "metadata": {},
   "outputs": [
    {
     "data": {
      "text/plain": [
       "True"
      ]
     },
     "execution_count": 47,
     "metadata": {},
     "output_type": "execute_result"
    }
   ],
   "source": [
    "(my_dict_1 == my_dict_2)"
   ]
  },
  {
   "cell_type": "code",
   "execution_count": 53,
   "id": "44a325fb-f396-4486-ae95-418e1c5fcbb3",
   "metadata": {},
   "outputs": [
    {
     "name": "stdout",
     "output_type": "stream",
     "text": [
      "name abc\n",
      "age 25\n",
      "rollno CSE100\n",
      "percentage 85\n",
      "attendance 74\n",
      "city Nashik\n",
      "country India\n",
      "pincode [15070]\n",
      "last_name ['xyz']\n",
      "housecode [15070]\n",
      "first_name ['xyz']\n"
     ]
    }
   ],
   "source": [
    "for keys,values in dictionary.items():\n",
    "    print(keys,values)"
   ]
  },
  {
   "cell_type": "code",
   "execution_count": 54,
   "id": "343e68c5-4478-4466-9e36-3abfe8918bfe",
   "metadata": {},
   "outputs": [],
   "source": [
    "m_dict = {\n",
    "    \"rahul\":45,\n",
    "    \"rohit\":21,\n",
    "    \"virat\":31,\n",
    "    \"dhawan\":17,\n",
    "    \"rishabh\":10\n",
    "}"
   ]
  },
  {
   "cell_type": "code",
   "execution_count": 55,
   "id": "64032b4f-01f7-43f0-a7eb-3ed97781647d",
   "metadata": {},
   "outputs": [
    {
     "data": {
      "text/plain": [
       "{'rahul': 45, 'rohit': 21, 'virat': 31, 'dhawan': 17, 'rishabh': 10}"
      ]
     },
     "execution_count": 55,
     "metadata": {},
     "output_type": "execute_result"
    }
   ],
   "source": [
    "m_dict"
   ]
  },
  {
   "cell_type": "code",
   "execution_count": 58,
   "id": "0d1b0b4e-709b-4a1b-8fbe-400433e0f041",
   "metadata": {},
   "outputs": [
    {
     "data": {
      "text/plain": [
       "[('dhawan', 17), ('rahul', 45), ('rishabh', 10), ('rohit', 21), ('virat', 31)]"
      ]
     },
     "execution_count": 58,
     "metadata": {},
     "output_type": "execute_result"
    }
   ],
   "source": [
    "sorted(m_dict.items())"
   ]
  },
  {
   "cell_type": "code",
   "execution_count": 59,
   "id": "2a7d9a87-a84f-43b0-a5e7-84bdf6d4eea8",
   "metadata": {},
   "outputs": [
    {
     "data": {
      "text/plain": [
       "['dhawan', 'rahul', 'rishabh', 'rohit', 'virat']"
      ]
     },
     "execution_count": 59,
     "metadata": {},
     "output_type": "execute_result"
    }
   ],
   "source": [
    "sorted(m_dict.keys())"
   ]
  },
  {
   "cell_type": "code",
   "execution_count": 61,
   "id": "5c66caa3-0343-427e-97c0-1fb74cd75280",
   "metadata": {},
   "outputs": [
    {
     "data": {
      "text/plain": [
       "[10, 17, 21, 31, 45]"
      ]
     },
     "execution_count": 61,
     "metadata": {},
     "output_type": "execute_result"
    }
   ],
   "source": [
    "sorted(m_dict.values())"
   ]
  },
  {
   "cell_type": "code",
   "execution_count": 63,
   "id": "12bbf948-bbdc-4db6-82d9-79b126695965",
   "metadata": {},
   "outputs": [
    {
     "data": {
      "text/plain": [
       "87"
      ]
     },
     "execution_count": 63,
     "metadata": {},
     "output_type": "execute_result"
    }
   ],
   "source": [
    "my_dictionary = {\n",
    "    \"name\":\"abc\",\n",
    "    \"age\":21,\n",
    "    \"roll_no\":\"CSE100\",\n",
    "    \"percentage\":85\n",
    "}\n",
    "\n",
    "my_dictionary.update({\"percentage\":87,\"last_name\":\"xyz\"})\n",
    "my_dictionary['percentage']"
   ]
  },
  {
   "cell_type": "code",
   "execution_count": 66,
   "id": "afa72e36-856e-4632-bf6b-08a2a37217bc",
   "metadata": {},
   "outputs": [
    {
     "data": {
      "text/plain": [
       "144"
      ]
     },
     "execution_count": 66,
     "metadata": {},
     "output_type": "execute_result"
    }
   ],
   "source": [
    "my_dictionary = {\n",
    "    \"name\":\"lakshay\",\n",
    "    \"roll_no\":100,\n",
    "    \"subject\":[\"A\",\"B\",\"C\",\"D\"],\n",
    "    \"Marks\":[89,98,76,68,76]\n",
    "\n",
    "}\n",
    "sum(my_dictionary[\"Marks\"][3:5])"
   ]
  },
  {
   "cell_type": "code",
   "execution_count": null,
   "id": "1565a4ce-a8d3-4679-ade8-55874516377f",
   "metadata": {},
   "outputs": [],
   "source": []
  }
 ],
 "metadata": {
  "kernelspec": {
   "display_name": "Python 3 (ipykernel)",
   "language": "python",
   "name": "python3"
  },
  "language_info": {
   "codemirror_mode": {
    "name": "ipython",
    "version": 3
   },
   "file_extension": ".py",
   "mimetype": "text/x-python",
   "name": "python",
   "nbconvert_exporter": "python",
   "pygments_lexer": "ipython3",
   "version": "3.11.7"
  },
  "widgets": {
   "application/vnd.jupyter.widget-state+json": {
    "state": {},
    "version_major": 2,
    "version_minor": 0
   }
  }
 },
 "nbformat": 4,
 "nbformat_minor": 5
}
