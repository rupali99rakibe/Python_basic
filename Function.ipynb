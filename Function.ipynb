{
 "cells": [
  {
   "cell_type": "code",
   "execution_count": 1,
   "id": "24c2fd13",
   "metadata": {},
   "outputs": [],
   "source": [
    "rupali = [1000,1500,1200,4500,1500,1000,4555]\n",
    "nikita = [1500,1200,4500,111,3333,5555]\n",
    "def expense():\n",
    "    total = 0\n",
    "    for i in rupali:\n",
    "        total += i\n",
    "    print(total)   "
   ]
  },
  {
   "cell_type": "code",
   "execution_count": 2,
   "id": "39a72a25",
   "metadata": {},
   "outputs": [
    {
     "name": "stdout",
     "output_type": "stream",
     "text": [
      "15255\n"
     ]
    }
   ],
   "source": [
    "expense()"
   ]
  },
  {
   "cell_type": "code",
   "execution_count": 3,
   "id": "12bd88d8",
   "metadata": {},
   "outputs": [],
   "source": [
    "def expense(name):\n",
    "    total = 0\n",
    "    for i in name:\n",
    "        total += i\n",
    "    print(total)"
   ]
  },
  {
   "cell_type": "code",
   "execution_count": 4,
   "id": "77c9f489",
   "metadata": {},
   "outputs": [
    {
     "name": "stdout",
     "output_type": "stream",
     "text": [
      "15255\n"
     ]
    }
   ],
   "source": [
    "expense(rupali)"
   ]
  },
  {
   "cell_type": "code",
   "execution_count": 5,
   "id": "e8ad7aab",
   "metadata": {},
   "outputs": [],
   "source": [
    "# function have a four type\n",
    "# 1.function with no parameter (Use for create a new function)\n",
    "# 2. function with parameter  (we require a parameter)\n",
    "# 3. function with default parameter (default parameter use to initiallize values no argument require/provided for parameter)\n",
    "# 4. function with return parameter (if a function block can be use any where in program)"
   ]
  },
  {
   "cell_type": "code",
   "execution_count": 6,
   "id": "cc0fca4a",
   "metadata": {},
   "outputs": [],
   "source": [
    "# function with no parameter\n",
    "def func_name():\n",
    "    print(\"This is func with no parameter\")"
   ]
  },
  {
   "cell_type": "code",
   "execution_count": 7,
   "id": "47fda18d",
   "metadata": {},
   "outputs": [
    {
     "name": "stdout",
     "output_type": "stream",
     "text": [
      "This is func with no parameter\n"
     ]
    }
   ],
   "source": [
    "func_name()"
   ]
  },
  {
   "cell_type": "code",
   "execution_count": 8,
   "id": "46d14f6f",
   "metadata": {},
   "outputs": [],
   "source": [
    "# function with parameter\n",
    "def test(a,b):\n",
    "    c = a + b\n",
    "    print(c)"
   ]
  },
  {
   "cell_type": "code",
   "execution_count": 9,
   "id": "ab342aa2",
   "metadata": {},
   "outputs": [
    {
     "name": "stdout",
     "output_type": "stream",
     "text": [
      "25\n"
     ]
    }
   ],
   "source": [
    "test(10,15)"
   ]
  },
  {
   "cell_type": "code",
   "execution_count": 10,
   "id": "4a5e1763",
   "metadata": {},
   "outputs": [
    {
     "name": "stdout",
     "output_type": "stream",
     "text": [
      "121\n"
     ]
    }
   ],
   "source": [
    "num1 = 10\n",
    "num2 = 111\n",
    "def test(a,b):\n",
    "    c = num1 + num2\n",
    "    print(c)\n",
    "test(num1,num2)"
   ]
  },
  {
   "cell_type": "code",
   "execution_count": 11,
   "id": "eee22b3c",
   "metadata": {},
   "outputs": [
    {
     "name": "stdout",
     "output_type": "stream",
     "text": [
      "30\n"
     ]
    }
   ],
   "source": [
    "# function with default parameter\n",
    "def add(a,b):\n",
    "    c = a + b\n",
    "    print(c)\n",
    "add(10,20)"
   ]
  },
  {
   "cell_type": "code",
   "execution_count": 12,
   "id": "25205c9a",
   "metadata": {},
   "outputs": [
    {
     "name": "stdout",
     "output_type": "stream",
     "text": [
      "30\n"
     ]
    }
   ],
   "source": [
    "def add(a = 10 ,b = 20):\n",
    "    c = a + b\n",
    "    print(c)\n",
    "add()"
   ]
  },
  {
   "cell_type": "code",
   "execution_count": 13,
   "id": "07df4253",
   "metadata": {},
   "outputs": [],
   "source": [
    "def add(a = 10,b = 20):\n",
    "    c = a + b\n",
    "    print(c)"
   ]
  },
  {
   "cell_type": "code",
   "execution_count": 14,
   "id": "cc0e11da",
   "metadata": {},
   "outputs": [
    {
     "name": "stdout",
     "output_type": "stream",
     "text": [
      "30\n"
     ]
    }
   ],
   "source": [
    "# function with return parameter\n",
    "def add(a,b):\n",
    "    c = a + b\n",
    "    print(c)\n",
    "add(10,20)"
   ]
  },
  {
   "cell_type": "code",
   "execution_count": 15,
   "id": "03cbbcfa",
   "metadata": {},
   "outputs": [],
   "source": [
    "def add(a,b):\n",
    "    \"\"\"This function will return addition of two numbers\"\"\"\n",
    "    print(c)"
   ]
  },
  {
   "cell_type": "code",
   "execution_count": 16,
   "id": "b09d3a0d",
   "metadata": {},
   "outputs": [
    {
     "data": {
      "text/plain": [
       "(10, 20, 30, 40)"
      ]
     },
     "execution_count": 16,
     "metadata": {},
     "output_type": "execute_result"
    }
   ],
   "source": [
    "def test(a,b,c,d):\n",
    "    return a,b,c,d\n",
    "test(10,20,30,40)"
   ]
  },
  {
   "cell_type": "code",
   "execution_count": 17,
   "id": "683524a0",
   "metadata": {},
   "outputs": [],
   "source": [
    "# In a function of two type of parameter use because to reduce the parameter/argument error it means no fix value in a function.\n",
    "# 1. Star argument , 2. double star keyword argument"
   ]
  },
  {
   "cell_type": "code",
   "execution_count": 18,
   "id": "2446eb88",
   "metadata": {},
   "outputs": [],
   "source": [
    "# 1. Star argument - (use for a only single element, e.g int,float,str,list,tuple,set)"
   ]
  },
  {
   "cell_type": "code",
   "execution_count": 19,
   "id": "95256c14",
   "metadata": {},
   "outputs": [],
   "source": [
    "def test(*args):\n",
    "    return args"
   ]
  },
  {
   "cell_type": "code",
   "execution_count": 20,
   "id": "d8ce2336",
   "metadata": {},
   "outputs": [
    {
     "data": {
      "text/plain": [
       "()"
      ]
     },
     "execution_count": 20,
     "metadata": {},
     "output_type": "execute_result"
    }
   ],
   "source": [
    "test()"
   ]
  },
  {
   "cell_type": "code",
   "execution_count": 21,
   "id": "aac095c1",
   "metadata": {},
   "outputs": [
    {
     "data": {
      "text/plain": [
       "(10,)"
      ]
     },
     "execution_count": 21,
     "metadata": {},
     "output_type": "execute_result"
    }
   ],
   "source": [
    "test(10)"
   ]
  },
  {
   "cell_type": "code",
   "execution_count": 22,
   "id": "21bf5b52",
   "metadata": {},
   "outputs": [
    {
     "data": {
      "text/plain": [
       "(11, 23)"
      ]
     },
     "execution_count": 22,
     "metadata": {},
     "output_type": "execute_result"
    }
   ],
   "source": [
    "test(11,23)"
   ]
  },
  {
   "cell_type": "code",
   "execution_count": 23,
   "id": "8a352e9d",
   "metadata": {},
   "outputs": [],
   "source": [
    "# 2.double star keyword argument(**kwargs) - (use for add a double element like dictionary format like keys and values)"
   ]
  },
  {
   "cell_type": "code",
   "execution_count": 24,
   "id": "dddc5cb7",
   "metadata": {},
   "outputs": [],
   "source": [
    "def test1(**kwargs):\n",
    "    return kwargs"
   ]
  },
  {
   "cell_type": "code",
   "execution_count": 25,
   "id": "6d636d04",
   "metadata": {},
   "outputs": [
    {
     "data": {
      "text/plain": [
       "{'name': 'rupali', 'age': 24, 'village': 'dhodambe'}"
      ]
     },
     "execution_count": 25,
     "metadata": {},
     "output_type": "execute_result"
    }
   ],
   "source": [
    "test1(name = \"rupali\",age = 24 ,village = \"dhodambe\")"
   ]
  },
  {
   "cell_type": "code",
   "execution_count": 26,
   "id": "96afdcd8",
   "metadata": {},
   "outputs": [
    {
     "name": "stdout",
     "output_type": "stream",
     "text": [
      "[10, 20, 30, 15]\n"
     ]
    }
   ],
   "source": [
    "l = [10,20,30]\n",
    "l.append(15)\n",
    "print(l)"
   ]
  },
  {
   "cell_type": "code",
   "execution_count": 27,
   "id": "e1016046",
   "metadata": {},
   "outputs": [],
   "source": [
    "l = [10,20,30]\n",
    "r = [1,2,3,4,5]\n",
    "def test(variable,num):\n",
    "    variable.append(num)\n",
    "    print(variable)"
   ]
  },
  {
   "cell_type": "code",
   "execution_count": 28,
   "id": "29be6d73",
   "metadata": {},
   "outputs": [
    {
     "name": "stdout",
     "output_type": "stream",
     "text": [
      "[10, 20, 30, 'python']\n"
     ]
    }
   ],
   "source": [
    "test(l,\"python\")"
   ]
  },
  {
   "cell_type": "code",
   "execution_count": 29,
   "id": "5fc4c268",
   "metadata": {},
   "outputs": [
    {
     "name": "stdout",
     "output_type": "stream",
     "text": [
      "[1, 2, 3, 4, 5, 9]\n"
     ]
    }
   ],
   "source": [
    "test(r,9)"
   ]
  },
  {
   "cell_type": "code",
   "execution_count": 30,
   "id": "ef4a55da",
   "metadata": {},
   "outputs": [],
   "source": [
    "# Local variable and Global variable"
   ]
  },
  {
   "cell_type": "code",
   "execution_count": 31,
   "id": "77f547e8",
   "metadata": {},
   "outputs": [
    {
     "name": "stdout",
     "output_type": "stream",
     "text": [
      "21\n"
     ]
    }
   ],
   "source": [
    "a = 10 \n",
    "def add(num):\n",
    "    print(num + 11)\n",
    "add(a)"
   ]
  },
  {
   "cell_type": "code",
   "execution_count": 32,
   "id": "218ae39f",
   "metadata": {},
   "outputs": [
    {
     "name": "stdout",
     "output_type": "stream",
     "text": [
      "10\n"
     ]
    }
   ],
   "source": [
    "print(a)"
   ]
  },
  {
   "cell_type": "code",
   "execution_count": 33,
   "id": "3c90485e",
   "metadata": {},
   "outputs": [],
   "source": [
    "a = 10\n",
    "def add(num):\n",
    "    b = 10\n",
    "    print(b + 11)"
   ]
  },
  {
   "cell_type": "code",
   "execution_count": 34,
   "id": "6cfb2ed1",
   "metadata": {},
   "outputs": [
    {
     "name": "stdout",
     "output_type": "stream",
     "text": [
      "21\n"
     ]
    }
   ],
   "source": [
    "add(a)"
   ]
  },
  {
   "cell_type": "code",
   "execution_count": 35,
   "id": "9794e6e4",
   "metadata": {},
   "outputs": [
    {
     "name": "stdout",
     "output_type": "stream",
     "text": [
      "5\n",
      "10\n",
      "15\n",
      "20\n",
      "25\n",
      "30\n",
      "35\n",
      "40\n",
      "45\n",
      "50\n"
     ]
    }
   ],
   "source": [
    "num = 5\n",
    "for i in range(1,11):\n",
    "    print(i * num)"
   ]
  },
  {
   "cell_type": "code",
   "execution_count": 36,
   "id": "dcca5830",
   "metadata": {},
   "outputs": [
    {
     "name": "stdout",
     "output_type": "stream",
     "text": [
      "5\n",
      "10\n",
      "15\n",
      "20\n",
      "25\n",
      "30\n",
      "35\n",
      "40\n",
      "45\n",
      "50\n"
     ]
    }
   ],
   "source": [
    "num = 5\n",
    "def multiplication():\n",
    "    for i in range(1,11):\n",
    "        print(i * num)\n",
    "multiplication()"
   ]
  },
  {
   "cell_type": "code",
   "execution_count": 37,
   "id": "934a841d",
   "metadata": {},
   "outputs": [],
   "source": [
    "num = 5\n",
    "def factorial(num):\n",
    "    fact = 1\n",
    "    for i in range(1,num+1):\n",
    "        fact = fact*i\n",
    "    print(fact)"
   ]
  },
  {
   "cell_type": "code",
   "execution_count": 38,
   "id": "660b5061",
   "metadata": {},
   "outputs": [
    {
     "name": "stdout",
     "output_type": "stream",
     "text": [
      "120\n"
     ]
    }
   ],
   "source": [
    "factorial(num)"
   ]
  },
  {
   "cell_type": "code",
   "execution_count": 39,
   "id": "c59141a9",
   "metadata": {},
   "outputs": [
    {
     "data": {
      "text/plain": [
       "'Python is hard'"
      ]
     },
     "execution_count": 39,
     "metadata": {},
     "output_type": "execute_result"
    }
   ],
   "source": [
    "s = \"Python is easy\"\n",
    "s.replace(\"easy\",\"hard\")"
   ]
  },
  {
   "cell_type": "code",
   "execution_count": 40,
   "id": "29a6752b",
   "metadata": {},
   "outputs": [],
   "source": [
    "def test(sample,old,new):\n",
    "    return(sample.replace(old,new))"
   ]
  },
  {
   "cell_type": "code",
   "execution_count": 41,
   "id": "e53f4ee9",
   "metadata": {},
   "outputs": [
    {
     "data": {
      "text/plain": [
       "'Python is hard'"
      ]
     },
     "execution_count": 41,
     "metadata": {},
     "output_type": "execute_result"
    }
   ],
   "source": [
    "r = test(s,\"easy\",\"hard\")\n",
    "r"
   ]
  },
  {
   "cell_type": "code",
   "execution_count": 42,
   "id": "93460e99",
   "metadata": {},
   "outputs": [],
   "source": [
    "# lambda Function - it can use to take a multiple parameter argument, but execution has to be only one"
   ]
  },
  {
   "cell_type": "code",
   "execution_count": 43,
   "id": "c21d1620",
   "metadata": {},
   "outputs": [],
   "source": [
    "test = lambda a,b :a+b"
   ]
  },
  {
   "cell_type": "code",
   "execution_count": 44,
   "id": "d571720a",
   "metadata": {},
   "outputs": [
    {
     "data": {
      "text/plain": [
       "33"
      ]
     },
     "execution_count": 44,
     "metadata": {},
     "output_type": "execute_result"
    }
   ],
   "source": [
    "test(11,22)"
   ]
  },
  {
   "cell_type": "code",
   "execution_count": 45,
   "id": "961663c0",
   "metadata": {},
   "outputs": [],
   "source": [
    "test = lambda s : s.strip()"
   ]
  },
  {
   "cell_type": "code",
   "execution_count": 46,
   "id": "d4c99d86",
   "metadata": {},
   "outputs": [
    {
     "data": {
      "text/plain": [
       "'rrrrrr'"
      ]
     },
     "execution_count": 46,
     "metadata": {},
     "output_type": "execute_result"
    }
   ],
   "source": [
    "test(\"     rrrrrr  \")"
   ]
  },
  {
   "cell_type": "code",
   "execution_count": 47,
   "id": "6c817cfc",
   "metadata": {},
   "outputs": [
    {
     "name": "stdout",
     "output_type": "stream",
     "text": [
      "['python', 'sql', 'html', 'css', 'js']\n",
      "[11, 10, 20, 10.55]\n"
     ]
    }
   ],
   "source": [
    "# python practice\n",
    "r = ['python','sql',11,10,20,['html','css','js'],10.55]\n",
    "alpha = []\n",
    "numbers = [] \n",
    "for i in r:\n",
    "    if type(i) == str:\n",
    "        alpha.append(i)\n",
    "    elif type(i) == int or type(i) == float:\n",
    "        numbers.append(i)\n",
    "    elif type(i) == list:\n",
    "        for j in i:\n",
    "            if type(j)  == str:\n",
    "                alpha.append(j)\n",
    "print(alpha)\n",
    "print(numbers)"
   ]
  },
  {
   "cell_type": "code",
   "execution_count": 48,
   "id": "26c47ee2",
   "metadata": {},
   "outputs": [
    {
     "name": "stdout",
     "output_type": "stream",
     "text": [
      "['python', 'sql', 'html', 'css', 'js', 'value', 'rupali']\n",
      "[11, 10, 20, 11]\n"
     ]
    }
   ],
   "source": [
    "r = ['python','sql',11,10,20,['html','css','js'],10.5,{'key':'value','name':\"rupali\",'age':11}]\n",
    "alpha = []\n",
    "number = []\n",
    "for i in r:\n",
    "    if type(i) == str:\n",
    "        alpha.append(i)\n",
    "    elif type(i) == int:\n",
    "        number.append(i)\n",
    "    elif type(i) == list:\n",
    "        for j in i:\n",
    "            if type(j) == str:\n",
    "                alpha.append(j)\n",
    "    elif type(i) == dict:\n",
    "        for k in i:\n",
    "            if type(i[k]) == str:\n",
    "                alpha.append(i[k])\n",
    "            elif type(i[k]) == int:\n",
    "                number.append(i[k])\n",
    "    \n",
    "print(alpha)\n",
    "print(number)"
   ]
  },
  {
   "cell_type": "raw",
   "id": "6eab1c69-cb45-4755-88d9-247fa9f8c4fe",
   "metadata": {},
   "source": [
    " 1) access list, 2)if sample is string then then add all string sample in one list if sample is number then create a new variable count and add 1 for \n",
    "number, final answer should be count = 5"
   ]
  },
  {
   "cell_type": "code",
   "execution_count": 49,
   "id": "e42347da-5ca9-41c2-9dd6-cc1d58a897ef",
   "metadata": {},
   "outputs": [
    {
     "name": "stdout",
     "output_type": "stream",
     "text": [
      "python\n",
      "sql\n",
      "11\n",
      "22\n",
      "33\n",
      "44\n",
      "15.45\n",
      "data science\n"
     ]
    }
   ],
   "source": [
    "# 1) access list\n",
    "l = ['python','sql',11,22,33,44,15.45,'data science']\n",
    "for i in l:\n",
    "    print(i)"
   ]
  },
  {
   "cell_type": "code",
   "execution_count": 51,
   "id": "a00f37d5-6839-4ba8-a3e6-4d9784c4ff30",
   "metadata": {},
   "outputs": [
    {
     "name": "stdout",
     "output_type": "stream",
     "text": [
      "5\n",
      "['python', 'sql', 'data science']\n"
     ]
    }
   ],
   "source": [
    "# 2) if sample is string then then add all string sample in one list if sample is number then create a new variable count and add 1 for number, final answer should be count = 5\n",
    "count = 0\n",
    "output = []\n",
    "for i in l:\n",
    "    if type(i) == int or type(i) == float:\n",
    "        count += 1\n",
    "    elif type(i) == str:\n",
    "        output.append(i)\n",
    "print(count)\n",
    "print(output)"
   ]
  },
  {
   "cell_type": "raw",
   "id": "2bc9f639-9901-4036-a1a1-d72cf5b6ce0b",
   "metadata": {},
   "source": [
    "Random function"
   ]
  },
  {
   "cell_type": "code",
   "execution_count": 53,
   "id": "6360684e-ddd2-42da-8729-4112935bdcb6",
   "metadata": {},
   "outputs": [],
   "source": [
    "from random import*"
   ]
  },
  {
   "cell_type": "code",
   "execution_count": 54,
   "id": "ea6d6dc3-9565-41cb-bc63-1d74a9926b2e",
   "metadata": {},
   "outputs": [
    {
     "data": {
      "text/plain": [
       "0.7348703289755621"
      ]
     },
     "execution_count": 54,
     "metadata": {},
     "output_type": "execute_result"
    }
   ],
   "source": [
    "# if use random function it can give single output in the range between 0 to 1\n",
    "random()"
   ]
  },
  {
   "cell_type": "code",
   "execution_count": 56,
   "id": "baae1d2d-9142-4982-8d78-b317697d7113",
   "metadata": {},
   "outputs": [
    {
     "name": "stdout",
     "output_type": "stream",
     "text": [
      "0.7839524420759006\n",
      "0.2538863311239685\n",
      "0.7186882750568181\n",
      "0.9911232699585505\n",
      "0.4415914281663261\n"
     ]
    }
   ],
   "source": [
    "# access multiple output by using a random function\n",
    "for i in range(5):\n",
    "    print(random())"
   ]
  },
  {
   "cell_type": "code",
   "execution_count": 57,
   "id": "e1a98086-1f68-46f9-90d2-d29d669f69db",
   "metadata": {},
   "outputs": [
    {
     "data": {
      "text/plain": [
       "14"
      ]
     },
     "execution_count": 57,
     "metadata": {},
     "output_type": "execute_result"
    }
   ],
   "source": [
    "# if in output have a single integer including lower and higher limit provided as a two arguments/parameter\n",
    "randint(10,20)"
   ]
  },
  {
   "cell_type": "code",
   "execution_count": 59,
   "id": "d5f1aec0-6126-4b1a-b095-e3f0545674ca",
   "metadata": {},
   "outputs": [
    {
     "name": "stdout",
     "output_type": "stream",
     "text": [
      "18\n",
      "11\n",
      "10\n",
      "14\n",
      "13\n"
     ]
    }
   ],
   "source": [
    "# with the help of randint access multiple output by using randint function\n",
    "for i in range(5):\n",
    "    print(randint(10,20))"
   ]
  },
  {
   "cell_type": "code",
   "execution_count": 65,
   "id": "e77de135-185d-463f-a862-89f9b516769f",
   "metadata": {},
   "outputs": [
    {
     "data": {
      "text/plain": [
       "60"
      ]
     },
     "execution_count": 65,
     "metadata": {},
     "output_type": "execute_result"
    }
   ],
   "source": [
    "# access single a random number in  start and stop\n",
    "randrange(10,100)"
   ]
  },
  {
   "cell_type": "code",
   "execution_count": 66,
   "id": "ae18c0bb-6ec4-47b9-b773-fc38e8f49a98",
   "metadata": {},
   "outputs": [
    {
     "name": "stdout",
     "output_type": "stream",
     "text": [
      "20\n"
     ]
    }
   ],
   "source": [
    "# using a choice function choose a random number in a list\n",
    "l = [10,20,30,40,50]\n",
    "print(choice(l))"
   ]
  },
  {
   "cell_type": "code",
   "execution_count": 67,
   "id": "444de146-bb7a-4733-bc1a-d043171d09e4",
   "metadata": {},
   "outputs": [
    {
     "name": "stdout",
     "output_type": "stream",
     "text": [
      "14.597656794450822\n"
     ]
    }
   ],
   "source": [
    "# uniform function gives a float randaom values specified lower and higher boundary\n",
    "print(uniform(10,20))"
   ]
  },
  {
   "cell_type": "code",
   "execution_count": 7,
   "id": "9d9a820a-56ac-4379-b408-ca3f28f20435",
   "metadata": {},
   "outputs": [],
   "source": [
    "# create a function for quadratic equation\n",
    "def quadratic_equation(a,b,c):\n",
    "    d = ((b ** 2)-(4*a*c))\n",
    "    print(\"discriminant of quadratic equation: \", d)\n",
    "    print(\"solution of quadratic equation: \", (-b + (d ** 0.5))/(2 * a))\n",
    "    print(\"solution of quadratic equation: \", (-b - (d ** 0.5))/(2 * a))"
   ]
  },
  {
   "cell_type": "code",
   "execution_count": 8,
   "id": "05eb2084-8c73-40a1-b215-082bd2c50338",
   "metadata": {},
   "outputs": [
    {
     "name": "stdout",
     "output_type": "stream",
     "text": [
      "discriminant of quadratic equation:  9\n",
      "solution of quadratic equation:  0.6666666666666666\n",
      "solution of quadratic equation:  0.3333333333333333\n"
     ]
    }
   ],
   "source": [
    "quadratic_equation(9,-9,2)"
   ]
  },
  {
   "cell_type": "code",
   "execution_count": 12,
   "id": "b51fc43d-0474-4fb3-b5c3-a7da9310d5f3",
   "metadata": {},
   "outputs": [
    {
     "name": "stdout",
     "output_type": "stream",
     "text": [
      "discriminant of quadratic equation:  0\n",
      "solution of quadratic equation:  0.5\n",
      "solution of quadratic equation:  0.5\n"
     ]
    }
   ],
   "source": [
    "quadratic_equation(4,-4,1)"
   ]
  },
  {
   "cell_type": "code",
   "execution_count": 13,
   "id": "fc37e155-a1b7-4990-91e0-6c484cd8bee2",
   "metadata": {},
   "outputs": [
    {
     "name": "stdout",
     "output_type": "stream",
     "text": [
      "discriminant of quadratic equation:  16\n",
      "solution of quadratic equation:  1.0\n",
      "solution of quadratic equation:  0.0\n"
     ]
    }
   ],
   "source": [
    "quadratic_equation(4,-4,0)"
   ]
  },
  {
   "cell_type": "code",
   "execution_count": 17,
   "id": "45db6e58-f8c1-4264-8091-40efdf7814cb",
   "metadata": {},
   "outputs": [],
   "source": [
    "# convert kilometer into miles \n",
    "def conversion(x):\n",
    "    kilometer = float(x)\n",
    "    conversion_factor = 0.621\n",
    "    miles = kilometer*conversion_factor\n",
    "    print(\"distance in miles: \",miles)"
   ]
  },
  {
   "cell_type": "code",
   "execution_count": 18,
   "id": "d03aecc3-ad03-47ea-b659-83ec1d4f66a5",
   "metadata": {},
   "outputs": [
    {
     "name": "stdout",
     "output_type": "stream",
     "text": [
      "distance in miles:  2.1734999999999998\n"
     ]
    }
   ],
   "source": [
    "conversion(3.5)"
   ]
  },
  {
   "cell_type": "code",
   "execution_count": 19,
   "id": "1f232028-0151-44e4-bbf6-3951dc862252",
   "metadata": {},
   "outputs": [
    {
     "name": "stdout",
     "output_type": "stream",
     "text": [
      "distance in miles:  6.21\n"
     ]
    }
   ],
   "source": [
    "conversion(10)"
   ]
  },
  {
   "cell_type": "code",
   "execution_count": 26,
   "id": "10d39c68-c873-4be1-9369-2c090f65172f",
   "metadata": {},
   "outputs": [],
   "source": [
    "# convert miles into an kilometer\n",
    "def convert(x):\n",
    "    miles = float(x)\n",
    "    # conversion_factor = 1.62\n",
    "    kilometer = miles * 1.62\n",
    "    print(\"distance in kilometer: \",kilometer)"
   ]
  },
  {
   "cell_type": "code",
   "execution_count": 27,
   "id": "8a5f97ff-d492-410e-b1df-7284edc1805c",
   "metadata": {},
   "outputs": [
    {
     "name": "stdout",
     "output_type": "stream",
     "text": [
      "distance in kilometer:  3.5154\n"
     ]
    }
   ],
   "source": [
    "convert(2.17)"
   ]
  },
  {
   "cell_type": "code",
   "execution_count": 28,
   "id": "b54b3d15-8180-4117-a48b-1b642945e9d2",
   "metadata": {},
   "outputs": [
    {
     "name": "stdout",
     "output_type": "stream",
     "text": [
      "distance in kilometer:  10.0602\n"
     ]
    }
   ],
   "source": [
    "convert(6.21)"
   ]
  },
  {
   "cell_type": "code",
   "execution_count": 31,
   "id": "027711b4-9f13-49fc-a51e-a3ad5d9296ea",
   "metadata": {},
   "outputs": [],
   "source": [
    "import random"
   ]
  },
  {
   "cell_type": "code",
   "execution_count": 32,
   "id": "ae7c3478-95ac-42ea-a7ce-9e2e68dabaca",
   "metadata": {},
   "outputs": [],
   "source": [
    "# access random number using \"Random\"\n",
    "def random_number(x):\n",
    "    rng = random.Random()\n",
    "    for i in range(x):\n",
    "        random_number = rng.random()\n",
    "        print(\"random_number\",random_number)"
   ]
  },
  {
   "cell_type": "code",
   "execution_count": 33,
   "id": "1330e1df-fb9e-480d-96ec-80d0f96145cd",
   "metadata": {},
   "outputs": [
    {
     "name": "stdout",
     "output_type": "stream",
     "text": [
      "random_number 0.017444422693753237\n",
      "random_number 0.2544468768739284\n",
      "random_number 0.9587089565993208\n",
      "random_number 0.5840769846875188\n",
      "random_number 0.34443637339094413\n"
     ]
    }
   ],
   "source": [
    "random_number(5)"
   ]
  },
  {
   "cell_type": "code",
   "execution_count": 34,
   "id": "0e047542-f3e8-4ad0-97e0-28f0aaff53c6",
   "metadata": {},
   "outputs": [
    {
     "name": "stdout",
     "output_type": "stream",
     "text": [
      "random_number 0.7098417292156709\n",
      "random_number 0.2549805494563091\n",
      "random_number 0.8418184467698785\n",
      "random_number 0.4596726376472431\n",
      "random_number 0.7190206171038521\n",
      "random_number 0.895717118409745\n",
      "random_number 0.587328579378271\n",
      "random_number 0.8208792420494663\n",
      "random_number 0.6789477071895601\n",
      "random_number 0.2386197910672755\n"
     ]
    }
   ],
   "source": [
    "random_number(10)"
   ]
  },
  {
   "cell_type": "code",
   "execution_count": null,
   "id": "a70d7eae-c290-4c8d-bd08-a8b6e25853f2",
   "metadata": {},
   "outputs": [],
   "source": []
  }
 ],
 "metadata": {
  "kernelspec": {
   "display_name": "Python 3 (ipykernel)",
   "language": "python",
   "name": "python3"
  },
  "language_info": {
   "codemirror_mode": {
    "name": "ipython",
    "version": 3
   },
   "file_extension": ".py",
   "mimetype": "text/x-python",
   "name": "python",
   "nbconvert_exporter": "python",
   "pygments_lexer": "ipython3",
   "version": "3.11.7"
  },
  "widgets": {
   "application/vnd.jupyter.widget-state+json": {
    "state": {},
    "version_major": 2,
    "version_minor": 0
   }
  }
 },
 "nbformat": 4,
 "nbformat_minor": 5
}
