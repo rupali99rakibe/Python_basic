{
 "cells": [
  {
   "cell_type": "code",
   "execution_count": 1,
   "id": "24c2fd13",
   "metadata": {},
   "outputs": [],
   "source": [
    "rupali = [1000,1500,1200,4500,1500,1000,4555]\n",
    "nikita = [1500,1200,4500,111,3333,5555]\n",
    "def expense():\n",
    "    total = 0\n",
    "    for i in rupali:\n",
    "        total += i\n",
    "    print(total)   "
   ]
  },
  {
   "cell_type": "code",
   "execution_count": 2,
   "id": "39a72a25",
   "metadata": {},
   "outputs": [
    {
     "name": "stdout",
     "output_type": "stream",
     "text": [
      "15255\n"
     ]
    }
   ],
   "source": [
    "expense()"
   ]
  },
  {
   "cell_type": "code",
   "execution_count": 3,
   "id": "12bd88d8",
   "metadata": {},
   "outputs": [],
   "source": [
    "def expense(name):\n",
    "    total = 0\n",
    "    for i in name:\n",
    "        total += i\n",
    "    print(total)"
   ]
  },
  {
   "cell_type": "code",
   "execution_count": 4,
   "id": "77c9f489",
   "metadata": {},
   "outputs": [
    {
     "name": "stdout",
     "output_type": "stream",
     "text": [
      "15255\n"
     ]
    }
   ],
   "source": [
    "expense(rupali)"
   ]
  },
  {
   "cell_type": "code",
   "execution_count": 5,
   "id": "e8ad7aab",
   "metadata": {},
   "outputs": [],
   "source": [
    "# function have a four type\n",
    "# 1.function with no parameter (Use for create a new function)\n",
    "# 2. function with parameter  (we require a parameter)\n",
    "# 3. function with default parameter (default parameter use to initiallize values no argument require/provided for parameter)\n",
    "# 4. function with return parameter (if a function block can be use any where in program)"
   ]
  },
  {
   "cell_type": "code",
   "execution_count": 6,
   "id": "cc0fca4a",
   "metadata": {},
   "outputs": [],
   "source": [
    "# function with no parameter\n",
    "def func_name():\n",
    "    print(\"This is func with no parameter\")"
   ]
  },
  {
   "cell_type": "code",
   "execution_count": 7,
   "id": "47fda18d",
   "metadata": {},
   "outputs": [
    {
     "name": "stdout",
     "output_type": "stream",
     "text": [
      "This is func with no parameter\n"
     ]
    }
   ],
   "source": [
    "func_name()"
   ]
  },
  {
   "cell_type": "code",
   "execution_count": 8,
   "id": "46d14f6f",
   "metadata": {},
   "outputs": [],
   "source": [
    "# function with parameter\n",
    "def test(a,b):\n",
    "    c = a + b\n",
    "    print(c)"
   ]
  },
  {
   "cell_type": "code",
   "execution_count": 9,
   "id": "ab342aa2",
   "metadata": {},
   "outputs": [
    {
     "name": "stdout",
     "output_type": "stream",
     "text": [
      "25\n"
     ]
    }
   ],
   "source": [
    "test(10,15)"
   ]
  },
  {
   "cell_type": "code",
   "execution_count": 10,
   "id": "4a5e1763",
   "metadata": {},
   "outputs": [
    {
     "name": "stdout",
     "output_type": "stream",
     "text": [
      "121\n"
     ]
    }
   ],
   "source": [
    "num1 = 10\n",
    "num2 = 111\n",
    "def test(a,b):\n",
    "    c = num1 + num2\n",
    "    print(c)\n",
    "test(num1,num2)"
   ]
  },
  {
   "cell_type": "code",
   "execution_count": 11,
   "id": "eee22b3c",
   "metadata": {},
   "outputs": [
    {
     "name": "stdout",
     "output_type": "stream",
     "text": [
      "30\n"
     ]
    }
   ],
   "source": [
    "# function with default parameter\n",
    "def add(a,b):\n",
    "    c = a + b\n",
    "    print(c)\n",
    "add(10,20)"
   ]
  },
  {
   "cell_type": "code",
   "execution_count": 12,
   "id": "25205c9a",
   "metadata": {},
   "outputs": [
    {
     "name": "stdout",
     "output_type": "stream",
     "text": [
      "30\n"
     ]
    }
   ],
   "source": [
    "def add(a = 10 ,b = 20):\n",
    "    c = a + b\n",
    "    print(c)\n",
    "add()"
   ]
  },
  {
   "cell_type": "code",
   "execution_count": 13,
   "id": "07df4253",
   "metadata": {},
   "outputs": [],
   "source": [
    "def add(a = 10,b = 20):\n",
    "    c = a + b\n",
    "    print(c)"
   ]
  },
  {
   "cell_type": "code",
   "execution_count": 14,
   "id": "cc0e11da",
   "metadata": {},
   "outputs": [
    {
     "name": "stdout",
     "output_type": "stream",
     "text": [
      "30\n"
     ]
    }
   ],
   "source": [
    "# function with return parameter\n",
    "def add(a,b):\n",
    "    c = a + b\n",
    "    print(c)\n",
    "add(10,20)"
   ]
  },
  {
   "cell_type": "code",
   "execution_count": 15,
   "id": "03cbbcfa",
   "metadata": {},
   "outputs": [],
   "source": [
    "def add(a,b):\n",
    "    \"\"\"This function will return addition of two numbers\"\"\"\n",
    "    print(c)"
   ]
  },
  {
   "cell_type": "code",
   "execution_count": 16,
   "id": "b09d3a0d",
   "metadata": {},
   "outputs": [
    {
     "data": {
      "text/plain": [
       "(10, 20, 30, 40)"
      ]
     },
     "execution_count": 16,
     "metadata": {},
     "output_type": "execute_result"
    }
   ],
   "source": [
    "def test(a,b,c,d):\n",
    "    return a,b,c,d\n",
    "test(10,20,30,40)"
   ]
  },
  {
   "cell_type": "code",
   "execution_count": 17,
   "id": "683524a0",
   "metadata": {},
   "outputs": [],
   "source": [
    "# In a function of two type of parameter use because to reduce the parameter/argument error it means no fix value in a function.\n",
    "# 1. Star argument , 2. double star keyword argument"
   ]
  },
  {
   "cell_type": "code",
   "execution_count": 18,
   "id": "2446eb88",
   "metadata": {},
   "outputs": [],
   "source": [
    "# 1. Star argument - (use for a only single element, e.g int,float,str,list,tuple,set)"
   ]
  },
  {
   "cell_type": "code",
   "execution_count": 19,
   "id": "95256c14",
   "metadata": {},
   "outputs": [],
   "source": [
    "def test(*args):\n",
    "    return args"
   ]
  },
  {
   "cell_type": "code",
   "execution_count": 20,
   "id": "d8ce2336",
   "metadata": {},
   "outputs": [
    {
     "data": {
      "text/plain": [
       "()"
      ]
     },
     "execution_count": 20,
     "metadata": {},
     "output_type": "execute_result"
    }
   ],
   "source": [
    "test()"
   ]
  },
  {
   "cell_type": "code",
   "execution_count": 21,
   "id": "aac095c1",
   "metadata": {},
   "outputs": [
    {
     "data": {
      "text/plain": [
       "(10,)"
      ]
     },
     "execution_count": 21,
     "metadata": {},
     "output_type": "execute_result"
    }
   ],
   "source": [
    "test(10)"
   ]
  },
  {
   "cell_type": "code",
   "execution_count": 22,
   "id": "21bf5b52",
   "metadata": {},
   "outputs": [
    {
     "data": {
      "text/plain": [
       "(11, 23)"
      ]
     },
     "execution_count": 22,
     "metadata": {},
     "output_type": "execute_result"
    }
   ],
   "source": [
    "test(11,23)"
   ]
  },
  {
   "cell_type": "code",
   "execution_count": 23,
   "id": "8a352e9d",
   "metadata": {},
   "outputs": [],
   "source": [
    "# 2.double star keyword argument(**kwargs) - (use for add a double element like dictionary format like keys and values)"
   ]
  },
  {
   "cell_type": "code",
   "execution_count": 24,
   "id": "dddc5cb7",
   "metadata": {},
   "outputs": [],
   "source": [
    "def test1(**kwargs):\n",
    "    return kwargs"
   ]
  },
  {
   "cell_type": "code",
   "execution_count": 25,
   "id": "6d636d04",
   "metadata": {},
   "outputs": [
    {
     "data": {
      "text/plain": [
       "{'name': 'rupali', 'age': 24, 'village': 'dhodambe'}"
      ]
     },
     "execution_count": 25,
     "metadata": {},
     "output_type": "execute_result"
    }
   ],
   "source": [
    "test1(name = \"rupali\",age = 24 ,village = \"dhodambe\")"
   ]
  },
  {
   "cell_type": "code",
   "execution_count": 26,
   "id": "96afdcd8",
   "metadata": {},
   "outputs": [
    {
     "name": "stdout",
     "output_type": "stream",
     "text": [
      "[10, 20, 30, 15]\n"
     ]
    }
   ],
   "source": [
    "l = [10,20,30]\n",
    "l.append(15)\n",
    "print(l)"
   ]
  },
  {
   "cell_type": "code",
   "execution_count": 27,
   "id": "e1016046",
   "metadata": {},
   "outputs": [],
   "source": [
    "l = [10,20,30]\n",
    "r = [1,2,3,4,5]\n",
    "def test(variable,num):\n",
    "    variable.append(num)\n",
    "    print(variable)"
   ]
  },
  {
   "cell_type": "code",
   "execution_count": 28,
   "id": "29be6d73",
   "metadata": {},
   "outputs": [
    {
     "name": "stdout",
     "output_type": "stream",
     "text": [
      "[10, 20, 30, 'python']\n"
     ]
    }
   ],
   "source": [
    "test(l,\"python\")"
   ]
  },
  {
   "cell_type": "code",
   "execution_count": 29,
   "id": "5fc4c268",
   "metadata": {},
   "outputs": [
    {
     "name": "stdout",
     "output_type": "stream",
     "text": [
      "[1, 2, 3, 4, 5, 9]\n"
     ]
    }
   ],
   "source": [
    "test(r,9)"
   ]
  },
  {
   "cell_type": "code",
   "execution_count": 30,
   "id": "ef4a55da",
   "metadata": {},
   "outputs": [],
   "source": [
    "# Local variable and Global variable"
   ]
  },
  {
   "cell_type": "code",
   "execution_count": 31,
   "id": "77f547e8",
   "metadata": {},
   "outputs": [
    {
     "name": "stdout",
     "output_type": "stream",
     "text": [
      "21\n"
     ]
    }
   ],
   "source": [
    "a = 10 \n",
    "def add(num):\n",
    "    print(num + 11)\n",
    "add(a)"
   ]
  },
  {
   "cell_type": "code",
   "execution_count": 32,
   "id": "218ae39f",
   "metadata": {},
   "outputs": [
    {
     "name": "stdout",
     "output_type": "stream",
     "text": [
      "10\n"
     ]
    }
   ],
   "source": [
    "print(a)"
   ]
  },
  {
   "cell_type": "code",
   "execution_count": 33,
   "id": "3c90485e",
   "metadata": {},
   "outputs": [],
   "source": [
    "a = 10\n",
    "def add(num):\n",
    "    b = 10\n",
    "    print(b + 11)"
   ]
  },
  {
   "cell_type": "code",
   "execution_count": 34,
   "id": "6cfb2ed1",
   "metadata": {},
   "outputs": [
    {
     "name": "stdout",
     "output_type": "stream",
     "text": [
      "21\n"
     ]
    }
   ],
   "source": [
    "add(a)"
   ]
  },
  {
   "cell_type": "code",
   "execution_count": 35,
   "id": "9794e6e4",
   "metadata": {},
   "outputs": [
    {
     "name": "stdout",
     "output_type": "stream",
     "text": [
      "5\n",
      "10\n",
      "15\n",
      "20\n",
      "25\n",
      "30\n",
      "35\n",
      "40\n",
      "45\n",
      "50\n"
     ]
    }
   ],
   "source": [
    "num = 5\n",
    "for i in range(1,11):\n",
    "    print(i * num)"
   ]
  },
  {
   "cell_type": "code",
   "execution_count": 36,
   "id": "dcca5830",
   "metadata": {},
   "outputs": [
    {
     "name": "stdout",
     "output_type": "stream",
     "text": [
      "5\n",
      "10\n",
      "15\n",
      "20\n",
      "25\n",
      "30\n",
      "35\n",
      "40\n",
      "45\n",
      "50\n"
     ]
    }
   ],
   "source": [
    "num = 5\n",
    "def multiplication():\n",
    "    for i in range(1,11):\n",
    "        print(i * num)\n",
    "multiplication()"
   ]
  },
  {
   "cell_type": "code",
   "execution_count": 37,
   "id": "934a841d",
   "metadata": {},
   "outputs": [],
   "source": [
    "num = 5\n",
    "def factorial(num):\n",
    "    fact = 1\n",
    "    for i in range(1,num+1):\n",
    "        fact = fact*i\n",
    "    print(fact)"
   ]
  },
  {
   "cell_type": "code",
   "execution_count": 38,
   "id": "660b5061",
   "metadata": {},
   "outputs": [
    {
     "name": "stdout",
     "output_type": "stream",
     "text": [
      "120\n"
     ]
    }
   ],
   "source": [
    "factorial(num)"
   ]
  },
  {
   "cell_type": "code",
   "execution_count": 39,
   "id": "c59141a9",
   "metadata": {},
   "outputs": [
    {
     "data": {
      "text/plain": [
       "'Python is hard'"
      ]
     },
     "execution_count": 39,
     "metadata": {},
     "output_type": "execute_result"
    }
   ],
   "source": [
    "s = \"Python is easy\"\n",
    "s.replace(\"easy\",\"hard\")"
   ]
  },
  {
   "cell_type": "code",
   "execution_count": 40,
   "id": "29a6752b",
   "metadata": {},
   "outputs": [],
   "source": [
    "def test(sample,old,new):\n",
    "    return(sample.replace(old,new))"
   ]
  },
  {
   "cell_type": "code",
   "execution_count": 41,
   "id": "e53f4ee9",
   "metadata": {},
   "outputs": [
    {
     "data": {
      "text/plain": [
       "'Python is hard'"
      ]
     },
     "execution_count": 41,
     "metadata": {},
     "output_type": "execute_result"
    }
   ],
   "source": [
    "r = test(s,\"easy\",\"hard\")\n",
    "r"
   ]
  },
  {
   "cell_type": "code",
   "execution_count": 42,
   "id": "93460e99",
   "metadata": {},
   "outputs": [],
   "source": [
    "# lambda Function - it can use to take a multiple parameter argument, but execution has to be only one"
   ]
  },
  {
   "cell_type": "code",
   "execution_count": 43,
   "id": "c21d1620",
   "metadata": {},
   "outputs": [],
   "source": [
    "test = lambda a,b :a+b"
   ]
  },
  {
   "cell_type": "code",
   "execution_count": 44,
   "id": "d571720a",
   "metadata": {},
   "outputs": [
    {
     "data": {
      "text/plain": [
       "33"
      ]
     },
     "execution_count": 44,
     "metadata": {},
     "output_type": "execute_result"
    }
   ],
   "source": [
    "test(11,22)"
   ]
  },
  {
   "cell_type": "code",
   "execution_count": 45,
   "id": "961663c0",
   "metadata": {},
   "outputs": [],
   "source": [
    "test = lambda s : s.strip()"
   ]
  },
  {
   "cell_type": "code",
   "execution_count": 46,
   "id": "d4c99d86",
   "metadata": {},
   "outputs": [
    {
     "data": {
      "text/plain": [
       "'rrrrrr'"
      ]
     },
     "execution_count": 46,
     "metadata": {},
     "output_type": "execute_result"
    }
   ],
   "source": [
    "test(\"     rrrrrr  \")"
   ]
  },
  {
   "cell_type": "code",
   "execution_count": 47,
   "id": "6c817cfc",
   "metadata": {},
   "outputs": [
    {
     "name": "stdout",
     "output_type": "stream",
     "text": [
      "['python', 'sql', 'html', 'css', 'js']\n",
      "[11, 10, 20, 10.55]\n"
     ]
    }
   ],
   "source": [
    "# python practice\n",
    "r = ['python','sql',11,10,20,['html','css','js'],10.55]\n",
    "alpha = []\n",
    "numbers = [] \n",
    "for i in r:\n",
    "    if type(i) == str:\n",
    "        alpha.append(i)\n",
    "    elif type(i) == int or type(i) == float:\n",
    "        numbers.append(i)\n",
    "    elif type(i) == list:\n",
    "        for j in i:\n",
    "            if type(j)  == str:\n",
    "                alpha.append(j)\n",
    "print(alpha)\n",
    "print(numbers)"
   ]
  },
  {
   "cell_type": "code",
   "execution_count": 48,
   "id": "26c47ee2",
   "metadata": {},
   "outputs": [
    {
     "name": "stdout",
     "output_type": "stream",
     "text": [
      "['python', 'sql', 'html', 'css', 'js', 'value', 'rupali']\n",
      "[11, 10, 20, 11]\n"
     ]
    }
   ],
   "source": [
    "r = ['python','sql',11,10,20,['html','css','js'],10.5,{'key':'value','name':\"rupali\",'age':11}]\n",
    "alpha = []\n",
    "number = []\n",
    "for i in r:\n",
    "    if type(i) == str:\n",
    "        alpha.append(i)\n",
    "    elif type(i) == int:\n",
    "        number.append(i)\n",
    "    elif type(i) == list:\n",
    "        for j in i:\n",
    "            if type(j) == str:\n",
    "                alpha.append(j)\n",
    "    elif type(i) == dict:\n",
    "        for k in i:\n",
    "            if type(i[k]) == str:\n",
    "                alpha.append(i[k])\n",
    "            elif type(i[k]) == int:\n",
    "                number.append(i[k])\n",
    "    \n",
    "print(alpha)\n",
    "print(number)"
   ]
  }
 ],
 "metadata": {
  "kernelspec": {
   "display_name": "Python 3 (ipykernel)",
   "language": "python",
   "name": "python3"
  },
  "language_info": {
   "codemirror_mode": {
    "name": "ipython",
    "version": 3
   },
   "file_extension": ".py",
   "mimetype": "text/x-python",
   "name": "python",
   "nbconvert_exporter": "python",
   "pygments_lexer": "ipython3",
   "version": "3.11.5"
  }
 },
 "nbformat": 4,
 "nbformat_minor": 5
}
