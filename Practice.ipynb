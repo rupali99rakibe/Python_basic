{
 "cells": [
  {
   "cell_type": "code",
   "execution_count": 1,
   "id": "66ac34fe",
   "metadata": {},
   "outputs": [],
   "source": [
    "r = \"Learning python is easy learning python is python\""
   ]
  },
  {
   "cell_type": "code",
   "execution_count": 2,
   "id": "8a3405f5",
   "metadata": {},
   "outputs": [],
   "source": [
    "l = r.split()"
   ]
  },
  {
   "cell_type": "code",
   "execution_count": 3,
   "id": "1e512f0a",
   "metadata": {},
   "outputs": [
    {
     "data": {
      "text/plain": [
       "['Learning', 'python', 'is', 'easy', 'learning', 'python', 'is', 'python']"
      ]
     },
     "execution_count": 3,
     "metadata": {},
     "output_type": "execute_result"
    }
   ],
   "source": [
    "l"
   ]
  },
  {
   "cell_type": "code",
   "execution_count": 4,
   "id": "7b005097",
   "metadata": {},
   "outputs": [
    {
     "data": {
      "text/plain": [
       "'python'"
      ]
     },
     "execution_count": 4,
     "metadata": {},
     "output_type": "execute_result"
    }
   ],
   "source": [
    "l[-1]"
   ]
  },
  {
   "cell_type": "code",
   "execution_count": 6,
   "id": "f30f8b45",
   "metadata": {},
   "outputs": [
    {
     "data": {
      "text/plain": [
       "'Learning'"
      ]
     },
     "execution_count": 6,
     "metadata": {},
     "output_type": "execute_result"
    }
   ],
   "source": [
    "l[0]"
   ]
  },
  {
   "cell_type": "code",
   "execution_count": 8,
   "id": "a5b0f05d",
   "metadata": {},
   "outputs": [
    {
     "data": {
      "text/plain": [
       "'python'"
      ]
     },
     "execution_count": 8,
     "metadata": {},
     "output_type": "execute_result"
    }
   ],
   "source": [
    "r.split()[-1]"
   ]
  },
  {
   "cell_type": "code",
   "execution_count": 2,
   "id": "751b7bf3",
   "metadata": {},
   "outputs": [
    {
     "name": "stdout",
     "output_type": "stream",
     "text": [
      "it is palindrome\n"
     ]
    }
   ],
   "source": [
    "# Palindrome\n",
    "r = \"wow\"\n",
    "r1 = r[-3::]\n",
    "if r == r1:\n",
    "    print(\"it is palindrome\")\n",
    "else:\n",
    "    print(\"it is palindrome\")"
   ]
  },
  {
   "cell_type": "code",
   "execution_count": 4,
   "id": "f0aef369",
   "metadata": {},
   "outputs": [
    {
     "name": "stdout",
     "output_type": "stream",
     "text": [
      "it is palindrome\n"
     ]
    }
   ],
   "source": [
    "r = 121\n",
    "r1 = str(r)[::-1]\n",
    "if r == int(r1):\n",
    "    print(\"it is palindrome\")\n",
    "else:\n",
    "    print(\"it is not palindrome\")"
   ]
  },
  {
   "cell_type": "code",
   "execution_count": 5,
   "id": "eaa59057",
   "metadata": {},
   "outputs": [
    {
     "name": "stdout",
     "output_type": "stream",
     "text": [
      "P\n",
      "Y\n",
      "T\n",
      "H\n",
      "O\n",
      "N\n",
      " \n",
      "I\n",
      "S\n",
      " \n",
      "E\n",
      "A\n",
      "S\n",
      "Y\n"
     ]
    }
   ],
   "source": [
    "r = \"PYTHON IS EASY\"\n",
    "for i in r:\n",
    "    print(i)"
   ]
  },
  {
   "cell_type": "code",
   "execution_count": 6,
   "id": "028aa223",
   "metadata": {},
   "outputs": [
    {
     "name": "stdout",
     "output_type": "stream",
     "text": [
      "P\n",
      "Y\n",
      "T\n",
      "H\n",
      "O\n",
      "N\n",
      "I\n",
      "S\n",
      "E\n",
      "A\n",
      "S\n",
      "Y\n"
     ]
    }
   ],
   "source": [
    "for i in r:\n",
    "    if i.isupper() == True:\n",
    "        print(i)"
   ]
  },
  {
   "cell_type": "code",
   "execution_count": 9,
   "id": "7ab86d0e",
   "metadata": {},
   "outputs": [
    {
     "name": "stdout",
     "output_type": "stream",
     "text": [
      "['P', 'Y', 'T', 'H', 'O', 'N', 'I', 'S', 'E', 'A', 'S', 'Y']\n"
     ]
    }
   ],
   "source": [
    "upper = []\n",
    "for i in r:\n",
    "    if i.isupper() == True:\n",
    "        upper.append(i)\n",
    "print(upper)"
   ]
  },
  {
   "cell_type": "code",
   "execution_count": 10,
   "id": "c09b8161",
   "metadata": {},
   "outputs": [
    {
     "name": "stdout",
     "output_type": "stream",
     "text": [
      "1000\n",
      "1500\n",
      "1200\n"
     ]
    }
   ],
   "source": [
    "l = [1000,1500,1200]\n",
    "for i in l:\n",
    "    print(i)"
   ]
  },
  {
   "cell_type": "code",
   "execution_count": 11,
   "id": "d03d0cec",
   "metadata": {},
   "outputs": [
    {
     "name": "stdout",
     "output_type": "stream",
     "text": [
      "1000\n",
      "2500\n",
      "3700\n"
     ]
    }
   ],
   "source": [
    "total = 0\n",
    "for i in l:\n",
    "    total += i\n",
    "    print(total)"
   ]
  },
  {
   "cell_type": "code",
   "execution_count": 13,
   "id": "afd3238c",
   "metadata": {},
   "outputs": [
    {
     "name": "stdout",
     "output_type": "stream",
     "text": [
      "15255\n"
     ]
    }
   ],
   "source": [
    "rupali = [1000,1500,1200,4500,1500,1000,4555]\n",
    "nikita = [1500,1200,4500,111,3333,5555]\n",
    "total = 0\n",
    "for i in rupali:\n",
    "    total += i\n",
    "print(total)"
   ]
  },
  {
   "cell_type": "code",
   "execution_count": 15,
   "id": "56cbed1a",
   "metadata": {},
   "outputs": [
    {
     "name": "stdout",
     "output_type": "stream",
     "text": [
      "16199\n"
     ]
    }
   ],
   "source": [
    "total = 0\n",
    "for i in nikita:\n",
    "    total += i\n",
    "print(total)"
   ]
  }
 ],
 "metadata": {
  "kernelspec": {
   "display_name": "Python 3 (ipykernel)",
   "language": "python",
   "name": "python3"
  },
  "language_info": {
   "codemirror_mode": {
    "name": "ipython",
    "version": 3
   },
   "file_extension": ".py",
   "mimetype": "text/x-python",
   "name": "python",
   "nbconvert_exporter": "python",
   "pygments_lexer": "ipython3",
   "version": "3.11.5"
  }
 },
 "nbformat": 4,
 "nbformat_minor": 5
}
