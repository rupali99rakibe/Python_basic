{
 "cells": [
  {
   "cell_type": "code",
   "execution_count": 1,
   "id": "0bd4925f",
   "metadata": {},
   "outputs": [],
   "source": [
    "import numpy as np"
   ]
  },
  {
   "cell_type": "code",
   "execution_count": 35,
   "id": "45cad25a",
   "metadata": {},
   "outputs": [
    {
     "data": {
      "text/plain": [
       "'We Are Learning Data Science Library'"
      ]
     },
     "execution_count": 35,
     "metadata": {},
     "output_type": "execute_result"
    }
   ],
   "source": [
    "l = \"We Are Learning Data Science Library\"\n",
    "l"
   ]
  },
  {
   "cell_type": "code",
   "execution_count": 6,
   "id": "de7b73c6",
   "metadata": {},
   "outputs": [
    {
     "data": {
      "text/plain": [
       "chararray(['We Are Learning Data Science Library'], dtype='<U36')"
      ]
     },
     "execution_count": 6,
     "metadata": {},
     "output_type": "execute_result"
    }
   ],
   "source": [
    "np.char.array(l)"
   ]
  },
  {
   "cell_type": "code",
   "execution_count": null,
   "id": "250e1ec7",
   "metadata": {},
   "outputs": [],
   "source": [
    "np.char.capitalize(l)"
   ]
  },
  {
   "cell_type": "code",
   "execution_count": 28,
   "id": "3cb980ce",
   "metadata": {},
   "outputs": [
    {
     "data": {
      "text/plain": [
       "array('       We Are Learning Data Science Library       ', dtype='<U50')"
      ]
     },
     "execution_count": 28,
     "metadata": {},
     "output_type": "execute_result"
    }
   ],
   "source": [
    "a = np.char.center(l,50)\n",
    "a"
   ]
  },
  {
   "cell_type": "code",
   "execution_count": null,
   "id": "619b7c4c",
   "metadata": {},
   "outputs": [],
   "source": [
    "np.char.center(l,50,\"*\")"
   ]
  },
  {
   "cell_type": "code",
   "execution_count": 7,
   "id": "c1da162d",
   "metadata": {},
   "outputs": [
    {
     "data": {
      "text/plain": [
       "array(4)"
      ]
     },
     "execution_count": 7,
     "metadata": {},
     "output_type": "execute_result"
    }
   ],
   "source": [
    "np.char.count(l,\"a\")\n"
   ]
  },
  {
   "cell_type": "code",
   "execution_count": 8,
   "id": "40a732ca",
   "metadata": {},
   "outputs": [
    {
     "data": {
      "text/plain": [
       "array(0)"
      ]
     },
     "execution_count": 8,
     "metadata": {},
     "output_type": "execute_result"
    }
   ],
   "source": [
    "np.char.count(l,\"l\")"
   ]
  },
  {
   "cell_type": "code",
   "execution_count": 5,
   "id": "cfa3be7f",
   "metadata": {},
   "outputs": [
    {
     "data": {
      "text/plain": [
       "array(0)"
      ]
     },
     "execution_count": 5,
     "metadata": {},
     "output_type": "execute_result"
    }
   ],
   "source": [
    "np.char.count(l,\"l\")"
   ]
  },
  {
   "cell_type": "code",
   "execution_count": 9,
   "id": "67bbb9f3",
   "metadata": {},
   "outputs": [
    {
     "data": {
      "text/plain": [
       "array(9)"
      ]
     },
     "execution_count": 9,
     "metadata": {},
     "output_type": "execute_result"
    }
   ],
   "source": [
    "np.char.find(l,\"a\")"
   ]
  },
  {
   "cell_type": "code",
   "execution_count": 10,
   "id": "61f4b100",
   "metadata": {},
   "outputs": [
    {
     "data": {
      "text/plain": [
       "array(True)"
      ]
     },
     "execution_count": 10,
     "metadata": {},
     "output_type": "execute_result"
    }
   ],
   "source": [
    "np.char.endswith(l,\"y\")"
   ]
  },
  {
   "cell_type": "code",
   "execution_count": 11,
   "id": "30b80898",
   "metadata": {},
   "outputs": [
    {
     "data": {
      "text/plain": [
       "array('we are learning data science library', dtype='<U36')"
      ]
     },
     "execution_count": 11,
     "metadata": {},
     "output_type": "execute_result"
    }
   ],
   "source": [
    "np.char.lower(l)"
   ]
  },
  {
   "cell_type": "code",
   "execution_count": 12,
   "id": "080c6611",
   "metadata": {},
   "outputs": [
    {
     "data": {
      "text/plain": [
       "array('WE ARE LEARNING DATA SCIENCE LIBRARY', dtype='<U36')"
      ]
     },
     "execution_count": 12,
     "metadata": {},
     "output_type": "execute_result"
    }
   ],
   "source": [
    "np.char.upper(l)"
   ]
  },
  {
   "cell_type": "code",
   "execution_count": 13,
   "id": "1d4e225e",
   "metadata": {},
   "outputs": [
    {
     "data": {
      "text/plain": [
       "array('We Are Learning Data Science Library', dtype='<U36')"
      ]
     },
     "execution_count": 13,
     "metadata": {},
     "output_type": "execute_result"
    }
   ],
   "source": [
    "np.char.title(l)"
   ]
  },
  {
   "cell_type": "code",
   "execution_count": 14,
   "id": "0c8f5948",
   "metadata": {},
   "outputs": [
    {
     "data": {
      "text/plain": [
       "True"
      ]
     },
     "execution_count": 14,
     "metadata": {},
     "output_type": "execute_result"
    }
   ],
   "source": [
    "np.char.bool_(l)"
   ]
  },
  {
   "cell_type": "code",
   "execution_count": 16,
   "id": "e1308ee3",
   "metadata": {},
   "outputs": [
    {
     "data": {
      "text/plain": [
       "array(False)"
      ]
     },
     "execution_count": 16,
     "metadata": {},
     "output_type": "execute_result"
    }
   ],
   "source": [
    "np.char.islower(l)"
   ]
  },
  {
   "cell_type": "code",
   "execution_count": 17,
   "id": "86e1bf6a",
   "metadata": {},
   "outputs": [
    {
     "data": {
      "text/plain": [
       "array(False)"
      ]
     },
     "execution_count": 17,
     "metadata": {},
     "output_type": "execute_result"
    }
   ],
   "source": [
    "np.char.isupper(l)"
   ]
  },
  {
   "cell_type": "code",
   "execution_count": 18,
   "id": "c93665d6",
   "metadata": {},
   "outputs": [
    {
     "data": {
      "text/plain": [
       "array(['FCD', 'VFG', 'HJK'], dtype='<U3')"
      ]
     },
     "execution_count": 18,
     "metadata": {},
     "output_type": "execute_result"
    }
   ],
   "source": [
    "l = ['fcd','vfg','hjk']\n",
    "np.char.upper(l)"
   ]
  },
  {
   "cell_type": "code",
   "execution_count": 19,
   "id": "d61d8757",
   "metadata": {},
   "outputs": [
    {
     "data": {
      "text/plain": [
       "array(['adg', 'ghj', 'tyu', 'rte'], dtype='<U3')"
      ]
     },
     "execution_count": 19,
     "metadata": {},
     "output_type": "execute_result"
    }
   ],
   "source": [
    "l = ['ADG','GHJ','TYU','RTE']\n",
    "np.char.lower(l)"
   ]
  },
  {
   "cell_type": "code",
   "execution_count": 22,
   "id": "b92bb71d",
   "metadata": {},
   "outputs": [
    {
     "data": {
      "text/plain": [
       "array([False, False, False, False, False,  True, False,  True, False,\n",
       "        True,  True, False])"
      ]
     },
     "execution_count": 22,
     "metadata": {},
     "output_type": "execute_result"
    }
   ],
   "source": [
    "l = ['vbh','xgf','rtu','jkh','klj',1,'cdf',3,'jkl',4,5,'fnk']\n",
    "np.char.isnumeric(l)"
   ]
  },
  {
   "cell_type": "code",
   "execution_count": 23,
   "id": "96a77fe7",
   "metadata": {},
   "outputs": [
    {
     "data": {
      "text/plain": [
       "['vbh', 'xgf', 'rtu', 'jkh', 'klj', 1, 'cdf', 3, 'jkl', 4, 5, 'fnk']"
      ]
     },
     "execution_count": 23,
     "metadata": {},
     "output_type": "execute_result"
    }
   ],
   "source": [
    "l"
   ]
  },
  {
   "cell_type": "code",
   "execution_count": 45,
   "id": "4cff3df8",
   "metadata": {},
   "outputs": [
    {
     "data": {
      "text/plain": [
       "array('       We Are Learning Data Science Library       ', dtype='<U50')"
      ]
     },
     "execution_count": 45,
     "metadata": {},
     "output_type": "execute_result"
    }
   ],
   "source": [
    "a"
   ]
  },
  {
   "cell_type": "code",
   "execution_count": 31,
   "id": "c6465a82",
   "metadata": {},
   "outputs": [
    {
     "data": {
      "text/plain": [
       "array('We Are Learning Data Science Library       ', dtype='<U50')"
      ]
     },
     "execution_count": 31,
     "metadata": {},
     "output_type": "execute_result"
    }
   ],
   "source": [
    "np.char.lstrip(a)"
   ]
  },
  {
   "cell_type": "code",
   "execution_count": 32,
   "id": "195dc483",
   "metadata": {},
   "outputs": [
    {
     "data": {
      "text/plain": [
       "array('       We Are Learning Data Science Library', dtype='<U50')"
      ]
     },
     "execution_count": 32,
     "metadata": {},
     "output_type": "execute_result"
    }
   ],
   "source": [
    "np.char.rstrip(a)"
   ]
  },
  {
   "cell_type": "code",
   "execution_count": 33,
   "id": "9c63d29a",
   "metadata": {},
   "outputs": [
    {
     "data": {
      "text/plain": [
       "array('We Are Learning Data Science Library', dtype='<U50')"
      ]
     },
     "execution_count": 33,
     "metadata": {},
     "output_type": "execute_result"
    }
   ],
   "source": [
    "np.char.strip(a)"
   ]
  },
  {
   "cell_type": "code",
   "execution_count": 37,
   "id": "81db5750",
   "metadata": {},
   "outputs": [
    {
     "data": {
      "text/plain": [
       "array('       We Are Learning Data Science Library              We Are Learning Data Science Library       ',\n",
       "      dtype='<U100')"
      ]
     },
     "execution_count": 37,
     "metadata": {},
     "output_type": "execute_result"
    }
   ],
   "source": [
    "np.char.multiply(a,2)"
   ]
  },
  {
   "cell_type": "code",
   "execution_count": 40,
   "id": "0614ca69",
   "metadata": {},
   "outputs": [
    {
     "data": {
      "text/plain": [
       "array('We Are Learning Data Science LibraryWe Are Learning Data Science Library',\n",
       "      dtype='<U72')"
      ]
     },
     "execution_count": 40,
     "metadata": {},
     "output_type": "execute_result"
    }
   ],
   "source": [
    "np.char.multiply(l,2)"
   ]
  },
  {
   "cell_type": "code",
   "execution_count": 41,
   "id": "b3b40a1d",
   "metadata": {},
   "outputs": [
    {
     "data": {
      "text/plain": [
       "array(b'We Are Learning Data Science Library', dtype='|S36')"
      ]
     },
     "execution_count": 41,
     "metadata": {},
     "output_type": "execute_result"
    }
   ],
   "source": [
    "np.char.encode(l)"
   ]
  },
  {
   "cell_type": "code",
   "execution_count": 42,
   "id": "2e0fb913",
   "metadata": {},
   "outputs": [
    {
     "data": {
      "text/plain": [
       "array(b'       We Are Learning Data Science Library       ', dtype='|S50')"
      ]
     },
     "execution_count": 42,
     "metadata": {},
     "output_type": "execute_result"
    }
   ],
   "source": [
    "np.char.encode(a)"
   ]
  },
  {
   "cell_type": "code",
   "execution_count": 47,
   "id": "8c22c72e",
   "metadata": {},
   "outputs": [
    {
     "data": {
      "text/plain": [
       "array('', dtype='<U1')"
      ]
     },
     "execution_count": 47,
     "metadata": {},
     "output_type": "execute_result"
    }
   ],
   "source": [
    "np.char.join(a,\"\")\n"
   ]
  },
  {
   "cell_type": "code",
   "execution_count": 52,
   "id": "02ba2444",
   "metadata": {},
   "outputs": [
    {
     "data": {
      "text/plain": [
       "chararray(['we are learning python'], dtype='<U22')"
      ]
     },
     "execution_count": 52,
     "metadata": {},
     "output_type": "execute_result"
    }
   ],
   "source": [
    "a = np.char.array(\"we are learning python\")\n",
    "a"
   ]
  },
  {
   "cell_type": "code",
   "execution_count": 53,
   "id": "fbe5d460",
   "metadata": {},
   "outputs": [
    {
     "data": {
      "text/plain": [
       "array([3])"
      ]
     },
     "execution_count": 53,
     "metadata": {},
     "output_type": "execute_result"
    }
   ],
   "source": [
    "np.char.count(a,\"e\")"
   ]
  },
  {
   "cell_type": "code",
   "execution_count": 58,
   "id": "fe0808f0",
   "metadata": {},
   "outputs": [
    {
     "data": {
      "text/plain": [
       "chararray(['neha', 'sneha', 'neva', 'nene'], dtype='<U5')"
      ]
     },
     "execution_count": 58,
     "metadata": {},
     "output_type": "execute_result"
    }
   ],
   "source": [
    "l = np.char.array(['neha','sneha','neva','nene'])\n",
    "l"
   ]
  },
  {
   "cell_type": "code",
   "execution_count": 59,
   "id": "5072d60c",
   "metadata": {},
   "outputs": [
    {
     "data": {
      "text/plain": [
       "array([1, 1, 1, 2])"
      ]
     },
     "execution_count": 59,
     "metadata": {},
     "output_type": "execute_result"
    }
   ],
   "source": [
    "np.char.count(l,\"ne\")"
   ]
  },
  {
   "cell_type": "code",
   "execution_count": 60,
   "id": "b748b4c9",
   "metadata": {},
   "outputs": [
    {
     "data": {
      "text/plain": [
       "array([1, 1, 1, 2])"
      ]
     },
     "execution_count": 60,
     "metadata": {},
     "output_type": "execute_result"
    }
   ],
   "source": [
    "np.char.count(l,\"n\")"
   ]
  },
  {
   "cell_type": "code",
   "execution_count": 64,
   "id": "a05d31be",
   "metadata": {},
   "outputs": [
    {
     "data": {
      "text/plain": [
       "array([['', 'n', 'eha'],\n",
       "       ['s', 'n', 'eha'],\n",
       "       ['', 'n', 'eva'],\n",
       "       ['ne', 'n', 'e']], dtype='<U3')"
      ]
     },
     "execution_count": 64,
     "metadata": {},
     "output_type": "execute_result"
    }
   ],
   "source": [
    "np.char.rpartition(l,\"n\")"
   ]
  },
  {
   "cell_type": "code",
   "execution_count": 65,
   "id": "2ee3aa59",
   "metadata": {},
   "outputs": [
    {
     "data": {
      "text/plain": [
       "array([list(['neha']), list(['sneha']), list(['neva']), list(['nene'])],\n",
       "      dtype=object)"
      ]
     },
     "execution_count": 65,
     "metadata": {},
     "output_type": "execute_result"
    }
   ],
   "source": [
    "np.char.rsplit(l)"
   ]
  },
  {
   "cell_type": "code",
   "execution_count": 66,
   "id": "e020ef3f",
   "metadata": {},
   "outputs": [
    {
     "data": {
      "text/plain": [
       "b\"['neha' 'sneha' 'neva' 'nene']\""
      ]
     },
     "execution_count": 66,
     "metadata": {},
     "output_type": "execute_result"
    }
   ],
   "source": [
    "np.char.asbytes(l)"
   ]
  },
  {
   "cell_type": "code",
   "execution_count": 68,
   "id": "79d11806",
   "metadata": {},
   "outputs": [
    {
     "data": {
      "text/plain": [
       "'We Are Learning Data Science Library'"
      ]
     },
     "execution_count": 68,
     "metadata": {},
     "output_type": "execute_result"
    }
   ],
   "source": [
    "l = \"We Are Learning Data Science Library\"\n",
    "l"
   ]
  },
  {
   "cell_type": "code",
   "execution_count": 70,
   "id": "9bc016a9",
   "metadata": {},
   "outputs": [
    {
     "data": {
      "text/plain": [
       "array(b'We Are Learning Data Science Library', dtype='|S36')"
      ]
     },
     "execution_count": 70,
     "metadata": {},
     "output_type": "execute_result"
    }
   ],
   "source": [
    "a = np.char.encode(l)\n",
    "a"
   ]
  },
  {
   "cell_type": "code",
   "execution_count": 71,
   "id": "07d70405",
   "metadata": {},
   "outputs": [
    {
     "data": {
      "text/plain": [
       "array('We Are Learning Data Science Library', dtype='<U36')"
      ]
     },
     "execution_count": 71,
     "metadata": {},
     "output_type": "execute_result"
    }
   ],
   "source": [
    "np.char.decode(a)"
   ]
  },
  {
   "cell_type": "code",
   "execution_count": 2,
   "id": "9fc55ef1",
   "metadata": {},
   "outputs": [],
   "source": [
    "import numpy as np"
   ]
  },
  {
   "cell_type": "code",
   "execution_count": 3,
   "id": "0a5bd030",
   "metadata": {},
   "outputs": [],
   "source": [
    "l = \"learning python\""
   ]
  },
  {
   "cell_type": "code",
   "execution_count": 4,
   "id": "47714990",
   "metadata": {},
   "outputs": [
    {
     "data": {
      "text/plain": [
       "array(3)"
      ]
     },
     "execution_count": 4,
     "metadata": {},
     "output_type": "execute_result"
    }
   ],
   "source": [
    "np.char.count(l,\"n\")"
   ]
  },
  {
   "cell_type": "code",
   "execution_count": null,
   "id": "01c81f3a",
   "metadata": {},
   "outputs": [],
   "source": []
  }
 ],
 "metadata": {
  "kernelspec": {
   "display_name": "Python 3 (ipykernel)",
   "language": "python",
   "name": "python3"
  },
  "language_info": {
   "codemirror_mode": {
    "name": "ipython",
    "version": 3
   },
   "file_extension": ".py",
   "mimetype": "text/x-python",
   "name": "python",
   "nbconvert_exporter": "python",
   "pygments_lexer": "ipython3",
   "version": "3.9.12"
  }
 },
 "nbformat": 4,
 "nbformat_minor": 5
}
