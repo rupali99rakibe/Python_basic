{
 "cells": [
  {
   "cell_type": "code",
   "execution_count": 8,
   "id": "af5e166d-27fb-487b-b609-4c1e745970b1",
   "metadata": {},
   "outputs": [],
   "source": [
    "emails=['abc@gmail.com','xyz@gmail.com'],\n",
    "urls=['www.a.com','www.b.com']"
   ]
  },
  {
   "cell_type": "code",
   "execution_count": 20,
   "id": "0593b355-624a-44df-bfa4-3e52bab66153",
   "metadata": {},
   "outputs": [
    {
     "name": "stdout",
     "output_type": "stream",
     "text": [
      "{'abc@gmail.com': 'www.a.com', 'xyz@gmail.com': 'www.bcom'}\n"
     ]
    }
   ],
   "source": [
    "emails=['abc@gmail.com','xyz@gmail.com']\n",
    "urls=['www.a.com','www.bcom']\n",
    "d = {}\n",
    "for i in range(len(emails)):\n",
    "    d[emails[i]] = urls[i]\n",
    "print(d)"
   ]
  },
  {
   "cell_type": "code",
   "execution_count": 18,
   "id": "1edb3747-2bba-4a19-9238-0be9ecabe64b",
   "metadata": {},
   "outputs": [
    {
     "name": "stdout",
     "output_type": "stream",
     "text": [
      "{'abc@gmail.com': 'www.a.com', 'xyz@gmail.com': 'www.bcom'}\n"
     ]
    }
   ],
   "source": [
    "emails = ['abc@gmail.com', 'xyz@gmail.com']\n",
    "urls = ['www.a.com', 'www.bcom']\n",
    "\n",
    "my_dict = {}\n",
    "for i in range(len(emails)):\n",
    "    my_dict[emails[i]] = urls[i]\n",
    "\n",
    "print(my_dict)"
   ]
  },
  {
   "cell_type": "code",
   "execution_count": 22,
   "id": "3472635d-c4ae-4a0b-8f4f-61c8d681bafd",
   "metadata": {},
   "outputs": [
    {
     "data": {
      "text/plain": [
       "'gmail.com'"
      ]
     },
     "execution_count": 22,
     "metadata": {},
     "output_type": "execute_result"
    }
   ],
   "source": [
    "# find the domain of each email\n",
    "a = \"abc@gmail.com\"\n",
    "username, domain = a.split(\"@\")\n",
    "domain"
   ]
  },
  {
   "cell_type": "code",
   "execution_count": 23,
   "id": "e843f121-7069-498c-9575-ae9240d92a96",
   "metadata": {},
   "outputs": [
    {
     "data": {
      "text/plain": [
       "'gmail.com'"
      ]
     },
     "execution_count": 23,
     "metadata": {},
     "output_type": "execute_result"
    }
   ],
   "source": [
    "a = \"abc@gmail.com\"\n",
    "a.split(\"@\")[1]"
   ]
  },
  {
   "cell_type": "code",
   "execution_count": 25,
   "id": "2b78d032-e281-4742-8b2a-0f8d55d5a1f9",
   "metadata": {},
   "outputs": [
    {
     "data": {
      "text/plain": [
       "['', 'a.com']"
      ]
     },
     "execution_count": 25,
     "metadata": {},
     "output_type": "execute_result"
    }
   ],
   "source": [
    "#  find the domain of url\n",
    "b = 'www.a.com'\n",
    "b.split('www.')"
   ]
  },
  {
   "cell_type": "code",
   "execution_count": 26,
   "id": "8ba8e549-777b-4771-8c5e-1abc25231c05",
   "metadata": {},
   "outputs": [
    {
     "data": {
      "text/plain": [
       "'a.com'"
      ]
     },
     "execution_count": 26,
     "metadata": {},
     "output_type": "execute_result"
    }
   ],
   "source": [
    "b = 'www.a.com'\n",
    "b.split('www.')[1]"
   ]
  },
  {
   "cell_type": "code",
   "execution_count": 33,
   "id": "eded323e-fdc5-4a73-bf2b-d23f4302e8b6",
   "metadata": {},
   "outputs": [
    {
     "name": "stdout",
     "output_type": "stream",
     "text": [
      "{'a.com': 2, 'b.com': 1, 'c.com': 1, 'd.com': 1, 's.com': 1, 'k.com': 1}\n"
     ]
    }
   ],
   "source": [
    "# count the number of times each URL while ignoring the ones that do not matter\n",
    "input = ['a.com','b.com','c.com','d.com'],['a.com','s.com','k.com']\n",
    "dict = {}\n",
    "for i in input:\n",
    "    for j in i:\n",
    "        if j in dict:\n",
    "            dict[j] += 1\n",
    "        else:\n",
    "            dict[j] = 1\n",
    "print(dict)"
   ]
  },
  {
   "cell_type": "code",
   "execution_count": 50,
   "id": "a1e00d8d-3dac-4e55-a6b8-9d87fe4c2e5e",
   "metadata": {},
   "outputs": [
    {
     "name": "stdout",
     "output_type": "stream",
     "text": [
      "['www.a.com', 'www.b.com', 'www.c.com', 'www.d.com']\n"
     ]
    }
   ],
   "source": [
    "# return the dictionary www attached\n",
    "input = ['a.com','b.com','c.com','d.com']\n",
    "l = []\n",
    "for i in input:\n",
    "    www_domain = 'www.' + i\n",
    "    l.append(www_domain)\n",
    "print(l)"
   ]
  },
  {
   "cell_type": "code",
   "execution_count": 46,
   "id": "bae2050a-32eb-4939-ae6b-d59a00dbafd5",
   "metadata": {},
   "outputs": [
    {
     "name": "stdout",
     "output_type": "stream",
     "text": [
      "{'www.a.com': 'a.com', 'www.b.com': 'b.com', 'www.c.com': 'c.com', 'www.d.com': 'd.com'}\n"
     ]
    }
   ],
   "source": [
    "input = ['a.com', 'b.com', 'c.com', 'd.com']\n",
    "dict = {}\n",
    "\n",
    "for i in input:\n",
    "    www_domain = 'www.' + i\n",
    "    dict[www_domain] = i  # Setting the value to None\n",
    "print(dict)"
   ]
  },
  {
   "cell_type": "code",
   "execution_count": 49,
   "id": "fd48c659-2f4e-4e7e-80f6-0f3e35022d6d",
   "metadata": {},
   "outputs": [
    {
     "name": "stdout",
     "output_type": "stream",
     "text": [
      "['www.a.com', 'www.b.com', 'www.c.com', 'www.d.com']\n"
     ]
    }
   ],
   "source": [
    "input = ['a.com','b.com','c.com','d.com']\n",
    "l = []\n",
    "for i in input:\n",
    "    www_domain = 'www.' + i\n",
    "    l.append(www_domain)\n",
    "print(l)"
   ]
  },
  {
   "cell_type": "code",
   "execution_count": 54,
   "id": "091683b5-f6b1-400f-96eb-de0c0f6bedc8",
   "metadata": {},
   "outputs": [
    {
     "name": "stdout",
     "output_type": "stream",
     "text": [
      "['a.com']\n"
     ]
    }
   ],
   "source": [
    "urls = ['www.a.com', 'www.bcom']\n",
    "l = []\n",
    "for i in urls:\n",
    "    a = i.split('.')\n",
    "    if len(a) >= 3:\n",
    "        l.append(a[1] + '.' + a[2])\n",
    "print(l)"
   ]
  },
  {
   "cell_type": "code",
   "execution_count": 55,
   "id": "03971f78-7d93-4799-a278-7aa944377f0b",
   "metadata": {},
   "outputs": [
    {
     "name": "stdout",
     "output_type": "stream",
     "text": [
      "['a.com', 'b.com']\n"
     ]
    }
   ],
   "source": [
    "urls = ['www.a.com', 'www.b.com']\n",
    "l = []\n",
    "for i in urls:\n",
    "    a = i.split('.')\n",
    "    if len(a) >= 3:  # Added a colon here\n",
    "        l.append(a[1] + '.' + a[2])\n",
    "print(l)\n"
   ]
  },
  {
   "cell_type": "code",
   "execution_count": null,
   "id": "adf81f17-a0b9-428a-a2e8-cd64966ccd82",
   "metadata": {},
   "outputs": [],
   "source": []
  }
 ],
 "metadata": {
  "kernelspec": {
   "display_name": "Python 3 (ipykernel)",
   "language": "python",
   "name": "python3"
  },
  "language_info": {
   "codemirror_mode": {
    "name": "ipython",
    "version": 3
   },
   "file_extension": ".py",
   "mimetype": "text/x-python",
   "name": "python",
   "nbconvert_exporter": "python",
   "pygments_lexer": "ipython3",
   "version": "3.11.7"
  },
  "widgets": {
   "application/vnd.jupyter.widget-state+json": {
    "state": {},
    "version_major": 2,
    "version_minor": 0
   }
  }
 },
 "nbformat": 4,
 "nbformat_minor": 5
}
