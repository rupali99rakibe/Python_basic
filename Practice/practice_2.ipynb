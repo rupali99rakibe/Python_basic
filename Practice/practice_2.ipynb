{
 "cells": [
  {
   "cell_type": "code",
   "execution_count": 1,
   "id": "61756983-cac2-46dd-88bf-dbea0f4a082e",
   "metadata": {},
   "outputs": [
    {
     "name": "stdin",
     "output_type": "stream",
     "text": [
      " 12\n"
     ]
    },
    {
     "name": "stdout",
     "output_type": "stream",
     "text": [
      "11110011\n"
     ]
    }
   ],
   "source": [
    "N = int(input())\n",
    "binary = []\n",
    "\n",
    "# Convert the number from decimal to binary\n",
    "for i in range(7,-1,-1):\n",
    "    bit = (N>>i) & 1\n",
    "    binary.append(bit)\n",
    "# Toggle the bits\n",
    "st = \"\"\n",
    "for digit in binary:\n",
    "    if digit == 1:\n",
    "        st += '0'\n",
    "    else:\n",
    "        st +='1'\n",
    "print(st)"
   ]
  },
  {
   "cell_type": "markdown",
   "id": "2b9e9999-b3d5-4540-8323-5c4758bcc4ed",
   "metadata": {},
   "source": [
    "# Toggling code for binary conversion"
   ]
  },
  {
   "cell_type": "code",
   "execution_count": 2,
   "id": "5c2960f5-7710-4f20-9c45-27d3c71bcff4",
   "metadata": {},
   "outputs": [
    {
     "name": "stdin",
     "output_type": "stream",
     "text": [
      " 12\n"
     ]
    },
    {
     "name": "stdout",
     "output_type": "stream",
     "text": [
      "0011\n"
     ]
    }
   ],
   "source": [
    "# Take the value of N as input \n",
    "N = int(input())\n",
    "\n",
    "# Find most significant non-zero bit position\n",
    "msb_position = 7\n",
    "while ((N >> msb_position) & 1) == 0 and msb_position > 0:\n",
    "    msb_position -= 1\n",
    "# Convert the number from decimal to binary and toggle the bits\n",
    "st = ''\n",
    "for i in range(msb_position,-1,-1):\n",
    "    bit = (N >> i) & 1\n",
    "    if bit == 1:\n",
    "        st += '0'\n",
    "    else:\n",
    "        st += '1'\n",
    "print(st)"
   ]
  },
  {
   "cell_type": "markdown",
   "id": "0a0a0890-bd8a-4e01-a714-93a659a92c94",
   "metadata": {},
   "source": [
    "# Toggling of Decimal number"
   ]
  },
  {
   "cell_type": "code",
   "execution_count": 3,
   "id": "6ed85bda-6a1e-44aa-b799-57132edf057a",
   "metadata": {},
   "outputs": [
    {
     "name": "stdin",
     "output_type": "stream",
     "text": [
      " 34\n"
     ]
    },
    {
     "name": "stdout",
     "output_type": "stream",
     "text": [
      "29\n"
     ]
    }
   ],
   "source": [
    "# Take the value of n as input\n",
    "\n",
    "N = int(input())\n",
    "binary = bin(N)[2:]\n",
    "st=''\n",
    "for i in binary:\n",
    "    if i == '1':\n",
    "        st+='0'\n",
    "        # Toggling the bit at that position 1 is their we need to added 0 and vice versa\n",
    "    else:\n",
    "        st+='1'\n",
    "        # this will convert number from binary to decimal\n",
    "print(int(st,2))"
   ]
  },
  {
   "cell_type": "code",
   "execution_count": 4,
   "id": "c8667b6c-2cf3-43ee-b6ed-b6ab1e8752a4",
   "metadata": {},
   "outputs": [
    {
     "name": "stdin",
     "output_type": "stream",
     "text": [
      " asdfghi23456#@$%^&\n"
     ]
    },
    {
     "name": "stdout",
     "output_type": "stream",
     "text": [
      "2 5 5 6\n"
     ]
    }
   ],
   "source": [
    "S = input()\n",
    "# four variable for storing the count of vowels, consonants, digits, special\n",
    "vowel = 0\n",
    "consonant = 0\n",
    "digit = 0\n",
    "special = 0\n",
    "\n",
    "vowels = \"aeiou\"\n",
    "specials=\"!@#$%^&*+/*-\"\n",
    "digits = '1234567890'\n",
    "for i in S:\n",
    "    if i in vowels:\n",
    "        vowel += 1\n",
    "    elif i not in digits and i not in vowels and i not in specials:\n",
    "        consonant+=1\n",
    "    elif i in digits:\n",
    "        digit+=1\n",
    "    else:\n",
    "        special+=1\n",
    "print(vowel,consonant,digit,special)"
   ]
  },
  {
   "cell_type": "code",
   "execution_count": 5,
   "id": "35907a1b-c0cd-4f3a-9238-18cf8f3f8d7d",
   "metadata": {},
   "outputs": [
    {
     "name": "stdin",
     "output_type": "stream",
     "text": [
      " DSFH32456#$%^&\n"
     ]
    },
    {
     "name": "stdout",
     "output_type": "stream",
     "text": [
      "0 5 5 4\n"
     ]
    }
   ],
   "source": [
    "S = input()\n",
    "vowel = 0\n",
    "special = 0\n",
    "digit = 0\n",
    "consonant = 0\n",
    "\n",
    "vowels = 'aeiou'\n",
    "digits = '1234567890'\n",
    "specials = '!@@#$%^&*/+-'\n",
    "\n",
    "for i in S:\n",
    "    if i in vowels:\n",
    "        vowel+=1\n",
    "    elif i in digits:\n",
    "        digit+=1\n",
    "    elif i in specials:\n",
    "        special+=1\n",
    "    else:\n",
    "        consonant+=1\n",
    "print(vowel,digit,special,consonant)"
   ]
  },
  {
   "cell_type": "code",
   "execution_count": 6,
   "id": "b3535b9c-83f2-4959-9f15-f3f5eae98c4e",
   "metadata": {},
   "outputs": [
    {
     "data": {
      "text/plain": [
       "'No, it is not divisible by 3'"
      ]
     },
     "execution_count": 6,
     "metadata": {},
     "output_type": "execute_result"
    }
   ],
   "source": [
    "# Create a function for long integer it is divisible by no.N\n",
    "def divisible_by(number_str):\n",
    "    # Convert the string to a list of digits\n",
    "    digits = [int(digit) for digit in number_str]\n",
    "    # calculate the sum of the digits\n",
    "    \n",
    "    digit_sum = sum(digits)\n",
    "    \n",
    "    # Check if the sum is divisible by N/3\n",
    "    \n",
    "    if digit_sum % 3 == 0:  # here put any number \n",
    "        return \"Yes, it is divisible by 3\"\n",
    "    else: \n",
    "        return \"No, it is not divisible by 3\"\n",
    "        \n",
    "# Example Usage\n",
    "number_str = \"23456798765\"\n",
    "divisible_by(\"23456798765\")"
   ]
  },
  {
   "cell_type": "code",
   "execution_count": 7,
   "id": "e2d96188-a6aa-4961-97d4-bf8c00779f95",
   "metadata": {},
   "outputs": [],
   "source": [
    "def divisible_by_3(number_str):\n",
    "    # Initiallize a variable to store the sum of digits\n",
    "    digit_sum = 0\n",
    "    # iterate through each character to an string \n",
    "    "
   ]
  },
  {
   "cell_type": "code",
   "execution_count": 44,
   "id": "58d41b6c-f2bf-4039-9394-a0ef0ff93351",
   "metadata": {},
   "outputs": [],
   "source": [
    "class Converter:\n",
    "    def __init__(self, n):\n",
    "        self.n = n  \n",
    "    def binary_convert(self):\n",
    "        if self.n > 1:\n",
    "            binary_convert(self.n // 2)\n",
    "        print(self.n % 2,end=\" \")\n",
    "    def octal_convert(self):\n",
    "        if self.n > 1:\n",
    "            octal_convert(self.n // 8)\n",
    "        print(self.n % 8,end=\"\")\n",
    "    def hexadecimal_convert(self):\n",
    "        if self.n > 1:\n",
    "            hexadecimal_convert(self.n // 16)\n",
    "        print(self.n % 16,end=\"\")"
   ]
  },
  {
   "cell_type": "code",
   "execution_count": 45,
   "id": "56cb4027-2975-41ed-a65a-dd1cd05bd6de",
   "metadata": {},
   "outputs": [],
   "source": [
    "c = Converter(66)"
   ]
  },
  {
   "cell_type": "code",
   "execution_count": 46,
   "id": "e7fa990c-a108-4d8f-adf0-a62860a81add",
   "metadata": {},
   "outputs": [
    {
     "name": "stdout",
     "output_type": "stream",
     "text": [
      "1 0 0 0 0 1 0 "
     ]
    }
   ],
   "source": [
    "c.binary_convert()"
   ]
  },
  {
   "cell_type": "code",
   "execution_count": 47,
   "id": "3ad0bb37-a48b-419f-863d-4eddcf903da0",
   "metadata": {},
   "outputs": [
    {
     "name": "stdout",
     "output_type": "stream",
     "text": [
      "102"
     ]
    }
   ],
   "source": [
    "c.octal_convert()"
   ]
  },
  {
   "cell_type": "code",
   "execution_count": 50,
   "id": "527b6420-ec59-4619-ab82-c5bc87ebabc9",
   "metadata": {},
   "outputs": [],
   "source": [
    "def hexadecimal_convert(n):\n",
    "    if n > 1:\n",
    "        hexadecimal_convert(n // 16)\n",
    "    print(n % 16,end=\"\")"
   ]
  },
  {
   "cell_type": "code",
   "execution_count": 51,
   "id": "55c73c55-61e5-47e1-a692-bb1c5cd6a599",
   "metadata": {},
   "outputs": [
    {
     "name": "stdout",
     "output_type": "stream",
     "text": [
      "0213"
     ]
    }
   ],
   "source": [
    "hexadecimal_convert(45)"
   ]
  },
  {
   "cell_type": "code",
   "execution_count": 37,
   "id": "0f312b5e-dfa6-43a0-99fb-af551e6201c7",
   "metadata": {},
   "outputs": [
    {
     "name": "stdout",
     "output_type": "stream",
     "text": [
      "1 0 1 1 1 "
     ]
    }
   ],
   "source": [
    "binary_convert(23)"
   ]
  },
  {
   "cell_type": "code",
   "execution_count": null,
   "id": "f259932d-d104-493e-9b1d-65160a569fd0",
   "metadata": {},
   "outputs": [],
   "source": [
    "c.hexadecimal_convert()"
   ]
  },
  {
   "cell_type": "code",
   "execution_count": 29,
   "id": "1ef58c36-1287-4c75-8f24-70c61bf73450",
   "metadata": {},
   "outputs": [],
   "source": [
    "class conversion:\n",
    "    def __init__(self, n):\n",
    "        self.n = n\n",
    "    def binary_convert(self):\n",
    "        if self.n > 1:\n",
    "            binary_convert(self.n // 2)\n",
    "        print(self.n % 2,end=\" \")\n",
    "    def octal_convert(self):\n",
    "        if self.n > 1:\n",
    "            octal_convert(self.n // 8)\n",
    "        print(self.n % 8,end=\"\")\n",
    "    def hexadecimal_convert(self):\n",
    "        if self.n > 1:\n",
    "            hexadecimal_convert(self.n // 16)\n",
    "        print(self.n % 16,end=\"\")"
   ]
  },
  {
   "cell_type": "code",
   "execution_count": 30,
   "id": "4f31829e-7785-4acf-bdbc-5cee272124ba",
   "metadata": {},
   "outputs": [],
   "source": [
    "c = conversion(19)"
   ]
  },
  {
   "cell_type": "code",
   "execution_count": 52,
   "id": "488fde18-8fc0-43cc-bdfa-42940d269a9c",
   "metadata": {},
   "outputs": [
    {
     "name": "stdout",
     "output_type": "stream",
     "text": [
      "1 0 0 0 0 1 0 "
     ]
    }
   ],
   "source": [
    "c.binary_convert()"
   ]
  },
  {
   "cell_type": "code",
   "execution_count": 53,
   "id": "66913a96-469f-4249-88e5-90c4f82ee458",
   "metadata": {},
   "outputs": [
    {
     "name": "stdout",
     "output_type": "stream",
     "text": [
      "102"
     ]
    }
   ],
   "source": [
    "c.octal_convert()"
   ]
  },
  {
   "cell_type": "code",
   "execution_count": 55,
   "id": "4ea7d422-8323-4243-b3bd-19215bf93ea7",
   "metadata": {},
   "outputs": [
    {
     "name": "stdout",
     "output_type": "stream",
     "text": [
      "042"
     ]
    }
   ],
   "source": [
    "c.hexadecimal_convert()"
   ]
  },
  {
   "cell_type": "code",
   "execution_count": null,
   "id": "e20ab297-9dbe-4564-8f45-8ace4d19ca4f",
   "metadata": {},
   "outputs": [],
   "source": []
  }
 ],
 "metadata": {
  "kernelspec": {
   "display_name": "Python 3 (ipykernel)",
   "language": "python",
   "name": "python3"
  },
  "language_info": {
   "codemirror_mode": {
    "name": "ipython",
    "version": 3
   },
   "file_extension": ".py",
   "mimetype": "text/x-python",
   "name": "python",
   "nbconvert_exporter": "python",
   "pygments_lexer": "ipython3",
   "version": "3.11.7"
  },
  "widgets": {
   "application/vnd.jupyter.widget-state+json": {
    "state": {},
    "version_major": 2,
    "version_minor": 0
   }
  }
 },
 "nbformat": 4,
 "nbformat_minor": 5
}
