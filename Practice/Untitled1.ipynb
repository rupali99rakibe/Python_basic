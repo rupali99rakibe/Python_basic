{
 "cells": [
  {
   "cell_type": "code",
   "execution_count": 1,
   "id": "ea34f3eb-a5b7-4858-9b63-cfd1b85bc9a0",
   "metadata": {},
   "outputs": [],
   "source": [
    "# Find the factorial without multiplication and division.\n",
    "def factorial(n):\n",
    "    if n==0 or n==1:\n",
    "        return 1\n",
    "    else:\n",
    "        return sum_n(n,factorial(n-1))\n",
    "def sum_n(x,y):\n",
    "    result = 0\n",
    "    for i in range(y):\n",
    "        result += x\n",
    "    return result      "
   ]
  },
  {
   "cell_type": "code",
   "execution_count": 2,
   "id": "97afd867-c5a4-425b-9b05-ac304ae27201",
   "metadata": {
    "scrolled": true
   },
   "outputs": [
    {
     "data": {
      "text/plain": [
       "120"
      ]
     },
     "execution_count": 2,
     "metadata": {},
     "output_type": "execute_result"
    }
   ],
   "source": [
    "factorial(5)"
   ]
  },
  {
   "cell_type": "code",
   "execution_count": 16,
   "id": "a8d095aa-027c-4c93-91dc-2b0a7a1e55c6",
   "metadata": {},
   "outputs": [
    {
     "data": {
      "text/plain": [
       "720"
      ]
     },
     "execution_count": 16,
     "metadata": {},
     "output_type": "execute_result"
    }
   ],
   "source": [
    "def factorial(p):\n",
    "    if p == 0 or p == 1:\n",
    "        return 1\n",
    "    else:\n",
    "        return add_n(p,factorial(p-1))\n",
    "def add_n(w,y):\n",
    "    total = 0\n",
    "    for i in range(w):\n",
    "        total+=y\n",
    "    return total\n",
    "factorial(6)"
   ]
  },
  {
   "cell_type": "code",
   "execution_count": 27,
   "id": "71384d48-2cad-47a1-a874-f2c4bf28af96",
   "metadata": {},
   "outputs": [],
   "source": [
    "def factorial(n):\n",
    "    fact = 1\n",
    "    for i in range(1,n+1):\n",
    "        fact = fact * i\n",
    "    return fact   "
   ]
  },
  {
   "cell_type": "code",
   "execution_count": 28,
   "id": "68c66bde-24ad-415b-a093-c66bc8f4a0a7",
   "metadata": {},
   "outputs": [
    {
     "data": {
      "text/plain": [
       "720"
      ]
     },
     "execution_count": 28,
     "metadata": {},
     "output_type": "execute_result"
    }
   ],
   "source": [
    "factorial(6)"
   ]
  },
  {
   "cell_type": "code",
   "execution_count": 23,
   "id": "ebb8cd78-fa2c-4b49-8641-f81cdf285ca9",
   "metadata": {},
   "outputs": [
    {
     "name": "stdout",
     "output_type": "stream",
     "text": [
      "5040\n"
     ]
    }
   ],
   "source": [
    "n = 7\n",
    "total = 1\n",
    "for i in range(1,n+1):\n",
    "    total = total*i\n",
    "print(total)"
   ]
  },
  {
   "cell_type": "code",
   "execution_count": null,
   "id": "d1a2a5cf-c251-41cf-825a-dc45f8a31001",
   "metadata": {},
   "outputs": [],
   "source": [
    "# write a program to calculate the pairs count in the given array such that the sum of the pairs is divisible by 2.\n",
    "# input : A[] = {2,2,1,7,5,3}\n",
    "# output: 7\n",
    "# pair -> (2,2),(1,7),(1,5),(1,3),(7,5),(7,3),(5,3)"
   ]
  },
  {
   "cell_type": "code",
   "execution_count": 29,
   "id": "24359e04-fdf0-4d49-bed8-d51dc8f545a7",
   "metadata": {},
   "outputs": [],
   "source": [
    "def count_pairs(arr):\n",
    "    count = 0\n",
    "    for i in range(len(arr)):\n",
    "        for j in range(i+1, len(arr)):\n",
    "            if(arr[i] + arr[j]) % 2 == 0:\n",
    "                count += 1\n",
    "    return count\n",
    "A = [2,2,1,7,5,3]"
   ]
  },
  {
   "cell_type": "code",
   "execution_count": 30,
   "id": "e865474f-c9e1-454f-bb6e-cd4f05436384",
   "metadata": {},
   "outputs": [
    {
     "data": {
      "text/plain": [
       "7"
      ]
     },
     "execution_count": 30,
     "metadata": {},
     "output_type": "execute_result"
    }
   ],
   "source": [
    "count_pairs(A)"
   ]
  },
  {
   "cell_type": "code",
   "execution_count": null,
   "id": "b2e97df9-9dd0-4904-89db-b6a8b740968a",
   "metadata": {},
   "outputs": [],
   "source": [
    "# problem Statement: Given a 2D array of n x m, consisting of only 1's and 0's. your mission is to find the Number with consisting the maximum number of 1's.\n",
    "#NOTE:Find the 0-based index of the first row that maximum number of 1's.If grid consist only zeros then return -1.\n",
    "# Example 1:\n",
    "# Input :\n",
    "# Example 1:\n",
    "# N = 4, M = 4\n",
    "# Arr[][] = {{0,1,1,1},\n",
    "{0,1,0,1},\n",
    "{0,0,0,0},\n",
    "{1,1,1,1}}"
   ]
  },
  {
   "cell_type": "code",
   "execution_count": 19,
   "id": "103a773f-fcf1-4959-bbf2-2a708fc607e1",
   "metadata": {},
   "outputs": [
    {
     "data": {
      "text/plain": [
       "3"
      ]
     },
     "execution_count": 19,
     "metadata": {},
     "output_type": "execute_result"
    }
   ],
   "source": [
    "def max_ones_row_index(arr):\n",
    "    max_ones_count = -1\n",
    "    max_ones_row = -1\n",
    "    for i in range(len(arr)):\n",
    "        ones_count = sum(arr[i])\n",
    "        if ones_count > max_ones_count:\n",
    "            max_ones_count = ones_count\n",
    "            max_ones_row = i\n",
    "    return max_ones_row\n",
    "arr = [\n",
    "    [0, 1, 1, 1],\n",
    "    [0, 1, 0, 1],\n",
    "    [0, 0, 0, 0],\n",
    "    [1, 1, 1, 1]\n",
    "]\n",
    "max_ones_row_index(arr)"
   ]
  },
  {
   "cell_type": "code",
   "execution_count": 10,
   "id": "d6cbb655-efa9-4d4f-9150-72a211a91a19",
   "metadata": {},
   "outputs": [
    {
     "data": {
      "text/plain": [
       "650"
      ]
     },
     "execution_count": 10,
     "metadata": {},
     "output_type": "execute_result"
    }
   ],
   "source": [
    "def sum_char_and_substring(r):\n",
    "    total_sum = 0\n",
    "    for char in r:\n",
    "        total_sum += ord(char)\n",
    "    for i in range(len(r)):\n",
    "        for j in range(i,len(r)):\n",
    "            substring = 0\n",
    "            for k in range(i, j+1):\n",
    "                substring += ord(r[k])\n",
    "            total_sum+=substring\n",
    "    return total_sum\n",
    "sum_char_and_substring(\"321\")"
   ]
  },
  {
   "cell_type": "code",
   "execution_count": 14,
   "id": "5bf9d197-9f54-4651-8abe-88d82963a767",
   "metadata": {},
   "outputs": [
    {
     "name": "stdout",
     "output_type": "stream",
     "text": [
      "Output: 170\n"
     ]
    }
   ],
   "source": [
    "def sum_of_characters_and_substrings(input_str):\n",
    "    total_sum = 0\n",
    "\n",
    "    # Calculate sum of individual characters\n",
    "    for char in input_str:\n",
    "        total_sum += ord(char)\n",
    "\n",
    "    # Calculate sum of all possible contiguous character combinations\n",
    "    for i in range(len(input_str)):\n",
    "        substring_sum = 0\n",
    "        for j in range(i, len(input_str)):\n",
    "            substring_sum += int(input_str[j])\n",
    "            total_sum += substring_sum\n",
    "\n",
    "    return total_sum\n",
    "\n",
    "# Input string\n",
    "input_string = \"321\"\n",
    "\n",
    "# Calculate sum\n",
    "result = sum_of_characters_and_substrings(input_string)\n",
    "\n",
    "# Print result\n",
    "print(\"Output:\", result)\n"
   ]
  },
  {
   "cell_type": "code",
   "execution_count": 10,
   "id": "01cfa477-9939-433d-a62e-5cb1df3e7487",
   "metadata": {},
   "outputs": [
    {
     "name": "stdout",
     "output_type": "stream",
     "text": [
      "None\n"
     ]
    }
   ],
   "source": [
    "a = [2,5,1,3,0]\n",
    "a = a.sort()\n",
    "print(a)"
   ]
  },
  {
   "cell_type": "code",
   "execution_count": 4,
   "id": "50946beb-dd3d-4b70-b126-182efc877344",
   "metadata": {},
   "outputs": [],
   "source": [
    "def find_smallest(arr):\n",
    "    smallest = arr[0]\n",
    "    for num in arr:\n",
    "        if num < smallest:\n",
    "            smallest = num\n",
    "    return smallest"
   ]
  },
  {
   "cell_type": "code",
   "execution_count": 5,
   "id": "c0845086-d929-4ae1-a16a-09da7d2de71e",
   "metadata": {},
   "outputs": [
    {
     "data": {
      "text/plain": [
       "0"
      ]
     },
     "execution_count": 5,
     "metadata": {},
     "output_type": "execute_result"
    }
   ],
   "source": [
    "find_smallest(a)"
   ]
  },
  {
   "cell_type": "code",
   "execution_count": 11,
   "id": "b4f7a5ec-4bfa-4864-bfa5-3f6cbbfcb057",
   "metadata": {},
   "outputs": [
    {
     "name": "stdout",
     "output_type": "stream",
     "text": [
      "[0, 1, 2, 3, 5]\n"
     ]
    }
   ],
   "source": [
    "a = [2, 5, 1, 3, 0]\n",
    "sorted_a = sorted(a)\n",
    "print(sorted_a)"
   ]
  },
  {
   "cell_type": "code",
   "execution_count": 15,
   "id": "b1fa5535-a903-4f12-ad5c-51f54255dc18",
   "metadata": {},
   "outputs": [
    {
     "name": "stdout",
     "output_type": "stream",
     "text": [
      "[1, 1, 2, 3, 4, 7]\n"
     ]
    },
    {
     "data": {
      "text/plain": [
       "1"
      ]
     },
     "execution_count": 15,
     "metadata": {},
     "output_type": "execute_result"
    }
   ],
   "source": [
    "r = [1,2,3,4,1,7]\n",
    "r.sort()\n",
    "print(r)\n",
    "r[0]"
   ]
  },
  {
   "cell_type": "code",
   "execution_count": 16,
   "id": "7dd38473-a254-46a0-bcfb-f6ef9304e397",
   "metadata": {},
   "outputs": [],
   "source": [
    "def find_largest(arr):\n",
    "    largest = arr[0]\n",
    "    for i in arr:\n",
    "        if i > largest:\n",
    "            largest = i\n",
    "    return largest"
   ]
  },
  {
   "cell_type": "code",
   "execution_count": 17,
   "id": "99a95244-7f2c-47ba-b07a-f28400a1e200",
   "metadata": {},
   "outputs": [
    {
     "data": {
      "text/plain": [
       "7"
      ]
     },
     "execution_count": 17,
     "metadata": {},
     "output_type": "execute_result"
    }
   ],
   "source": [
    "find_largest(r)"
   ]
  },
  {
   "cell_type": "code",
   "execution_count": 18,
   "id": "0c8b1681-fa83-4a58-bcde-8270c025b5dd",
   "metadata": {},
   "outputs": [],
   "source": [
    "# find the second smallest and second largest element in an array\n",
    "def second_smallest_and_second_largest(arr):\n",
    "    if len(arr) < 2:\n",
    "        return None, None\n",
    "    sorted_arr = sorted(arr)\n",
    "    second_smallest = sorted_arr[1]\n",
    "    second_largest = sorted_arr[-2]\n",
    "    return second_smallest,second_largest"
   ]
  },
  {
   "cell_type": "code",
   "execution_count": 19,
   "id": "9acfdd4a-3e2d-4e43-a4e1-4db757ffa727",
   "metadata": {},
   "outputs": [
    {
     "data": {
      "text/plain": [
       "(1, 4)"
      ]
     },
     "execution_count": 19,
     "metadata": {},
     "output_type": "execute_result"
    }
   ],
   "source": [
    "second_smallest_and_second_largest(r)"
   ]
  },
  {
   "cell_type": "code",
   "execution_count": 20,
   "id": "6cbd1578-8564-4c82-825c-609408ed617a",
   "metadata": {},
   "outputs": [],
   "source": [
    "# reverse a given array\n",
    "def reverse_array(arr):\n",
    "    reversed_arr = []\n",
    "    for i in range(len(arr) -1,-1,-1):\n",
    "        reversed_arr.append(arr[i])\n",
    "    return reversed_arr"
   ]
  },
  {
   "cell_type": "code",
   "execution_count": 21,
   "id": "fe4b82a1-4caa-420e-86f7-d8e2764ceb6d",
   "metadata": {},
   "outputs": [
    {
     "data": {
      "text/plain": [
       "[7, 4, 3, 2, 1, 1]"
      ]
     },
     "execution_count": 21,
     "metadata": {},
     "output_type": "execute_result"
    }
   ],
   "source": [
    "reverse_array(r)"
   ]
  },
  {
   "cell_type": "code",
   "execution_count": 22,
   "id": "ae1ef291-2aa5-475c-b8ff-2c544a68a446",
   "metadata": {},
   "outputs": [],
   "source": [
    "# Count the frequency of each element in an array \n",
    "def count_frequency(arr):\n",
    "    frequency_dict = {}\n",
    "    for element in arr:\n",
    "        if element in frequency_dict:\n",
    "            frequency_dict[element] += 1\n",
    "        else:\n",
    "            frequency_dict[element] = 1\n",
    "    return frequency_dict"
   ]
  },
  {
   "cell_type": "code",
   "execution_count": 23,
   "id": "8dd457bc-f737-4670-8a14-e804d26f03de",
   "metadata": {},
   "outputs": [
    {
     "data": {
      "text/plain": [
       "{1: 2, 2: 1, 3: 1, 4: 1, 7: 1}"
      ]
     },
     "execution_count": 23,
     "metadata": {},
     "output_type": "execute_result"
    }
   ],
   "source": [
    "count_frequency(r)"
   ]
  },
  {
   "cell_type": "code",
   "execution_count": 24,
   "id": "2fe95233-3608-4ad1-80a3-2edfa7b60461",
   "metadata": {},
   "outputs": [],
   "source": [
    "# reaarange array in increasing-decreasing order\n",
    "def rearrange_increasing_decreasing(arr):\n",
    "    arr.sort()\n",
    "    mid = len(arr)//2\n",
    "    increasing_half = arr[:mid]\n",
    "    decreasing_half = arr[mid:]\n",
    "    decreasing_half.reverse()\n",
    "    rearrange_arr = increasing_half + decreasing_half\n",
    "    return rearrange_arr"
   ]
  },
  {
   "cell_type": "code",
   "execution_count": 25,
   "id": "3fb4cf0a-2260-4a3a-a0e8-0247c80a91a1",
   "metadata": {},
   "outputs": [
    {
     "data": {
      "text/plain": [
       "[1, 1, 2, 7, 4, 3]"
      ]
     },
     "execution_count": 25,
     "metadata": {},
     "output_type": "execute_result"
    }
   ],
   "source": [
    "rearrange_increasing_decreasing(r)"
   ]
  },
  {
   "cell_type": "code",
   "execution_count": 26,
   "id": "aa6cb746-c967-4735-838e-35455ccaedf1",
   "metadata": {},
   "outputs": [],
   "source": [
    "# Calculate the sum of the elements of the array\n",
    "def array_sum(arr):\n",
    "    total = 0\n",
    "    for element in arr:\n",
    "        total += element\n",
    "    return total"
   ]
  },
  {
   "cell_type": "code",
   "execution_count": 27,
   "id": "2269109c-0a9f-456f-a77d-7dfe4b35f9e5",
   "metadata": {},
   "outputs": [
    {
     "data": {
      "text/plain": [
       "18"
      ]
     },
     "execution_count": 27,
     "metadata": {},
     "output_type": "execute_result"
    }
   ],
   "source": [
    "array_sum(r)"
   ]
  },
  {
   "cell_type": "code",
   "execution_count": 32,
   "id": "df12f630-b3a9-4b9c-bd98-661e0d844ca4",
   "metadata": {},
   "outputs": [],
   "source": [
    "# Rotate array by k elements Block swap algorithm\n",
    "def reverse(arr,k):\n",
    "    n = len(arr)\n",
    "    k %= n\n",
    "    def reverse(start,end):\n",
    "        while start < end:\n",
    "            arr[start], arr[end] = arr[end], arr[start]\n",
    "            start += 1\n",
    "            end -= 1\n",
    "    for i in range(k//2):\n",
    "        arr[i],arr[k-1-i] = arr[k-i-1],arr[i]\n",
    "    for i in range(k,(k+n)//2):\n",
    "        arr[i],arr[n-1-(i-k)] = arr[n-1-(i-k)],arr[i]\n",
    "    for i in range(n//2):\n",
    "        arr[i],arr[n-1] = arr[n-1-i],arr[i]"
   ]
  },
  {
   "cell_type": "code",
   "execution_count": 35,
   "id": "8027484e-2e79-42e1-bc54-7bf122de4636",
   "metadata": {},
   "outputs": [
    {
     "name": "stdout",
     "output_type": "stream",
     "text": [
      "[4, 4, 7, 7, 4, 1]\n"
     ]
    }
   ],
   "source": [
    "reverse(r,2)\n",
    "print(r)"
   ]
  },
  {
   "cell_type": "code",
   "execution_count": null,
   "id": "35d7936b-3282-4e42-9e57-e61831713001",
   "metadata": {},
   "outputs": [],
   "source": []
  }
 ],
 "metadata": {
  "kernelspec": {
   "display_name": "Python 3 (ipykernel)",
   "language": "python",
   "name": "python3"
  },
  "language_info": {
   "codemirror_mode": {
    "name": "ipython",
    "version": 3
   },
   "file_extension": ".py",
   "mimetype": "text/x-python",
   "name": "python",
   "nbconvert_exporter": "python",
   "pygments_lexer": "ipython3",
   "version": "3.11.7"
  },
  "widgets": {
   "application/vnd.jupyter.widget-state+json": {
    "state": {},
    "version_major": 2,
    "version_minor": 0
   }
  }
 },
 "nbformat": 4,
 "nbformat_minor": 5
}
