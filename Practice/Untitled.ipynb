{
 "cells": [
  {
   "cell_type": "markdown",
   "id": "f989dcb1-baaa-48d3-a45f-9c81a33746aa",
   "metadata": {},
   "source": [
    "# Find Minimum number in given list"
   ]
  },
  {
   "cell_type": "code",
   "execution_count": 1,
   "id": "80b36058-d860-44e0-a354-02b32b7e83c5",
   "metadata": {},
   "outputs": [
    {
     "name": "stdout",
     "output_type": "stream",
     "text": [
      "0\n"
     ]
    }
   ],
   "source": [
    "# Find the Smallest number in an array\n",
    "l = [11,2,3,6,0,23,67]\n",
    "for i in l:\n",
    "    minimum_value=min(l)\n",
    "print(minimum_value)"
   ]
  },
  {
   "cell_type": "code",
   "execution_count": 2,
   "id": "e19ded17-7934-4d6b-a34b-5a1bceab239d",
   "metadata": {},
   "outputs": [
    {
     "data": {
      "text/plain": [
       "0"
      ]
     },
     "execution_count": 2,
     "metadata": {},
     "output_type": "execute_result"
    }
   ],
   "source": [
    "l = [11,2,3,6,0,23,67]\n",
    "min(l)"
   ]
  },
  {
   "cell_type": "code",
   "execution_count": 3,
   "id": "10ea823f-99ea-43f9-86f4-f7bf43bb8296",
   "metadata": {},
   "outputs": [
    {
     "name": "stdout",
     "output_type": "stream",
     "text": [
      "5\n"
     ]
    }
   ],
   "source": [
    "arr = {2,5,1,3,0}\n",
    "arr = list(arr)\n",
    "arr.sort(reverse=True)\n",
    "print(arr[0])"
   ]
  },
  {
   "cell_type": "code",
   "execution_count": 4,
   "id": "3a557464-d34c-4c7e-893b-79e2622a8f9b",
   "metadata": {},
   "outputs": [],
   "source": [
    "def min_number(arr):\n",
    "    arr.sort(reverse=False)\n",
    "    print(arr[0])"
   ]
  },
  {
   "cell_type": "code",
   "execution_count": 5,
   "id": "d2ceacf4-2a4d-49c1-9db6-5ba8a45c9e0a",
   "metadata": {},
   "outputs": [
    {
     "name": "stdout",
     "output_type": "stream",
     "text": [
      "0\n"
     ]
    }
   ],
   "source": [
    "l1 = [8,10,5,7,9]\n",
    "l = [2,5,3,0]\n",
    "min_number(l)"
   ]
  },
  {
   "cell_type": "code",
   "execution_count": 6,
   "id": "e097ee40-770c-47e4-ad48-9fe51da30904",
   "metadata": {},
   "outputs": [
    {
     "name": "stdout",
     "output_type": "stream",
     "text": [
      "5\n"
     ]
    }
   ],
   "source": [
    "min_number(l1)"
   ]
  },
  {
   "cell_type": "code",
   "execution_count": 7,
   "id": "5dbce997-5d03-4329-8a23-ad056159d3cd",
   "metadata": {},
   "outputs": [],
   "source": [
    "def mini_number(arr):\n",
    "    print(min(arr))"
   ]
  },
  {
   "cell_type": "code",
   "execution_count": 8,
   "id": "f746f862-e012-4117-bf3c-6478c986db76",
   "metadata": {},
   "outputs": [
    {
     "name": "stdout",
     "output_type": "stream",
     "text": [
      "0\n"
     ]
    }
   ],
   "source": [
    "mini_number(l)"
   ]
  },
  {
   "cell_type": "code",
   "execution_count": 9,
   "id": "707b6e0e-1fba-44e6-88a0-13df65ea82e1",
   "metadata": {},
   "outputs": [
    {
     "name": "stdout",
     "output_type": "stream",
     "text": [
      "5\n"
     ]
    }
   ],
   "source": [
    "mini_number(l1)"
   ]
  },
  {
   "cell_type": "markdown",
   "id": "84e89f7d-3463-4a23-adb3-8f709039b430",
   "metadata": {},
   "source": [
    "# largest Number"
   ]
  },
  {
   "cell_type": "code",
   "execution_count": 10,
   "id": "65158f0e-7601-453d-98d8-a8e4fb1ce1eb",
   "metadata": {},
   "outputs": [],
   "source": [
    "# Largest number in an array \n",
    "r = [99,8,6,45,67,5]\n",
    "def max_number(arr):\n",
    "    arr.sort(reverse=True)\n",
    "    print(arr[0])"
   ]
  },
  {
   "cell_type": "code",
   "execution_count": 11,
   "id": "2138d011-83bf-46ce-b530-628fdf3442bc",
   "metadata": {},
   "outputs": [
    {
     "name": "stdout",
     "output_type": "stream",
     "text": [
      "99\n"
     ]
    }
   ],
   "source": [
    "max_number(r)"
   ]
  },
  {
   "cell_type": "code",
   "execution_count": 12,
   "id": "2a977752-f692-4aee-b795-a284fce5a03b",
   "metadata": {},
   "outputs": [],
   "source": [
    "def maximum_number(arr):\n",
    "    print(max(arr))"
   ]
  },
  {
   "cell_type": "code",
   "execution_count": 13,
   "id": "c42f64da-f128-4f93-a08a-56070fa062f0",
   "metadata": {},
   "outputs": [
    {
     "name": "stdout",
     "output_type": "stream",
     "text": [
      "99\n"
     ]
    }
   ],
   "source": [
    "maximum_number(r)"
   ]
  },
  {
   "cell_type": "code",
   "execution_count": 14,
   "id": "6171de41-246b-4964-9d5c-98f75bef7899",
   "metadata": {},
   "outputs": [],
   "source": [
    "r = (99,8,6,45,67,5)\n",
    "def largest_number(arr):\n",
    "    arr = list(arr)\n",
    "    arr.sort(reverse=True)\n",
    "    print(arr[0])"
   ]
  },
  {
   "cell_type": "code",
   "execution_count": 15,
   "id": "edf222e5-ebf1-4e64-9bba-b05b0907a52c",
   "metadata": {},
   "outputs": [
    {
     "name": "stdout",
     "output_type": "stream",
     "text": [
      "99\n"
     ]
    }
   ],
   "source": [
    "largest_number(r)"
   ]
  },
  {
   "cell_type": "code",
   "execution_count": 16,
   "id": "b5bfdce4-acff-4783-9d6e-582d40f76d4d",
   "metadata": {},
   "outputs": [
    {
     "name": "stdout",
     "output_type": "stream",
     "text": [
      "50\n"
     ]
    }
   ],
   "source": [
    "n = {2,5,7,1,30,50,37}\n",
    "largest_number(n)"
   ]
  },
  {
   "cell_type": "code",
   "execution_count": 17,
   "id": "7111d9f0-a179-4b9b-a614-95dbf9b6716f",
   "metadata": {},
   "outputs": [],
   "source": [
    "def largest_number(arr):\n",
    "    arr = list(arr)\n",
    "    print(max(arr))"
   ]
  },
  {
   "cell_type": "code",
   "execution_count": 18,
   "id": "14ce6c2c-4a46-46f6-b3d7-795eb06c2c3e",
   "metadata": {},
   "outputs": [
    {
     "name": "stdout",
     "output_type": "stream",
     "text": [
      "50\n"
     ]
    }
   ],
   "source": [
    "largest_number(n)"
   ]
  },
  {
   "cell_type": "markdown",
   "id": "11a33173-36eb-4391-9bb1-0e524258a890",
   "metadata": {},
   "source": [
    "# Second Smallest and Second Largest number an array"
   ]
  },
  {
   "cell_type": "code",
   "execution_count": 19,
   "id": "512ef161-02cd-4461-b83d-2cc9e876510f",
   "metadata": {},
   "outputs": [],
   "source": [
    "def large_and_small_num(arr):\n",
    "    arr = sorted(arr)\n",
    "    second_smallest = arr[1]\n",
    "    second_largest = arr[-2]\n",
    "    return second_smallest,second_largest"
   ]
  },
  {
   "cell_type": "code",
   "execution_count": 20,
   "id": "67256b11-a857-44e5-a3fc-5dac63d9308f",
   "metadata": {},
   "outputs": [
    {
     "data": {
      "text/plain": [
       "(4, 9)"
      ]
     },
     "execution_count": 20,
     "metadata": {},
     "output_type": "execute_result"
    }
   ],
   "source": [
    "r = [10,4,6,9,3,7]\n",
    "large_and_small_num(r)"
   ]
  },
  {
   "cell_type": "code",
   "execution_count": 21,
   "id": "7f6fcd23-f5ce-4745-a339-43d440991884",
   "metadata": {},
   "outputs": [],
   "source": [
    "def sec_lar_sma_num(arr):\n",
    "     if len(arr) < 2:\n",
    "        return \"Array should contain at least two elements\"\n",
    "     largest = second_largst = float(\"-inf\")\n",
    "     smallest = second_smallest = float(\"inf\")\n",
    "     for i in arr:\n",
    "         if i > largest:\n",
    "             second_largest = largest\n",
    "             largest = i\n",
    "         elif i > second_largest and i != largest:\n",
    "             second_largest = i\n",
    "         if i < smallest:\n",
    "             second_smallest = smallest\n",
    "             smallest = i\n",
    "         elif i < second_smallest and i != smallest:\n",
    "             second_smallest = i\n",
    "     return second_largest,second_smallest"
   ]
  },
  {
   "cell_type": "code",
   "execution_count": 22,
   "id": "00c313f8-4b17-42d7-bc08-05d38b50ac45",
   "metadata": {},
   "outputs": [
    {
     "data": {
      "text/plain": [
       "(9, 4)"
      ]
     },
     "execution_count": 22,
     "metadata": {},
     "output_type": "execute_result"
    }
   ],
   "source": [
    "r1 = [10,4,6,9,3,7,10]\n",
    "sec_lar_sma_num(r1)"
   ]
  },
  {
   "cell_type": "code",
   "execution_count": 23,
   "id": "4a0d9b7b-845a-44e1-9f26-c714f872ebc0",
   "metadata": {},
   "outputs": [],
   "source": [
    "def function(arr):\n",
    "    if len(arr) < 2:\n",
    "        return \"Array should contain at least two elements\"\n",
    "    large = second_large = float(\"-inf\")\n",
    "    small = second_small = float(\"inf\")\n",
    "    for j in arr:\n",
    "        if j > large:\n",
    "            second_large = large\n",
    "            large = j\n",
    "        elif j > second_large and j != large:\n",
    "            second_large = j\n",
    "        if j < small:\n",
    "            second_small = small\n",
    "            small = j\n",
    "        elif j < second_small and j != small:\n",
    "            second_small = j\n",
    "    return second_large,second_small"
   ]
  },
  {
   "cell_type": "code",
   "execution_count": 24,
   "id": "efeb9c62-a814-422f-b6f2-d66c88943ec8",
   "metadata": {},
   "outputs": [
    {
     "data": {
      "text/plain": [
       "(9, 4)"
      ]
     },
     "execution_count": 24,
     "metadata": {},
     "output_type": "execute_result"
    }
   ],
   "source": [
    "r1 = [10,4,6,9,3,7,10]\n",
    "function(r1)"
   ]
  },
  {
   "cell_type": "code",
   "execution_count": 25,
   "id": "d0147207-1963-4603-9794-df6d1025880e",
   "metadata": {},
   "outputs": [],
   "source": [
    "def funct(arr):\n",
    "    if len(arr) < 2:\n",
    "        return \"Array should contain at least two element \"\n",
    "    larger = second_larger = float(\"-inf\")\n",
    "    smaller = second_smaller = float(\"inf\")\n",
    "    for k in arr:\n",
    "        if k > larger:\n",
    "            second_larger = larger\n",
    "            larger = k\n",
    "        elif k > second_larger and k != larger:\n",
    "            second_large = k\n",
    "        if k < smaller:\n",
    "            second_smaller = smaller\n",
    "            smaller = k\n",
    "        elif k < second_smaller and k != smaller:\n",
    "            second_smaller = k\n",
    "    return second_larger,second_smaller"
   ]
  },
  {
   "cell_type": "code",
   "execution_count": 26,
   "id": "8b2fb2b6-e273-4b64-9e5f-1abda017feaa",
   "metadata": {},
   "outputs": [
    {
     "data": {
      "text/plain": [
       "(2345, 89)"
      ]
     },
     "execution_count": 26,
     "metadata": {},
     "output_type": "execute_result"
    }
   ],
   "source": [
    "m = [123,324,2345,5678,4456,89,94,45]\n",
    "funct(m)"
   ]
  },
  {
   "cell_type": "code",
   "execution_count": 27,
   "id": "933004e0-5bac-45fe-a152-6deb3ec7df4e",
   "metadata": {},
   "outputs": [
    {
     "data": {
      "text/plain": [
       "[7, 8, 5, 6, 4, 3, 2]"
      ]
     },
     "execution_count": 27,
     "metadata": {},
     "output_type": "execute_result"
    }
   ],
   "source": [
    "f = [2,3,4,6,5,8,7]\n",
    "f[::-1]"
   ]
  },
  {
   "cell_type": "code",
   "execution_count": 28,
   "id": "524ae7e8-4b0f-4469-ab51-dc94c83f0621",
   "metadata": {},
   "outputs": [
    {
     "name": "stdout",
     "output_type": "stream",
     "text": [
      "[7, 8, 5, 6, 4, 3, 2]\n"
     ]
    }
   ],
   "source": [
    "reversed_f = []\n",
    "for i in range(len(f)-1,-1,-1):\n",
    "    reversed_f.append(f[i])\n",
    "print(reversed_f)"
   ]
  },
  {
   "cell_type": "code",
   "execution_count": 29,
   "id": "af4a9bd1-56a8-4fd1-946e-ef072a6a4e3a",
   "metadata": {},
   "outputs": [
    {
     "name": "stdout",
     "output_type": "stream",
     "text": [
      "[7, 8, 5, 6, 4, 3, 2]\n"
     ]
    }
   ],
   "source": [
    "reversed_arr = []\n",
    "for i in range(len(f)-1, -1, -1):\n",
    "    reversed_arr.append(f[i])\n",
    "print(reversed_arr)"
   ]
  },
  {
   "cell_type": "code",
   "execution_count": 30,
   "id": "86136c56-9dde-4f6b-a10f-ad35abd86390",
   "metadata": {},
   "outputs": [],
   "source": [
    "def reversed_arr(arr):\n",
    "    reversed_array = []\n",
    "    for i in range(len(arr)-1,-1,-1):\n",
    "        reversed_array.append(arr[i])\n",
    "    return reversed_array"
   ]
  },
  {
   "cell_type": "code",
   "execution_count": 31,
   "id": "e4aafe0d-3999-460c-9a29-999d4ad70151",
   "metadata": {},
   "outputs": [
    {
     "data": {
      "text/plain": [
       "[34, 89, 67, 45, 12]"
      ]
     },
     "execution_count": 31,
     "metadata": {},
     "output_type": "execute_result"
    }
   ],
   "source": [
    "n = [12,45,67,89,34]\n",
    "reversed_arr(n)"
   ]
  },
  {
   "cell_type": "code",
   "execution_count": 32,
   "id": "479b762c-a701-471a-9e0e-3dfb26b6fed2",
   "metadata": {},
   "outputs": [],
   "source": [
    "def reversed_arr(arr):\n",
    "    reversed_array = []\n",
    "    for i in range(len(arr)-1,-1,-2):\n",
    "        reversed_array.append(arr[i])\n",
    "    return reversed_array"
   ]
  },
  {
   "cell_type": "code",
   "execution_count": 33,
   "id": "43ab725e-f91a-4827-8782-334151a257c1",
   "metadata": {},
   "outputs": [
    {
     "data": {
      "text/plain": [
       "[34, 67, 12]"
      ]
     },
     "execution_count": 33,
     "metadata": {},
     "output_type": "execute_result"
    }
   ],
   "source": [
    "n = [12,45,67,89,34]\n",
    "reversed_arr(n)"
   ]
  },
  {
   "cell_type": "markdown",
   "id": "a3100836-0d53-4552-ad6a-437520c735fd",
   "metadata": {},
   "source": [
    "# Count Frequency of each element"
   ]
  },
  {
   "cell_type": "code",
   "execution_count": 34,
   "id": "3bcaa35f-66e6-4081-b2b9-1b48a0a755d6",
   "metadata": {},
   "outputs": [],
   "source": [
    "import statistics as st"
   ]
  },
  {
   "cell_type": "code",
   "execution_count": 35,
   "id": "e8259a02-8a18-4d19-83d4-bd19c1a6a849",
   "metadata": {},
   "outputs": [
    {
     "data": {
      "text/plain": [
       "12"
      ]
     },
     "execution_count": 35,
     "metadata": {},
     "output_type": "execute_result"
    }
   ],
   "source": [
    "c = [12,23,12,45,56,12]\n",
    "st.mode(c)"
   ]
  },
  {
   "cell_type": "code",
   "execution_count": 36,
   "id": "4770c7b7-9908-440f-8f5f-986d9369a3ab",
   "metadata": {},
   "outputs": [
    {
     "name": "stdout",
     "output_type": "stream",
     "text": [
      "{12: 3, 23: 1, 45: 1, 56: 1}\n"
     ]
    }
   ],
   "source": [
    "freq = {}\n",
    "for i in c:\n",
    "    if i in freq:\n",
    "        freq[i] += 1\n",
    "    else:\n",
    "        freq[i] = 1\n",
    "print(freq)"
   ]
  },
  {
   "cell_type": "code",
   "execution_count": 37,
   "id": "02302583-0b66-4ee0-bcef-c56d73c67dcc",
   "metadata": {},
   "outputs": [
    {
     "name": "stdout",
     "output_type": "stream",
     "text": [
      "{12: 3, 23: 1, 45: 1, 56: 1}\n"
     ]
    }
   ],
   "source": [
    "frequency = {}\n",
    "for item in c:\n",
    "    if item in frequency:\n",
    "        frequency[item] += 1\n",
    "    else:\n",
    "        frequency[item] = 1\n",
    "print(frequency)"
   ]
  },
  {
   "cell_type": "code",
   "execution_count": 38,
   "id": "58af512b-9da4-4fe1-88b1-5209be3e6c0b",
   "metadata": {},
   "outputs": [],
   "source": [
    "def count_freq(arr):\n",
    "    for i in arr:\n",
    "        if i in freq:\n",
    "            freq[i] += 1\n",
    "        else:\n",
    "            freq[i] = 1\n",
    "    return freq"
   ]
  },
  {
   "cell_type": "code",
   "execution_count": 39,
   "id": "ed80a2ec-8da8-46c5-b087-be998efb1640",
   "metadata": {},
   "outputs": [
    {
     "data": {
      "text/plain": [
       "{12: 4, 23: 1, 45: 2, 56: 1, 67: 1, 89: 1, 34: 1}"
      ]
     },
     "execution_count": 39,
     "metadata": {},
     "output_type": "execute_result"
    }
   ],
   "source": [
    "count_freq(n)"
   ]
  },
  {
   "cell_type": "markdown",
   "id": "b3d4db38-ba79-474f-9041-49a048188c6d",
   "metadata": {},
   "source": [
    "# Rearrange array in descending and ascending order"
   ]
  },
  {
   "cell_type": "code",
   "execution_count": 40,
   "id": "0dd22518-564d-4263-acde-dc4894e599bf",
   "metadata": {},
   "outputs": [
    {
     "data": {
      "text/plain": [
       "[9, 8, 7, 6, 5, 1]"
      ]
     },
     "execution_count": 40,
     "metadata": {},
     "output_type": "execute_result"
    }
   ],
   "source": [
    "s = [8,7,1,6,5,9]\n",
    "s.sort(reverse=True)\n",
    "s"
   ]
  },
  {
   "cell_type": "code",
   "execution_count": 41,
   "id": "3134261e-d6d1-48d7-8616-aecfcc8bc799",
   "metadata": {},
   "outputs": [
    {
     "data": {
      "text/plain": [
       "[1, 5, 6, 7, 8, 9]"
      ]
     },
     "execution_count": 41,
     "metadata": {},
     "output_type": "execute_result"
    }
   ],
   "source": [
    "s.sort()\n",
    "s"
   ]
  },
  {
   "cell_type": "code",
   "execution_count": 42,
   "id": "e1d0ce96-c567-4684-8e08-b64b57b9f3a0",
   "metadata": {},
   "outputs": [],
   "source": [
    "def sort_array(arr):\n",
    "    ascending = sorted(arr)\n",
    "    descending = sorted(arr,reverse=True)\n",
    "    return ascending,descending"
   ]
  },
  {
   "cell_type": "code",
   "execution_count": 43,
   "id": "3e669ce3-80c3-409d-8faf-89815ec27c4a",
   "metadata": {},
   "outputs": [
    {
     "data": {
      "text/plain": [
       "([1, 5, 6, 7, 8, 9], [9, 8, 7, 6, 5, 1])"
      ]
     },
     "execution_count": 43,
     "metadata": {},
     "output_type": "execute_result"
    }
   ],
   "source": [
    "sort_array(s)"
   ]
  },
  {
   "cell_type": "code",
   "execution_count": 44,
   "id": "023f6c7e-9dec-4c12-a304-b36a733fcdf7",
   "metadata": {},
   "outputs": [
    {
     "data": {
      "text/plain": [
       "36"
      ]
     },
     "execution_count": 44,
     "metadata": {},
     "output_type": "execute_result"
    }
   ],
   "source": [
    "s = [8,7,1,6,5,9]\n",
    "sum(s)"
   ]
  },
  {
   "cell_type": "code",
   "execution_count": 45,
   "id": "df8fe335-29bc-41c8-ad8e-ddf31514f737",
   "metadata": {},
   "outputs": [],
   "source": [
    "def rearrange_array(arr):\n",
    "    ascending = []\n",
    "    descending = []\n",
    "    for i in range(len(arr)):\n",
    "        for j in range(i+1,len(arr)):\n",
    "            if arr[i] > arr[j]:\n",
    "                arr[i],arr[j] = arr[j],arr[i]\n",
    "    ascending= arr[:]\n",
    "    for i in range(len(arr)):\n",
    "        for j in range(i+1,len(arr)):\n",
    "            if arr[i] < arr[j]:\n",
    "                arr[i],arr[j] = arr[j],arr[i]\n",
    "    descending = arr[:]\n",
    "    return ascending, descending                "
   ]
  },
  {
   "cell_type": "code",
   "execution_count": 46,
   "id": "3ab619ca-56d6-4dc2-a839-94d623a14e02",
   "metadata": {},
   "outputs": [
    {
     "data": {
      "text/plain": [
       "([1, 5, 6, 7, 8, 9], [9, 8, 7, 6, 5, 1])"
      ]
     },
     "execution_count": 46,
     "metadata": {},
     "output_type": "execute_result"
    }
   ],
   "source": [
    "rearrange_array(s)"
   ]
  },
  {
   "cell_type": "markdown",
   "id": "1f2ea292-5b66-40ec-b996-2536dfe55652",
   "metadata": {},
   "source": [
    "# Calculate Sum of an given array"
   ]
  },
  {
   "cell_type": "code",
   "execution_count": 47,
   "id": "81b9078b-4227-4818-9f98-9138aa16c14e",
   "metadata": {},
   "outputs": [],
   "source": [
    "total = 0\n",
    "def calculate_sum(arr):\n",
    "    global total\n",
    "    for i in arr:\n",
    "        total += i\n",
    "    return total"
   ]
  },
  {
   "cell_type": "code",
   "execution_count": 48,
   "id": "a3a50976-1b32-41c9-93b6-b117d495417a",
   "metadata": {},
   "outputs": [
    {
     "data": {
      "text/plain": [
       "36"
      ]
     },
     "execution_count": 48,
     "metadata": {},
     "output_type": "execute_result"
    }
   ],
   "source": [
    "r = [1, 5, 6, 7, 8, 9]\n",
    "calculate_sum(r)"
   ]
  },
  {
   "cell_type": "code",
   "execution_count": 49,
   "id": "a3ca3c5d-196f-4850-8b7d-a6b53a3781fa",
   "metadata": {},
   "outputs": [
    {
     "name": "stdout",
     "output_type": "stream",
     "text": [
      "36\n"
     ]
    }
   ],
   "source": [
    "sum_of_elements = 0\n",
    "for element in r:\n",
    "    sum_of_elements += element\n",
    "print(sum_of_elements)"
   ]
  },
  {
   "cell_type": "markdown",
   "id": "b33eb49f-ffde-4777-8fd7-d0c5db773468",
   "metadata": {},
   "source": [
    "# Swapping of numbers"
   ]
  },
  {
   "cell_type": "code",
   "execution_count": 50,
   "id": "c647f8d0-5c2a-43b9-8b91-d3370880d0a8",
   "metadata": {},
   "outputs": [
    {
     "name": "stdout",
     "output_type": "stream",
     "text": [
      "3 2\n"
     ]
    }
   ],
   "source": [
    "# swapping of two number \n",
    "x = 2\n",
    "y = 3 \n",
    "num = x\n",
    "x = y\n",
    "y = num\n",
    "print(x,y)"
   ]
  },
  {
   "cell_type": "code",
   "execution_count": 51,
   "id": "9c2c820e-075e-454a-a0b7-1fe33b7dc6ec",
   "metadata": {},
   "outputs": [
    {
     "name": "stdout",
     "output_type": "stream",
     "text": [
      "[9, 8, 7, 6, 5, 1]\n"
     ]
    }
   ],
   "source": [
    "# swapping of an array\n",
    "r = [1, 5, 6, 7, 8, 9]\n",
    "n = len(r)\n",
    "for i in range(n//2):\n",
    "    r[i], r[n-i-1] = r[n-i-1],r[i]\n",
    "print(r)"
   ]
  },
  {
   "cell_type": "code",
   "execution_count": 52,
   "id": "1d810bd1-d3c8-4e34-86ff-c5cddbf43f8b",
   "metadata": {},
   "outputs": [],
   "source": [
    "def swap_num(arr):\n",
    "    n = len(arr)\n",
    "    for i in range(n//2):\n",
    "        arr[i],arr[n-i-1] = arr[n-i-1],arr[i]\n",
    "    return arr  "
   ]
  },
  {
   "cell_type": "code",
   "execution_count": 53,
   "id": "7c303065-dc38-49bc-a2d8-e042c86d0dad",
   "metadata": {},
   "outputs": [
    {
     "data": {
      "text/plain": [
       "[1, 5, 6, 7, 8, 9]"
      ]
     },
     "execution_count": 53,
     "metadata": {},
     "output_type": "execute_result"
    }
   ],
   "source": [
    "swap_num(r)"
   ]
  },
  {
   "cell_type": "code",
   "execution_count": 54,
   "id": "38746d8f-6091-4892-9782-6d4bbd0d5a82",
   "metadata": {},
   "outputs": [
    {
     "name": "stdout",
     "output_type": "stream",
     "text": [
      "[5, 6, 7, 1, 2, 3, 4]\n"
     ]
    }
   ],
   "source": [
    "# Rotate array by k elements\n",
    "arr = [1,2,3,4,5,6,7]\n",
    "k = 3\n",
    "n = len(arr)\n",
    "k = k%n\n",
    "temp = arr[n-k:]\n",
    "for i in range(n-1,k-1,-1):\n",
    "    arr[i] = arr[i-k]\n",
    "for i in range(k):\n",
    "    arr[i] = temp[i]\n",
    "print(arr)"
   ]
  },
  {
   "cell_type": "code",
   "execution_count": 55,
   "id": "cafb6cde-549c-4e3c-b087-36316d741f31",
   "metadata": {},
   "outputs": [
    {
     "name": "stdout",
     "output_type": "stream",
     "text": [
      "[6, 7, 3, 4, 5]\n"
     ]
    }
   ],
   "source": [
    "arr = [3,4,5,6,7]\n",
    "k = 2\n",
    "n = len(arr)\n",
    "temp = arr[n-k:]\n",
    "for i in range(n-1,k-1,-1):\n",
    "    arr[i] = arr[i-k]\n",
    "for i in range(k):\n",
    "    arr[i] = temp[i]\n",
    "print(arr)"
   ]
  },
  {
   "cell_type": "code",
   "execution_count": 56,
   "id": "ca2c3da4-a08b-4e3e-ae76-d4b21eb8e821",
   "metadata": {},
   "outputs": [
    {
     "name": "stdout",
     "output_type": "stream",
     "text": [
      "[8, 1, 9, 5, 3, 6]\n"
     ]
    }
   ],
   "source": [
    "arr = [3,6,8,1,9,5]\n",
    "k = 4\n",
    "n = len(arr)\n",
    "temp = arr[n-k:]\n",
    "for i in range(n-1,k-1,-1):\n",
    "    arr[i] = arr[i-k]\n",
    "for i in range(k):\n",
    "    arr[i] = temp[i]\n",
    "print(arr)"
   ]
  },
  {
   "cell_type": "code",
   "execution_count": 57,
   "id": "551e7d28-000e-4ba6-9c00-4251ff4cfa5d",
   "metadata": {},
   "outputs": [],
   "source": [
    "a = [3,6,8,1,9,5]\n",
    "k = n\n",
    "m = len(arr)\n",
    "def rotation_num(arr,k):\n",
    "    temp = arr[m-k:]\n",
    "    for i in range(m-1,k-1,-1):\n",
    "        arr[i] = arr[i-k]\n",
    "    for i in range(k):\n",
    "        arr[i] = temp[i]\n",
    "    print(arr)"
   ]
  },
  {
   "cell_type": "code",
   "execution_count": 58,
   "id": "0207893f-5b0a-480d-9b25-637e89e021c5",
   "metadata": {},
   "outputs": [
    {
     "name": "stdout",
     "output_type": "stream",
     "text": [
      "[9, 5, 3, 6, 8, 1]\n"
     ]
    }
   ],
   "source": [
    "rotation_num(a,2)"
   ]
  },
  {
   "cell_type": "code",
   "execution_count": 59,
   "id": "c4a6f064-a9a7-487d-8566-d460a5f1f5da",
   "metadata": {},
   "outputs": [
    {
     "name": "stdout",
     "output_type": "stream",
     "text": [
      "5.333333333333333\n"
     ]
    }
   ],
   "source": [
    "# Average of all elements of an array\n",
    "a = [3,6,8,1,9,5]\n",
    "sum = 0\n",
    "for i in a:\n",
    "    sum += i\n",
    "    average = sum / len(a)\n",
    "print(average)"
   ]
  },
  {
   "cell_type": "code",
   "execution_count": 60,
   "id": "8710c2bc-91d7-47ee-a81e-9b1d7e564fee",
   "metadata": {},
   "outputs": [],
   "source": [
    "def average(arr):\n",
    "    sum = 0\n",
    "    for i in arr:\n",
    "        sum += i\n",
    "        average = sum / len(arr)\n",
    "    return average"
   ]
  },
  {
   "cell_type": "code",
   "execution_count": 61,
   "id": "600a3466-d7de-4c10-92f7-5454d0ba0ba3",
   "metadata": {},
   "outputs": [
    {
     "data": {
      "text/plain": [
       "6.0"
      ]
     },
     "execution_count": 61,
     "metadata": {},
     "output_type": "execute_result"
    }
   ],
   "source": [
    "r = (6,6,6,6,6,6)\n",
    "average(r)"
   ]
  },
  {
   "cell_type": "markdown",
   "id": "24dac1a8-1ab8-4631-86f3-d98151ca7042",
   "metadata": {},
   "source": [
    "# Find median of an array"
   ]
  },
  {
   "cell_type": "code",
   "execution_count": 62,
   "id": "002fab16-4fb0-499f-ba02-0d1694e09141",
   "metadata": {},
   "outputs": [
    {
     "data": {
      "text/plain": [
       "[2, 3, 4, 5, 6, 7]"
      ]
     },
     "execution_count": 62,
     "metadata": {},
     "output_type": "execute_result"
    }
   ],
   "source": [
    "[2,3,4,5,6,7]\n"
   ]
  },
  {
   "cell_type": "code",
   "execution_count": 82,
   "id": "33cc5029-7540-4332-a82b-6a32c9785f2b",
   "metadata": {},
   "outputs": [],
   "source": [
    "def median_arr(arr):\n",
    "    sorted_arr = sorted(arr)\n",
    "    n = len(sorted_arr)\n",
    "    if n % 2 == 0:\n",
    "        return (sorted_arr[n//2 - 1] + sorted_arr[n // 2]) / 2\n",
    "    else:\n",
    "        return sorted_arr[n//2]"
   ]
  },
  {
   "cell_type": "code",
   "execution_count": 83,
   "id": "a17daf56-3a3c-4cc2-9e51-f70c847977a4",
   "metadata": {},
   "outputs": [
    {
     "data": {
      "text/plain": [
       "4.5"
      ]
     },
     "execution_count": 83,
     "metadata": {},
     "output_type": "execute_result"
    }
   ],
   "source": [
    "r = [2,3,4,5,6,7]\n",
    "median_arr(r)"
   ]
  },
  {
   "cell_type": "code",
   "execution_count": 84,
   "id": "067cf9e8-4d4d-4dd8-912d-1013c3b24fd2",
   "metadata": {},
   "outputs": [
    {
     "data": {
      "text/plain": [
       "7"
      ]
     },
     "execution_count": 84,
     "metadata": {},
     "output_type": "execute_result"
    }
   ],
   "source": [
    "s = [7, 2, 10, 9, 4]\n",
    "median_arr(s)"
   ]
  },
  {
   "cell_type": "code",
   "execution_count": 91,
   "id": "63e39566-490e-4392-972f-960165ed3f5a",
   "metadata": {},
   "outputs": [],
   "source": [
    "def find_median(arr):\n",
    "    arr.sort()\n",
    "    n = len(arr)\n",
    "    if n % 2 == 0:\n",
    "        return (arr[n//2 - 1] + arr[n // 2]) / 2\n",
    "    else:\n",
    "        return arr[n//2]"
   ]
  },
  {
   "cell_type": "code",
   "execution_count": 92,
   "id": "f69f2dbf-5a26-47a6-a958-5e9533fa6fe0",
   "metadata": {},
   "outputs": [
    {
     "data": {
      "text/plain": [
       "7"
      ]
     },
     "execution_count": 92,
     "metadata": {},
     "output_type": "execute_result"
    }
   ],
   "source": [
    "find_median(s)"
   ]
  },
  {
   "cell_type": "code",
   "execution_count": 90,
   "id": "a07e020d-954a-471d-b4ab-9ec2f5d2fffa",
   "metadata": {},
   "outputs": [
    {
     "data": {
      "text/plain": [
       "7"
      ]
     },
     "execution_count": 90,
     "metadata": {},
     "output_type": "execute_result"
    }
   ],
   "source": [
    "median_(s)"
   ]
  },
  {
   "cell_type": "markdown",
   "id": "b2734b9d-9479-4178-a78a-21c705c9a099",
   "metadata": {},
   "source": [
    "# remove duplicates"
   ]
  },
  {
   "cell_type": "code",
   "execution_count": 93,
   "id": "41006b3f-7f8e-43e4-b879-282355873b8a",
   "metadata": {},
   "outputs": [],
   "source": [
    "# with sorting\n",
    "def remove_duplicate(arr):\n",
    "    return list(set(arr))"
   ]
  },
  {
   "cell_type": "code",
   "execution_count": 94,
   "id": "86a0a1c5-8a12-4e0a-b9aa-452e9e99aacd",
   "metadata": {},
   "outputs": [
    {
     "data": {
      "text/plain": [
       "[4, 5, 6, 7, 8, 9]"
      ]
     },
     "execution_count": 94,
     "metadata": {},
     "output_type": "execute_result"
    }
   ],
   "source": [
    "r = [9,8,9,7,6,5,4]\n",
    "remove_duplicate(r)"
   ]
  },
  {
   "cell_type": "code",
   "execution_count": 97,
   "id": "755eadb5-fe88-48e6-bd17-f22a7caad5a9",
   "metadata": {},
   "outputs": [],
   "source": [
    "# without sorting\n",
    "def duplicate_remove(arr):\n",
    "    unique_list = []\n",
    "    for i in arr:\n",
    "        if i not in unique_list:\n",
    "            unique_list.append(i)\n",
    "    print(unique_list)"
   ]
  },
  {
   "cell_type": "code",
   "execution_count": 98,
   "id": "2f2ec96f-dee1-4084-9e8d-de452aec52b1",
   "metadata": {},
   "outputs": [
    {
     "name": "stdout",
     "output_type": "stream",
     "text": [
      "[9, 8, 7, 6, 5, 4]\n"
     ]
    }
   ],
   "source": [
    "duplicate_remove(r)"
   ]
  },
  {
   "cell_type": "markdown",
   "id": "c2b37b72-b26d-48f5-b2f4-16eb37cdd16d",
   "metadata": {},
   "source": [
    "# adding element in an array"
   ]
  },
  {
   "cell_type": "code",
   "execution_count": 105,
   "id": "40a5b687-1fe0-43e8-a7f0-79d0c3ccc9fd",
   "metadata": {},
   "outputs": [
    {
     "data": {
      "text/plain": [
       "[1, 2, 3, 4, 23]"
      ]
     },
     "execution_count": 105,
     "metadata": {},
     "output_type": "execute_result"
    }
   ],
   "source": [
    "# adding element in an array\n",
    "l = [1,2,3,4]\n",
    "l.append(23)\n",
    "l"
   ]
  },
  {
   "cell_type": "code",
   "execution_count": 102,
   "id": "91489dcd-892d-4646-8a9b-77f3925ffc5c",
   "metadata": {},
   "outputs": [],
   "source": [
    "def add_ele(variable,num):\n",
    "    variable.append(num)\n",
    "    print(variable)"
   ]
  },
  {
   "cell_type": "code",
   "execution_count": 103,
   "id": "b9901eb7-0f64-4eb8-8e89-6cbf8a136dec",
   "metadata": {},
   "outputs": [
    {
     "name": "stdout",
     "output_type": "stream",
     "text": [
      "[1, 2, 3, 4, 23, 67]\n"
     ]
    }
   ],
   "source": [
    "add_ele(l,67)"
   ]
  },
  {
   "cell_type": "markdown",
   "id": "e0848763-d0ad-4afb-b933-8c5a680ed0b2",
   "metadata": {},
   "source": [
    "# find all repeating element in an array"
   ]
  },
  {
   "cell_type": "code",
   "execution_count": 107,
   "id": "40989c3f-4773-4ed2-8dc8-eb5f46ab387e",
   "metadata": {},
   "outputs": [],
   "source": [
    "def duplicates(arr):\n",
    "    duplicates = []\n",
    "    for i in range(len(arr)):\n",
    "        for j in range(i+1,len(arr)):\n",
    "            if arr[i] == arr[j] and arr[i] not in duplicates:\n",
    "                duplicates.append(arr[i])\n",
    "    return duplicates"
   ]
  },
  {
   "cell_type": "code",
   "execution_count": 109,
   "id": "d3c9137d-6f51-484d-beb7-b207aad1b420",
   "metadata": {},
   "outputs": [
    {
     "data": {
      "text/plain": [
       "[1, 2, 3, 4]"
      ]
     },
     "execution_count": 109,
     "metadata": {},
     "output_type": "execute_result"
    }
   ],
   "source": [
    "e = [1,2,3,4,1,2,5,3,6,4]\n",
    "duplicates(e)"
   ]
  },
  {
   "cell_type": "code",
   "execution_count": 115,
   "id": "dd243951-5576-45ea-99bf-3759aa08571e",
   "metadata": {},
   "outputs": [],
   "source": [
    "# find all non-repeating element in an array\n",
    "def non_duplicate(arr):\n",
    "    non_duplicate = []\n",
    "    for i in range(len(arr)):\n",
    "        is_unique = True\n",
    "        for j in range(len(arr)):\n",
    "            if i != j and arr[i] == arr[j]:\n",
    "                is_unique = False\n",
    "                break\n",
    "        if is_unique:\n",
    "            non_duplicate.append(arr[i])\n",
    "    return non_duplicate"
   ]
  },
  {
   "cell_type": "code",
   "execution_count": 116,
   "id": "5f31d7c0-d23d-4ccf-9b18-eb612a1b1311",
   "metadata": {},
   "outputs": [
    {
     "data": {
      "text/plain": [
       "[5, 6]"
      ]
     },
     "execution_count": 116,
     "metadata": {},
     "output_type": "execute_result"
    }
   ],
   "source": [
    "non_duplicate(e)"
   ]
  },
  {
   "cell_type": "code",
   "execution_count": 117,
   "id": "d7021262-8998-4313-a61a-e7312b415d17",
   "metadata": {},
   "outputs": [
    {
     "data": {
      "text/plain": [
       "[1, 2, 3, 4, 5]"
      ]
     },
     "execution_count": 117,
     "metadata": {},
     "output_type": "execute_result"
    }
   ],
   "source": [
    "l = [1,2,3,4,5]\n",
    "non_duplicate(l)"
   ]
  },
  {
   "cell_type": "code",
   "execution_count": null,
   "id": "d2ad8d0f-942e-492b-bb9f-6c3408fb44fd",
   "metadata": {},
   "outputs": [],
   "source": [
    "# Find all symmetric pair in an array"
   ]
  }
 ],
 "metadata": {
  "kernelspec": {
   "display_name": "Python 3 (ipykernel)",
   "language": "python",
   "name": "python3"
  },
  "language_info": {
   "codemirror_mode": {
    "name": "ipython",
    "version": 3
   },
   "file_extension": ".py",
   "mimetype": "text/x-python",
   "name": "python",
   "nbconvert_exporter": "python",
   "pygments_lexer": "ipython3",
   "version": "3.11.7"
  },
  "widgets": {
   "application/vnd.jupyter.widget-state+json": {
    "state": {},
    "version_major": 2,
    "version_minor": 0
   }
  }
 },
 "nbformat": 4,
 "nbformat_minor": 5
}
