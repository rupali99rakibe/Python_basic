{
 "cells": [
  {
   "cell_type": "code",
   "execution_count": 1,
   "id": "967cccd2-5289-4c62-bfeb-0ebe0f3c15dc",
   "metadata": {},
   "outputs": [],
   "source": [
    "# Given a number in you have to toggle all it's bits in binary form toggle means change 1 to 0 and vice vesa and print the number after toggling the bit.\n",
    "# a) N is the number \n",
    "#  constraints:  N should be greater than Zero"
   ]
  },
  {
   "cell_type": "code",
   "execution_count": 1,
   "id": "983fbbce-e4ac-43e2-95fe-49152481f8da",
   "metadata": {},
   "outputs": [
    {
     "name": "stdout",
     "output_type": "stream",
     "text": [
      " 45\n"
     ]
    }
   ],
   "source": [
    "# Take the value of N as input\n",
    "N = int(input())\n",
    "\n",
    "# this will convert the number from decimal to binary\n",
    "\n",
    "binary=bin(N)[2:]\n",
    "st=\"\"\n",
    "for i in binary:\n",
    "    if i =='1':\n",
    "        st+='0'\n",
    "        # toggling the bit if at that position 1 is their we need to add 0 and vice versa\n",
    "    else:\n",
    "        st+=\"1\""
   ]
  },
  {
   "cell_type": "code",
   "execution_count": 11,
   "id": "fa9d0e88-780e-4dd5-8327-aa3b5f37ab09",
   "metadata": {},
   "outputs": [
    {
     "name": "stdout",
     "output_type": "stream",
     "text": [
      "1 0 "
     ]
    }
   ],
   "source": [
    "n = 2\n",
    "binary = []\n",
    "\n",
    "while n > 0:\n",
    "    binary.append(n % 2)\n",
    "    n //= 2\n",
    "\n",
    "binary.reverse()\n",
    "\n",
    "for digit in binary:\n",
    "    print(digit, end=\" \")\n",
    "\n"
   ]
  },
  {
   "cell_type": "code",
   "execution_count": 12,
   "id": "d24458cf-ce8f-41b4-9596-ec63cdf6f353",
   "metadata": {},
   "outputs": [
    {
     "name": "stdout",
     "output_type": "stream",
     "text": [
      "0 0 0 0 0 0 1 0 "
     ]
    }
   ],
   "source": [
    "n = 2\n",
    "binary = []\n",
    "\n",
    "for i in range(7, -1, -1):  # Iterate from 7 down to 0\n",
    "    bit = (n >> i) & 1      # Get the i-th bit of n\n",
    "    binary.append(bit)\n",
    "\n",
    "for digit in binary:\n",
    "    print(digit, end=\" \")\n"
   ]
  },
  {
   "cell_type": "code",
   "execution_count": 17,
   "id": "b60cdeb5-f300-4206-a149-a1f937de88a9",
   "metadata": {},
   "outputs": [
    {
     "name": "stdout",
     "output_type": "stream",
     "text": [
      " 12\n"
     ]
    },
    {
     "name": "stdout",
     "output_type": "stream",
     "text": [
      "11110011\n"
     ]
    }
   ],
   "source": [
    "# Take the value of N as input\n",
    "N = int(input())\n",
    "binary = []\n",
    "\n",
    "# Convert the number from decimal to binary\n",
    "for i in range(7, -1, -1):\n",
    "    bit = (N >> i) & 1\n",
    "    binary.append(bit)\n",
    "\n",
    "# Toggle the bits\n",
    "st = \"\"\n",
    "for digit in binary:\n",
    "    if digit == 1:\n",
    "        st += '0'\n",
    "    else:\n",
    "        st += '1'\n",
    "\n",
    "print(st)"
   ]
  },
  {
   "cell_type": "code",
   "execution_count": 19,
   "id": "3f5bff26-899b-4c5f-98f0-eb096fc12c80",
   "metadata": {},
   "outputs": [
    {
     "name": "stdout",
     "output_type": "stream",
     "text": [
      " 12\n"
     ]
    },
    {
     "name": "stdout",
     "output_type": "stream",
     "text": [
      "11110011\n"
     ]
    }
   ],
   "source": [
    "# Take the value of N as input\n",
    "N = int(input())\n",
    "\n",
    "# Convert the number from decimal to binary and toggle the bits\n",
    "st = \"\"\n",
    "for i in range(7, -1, -1):\n",
    "    bit = (N >> i) & 1\n",
    "    if bit == 1:\n",
    "        st += '0'\n",
    "    else:\n",
    "        st += '1'\n",
    "\n",
    "print(st)"
   ]
  },
  {
   "cell_type": "markdown",
   "id": "82f9490c-928d-4766-acf0-51a923b1256a",
   "metadata": {},
   "source": [
    "# Toggling code for binary conversion"
   ]
  },
  {
   "cell_type": "code",
   "execution_count": 21,
   "id": "034b09f4-1683-4ef4-8469-5106ca6dec6e",
   "metadata": {},
   "outputs": [
    {
     "name": "stdout",
     "output_type": "stream",
     "text": [
      " 15\n"
     ]
    },
    {
     "name": "stdout",
     "output_type": "stream",
     "text": [
      "0000\n"
     ]
    }
   ],
   "source": [
    "# Take the value of N as input\n",
    "N = int(input())\n",
    "\n",
    "# Find the most significant non-zero bit position\n",
    "msb_position = 7\n",
    "while ((N >> msb_position) & 1) == 0 and msb_position > 0:\n",
    "    msb_position -= 1\n",
    "\n",
    "# Convert the number from decimal to binary and toggle the bits\n",
    "st = \"\"\n",
    "for i in range(msb_position, -1, -1):\n",
    "    bit = (N >> i) & 1\n",
    "    if bit == 1:\n",
    "        st += '0'\n",
    "    else:\n",
    "        st += '1'\n",
    "\n",
    "print(st)"
   ]
  },
  {
   "cell_type": "markdown",
   "id": "9619da16-e951-4dac-86f9-cbe3c1616e43",
   "metadata": {},
   "source": [
    "# Toggling of decimal number"
   ]
  },
  {
   "cell_type": "code",
   "execution_count": 22,
   "id": "137a9bd5-556a-45d5-820d-224157c0ee2f",
   "metadata": {},
   "outputs": [
    {
     "name": "stdout",
     "output_type": "stream",
     "text": [
      " 12\n"
     ]
    },
    {
     "name": "stdout",
     "output_type": "stream",
     "text": [
      "3\n"
     ]
    }
   ],
   "source": [
    "# Take the value of N as input \n",
    "\n",
    "N = int(input())\n",
    "# this will convert the number from decimal to binary\n",
    "binary=bin(N)[2:]\n",
    "st=\"\"\n",
    "for i in binary:\n",
    "    if i==\"1\":\n",
    "        st+='0'\n",
    "# toggling the bit at that position 1 is their we need to added 0 and vice versa\n",
    "    else: \n",
    "        st+='1'\n",
    "        # this will convert number from binary to decimal\n",
    "print(int(st,2))"
   ]
  },
  {
   "cell_type": "code",
   "execution_count": 24,
   "id": "a708e1b1-e9ee-4904-9acc-9151ddea3186",
   "metadata": {},
   "outputs": [
    {
     "name": "stdout",
     "output_type": "stream",
     "text": [
      " asdfghjk32456789!@#$%^&\n"
     ]
    },
    {
     "name": "stdout",
     "output_type": "stream",
     "text": [
      "1 7 8 7\n"
     ]
    }
   ],
   "source": [
    "R = input()\n",
    "# four variable for storing the count of vowels, consonants, digits, special\n",
    "vowel=0\n",
    "consonant=0\n",
    "digit=0\n",
    "special=0\n",
    "\n",
    "vowels='aeiou'\n",
    "\n",
    "digits=\"0123456789\"\n",
    "specials=\"!@#$%^&*\"\n",
    "for i in R:\n",
    "    if i in vowels:\n",
    "        vowel+=1\n",
    "    elif i not in digits and i not in specials:\n",
    "        consonant+=1\n",
    "    elif i in digits:\n",
    "        digit+=1\n",
    "    else:\n",
    "        special+=1\n",
    "\n",
    "print(vowel,consonant,digit,special)"
   ]
  },
  {
   "cell_type": "code",
   "execution_count": 27,
   "id": "adf977fc-3fbf-460e-a0c2-bd06c354e005",
   "metadata": {},
   "outputs": [
    {
     "name": "stdout",
     "output_type": "stream",
     "text": [
      " asdfgh2234567#@$%^\n"
     ]
    },
    {
     "name": "stdout",
     "output_type": "stream",
     "text": [
      "1 5 7 5\n"
     ]
    }
   ],
   "source": [
    "S = input()\n",
    "vowel = 0\n",
    "consonant=0\n",
    "digit=0\n",
    "special=0\n",
    "vowels = \"aeiou\"\n",
    "digits = \"1234567890\"\n",
    "specials = \"!@#$%^&*+/-\"\n",
    "for i in S:\n",
    "    if i in vowels:\n",
    "        vowel+=1\n",
    "    elif i not in vowels and i not in digits and i not in specials:\n",
    "        consonant+=1\n",
    "    elif i in digits:\n",
    "        digit+=1\n",
    "    else:\n",
    "        special+=1\n",
    "print(vowel,consonant,digit,special)"
   ]
  },
  {
   "cell_type": "raw",
   "id": "89a8d9ed-0efc-4884-a02a-cd9021d4a2cd",
   "metadata": {},
   "source": [
    "Given a number as a string the task is that is that we divide number by 3.\n",
    "the input number may be large and it may not be possible to store\n",
    "even if we use long long int.\n",
    "EX: 3635883959606670431112222\n",
    "output Yes it is divisible by 3"
   ]
  },
  {
   "cell_type": "code",
   "execution_count": 31,
   "id": "22bf2780-e4dc-409c-837a-6c8bf8df3735",
   "metadata": {},
   "outputs": [
    {
     "name": "stdout",
     "output_type": "stream",
     "text": [
      "True\n",
      "True\n",
      "True\n",
      "False\n",
      "False\n",
      "True\n",
      "True\n",
      "True\n",
      "False\n",
      "False\n",
      "False\n",
      "False\n",
      "False\n",
      "False\n",
      "True\n",
      "True\n",
      "False\n",
      "False\n",
      "False\n",
      "True\n",
      "False\n",
      "True\n",
      "False\n",
      "False\n",
      "True\n"
     ]
    }
   ],
   "source": [
    "n = '3635883959606670431112222'\n",
    "sum = 0\n",
    "for i in n:\n",
    "    sum += int(i)\n",
    "    if (sum%3) == 0:\n",
    "        print(True)\n",
    "    else:\n",
    "        print(False)"
   ]
  },
  {
   "cell_type": "code",
   "execution_count": 32,
   "id": "0da03b4c-e4d7-4888-8722-9dc091a53c11",
   "metadata": {},
   "outputs": [
    {
     "name": "stdout",
     "output_type": "stream",
     "text": [
      " 3635883959606670431112222\n"
     ]
    },
    {
     "ename": "TypeError",
     "evalue": "'int' object is not iterable",
     "output_type": "error",
     "traceback": [
      "\u001b[1;31m---------------------------------------------------------------------------\u001b[0m",
      "\u001b[1;31mTypeError\u001b[0m                                 Traceback (most recent call last)",
      "Cell \u001b[1;32mIn[32], line 5\u001b[0m\n\u001b[0;32m      3\u001b[0m \u001b[38;5;66;03m# this will store the sum of digits\u001b[39;00m\n\u001b[0;32m      4\u001b[0m \u001b[38;5;28msum\u001b[39m \u001b[38;5;241m=\u001b[39m \u001b[38;5;241m0\u001b[39m\n\u001b[1;32m----> 5\u001b[0m \u001b[38;5;28;01mfor\u001b[39;00m i \u001b[38;5;129;01min\u001b[39;00m \u001b[38;5;28msum\u001b[39m:\n\u001b[0;32m      6\u001b[0m     ch\u001b[38;5;241m=\u001b[39m\u001b[38;5;28mint\u001b[39m(i)\n\u001b[0;32m      7\u001b[0m     \u001b[38;5;28msum\u001b[39m\u001b[38;5;241m+\u001b[39m\u001b[38;5;241m=\u001b[39mch\n",
      "\u001b[1;31mTypeError\u001b[0m: 'int' object is not iterable"
     ]
    }
   ],
   "source": [
    "# taking string as input\n",
    "N = input()\n",
    "# this will store the sum of digits\n",
    "sum = 0\n",
    "for i in sum:\n",
    "    char=int(i)\n",
    "    sum+=char\n",
    "    if sum%3==0:\n",
    "        print(\"yes\")\n",
    "    else:\n",
    "        print(\"no\")"
   ]
  },
  {
   "cell_type": "code",
   "execution_count": 1,
   "id": "4d5f9fa0-7bee-4c4d-9884-20b5c10a872e",
   "metadata": {},
   "outputs": [
    {
     "name": "stdout",
     "output_type": "stream",
     "text": [
      "Yes, it is divisible by 3\n"
     ]
    }
   ],
   "source": [
    "def is_divisible_by_3(number_str):\n",
    "    # Convert the string to a list of digits\n",
    "    digits = [int(digit) for digit in number_str]\n",
    "\n",
    "    # Calculate the sum of the digits\n",
    "    digit_sum = sum(digits)\n",
    "\n",
    "    # Check if the sum is divisible by 3\n",
    "    if digit_sum % 3 == 0:\n",
    "        return \"Yes, it is divisible by 3\"\n",
    "    else:\n",
    "        return \"No, it is not divisible by 3\"\n",
    "\n",
    "# Example usage\n",
    "number_str = \"3635883959606670431112222\"\n",
    "print(is_divisible_by_3(number_str))"
   ]
  },
  {
   "cell_type": "code",
   "execution_count": 5,
   "id": "00dadfad-e87f-4a60-a2ed-8eb70817f2cb",
   "metadata": {},
   "outputs": [
    {
     "name": "stdout",
     "output_type": "stream",
     "text": [
      "Yes, it is divisible by 3\n"
     ]
    }
   ],
   "source": [
    "def is_divisible_by_3(number_str):\n",
    "    # Initialize a variable to store the sum of digits\n",
    "    digit_sum = 0\n",
    "    \n",
    "    # Iterate through each character in the string\n",
    "    for i in number_str:\n",
    "        # Convert the character to an integer\n",
    "        digit = int(i)\n",
    "        \n",
    "        # Add the digit to the sum\n",
    "        digit_sum += digit\n",
    "    \n",
    "    # Check if the sum is divisible by 3\n",
    "    if digit_sum % 3 == 0:\n",
    "        return \"Yes, it is divisible by 3\"\n",
    "    else:\n",
    "        return \"No, it is not divisible by 3\"\n",
    "\n",
    "# Example usage\n",
    "number_str = \"3635883959606670431112222\"\n",
    "print(is_divisible_by_3(number_str))\n"
   ]
  },
  {
   "cell_type": "code",
   "execution_count": 8,
   "id": "01e2966d-fd23-4a1f-bb02-2858fb9d3e65",
   "metadata": {},
   "outputs": [
    {
     "name": "stdout",
     "output_type": "stream",
     "text": [
      "True\n"
     ]
    }
   ],
   "source": [
    "n = '3635883959606670431112222'\n",
    "sum = 0\n",
    "for i in n:\n",
    "    sum_num += int(i)\n",
    "    # sum += sum_num\n",
    "if sum_num % 3 == 0:\n",
    "    print(True)\n",
    "else:\n",
    "    print(False)"
   ]
  },
  {
   "cell_type": "raw",
   "id": "2bd5b332-9e0e-49fe-bfc0-89cd7414317d",
   "metadata": {},
   "source": [
    "# Hari likes sweets very much, so he is planning to go the island of sweets.\n",
    "there are NNo. villages in this island aligned with one unit diffrence between\n",
    "successive wages. each village has it's own sweet.sweetness of each sweet is measured biginteger and it's already known to hari.\n",
    "hari is plannig to stay  in each village for one day and he can easily get \n",
    "the sweets of any village which are most K unit which he can get.\n",
    "hari wants to make a decision to visit the island on the basis of the minimum\n",
    "of the sweetness value he will eat over the days if oes there. can you \n",
    "please help him to get the minimum sweetness value which he will\n",
    "get on the island"
   ]
  },
  {
   "cell_type": "raw",
   "id": "9b335edf-074c-47b5-90d4-b5738d19987d",
   "metadata": {},
   "source": [
    "Input Format:\n",
    "1) First line contains the value of N.\n",
    "2) second line contains the value of K.\n",
    "3) Third line contains the value of an element of an array\n",
    "Output Format:\n",
    "Print the minimum sweetness throughout the journey\n",
    "Input\n",
    "N=10\n",
    "K=3\n",
    "arr=[1,2,3,4,5,6,7,8,9,10]\n",
    "\n",
    "output \n",
    "4"
   ]
  },
  {
   "cell_type": "code",
   "execution_count": 14,
   "id": "6b26a668-c8a7-4a11-9e97-ea6b4b7c59e7",
   "metadata": {},
   "outputs": [
    {
     "ename": "TypeError",
     "evalue": "'int' object is not callable",
     "output_type": "error",
     "traceback": [
      "\u001b[1;31m---------------------------------------------------------------------------\u001b[0m",
      "\u001b[1;31mTypeError\u001b[0m                                 Traceback (most recent call last)",
      "Cell \u001b[1;32mIn[14], line 4\u001b[0m\n\u001b[0;32m      2\u001b[0m K\u001b[38;5;241m=\u001b[39m\u001b[38;5;241m3\u001b[39m\n\u001b[0;32m      3\u001b[0m arr\u001b[38;5;241m=\u001b[39m[\u001b[38;5;241m1\u001b[39m,\u001b[38;5;241m2\u001b[39m,\u001b[38;5;241m3\u001b[39m,\u001b[38;5;241m4\u001b[39m,\u001b[38;5;241m5\u001b[39m,\u001b[38;5;241m6\u001b[39m,\u001b[38;5;241m7\u001b[39m,\u001b[38;5;241m8\u001b[39m,\u001b[38;5;241m9\u001b[39m,\u001b[38;5;241m10\u001b[39m]\n\u001b[1;32m----> 4\u001b[0m initial_sum \u001b[38;5;241m=\u001b[39m \u001b[38;5;28msum\u001b[39m(arr[:K])\n\u001b[0;32m      5\u001b[0m min_sweetness \u001b[38;5;241m=\u001b[39m initial_sum\n\u001b[0;32m      6\u001b[0m \u001b[38;5;66;03m# Iterate through the array starting from index K\u001b[39;00m\n",
      "\u001b[1;31mTypeError\u001b[0m: 'int' object is not callable"
     ]
    }
   ],
   "source": [
    "N=10\n",
    "K=3\n",
    "arr=[1,2,3,4,5,6,7,8,9,10]\n",
    "initial_sum = sum(arr[:K])\n",
    "min_sweetness = initial_sum\n",
    "# Iterate through the array starting from index K\n",
    "for i in range(K,N):\n",
    "    # Calculate the sum of the next K elements\n",
    "    window_sum = sum(arr[i-K+1:i+1])\n",
    "    # Update min_sweetness if necessary\n",
    "    min_sweetness = min(min_sweetness,window_sum)\n",
    "# Output the minimum sweetness throughout the journey\n",
    "print(min_sweetness)"
   ]
  },
  {
   "cell_type": "code",
   "execution_count": 13,
   "id": "3d03ec29-61ba-4ab3-a27f-7013b0bd00c4",
   "metadata": {},
   "outputs": [
    {
     "name": "stdout",
     "output_type": "stream",
     "text": [
      "4\n"
     ]
    }
   ],
   "source": [
    "N=10\n",
    "K=3\n",
    "# arr=[1,2,3,4,5,6,7,8,9,10]\n",
    "# arr=[1,2,3,4,4,6,1,2,2,7,8,9,10]\n",
    "arr = [2,3,4,1,5,2,6,3]\n",
    "# this will store the final answer\n",
    "ans = float(\"inf\")\n",
    "for i in range(N):\n",
    "\n",
    "    if i+K+1 < N:\n",
    "        # take the subarray from i to i+k\n",
    "        sub=arr[i:i+K+1]\n",
    "        mi = max(sub)\n",
    "        ans = min(ans,mi)\n",
    "print(ans)"
   ]
  },
  {
   "cell_type": "raw",
   "id": "7ea2c8eb-e976-4fc9-b3f7-ec8bbf98b9da",
   "metadata": {},
   "source": [
    "A chocolate factory is packing chocolates into the packets.The chocolate packets here are an array of N number of integer values.\n",
    "the task is to find the empty packets(0) of chocolates and push\n",
    "it to the end of the conveyor(array).\n",
    "\n",
    "for Example:\n",
    "N=7 and arr=[4,5,0,1,9,0,5,0]\n",
    "\n",
    "There are 3 empty packets in the given set. These 3 empty packets represent as O should be pushed toward the end of the array."
   ]
  },
  {
   "cell_type": "code",
   "execution_count": 2,
   "id": "a0b90263-32b7-4355-b037-c6c5317580cf",
   "metadata": {},
   "outputs": [
    {
     "name": "stdout",
     "output_type": "stream",
     "text": [
      "[4, 5, 0, 1, 9, 0, 5, 0]\n",
      "[4, 5, 0, 1, 9, 0, 5, 0]\n"
     ]
    },
    {
     "ename": "AttributeError",
     "evalue": "'int' object has no attribute 'append'",
     "output_type": "error",
     "traceback": [
      "\u001b[1;31m---------------------------------------------------------------------------\u001b[0m",
      "\u001b[1;31mAttributeError\u001b[0m                            Traceback (most recent call last)",
      "Cell \u001b[1;32mIn[2], line 4\u001b[0m\n\u001b[0;32m      2\u001b[0m \u001b[38;5;28;01mfor\u001b[39;00m i \u001b[38;5;129;01min\u001b[39;00m arr:\n\u001b[0;32m      3\u001b[0m     \u001b[38;5;28;01mif\u001b[39;00m i \u001b[38;5;241m==\u001b[39m \u001b[38;5;241m0\u001b[39m:\n\u001b[1;32m----> 4\u001b[0m         i\u001b[38;5;241m.\u001b[39mappend(arr)\n\u001b[0;32m      5\u001b[0m     \u001b[38;5;28mprint\u001b[39m(arr)\n",
      "\u001b[1;31mAttributeError\u001b[0m: 'int' object has no attribute 'append'"
     ]
    }
   ],
   "source": [
    "arr=[4,5,0,1,9,0,5,0]\n",
    "for i in arr:\n",
    "    if i == 0:\n",
    "        i.append(arr)\n",
    "    print(arr)"
   ]
  },
  {
   "cell_type": "code",
   "execution_count": null,
   "id": "7fffca01-41b3-442a-ad1e-890071744934",
   "metadata": {},
   "outputs": [],
   "source": [
    "# john is amthematics teacher in one of the classes of dale's school. The class has N student. Today is their yearly exam.and john is very strict on the answer as per john, no one is allowed to cheat. he will find it out from the final marks of two adjacent students.\n",
    "\n",
    "# The marks of N Students are mentioned in M[], with index 1 to N. all student are seated one behind the other based on their roll numbers,which is form 1 to N.\n",
    "# if any two adjacent (one behind the other) students have same marks,then it will be considered as cheating ,and the latter student will be removed from the merit list.the student sitting the behind is considered as cheater."
   ]
  },
  {
   "cell_type": "code",
   "execution_count": null,
   "id": "5a4ef09e",
   "metadata": {},
   "outputs": [],
   "source": [
    "# At the next level is the process of re-evaluation, Which is performed by another department.the re-evaluation can impact marks of K students. The re-evaluation will update their marks and then again the 3 final merit list are declered.\n",
    "# The re-evaluation will be in the format of X Y. Here 'X' is the index of the student whose marks needs to be changed from the original value to Y. Each re-evaluation is independent, and the merit list is updated aftereach re-evaluation.\n",
    "# After each re-evaluation the merit list is updated, where the cheater is filtered out if there is any. Your task is to find the maximum number of students that were part of the merit list after re-evaluation.only final merit list is visible to all students"
   ]
  },
  {
   "cell_type": "code",
   "execution_count": null,
   "id": "9913aad1",
   "metadata": {},
   "outputs": [],
   "source": [
    "# Number of students N = 5\n",
    "# Respective marks M=[1,1,2,5,2]\n",
    "# After re-evaluation there were 2(K=2)\n",
    "# students whose marks are updated\n",
    "\n",
    "#  X[1] = 3(Y)\n",
    "# X[4] = 2(Y)\n",
    "\n",
    "# Output\n",
    "\n",
    "# For first re-evaluation answer is  5\n",
    "# for second re-evaluation answer is 3"
   ]
  },
  {
   "cell_type": "code",
   "execution_count": null,
   "id": "0655d337",
   "metadata": {},
   "outputs": [],
   "source": [
    "# Recursion matrix"
   ]
  }
 ],
 "metadata": {
  "kernelspec": {
   "display_name": "Python 3 (ipykernel)",
   "language": "python",
   "name": "python3"
  },
  "language_info": {
   "codemirror_mode": {
    "name": "ipython",
    "version": 3
   },
   "file_extension": ".py",
   "mimetype": "text/x-python",
   "name": "python",
   "nbconvert_exporter": "python",
   "pygments_lexer": "ipython3",
   "version": "3.11.7"
  },
  "widgets": {
   "application/vnd.jupyter.widget-state+json": {
    "state": {},
    "version_major": 2,
    "version_minor": 0
   }
  }
 },
 "nbformat": 4,
 "nbformat_minor": 5
}
