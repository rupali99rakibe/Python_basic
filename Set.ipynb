{
 "cells": [
  {
   "cell_type": "code",
   "execution_count": 1,
   "id": "1a4ee3ef",
   "metadata": {},
   "outputs": [
    {
     "data": {
      "text/plain": [
       "{10, 20, 30, 40, 50, 60, 70, True, 'rupali'}"
      ]
     },
     "execution_count": 1,
     "metadata": {},
     "output_type": "execute_result"
    }
   ],
   "source": [
    "s = {10,20,60,70,30,40,50,True,1,60,'rupali'}\n",
    "s"
   ]
  },
  {
   "cell_type": "code",
   "execution_count": 2,
   "id": "8406973a",
   "metadata": {},
   "outputs": [],
   "source": [
    "# Set property\n",
    "# it can take only unique \n",
    "# There is no formatting sequence\n",
    "# indexing is not available in set\n",
    "# in a set not possible to add list"
   ]
  },
  {
   "cell_type": "code",
   "execution_count": 3,
   "id": "83080309",
   "metadata": {},
   "outputs": [
    {
     "data": {
      "text/plain": [
       "{10, 20, 30, 40, 50, 60, 70, 9, True, 'rupali'}"
      ]
     },
     "execution_count": 3,
     "metadata": {},
     "output_type": "execute_result"
    }
   ],
   "source": [
    "s.add(9)\n",
    "s"
   ]
  },
  {
   "cell_type": "code",
   "execution_count": 4,
   "id": "56d82b14",
   "metadata": {},
   "outputs": [],
   "source": [
    "s.add(1)"
   ]
  },
  {
   "cell_type": "code",
   "execution_count": 5,
   "id": "13fd1a1c",
   "metadata": {},
   "outputs": [
    {
     "data": {
      "text/plain": [
       "{10, 20, 30, 40, 50, 60, 70, 9, True, 'rupali'}"
      ]
     },
     "execution_count": 5,
     "metadata": {},
     "output_type": "execute_result"
    }
   ],
   "source": [
    "s"
   ]
  },
  {
   "cell_type": "code",
   "execution_count": 6,
   "id": "f793e704",
   "metadata": {},
   "outputs": [],
   "source": [
    "l = (1,2,3,4,5)"
   ]
  },
  {
   "cell_type": "code",
   "execution_count": 7,
   "id": "967ebee1",
   "metadata": {},
   "outputs": [],
   "source": [
    "s.add(l)"
   ]
  },
  {
   "cell_type": "code",
   "execution_count": 8,
   "id": "83219353",
   "metadata": {},
   "outputs": [
    {
     "data": {
      "text/plain": [
       "{(1, 2, 3, 4, 5), 10, 20, 30, 40, 50, 60, 70, 9, True, 'rupali'}"
      ]
     },
     "execution_count": 8,
     "metadata": {},
     "output_type": "execute_result"
    }
   ],
   "source": [
    "s"
   ]
  },
  {
   "cell_type": "code",
   "execution_count": 9,
   "id": "20818e62",
   "metadata": {},
   "outputs": [],
   "source": [
    "s1 = {11,12,13,14,15,16}"
   ]
  },
  {
   "cell_type": "code",
   "execution_count": 10,
   "id": "52e0a192",
   "metadata": {},
   "outputs": [],
   "source": [
    "s.update(s1)"
   ]
  },
  {
   "cell_type": "code",
   "execution_count": 11,
   "id": "027fbf6f",
   "metadata": {},
   "outputs": [],
   "source": [
    "s1 = s.copy()"
   ]
  },
  {
   "cell_type": "code",
   "execution_count": 12,
   "id": "0a4d4ab5",
   "metadata": {},
   "outputs": [
    {
     "data": {
      "text/plain": [
       "{(1, 2, 3, 4, 5),\n",
       " 10,\n",
       " 11,\n",
       " 12,\n",
       " 13,\n",
       " 14,\n",
       " 15,\n",
       " 16,\n",
       " 20,\n",
       " 30,\n",
       " 40,\n",
       " 50,\n",
       " 60,\n",
       " 70,\n",
       " 9,\n",
       " True,\n",
       " 'rupali'}"
      ]
     },
     "execution_count": 12,
     "metadata": {},
     "output_type": "execute_result"
    }
   ],
   "source": [
    "s1"
   ]
  },
  {
   "cell_type": "code",
   "execution_count": 13,
   "id": "208dc3c6",
   "metadata": {},
   "outputs": [
    {
     "data": {
      "text/plain": [
       "True"
      ]
     },
     "execution_count": 13,
     "metadata": {},
     "output_type": "execute_result"
    }
   ],
   "source": [
    "s1.pop()"
   ]
  },
  {
   "cell_type": "code",
   "execution_count": 15,
   "id": "ce099657",
   "metadata": {},
   "outputs": [
    {
     "data": {
      "text/plain": [
       "'rupali'"
      ]
     },
     "execution_count": 15,
     "metadata": {},
     "output_type": "execute_result"
    }
   ],
   "source": [
    "s.pop()"
   ]
  },
  {
   "cell_type": "code",
   "execution_count": 17,
   "id": "6a55280f",
   "metadata": {},
   "outputs": [],
   "source": [
    "s.remove(40)"
   ]
  },
  {
   "cell_type": "code",
   "execution_count": 18,
   "id": "77ec905f",
   "metadata": {},
   "outputs": [
    {
     "data": {
      "text/plain": [
       "{(1, 2, 3, 4, 5), 10, 11, 12, 13, 14, 15, 16, 20, 30, 50, 60, 70, 9}"
      ]
     },
     "execution_count": 18,
     "metadata": {},
     "output_type": "execute_result"
    }
   ],
   "source": [
    "s"
   ]
  },
  {
   "cell_type": "code",
   "execution_count": 20,
   "id": "897aa1db",
   "metadata": {},
   "outputs": [],
   "source": [
    "s.discard(30)"
   ]
  },
  {
   "cell_type": "code",
   "execution_count": 21,
   "id": "a40400fa",
   "metadata": {},
   "outputs": [
    {
     "data": {
      "text/plain": [
       "{(1, 2, 3, 4, 5), 10, 11, 12, 13, 14, 15, 16, 20, 50, 60, 70, 9}"
      ]
     },
     "execution_count": 21,
     "metadata": {},
     "output_type": "execute_result"
    }
   ],
   "source": [
    "s"
   ]
  },
  {
   "cell_type": "code",
   "execution_count": 22,
   "id": "4754289b",
   "metadata": {},
   "outputs": [],
   "source": [
    "s.discard(30)"
   ]
  },
  {
   "cell_type": "code",
   "execution_count": 23,
   "id": "451bfe3f",
   "metadata": {},
   "outputs": [
    {
     "data": {
      "text/plain": [
       "{(1, 2, 3, 4, 5), 10, 11, 12, 13, 14, 15, 16, 20, 50, 60, 70, 9}"
      ]
     },
     "execution_count": 23,
     "metadata": {},
     "output_type": "execute_result"
    }
   ],
   "source": [
    "s"
   ]
  },
  {
   "cell_type": "code",
   "execution_count": 24,
   "id": "6c6fcba4",
   "metadata": {},
   "outputs": [],
   "source": [
    "s = {10,20,30,40,50,60,7,70,80}\n",
    "s1 = {11,21,31,10,20,30,40,50}"
   ]
  },
  {
   "cell_type": "code",
   "execution_count": 25,
   "id": "e5c5e513",
   "metadata": {},
   "outputs": [
    {
     "data": {
      "text/plain": [
       "{7, 10, 11, 20, 21, 30, 31, 40, 50, 60, 70, 80}"
      ]
     },
     "execution_count": 25,
     "metadata": {},
     "output_type": "execute_result"
    }
   ],
   "source": [
    "s.union(s1)"
   ]
  },
  {
   "cell_type": "code",
   "execution_count": 26,
   "id": "52f7a711",
   "metadata": {},
   "outputs": [
    {
     "data": {
      "text/plain": [
       "{10, 20, 30, 40, 50}"
      ]
     },
     "execution_count": 26,
     "metadata": {},
     "output_type": "execute_result"
    }
   ],
   "source": [
    "s.intersection(s1)"
   ]
  },
  {
   "cell_type": "code",
   "execution_count": 27,
   "id": "dc588ab9",
   "metadata": {},
   "outputs": [
    {
     "data": {
      "text/plain": [
       "{7, 11, 21, 31, 60, 70, 80}"
      ]
     },
     "execution_count": 27,
     "metadata": {},
     "output_type": "execute_result"
    }
   ],
   "source": [
    "s.symmetric_difference(s1)"
   ]
  },
  {
   "cell_type": "code",
   "execution_count": 29,
   "id": "1ae9f6b5",
   "metadata": {},
   "outputs": [
    {
     "data": {
      "text/plain": [
       "{11, 21, 31}"
      ]
     },
     "execution_count": 29,
     "metadata": {},
     "output_type": "execute_result"
    }
   ],
   "source": [
    "s1.difference(s)"
   ]
  },
  {
   "cell_type": "code",
   "execution_count": 2,
   "id": "e78d8ca1-ce14-4918-b928-b34f46b316d6",
   "metadata": {},
   "outputs": [
    {
     "data": {
      "text/plain": [
       "{1, 2, 4, 'A', 'B', 'C', 'D', 'E'}"
      ]
     },
     "execution_count": 2,
     "metadata": {},
     "output_type": "execute_result"
    }
   ],
   "source": [
    "# unordered\n",
    "set = {\"A\",'B','C','D','D',1,'E',2,4}\n",
    "set"
   ]
  },
  {
   "cell_type": "code",
   "execution_count": 3,
   "id": "f0a2916d-6836-452b-b6bd-758e2e94ccf7",
   "metadata": {},
   "outputs": [
    {
     "data": {
      "text/plain": [
       "{1, 2, 4, 'A', 'B', 'C', 'D', 'E'}"
      ]
     },
     "execution_count": 3,
     "metadata": {},
     "output_type": "execute_result"
    }
   ],
   "source": [
    "# no duplicates\n",
    "set = {\"A\",'B','C','D','D',1,'E',2,4,2,2,2}\n",
    "set"
   ]
  },
  {
   "cell_type": "code",
   "execution_count": 4,
   "id": "8ebe68ae-4df9-471c-bec2-4d72f12fbbce",
   "metadata": {},
   "outputs": [
    {
     "name": "stdout",
     "output_type": "stream",
     "text": [
      "1\n",
      "2\n",
      "4\n",
      "A\n",
      "D\n",
      "C\n",
      "E\n",
      "B\n"
     ]
    }
   ],
   "source": [
    "for i in set:\n",
    "    print(i)"
   ]
  },
  {
   "cell_type": "code",
   "execution_count": null,
   "id": "44fbee78-ab8c-45ef-8016-7da36622b039",
   "metadata": {},
   "outputs": [],
   "source": []
  }
 ],
 "metadata": {
  "kernelspec": {
   "display_name": "Python 3 (ipykernel)",
   "language": "python",
   "name": "python3"
  },
  "language_info": {
   "codemirror_mode": {
    "name": "ipython",
    "version": 3
   },
   "file_extension": ".py",
   "mimetype": "text/x-python",
   "name": "python",
   "nbconvert_exporter": "python",
   "pygments_lexer": "ipython3",
   "version": "3.11.7"
  },
  "widgets": {
   "application/vnd.jupyter.widget-state+json": {
    "state": {},
    "version_major": 2,
    "version_minor": 0
   }
  }
 },
 "nbformat": 4,
 "nbformat_minor": 5
}
