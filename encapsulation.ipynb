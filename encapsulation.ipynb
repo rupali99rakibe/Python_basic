{
 "cells": [
  {
   "cell_type": "markdown",
   "id": "2f52c83c-d0a7-4491-9721-927185758c2f",
   "metadata": {},
   "source": [
    "# Encapsulation In Python"
   ]
  },
  {
   "cell_type": "raw",
   "id": "5517cded-0076-4462-9486-b712d4d02268",
   "metadata": {},
   "source": [
    "Encapsulation is a fundamental principle in object-oriented programming that focuses on bundling data and the methods that operate on the data into a single unit called a class. It allows you to control the access and visibility of the data and methods, providing a way to protect and organize your code."
   ]
  },
  {
   "cell_type": "code",
   "execution_count": 17,
   "id": "7caceb14-64a1-4dd1-a04b-4bd006f3af92",
   "metadata": {},
   "outputs": [
    {
     "name": "stdout",
     "output_type": "stream",
     "text": [
      "the person name in Rupali and the age is 24\n"
     ]
    }
   ],
   "source": [
    "# access modifier \n",
    "# private \n",
    "\n",
    "class Person:\n",
    "    # Constructor\n",
    "    \n",
    "    def __init__(self,name,age):\n",
    "        self.__name=name\n",
    "        self.__age=age\n",
    "    def display_info(self):\n",
    "        print(f\"the person name in {self.__name} and the age is {self.__age}\")\n",
    "\n",
    "person=Person('Rupali',24)\n",
    "person.display_info()"
   ]
  },
  {
   "cell_type": "code",
   "execution_count": 19,
   "id": "f7393e96-2712-49b7-8108-439ddcfb11ad",
   "metadata": {},
   "outputs": [
    {
     "name": "stdout",
     "output_type": "stream",
     "text": [
      "the person name in Rupali and the age is 24\n"
     ]
    }
   ],
   "source": [
    "# access modifier \n",
    "# protected \n",
    "\n",
    "class Person:\n",
    "    # Constructor\n",
    "    \n",
    "    def __init__(self,name,age):\n",
    "        self._name=name\n",
    "        self._age=age\n",
    "    # def display_info(self):\n",
    "    #     print(f\"the person name in {self._name} and the age is {self._age}\")\n",
    "\n",
    "person=Person('Rupali',24)\n",
    "person.display_info()"
   ]
  },
  {
   "cell_type": "code",
   "execution_count": 20,
   "id": "a317dc5e-8add-486d-92b2-9ce93b3532e3",
   "metadata": {},
   "outputs": [],
   "source": [
    "person=Person('Rupali',24)"
   ]
  },
  {
   "cell_type": "code",
   "execution_count": 22,
   "id": "0addce7b-f425-499a-bf14-ab9016503e53",
   "metadata": {},
   "outputs": [
    {
     "data": {
      "text/plain": [
       "24"
      ]
     },
     "execution_count": 22,
     "metadata": {},
     "output_type": "execute_result"
    }
   ],
   "source": [
    "person._age"
   ]
  },
  {
   "cell_type": "code",
   "execution_count": 23,
   "id": "2d255fdf-738f-4a00-b594-43eba0990baa",
   "metadata": {},
   "outputs": [],
   "source": [
    "# protected class is use in only derived class\n",
    "class Student(Person):\n",
    "    def __init__(self,name,age):\n",
    "        super().__init__(name,age)\n",
    "    def display_info(self):\n",
    "        print(f\"the person name in {self._name} and the age is {self._age}\")\n",
    "        "
   ]
  },
  {
   "cell_type": "code",
   "execution_count": 24,
   "id": "40696765-a038-4d10-b690-32c04fd5fd26",
   "metadata": {},
   "outputs": [],
   "source": [
    "student1=Student('Rupali',25)"
   ]
  },
  {
   "cell_type": "code",
   "execution_count": 25,
   "id": "af497bf2-ab21-4e26-8545-bc3aea1c4cf8",
   "metadata": {},
   "outputs": [
    {
     "name": "stdout",
     "output_type": "stream",
     "text": [
      "the person name in Rupali and the age is 25\n"
     ]
    }
   ],
   "source": [
    "student1.display_info()"
   ]
  },
  {
   "cell_type": "code",
   "execution_count": null,
   "id": "e4a9b63c-7fcc-479f-b2b0-93f356f8c837",
   "metadata": {},
   "outputs": [],
   "source": [
    "# public acess modifiers\n",
    "class Person:\n",
    "    def __init__(self,name,age):\n",
    "        self.name=name\n",
    "        self.age=age"
   ]
  }
 ],
 "metadata": {
  "kernelspec": {
   "display_name": "Python 3 (ipykernel)",
   "language": "python",
   "name": "python3"
  },
  "language_info": {
   "codemirror_mode": {
    "name": "ipython",
    "version": 3
   },
   "file_extension": ".py",
   "mimetype": "text/x-python",
   "name": "python",
   "nbconvert_exporter": "python",
   "pygments_lexer": "ipython3",
   "version": "3.11.7"
  },
  "widgets": {
   "application/vnd.jupyter.widget-state+json": {
    "state": {},
    "version_major": 2,
    "version_minor": 0
   }
  }
 },
 "nbformat": 4,
 "nbformat_minor": 5
}
