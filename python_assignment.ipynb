{
 "cells": [
  {
   "cell_type": "code",
   "execution_count": 1,
   "id": "3ebd07f0-63a2-4dda-b133-edebf693e582",
   "metadata": {},
   "outputs": [
    {
     "name": "stdout",
     "output_type": "stream",
     "text": [
      "year is leap\n"
     ]
    }
   ],
   "source": [
    "#1. Write a Python Program to Check Leap Year?\n",
    "a = 2020\n",
    "try:\n",
    "    if a % 4 == 0:\n",
    "        print(\"year is leap\")\n",
    "except:\n",
    "    print(\"year is not leap\")"
   ]
  },
  {
   "cell_type": "code",
   "execution_count": 2,
   "id": "97ec6492-2093-41f2-9aca-34e1571d847a",
   "metadata": {},
   "outputs": [
    {
     "data": {
      "text/plain": [
       "['a', 'd', 'e', 'g', 'g', 'k', 'l', 'r', 's', 't', 'y']"
      ]
     },
     "execution_count": 2,
     "metadata": {},
     "output_type": "execute_result"
    }
   ],
   "source": [
    "#2. Write a Python Program to Sort Words in Alphabetic Order?\n",
    "A =[\"a\",\"g\",\"r\",\"s\",\"k\",\"y\",\"t\",\"l\",\"d\",\"g\",\"e\"]\n",
    "A.sort(reverse = False)\n",
    "A"
   ]
  },
  {
   "cell_type": "code",
   "execution_count": 3,
   "id": "8705c460-44d3-4587-bfcc-adcd2f0c6b1f",
   "metadata": {},
   "outputs": [
    {
     "data": {
      "text/plain": [
       "\"wow it's a great\""
      ]
     },
     "execution_count": 3,
     "metadata": {},
     "output_type": "execute_result"
    }
   ],
   "source": [
    "#3. Write a Python Program to Remove Punctuation From a String?\n",
    "a = \"wow! it's a great\"\n",
    "a.replace(\"!\",\"\")"
   ]
  },
  {
   "cell_type": "code",
   "execution_count": 4,
   "id": "b58ce31f-425c-4c8a-a572-457fbbf11a05",
   "metadata": {},
   "outputs": [
    {
     "name": "stdout",
     "output_type": "stream",
     "text": [
      "{'a': 11, 'b': 12, 'c': 13, 'd': 14, 'e': 15}\n"
     ]
    }
   ],
   "source": [
    "#4. Write a Python program to convert key-values list to flat dictionary?\n",
    "l = [\"a\", \"b\",\"c\",\"d\",\"e\"]\n",
    "l1 = [11,12,13,14,15]\n",
    "dict = {}\n",
    "for i in range(len(l)):\n",
    "    dict[l[i]] = l1[i]\n",
    "print(dict)"
   ]
  },
  {
   "cell_type": "code",
   "execution_count": 5,
   "id": "7e4f60ce-6c10-49a7-93f2-e732f9ef7dd6",
   "metadata": {},
   "outputs": [
    {
     "name": "stdout",
     "output_type": "stream",
     "text": [
      "[1, 4, 9, 16, 25, 36, 49, 64, 81]\n"
     ]
    }
   ],
   "source": [
    "#5. Create a list of squared integers from a given list of integers.\n",
    "l = []\n",
    "for i in range(1,10):\n",
    "    l.append((i) * (i))\n",
    "print(l)"
   ]
  },
  {
   "cell_type": "code",
   "execution_count": 6,
   "id": "2362c740-f532-4a04-b13a-75a52f57c4b7",
   "metadata": {},
   "outputs": [
    {
     "name": "stdout",
     "output_type": "stream",
     "text": [
      "['u', 'a', 'i', 'i', 'a', 'i', 'i', 'o', 'a']\n"
     ]
    }
   ],
   "source": [
    "#6. Remove all the vowels from a given string\n",
    "l = [\"rupali\",\"kiran\",\"rishi\",\"roshan\"]\n",
    "l1 = [\"a\",\"e\",\"i\",\"o\",\"u\"]\n",
    "vowels = []\n",
    "for i in l:\n",
    "    for str in i:\n",
    "        if str in l1: \n",
    "            vowels.append(str)\n",
    "print(vowels)"
   ]
  },
  {
   "cell_type": "code",
   "execution_count": 7,
   "id": "57e90803-c56a-442b-bfbf-21904b25054f",
   "metadata": {},
   "outputs": [],
   "source": [
    "#7. Count the number of times each character appears in a given string\n",
    "a = \"i am a student of data science\"\n",
    "def count_char(a):\n",
    "    count = {}\n",
    "    for char in a:\n",
    "        if char in count:\n",
    "            count[char] += 1\n",
    "        else:\n",
    "            count[char] = 1\n",
    "\n",
    "    return count"
   ]
  },
  {
   "cell_type": "code",
   "execution_count": 8,
   "id": "98128b65-d03b-4d05-8b0b-1ad4bec38121",
   "metadata": {},
   "outputs": [
    {
     "data": {
      "text/plain": [
       "{'i': 2,\n",
       " ' ': 6,\n",
       " 'a': 4,\n",
       " 'm': 1,\n",
       " 's': 2,\n",
       " 't': 3,\n",
       " 'u': 1,\n",
       " 'd': 2,\n",
       " 'e': 3,\n",
       " 'n': 2,\n",
       " 'o': 1,\n",
       " 'f': 1,\n",
       " 'c': 2}"
      ]
     },
     "execution_count": 8,
     "metadata": {},
     "output_type": "execute_result"
    }
   ],
   "source": [
    "count_char(a)"
   ]
  },
  {
   "cell_type": "code",
   "execution_count": 9,
   "id": "1ec6b09a-ef92-493a-a68e-ddc397a1cac8",
   "metadata": {},
   "outputs": [
    {
     "name": "stdout",
     "output_type": "stream",
     "text": [
      "['1', '15', '3', '17', '2', '9']\n"
     ]
    }
   ],
   "source": [
    "#8. Find all the digits in a given string\n",
    "s = [\"a\",\"1\",\"15\",\"r\",\"3\",\"k\",\"17\",\"r\",\"2\",\"s\",\"9\",\"r\"]\n",
    "isnumeric = []\n",
    "for i in s:\n",
    "    if i.isdigit():\n",
    "        isnumeric.append(i)\n",
    "print(isnumeric)"
   ]
  },
  {
   "cell_type": "code",
   "execution_count": 10,
   "id": "28243da3-c496-45a6-a670-269b4844f6c2",
   "metadata": {},
   "outputs": [
    {
     "name": "stdout",
     "output_type": "stream",
     "text": [
      "[15, 30, 90]\n"
     ]
    }
   ],
   "source": [
    "#9. Create a list of all the numbers that are divisible by 3 and 5 from a given list of integers using list comprehension.\n",
    "l = [1,3,9,2,15,7,18,20,30,90]\n",
    "l1 = []\n",
    "for i in l:\n",
    "    if i % 3 == 0 and i % 5 == 0:\n",
    "        l1.append(i)\n",
    "print(l1)"
   ]
  },
  {
   "cell_type": "code",
   "execution_count": 11,
   "id": "7f339667-d4fa-4740-ab30-4ac4d899537e",
   "metadata": {},
   "outputs": [],
   "source": [
    "#10. Find the sum of all the elements in a given array of integers.\n",
    "import numpy as np\n",
    "l = [1,3,9,2,15,7,18,20,30,90]"
   ]
  },
  {
   "cell_type": "code",
   "execution_count": 12,
   "id": "5a08d716-5b62-496f-a71e-a72ea647755a",
   "metadata": {},
   "outputs": [
    {
     "data": {
      "text/plain": [
       "195"
      ]
     },
     "execution_count": 12,
     "metadata": {},
     "output_type": "execute_result"
    }
   ],
   "source": [
    "a = np.array(l)\n",
    "sum(a)"
   ]
  },
  {
   "cell_type": "code",
   "execution_count": 13,
   "id": "02614e98-052d-4126-9b2e-4096c8c69918",
   "metadata": {},
   "outputs": [
    {
     "name": "stdout",
     "output_type": "stream",
     "text": [
      "195\n"
     ]
    }
   ],
   "source": [
    "total = 0\n",
    "for i in l:\n",
    "    total += i\n",
    "print(total)"
   ]
  }
 ],
 "metadata": {
  "kernelspec": {
   "display_name": "Python 3 (ipykernel)",
   "language": "python",
   "name": "python3"
  },
  "language_info": {
   "codemirror_mode": {
    "name": "ipython",
    "version": 3
   },
   "file_extension": ".py",
   "mimetype": "text/x-python",
   "name": "python",
   "nbconvert_exporter": "python",
   "pygments_lexer": "ipython3",
   "version": "3.11.5"
  },
  "widgets": {
   "application/vnd.jupyter.widget-state+json": {
    "state": {},
    "version_major": 2,
    "version_minor": 0
   }
  }
 },
 "nbformat": 4,
 "nbformat_minor": 5
}
