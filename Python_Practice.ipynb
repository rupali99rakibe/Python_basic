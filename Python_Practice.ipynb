{
 "cells": [
  {
   "cell_type": "code",
   "execution_count": 4,
   "id": "82ddcc5b",
   "metadata": {},
   "outputs": [
    {
     "name": "stdout",
     "output_type": "stream",
     "text": [
      "153\n",
      "370\n",
      "371\n",
      "407\n",
      "1634\n"
     ]
    }
   ],
   "source": [
    "# armstrong number\n",
    "a = 100\n",
    "b = 2000\n",
    "for num in range(a,b+1):\n",
    "    order = len(str(num))\n",
    "    sum = 0\n",
    "    temp = num\n",
    "    while temp > 0:\n",
    "        digit = temp % 10\n",
    "        sum += digit ** order\n",
    "        temp //= 10\n",
    "    if num == sum:\n",
    "        print(num)"
   ]
  },
  {
   "cell_type": "code",
   "execution_count": 7,
   "id": "efec8e12",
   "metadata": {},
   "outputs": [
    {
     "name": "stdout",
     "output_type": "stream",
     "text": [
      "How many terms ? 7\n",
      "Fibonacci sequence:\n",
      "0\n",
      "1\n",
      "1\n",
      "2\n",
      "3\n",
      "5\n",
      "8\n"
     ]
    }
   ],
   "source": [
    "nterms = int(input(\"How many terms ? \"))\n",
    "a1,a2 = 0,1\n",
    "count = 0\n",
    "if nterms <= 0:\n",
    "    print(\"please enter a positive integer\")\n",
    "elif nterms == 1:\n",
    "    print(\"Fibonacci sequence upto\",nterms,\":\")\n",
    "    print(n1)\n",
    "else:\n",
    "    print(\"Fibonacci sequence:\")\n",
    "    while count < nterms:\n",
    "        print(a1)\n",
    "        ath = a1 + a2\n",
    "        a1 = a2\n",
    "        a2 = ath\n",
    "        count += 1"
   ]
  },
  {
   "cell_type": "code",
   "execution_count": null,
   "id": "d307111e",
   "metadata": {},
   "outputs": [],
   "source": []
  }
 ],
 "metadata": {
  "kernelspec": {
   "display_name": "Python 3 (ipykernel)",
   "language": "python",
   "name": "python3"
  },
  "language_info": {
   "codemirror_mode": {
    "name": "ipython",
    "version": 3
   },
   "file_extension": ".py",
   "mimetype": "text/x-python",
   "name": "python",
   "nbconvert_exporter": "python",
   "pygments_lexer": "ipython3",
   "version": "3.9.12"
  }
 },
 "nbformat": 4,
 "nbformat_minor": 5
}
