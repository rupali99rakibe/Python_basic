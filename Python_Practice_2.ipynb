{
 "cells": [
  {
   "cell_type": "code",
   "execution_count": null,
   "id": "82ddcc5b",
   "metadata": {},
   "outputs": [],
   "source": [
    "# armstrong number\n",
    "a = 100\n",
    "b = 2000\n",
    "for num in range(a,b+1):\n",
    "    order = len(str(num))\n",
    "    sum = 0\n",
    "    temp = num\n",
    "    while temp > 0:\n",
    "        digit = temp % 10\n",
    "        sum += digit ** order\n",
    "        temp //= 10\n",
    "    if num == sum:\n",
    "        print(num)"
   ]
  },
  {
   "cell_type": "code",
   "execution_count": null,
   "id": "efec8e12",
   "metadata": {},
   "outputs": [],
   "source": [
    "nterms = int(input(\"How many terms ? \"))\n",
    "a1,a2 = 0,1\n",
    "count = 0\n",
    "if nterms <= 0:\n",
    "    print(\"please enter a positive integer\")\n",
    "elif nterms == 1:\n",
    "    print(\"Fibonacci sequence upto\",nterms,\":\")\n",
    "    print(n1)\n",
    "else:\n",
    "    print(\"Fibonacci sequence:\")\n",
    "    while count < nterms:\n",
    "        print(a1)\n",
    "        ath = a1 + a2\n",
    "        a1 = a2\n",
    "        a2 = ath\n",
    "        count += 1"
   ]
  },
  {
   "cell_type": "code",
   "execution_count": 19,
   "id": "d307111e",
   "metadata": {},
   "outputs": [
    {
     "ename": "AttributeError",
     "evalue": "'Decimal_convert' object has no attribute 'binary_convert'",
     "output_type": "error",
     "traceback": [
      "\u001b[1;31m---------------------------------------------------------------------------\u001b[0m",
      "\u001b[1;31mAttributeError\u001b[0m                            Traceback (most recent call last)",
      "Cell \u001b[1;32mIn[19], line 17\u001b[0m\n\u001b[0;32m     15\u001b[0m             \u001b[38;5;28mprint\u001b[39m(\u001b[38;5;28mself\u001b[39m\u001b[38;5;241m.\u001b[39mn \u001b[38;5;241m%\u001b[39m \u001b[38;5;241m16\u001b[39m,end\u001b[38;5;241m=\u001b[39m\u001b[38;5;124m\"\u001b[39m\u001b[38;5;124m \u001b[39m\u001b[38;5;124m\"\u001b[39m)\n\u001b[0;32m     16\u001b[0m d \u001b[38;5;241m=\u001b[39m Decimal_convert(\u001b[38;5;241m6\u001b[39m)\n\u001b[1;32m---> 17\u001b[0m d\u001b[38;5;241m.\u001b[39mbinary_convert()\n",
      "\u001b[1;31mAttributeError\u001b[0m: 'Decimal_convert' object has no attribute 'binary_convert'"
     ]
    }
   ],
   "source": [
    "class Decimal_convert():\n",
    "    def __init__(self,n):\n",
    "        self.n = n\n",
    "        def binary_convert(self):\n",
    "            if self.n > 1:\n",
    "                binary_convert(self.n // 2)\n",
    "            print(self.n % 2,end=\" \")\n",
    "        def octal_convert(self):\n",
    "            if self.n > 1:\n",
    "                binary_convert(self.n // 8)\n",
    "            print(self.n % 8,end=\" \")\n",
    "        def hexadecimal_convert(self):\n",
    "            if self.n > 1:\n",
    "                binary_convert(self.n // 16)\n",
    "            print(self.n % 16,end=\" \")\n",
    "d = Decimal_convert(6)\n",
    "d.binary_convert()"
   ]
  },
  {
   "cell_type": "code",
   "execution_count": 27,
   "id": "ce4f3b2a-8e1a-4fa3-87f1-79abc18426f5",
   "metadata": {},
   "outputs": [],
   "source": [
    "# class Decimal_convert():\n",
    "#     def __init__(self, n):\n",
    "#         self.n = n\n",
    "        \n",
    "#     def binary_convert(self):\n",
    "#         self.convert_base(2)\n",
    "\n",
    "#     def octal_convert(self):\n",
    "#         self.convert_base(8)\n",
    "\n",
    "#     def hexadecimal_convert(self):\n",
    "#         self.convert_base(16)\n",
    "\n",
    "#     def convert_base(self, base):\n",
    "#         if self.n > 0:\n",
    "#             self.convert_base(base)\n",
    "#             print(self.n % base, end=\" \")\n",
    "#             self.n //= base\n",
    "\n",
    "# # Example usage\n",
    "# d = Decimal_convert(6)\n",
    "# print(\"Binary:\")\n",
    "# d.binary_convert()\n",
    "# print(\"\\nOctal:\")\n",
    "# d.octal_convert()\n",
    "# print(\"\\nHexadecimal:\")\n",
    "# d.hexadecimal_convert()\n"
   ]
  },
  {
   "cell_type": "code",
   "execution_count": 16,
   "id": "4d151159",
   "metadata": {},
   "outputs": [
    {
     "name": "stdout",
     "output_type": "stream",
     "text": [
      "1 1 0 "
     ]
    }
   ],
   "source": [
    " def binary_convert(n):\n",
    "            if n > 1:\n",
    "                binary_convert(n // 2)\n",
    "            print(n % 2, end=\" \")\n",
    "                \n",
    "binary_convert(6)"
   ]
  },
  {
   "cell_type": "code",
   "execution_count": 10,
   "id": "cf89d22d",
   "metadata": {},
   "outputs": [
    {
     "name": "stdout",
     "output_type": "stream",
     "text": [
      "1 0 "
     ]
    }
   ],
   "source": [
    "binary_convert(6)"
   ]
  },
  {
   "cell_type": "code",
   "execution_count": 15,
   "id": "a3e58bb4-12ce-4089-90b0-e1316216a912",
   "metadata": {},
   "outputs": [
    {
     "name": "stdout",
     "output_type": "stream",
     "text": [
      "1 1 0 "
     ]
    }
   ],
   "source": [
    "def binary_convert(n):\n",
    "    if n > 1:\n",
    "        binary_convert(n // 2)\n",
    "    print(n % 2, end=\" \")\n",
    "\n",
    "binary_convert(6)"
   ]
  },
  {
   "cell_type": "code",
   "execution_count": 17,
   "id": "8b8e65d4-7e6d-4a6d-8d02-33de4fdddd41",
   "metadata": {},
   "outputs": [
    {
     "name": "stdout",
     "output_type": "stream",
     "text": [
      "1 1 0 "
     ]
    }
   ],
   "source": [
    "def convert(n):\n",
    "    if n > 1:\n",
    "        binary_convert(n // 2)\n",
    "    print(n % 2,end=\" \")\n",
    "convert(6)"
   ]
  },
  {
   "cell_type": "code",
   "execution_count": 1,
   "id": "ba505c29",
   "metadata": {},
   "outputs": [],
   "source": [
    "class DecimalConverter:\n",
    "    def __init__(self, n):\n",
    "        self.n = n\n",
    "\n",
    "    def binary_convert(self):\n",
    "        if self.n > 1:\n",
    "            self.binary_convert(self.n // 2)\n",
    "            print(self.n % 2, end=\" \")\n",
    "\n",
    "    def octal_convert(self):\n",
    "        if self.n > 1:\n",
    "            self.octal_convert(self.n // 8)\n",
    "            print(self.n % 8, end=\" \")\n",
    "\n",
    "    def hexadecimal_convert(self):\n",
    "        if self.n > 1:\n",
    "            self.hexadecimal_convert(self.n // 16)\n",
    "            print(hex(self.n % 16)[2:], end=\" \")"
   ]
  },
  {
   "cell_type": "code",
   "execution_count": 5,
   "id": "50f6decc",
   "metadata": {},
   "outputs": [],
   "source": [
    "d = DecimalConverter(9)\n",
    "d.binary_convert()"
   ]
  },
  {
   "cell_type": "code",
   "execution_count": 18,
   "id": "7094c1db",
   "metadata": {},
   "outputs": [
    {
     "name": "stdout",
     "output_type": "stream",
     "text": [
      "Enter a year2007\n",
      "it is not a leap year\n"
     ]
    }
   ],
   "source": [
    "# year is leap or not\n",
    "y = int(input(\"Enter a year\"))\n",
    "if y % 4 == 0:\n",
    "    print(\"leap year\")\n",
    "else:\n",
    "    print(\"it is not a leap year\")"
   ]
  },
  {
   "cell_type": "code",
   "execution_count": 19,
   "id": "3bf55434",
   "metadata": {},
   "outputs": [
    {
     "name": "stdout",
     "output_type": "stream",
     "text": [
      "n2 is greater\n"
     ]
    }
   ],
   "source": [
    "# find greatest number\n",
    "n = 23\n",
    "n1 = 20\n",
    "n2 = 50\n",
    "if n >= n1 and n1 >= n2:\n",
    "    print(\"n is greater\")\n",
    "elif n1 >= n and n1 >= n2:    \n",
    "    print(\"n1 is greater\")\n",
    "elif n2 >= n and n2 >= n1:\n",
    "    print(\"n2 is greater\")"
   ]
  },
  {
   "cell_type": "code",
   "execution_count": 1,
   "id": "87554577",
   "metadata": {},
   "outputs": [
    {
     "name": "stdout",
     "output_type": "stream",
     "text": [
      "Enter a number :2\n",
      "3.0\n"
     ]
    }
   ],
   "source": [
    "# find natural number\n",
    "n = int(input(\"Enter a number :\"))\n",
    "if n > 0:\n",
    "    print(n*(n+1)/2)"
   ]
  },
  {
   "cell_type": "code",
   "execution_count": 2,
   "id": "1d67599e",
   "metadata": {},
   "outputs": [
    {
     "name": "stdout",
     "output_type": "stream",
     "text": [
      "[14, 70, 84, 140]\n"
     ]
    }
   ],
   "source": [
    "# to find a number  in a list divisible by another number\n",
    "l = [14,24,70,80,84,72,140,128]\n",
    "l1 = []\n",
    "for i in l:\n",
    "    if i % 14 == 0:\n",
    "        l1.append(i)\n",
    "print(l1)        "
   ]
  },
  {
   "cell_type": "code",
   "execution_count": 7,
   "id": "5c5ee1ab",
   "metadata": {},
   "outputs": [],
   "source": [
    "def compute_hcf(x,y):\n",
    "    for i in range(1,n):\n",
    "        if x % n == 0 and y % n == 0:\n",
    "        print()"
   ]
  },
  {
   "cell_type": "code",
   "execution_count": 8,
   "id": "9b2d5c82",
   "metadata": {},
   "outputs": [
    {
     "name": "stdout",
     "output_type": "stream",
     "text": [
      "a,b\n"
     ]
    }
   ],
   "source": [
    "compute_hcf(9,6)"
   ]
  },
  {
   "cell_type": "code",
   "execution_count": 10,
   "id": "987c56e9",
   "metadata": {},
   "outputs": [],
   "source": [
    "def compute_hcf(x,y):\n",
    "    while(y):\n",
    "        x,y = y, x % y\n",
    "        return x\n",
    "    hcf = compute_hcf(300,400)\n",
    "    print(\"the hcf is\",hcf)"
   ]
  },
  {
   "cell_type": "code",
   "execution_count": 11,
   "id": "dcca2bb5",
   "metadata": {},
   "outputs": [
    {
     "data": {
      "text/plain": [
       "400"
      ]
     },
     "execution_count": 11,
     "metadata": {},
     "output_type": "execute_result"
    }
   ],
   "source": [
    "compute_hcf(300,400)"
   ]
  },
  {
   "cell_type": "code",
   "execution_count": 7,
   "id": "56a51508",
   "metadata": {},
   "outputs": [],
   "source": [
    "def lcm_num(x,y):\n",
    "    if x > y:\n",
    "        greater = x\n",
    "    elif y > x:\n",
    "        greater = y\n",
    "    while(True):\n",
    "        if ((greater % x == 0) and (greater % y == 0)):\n",
    "            lcm = greater\n",
    "            break\n",
    "            greater += 1\n",
    "            return lcm"
   ]
  },
  {
   "cell_type": "code",
   "execution_count": 6,
   "id": "6adb3175",
   "metadata": {},
   "outputs": [],
   "source": [
    "def compute_lcm(x,y):\n",
    "    if x > y:\n",
    "        greater = x\n",
    "    else:\n",
    "        greater = y\n",
    "    while(True):\n",
    "        if((greater % x ==0) and (greater % y == 0)):\n",
    "            lcm = greater\n",
    "            break\n",
    "            greater += 1\n",
    "    return lcm"
   ]
  },
  {
   "cell_type": "code",
   "execution_count": 3,
   "id": "120a8d73",
   "metadata": {},
   "outputs": [
    {
     "data": {
      "text/plain": [
       "24"
      ]
     },
     "execution_count": 3,
     "metadata": {},
     "output_type": "execute_result"
    }
   ],
   "source": [
    "compute_lcm(12,24)"
   ]
  },
  {
   "cell_type": "code",
   "execution_count": 9,
   "id": "33fbb4d2",
   "metadata": {},
   "outputs": [
    {
     "name": "stdout",
     "output_type": "stream",
     "text": [
      "Enter number56\n",
      "111000"
     ]
    }
   ],
   "source": [
    "n = int(input(\"Enter number\"))\n",
    "l = list()\n",
    "while n!=0:\n",
    "    r = n%2\n",
    "    l.append(r)\n",
    "    n = n//2\n",
    "l.reverse()\n",
    "for ele in l:\n",
    "    print(ele,end=\"\")"
   ]
  },
  {
   "cell_type": "code",
   "execution_count": 13,
   "id": "ce7525d6",
   "metadata": {},
   "outputs": [
    {
     "name": "stdout",
     "output_type": "stream",
     "text": [
      "Enter number56\n",
      "70"
     ]
    }
   ],
   "source": [
    "n = int(input(\"Enter number\"))\n",
    "l = list()\n",
    "while n != 0:\n",
    "    r = n % 8\n",
    "    l.append(r)\n",
    "    n = n//8\n",
    "l.reverse()\n",
    "for ele in l:\n",
    "    print(ele,end=\"\")"
   ]
  },
  {
   "cell_type": "code",
   "execution_count": 14,
   "id": "192c9f08",
   "metadata": {},
   "outputs": [
    {
     "name": "stdout",
     "output_type": "stream",
     "text": [
      "Enter number56\n",
      "38"
     ]
    }
   ],
   "source": [
    "n = int(input(\"Enter number\"))\n",
    "l = list()\n",
    "while n != 0:\n",
    "    r = n % 16\n",
    "    l.append(r)\n",
    "    n = n//16\n",
    "l.reverse()\n",
    "for ele in l:\n",
    "    print(ele,end=\"\")"
   ]
  },
  {
   "cell_type": "code",
   "execution_count": null,
   "id": "c0a1a593",
   "metadata": {},
   "outputs": [],
   "source": [
    "n = int(input(\"Enter number\"))\n",
    "l = list()\n",
    "while n!=0:\n",
    "    r = n%2\n",
    "    l.append(r)\n",
    "    n = n//2\n",
    "l.reverse()\n",
    "for ele in l:\n",
    "    print(ele,end=\"\")\n",
    "        "
   ]
  },
  {
   "cell_type": "code",
   "execution_count": 12,
   "id": "935cf533",
   "metadata": {},
   "outputs": [],
   "source": [
    "l = list()\n",
    "def Decimal_conversion():\n",
    "    def __init__(self,n):\n",
    "        self.n = n\n",
    "        if n!=0:\n",
    "            def binary_conversion(self):\n",
    "                r = n%2\n",
    "                l.append(r)\n",
    "                n = n // 2\n",
    "            l.reverse()\n",
    "            for ele in l:\n",
    "                print(ele,end=\"\")\n",
    "                def octal_conversion(self):\n",
    "                    r = n%8\n",
    "                    l.append(r)\n",
    "                    n = n // 8\n",
    "            l.reverse()\n",
    "            for ele in l:\n",
    "                print(ele,end=\"\")\n",
    "                def hexadecimal_conversion(self):\n",
    "                    r = n % 16\n",
    "                    l.append(r)\n",
    "                    n = n//16\n",
    "            l.reverse()\n",
    "            for ele in l:\n",
    "                print(ele,end=\"\")"
   ]
  },
  {
   "cell_type": "code",
   "execution_count": 4,
   "id": "f5db88d1",
   "metadata": {},
   "outputs": [],
   "source": [
    "d = Decimal_conversion()"
   ]
  },
  {
   "cell_type": "code",
   "execution_count": 6,
   "id": "62356ff3",
   "metadata": {},
   "outputs": [
    {
     "ename": "NameError",
     "evalue": "name 'binary_conversion' is not defined",
     "output_type": "error",
     "traceback": [
      "\u001b[1;31m---------------------------------------------------------------------------\u001b[0m",
      "\u001b[1;31mNameError\u001b[0m                                 Traceback (most recent call last)",
      "Input \u001b[1;32mIn [6]\u001b[0m, in \u001b[0;36m<cell line: 1>\u001b[1;34m()\u001b[0m\n\u001b[1;32m----> 1\u001b[0m \u001b[43mbinary_conversion\u001b[49m(\u001b[38;5;241m56\u001b[39m)\n",
      "\u001b[1;31mNameError\u001b[0m: name 'binary_conversion' is not defined"
     ]
    }
   ],
   "source": [
    "binary_conversion(56)"
   ]
  },
  {
   "cell_type": "code",
   "execution_count": 13,
   "id": "f0deb51c",
   "metadata": {},
   "outputs": [],
   "source": [
    "l = list()\n",
    "class Decimal_conversion():\n",
    "    def __init__(self,n):\n",
    "        self.n = n\n",
    "    def binary_conversion(self):\n",
    "        if n != 0:\n",
    "            r = n%2\n",
    "            l.append(r)\n",
    "            n = n//2\n",
    "        l.reverse()\n",
    "        for i in l:\n",
    "            print(i,end=\"\")\n",
    "    def octal_conversion(self):\n",
    "        if n != 0:\n",
    "            r = n%8\n",
    "            l.append(r)\n",
    "            n = n//8\n",
    "        l.reverse()\n",
    "        for i in l:\n",
    "            print(i,end=\"\")\n",
    "    def hexadecimal_conversion(self):\n",
    "        if n != 0:\n",
    "            r = n%16\n",
    "            l.append(r)\n",
    "            n = n//16\n",
    "        l.reverse()\n",
    "        for i in l:\n",
    "            print(i,end=\"\")"
   ]
  },
  {
   "cell_type": "code",
   "execution_count": 14,
   "id": "3cb60340",
   "metadata": {},
   "outputs": [],
   "source": [
    "d = Decimal_conversion(56)"
   ]
  },
  {
   "cell_type": "code",
   "execution_count": 15,
   "id": "f9b11f74",
   "metadata": {},
   "outputs": [
    {
     "ename": "NameError",
     "evalue": "name 'binary_conversion' is not defined",
     "output_type": "error",
     "traceback": [
      "\u001b[1;31m---------------------------------------------------------------------------\u001b[0m",
      "\u001b[1;31mNameError\u001b[0m                                 Traceback (most recent call last)",
      "Input \u001b[1;32mIn [15]\u001b[0m, in \u001b[0;36m<cell line: 1>\u001b[1;34m()\u001b[0m\n\u001b[1;32m----> 1\u001b[0m \u001b[43mbinary_conversion\u001b[49m()\n",
      "\u001b[1;31mNameError\u001b[0m: name 'binary_conversion' is not defined"
     ]
    }
   ],
   "source": [
    "binary_conversion()"
   ]
  },
  {
   "cell_type": "code",
   "execution_count": null,
   "id": "24ef5536",
   "metadata": {},
   "outputs": [],
   "source": []
  }
 ],
 "metadata": {
  "kernelspec": {
   "display_name": "Python 3 (ipykernel)",
   "language": "python",
   "name": "python3"
  },
  "language_info": {
   "codemirror_mode": {
    "name": "ipython",
    "version": 3
   },
   "file_extension": ".py",
   "mimetype": "text/x-python",
   "name": "python",
   "nbconvert_exporter": "python",
   "pygments_lexer": "ipython3",
   "version": "3.11.7"
  },
  "widgets": {
   "application/vnd.jupyter.widget-state+json": {
    "state": {},
    "version_major": 2,
    "version_minor": 0
   }
  }
 },
 "nbformat": 4,
 "nbformat_minor": 5
}
