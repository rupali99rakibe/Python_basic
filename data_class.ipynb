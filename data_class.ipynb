{
 "cells": [
  {
   "cell_type": "markdown",
   "id": "8dd8e262-a631-4a67-bb36-492e6f38b394",
   "metadata": {},
   "source": [
    "# Python Data class"
   ]
  },
  {
   "cell_type": "raw",
   "id": "36cbeb63-0cb2-4edb-a51d-bd9e6456af3d",
   "metadata": {},
   "source": [
    "In Python, the data class decorator is a feature introduced in Python 3.7 that provides a concise way to define classes primarily intended to store data. It automatically generates several special methods, such as 'init', 'repr', and 'equal' based on the class attributes you define. this simplifies the process of creating and working with data-focused classes."
   ]
  },
  {
   "cell_type": "code",
   "execution_count": 1,
   "id": "851e4f99-ecee-44dc-bd6d-8febcb0e5149",
   "metadata": {},
   "outputs": [],
   "source": [
    "from dataclasses import dataclass"
   ]
  },
  {
   "cell_type": "code",
   "execution_count": 3,
   "id": "8395fe0b-f32c-4638-96d8-77305ffe37da",
   "metadata": {},
   "outputs": [],
   "source": [
    "@dataclass\n",
    "class Person:\n",
    "    name: str\n",
    "    age: int\n",
    "    profession: str"
   ]
  },
  {
   "cell_type": "raw",
   "id": "bd23cbc1-52f0-44ea-8976-59cc252be043",
   "metadata": {},
   "source": [
    "The @dataclass decorator automatically generates the following methods for you:\n",
    "\n",
    "1. __init__(): Initialize the object and assign the provided values to the attributes.\n",
    "2. __repr__(): Provide a string representation of the object.\n",
    "3. __eq__(): Implements equality comparison between two objects of the class-based of the class based on their attributes."
   ]
  },
  {
   "cell_type": "code",
   "execution_count": 4,
   "id": "b8bfb23c-2e37-40b1-8419-e8a88152ee75",
   "metadata": {},
   "outputs": [
    {
     "data": {
      "text/plain": [
       "Person(name='rupali', age=17, profession='M.sc')"
      ]
     },
     "execution_count": 4,
     "metadata": {},
     "output_type": "execute_result"
    }
   ],
   "source": [
    "person1 = Person('rupali',17,'M.sc')\n",
    "person1"
   ]
  },
  {
   "cell_type": "code",
   "execution_count": 5,
   "id": "58cae87c-57d5-4fd2-8911-7c5a1960e2d8",
   "metadata": {},
   "outputs": [
    {
     "data": {
      "text/plain": [
       "17"
      ]
     },
     "execution_count": 5,
     "metadata": {},
     "output_type": "execute_result"
    }
   ],
   "source": [
    "person1.age"
   ]
  },
  {
   "cell_type": "code",
   "execution_count": 6,
   "id": "2272ae1a-27cd-4e2b-a713-641f0b07736e",
   "metadata": {},
   "outputs": [],
   "source": [
    "@dataclass\n",
    "class Rectangle:\n",
    "    width:int\n",
    "    height:int\n",
    "    colors:str='white'\n",
    "\n",
    "rectangle1=Rectangle(12,14)\n",
    "rectangle2=Rectangle(13,14,'red')"
   ]
  },
  {
   "cell_type": "code",
   "execution_count": 7,
   "id": "5699eb7f-6dad-419d-a4aa-e746aa16b534",
   "metadata": {},
   "outputs": [
    {
     "data": {
      "text/plain": [
       "'red'"
      ]
     },
     "execution_count": 7,
     "metadata": {},
     "output_type": "execute_result"
    }
   ],
   "source": [
    "rectangle2.colors"
   ]
  },
  {
   "cell_type": "code",
   "execution_count": 8,
   "id": "2abd4bb0-d632-47a2-86e0-96813d71e8b8",
   "metadata": {},
   "outputs": [],
   "source": [
    "# Frozen property(it work like encapsulation)\n",
    "@dataclass(frozen=True)\n",
    "class Point:\n",
    "    x:int\n",
    "    y:int"
   ]
  },
  {
   "cell_type": "code",
   "execution_count": 9,
   "id": "f9551af0-bce1-491a-9209-56e5fc1e74c4",
   "metadata": {},
   "outputs": [],
   "source": [
    "point=Point(3,4)"
   ]
  },
  {
   "cell_type": "code",
   "execution_count": 11,
   "id": "363945dc-6c09-4260-a623-ff8d527e0eb9",
   "metadata": {},
   "outputs": [
    {
     "data": {
      "text/plain": [
       "(3, 4)"
      ]
     },
     "execution_count": 11,
     "metadata": {},
     "output_type": "execute_result"
    }
   ],
   "source": [
    "point.x,point.y"
   ]
  },
  {
   "cell_type": "code",
   "execution_count": 12,
   "id": "52f62ae9-fee8-4fbc-85bc-06629ff679a8",
   "metadata": {},
   "outputs": [],
   "source": [
    "# inheritance\n",
    "@dataclass\n",
    "class Person:\n",
    "    name:str\n",
    "    age:int\n",
    "\n",
    "@dataclass\n",
    "class Employee(Person):\n",
    "    employee_id:str\n",
    "    department:str"
   ]
  },
  {
   "cell_type": "code",
   "execution_count": 14,
   "id": "a06b5498-b9a4-47f2-8f2d-de9be0eee42d",
   "metadata": {},
   "outputs": [],
   "source": [
    "person=Person('rupali',25)\n",
    "employee=Employee('Rupali',25,'1999','AI')"
   ]
  },
  {
   "cell_type": "code",
   "execution_count": 15,
   "id": "8bf70b39-3627-4631-b0ea-1e92db267ee0",
   "metadata": {},
   "outputs": [
    {
     "data": {
      "text/plain": [
       "'Rupali'"
      ]
     },
     "execution_count": 15,
     "metadata": {},
     "output_type": "execute_result"
    }
   ],
   "source": [
    "employee.name"
   ]
  },
  {
   "cell_type": "code",
   "execution_count": 20,
   "id": "19edd2a0-e551-41a6-b6c3-2917599a209c",
   "metadata": {},
   "outputs": [],
   "source": [
    "# nested data classes\n",
    "\n",
    "@dataclass\n",
    "class Address:\n",
    "    street:str\n",
    "    city: str\n",
    "    zip_code:str\n",
    "    \n",
    "@dataclass\n",
    "class Person:\n",
    "    name: str\n",
    "    age: str\n",
    "    address: Address"
   ]
  },
  {
   "cell_type": "code",
   "execution_count": 22,
   "id": "61b9096a-4725-4faa-aa5b-e85859b32b47",
   "metadata": {},
   "outputs": [],
   "source": [
    "address=Address('423 dhodambe','Chandwad','423117')\n",
    "person=Person('Rupali',99,address)"
   ]
  },
  {
   "cell_type": "code",
   "execution_count": 23,
   "id": "783ce18e-b398-4f6d-8710-4d4974eb681e",
   "metadata": {},
   "outputs": [
    {
     "data": {
      "text/plain": [
       "Address(street='423 dhodambe', city='Chandwad', zip_code='423117')"
      ]
     },
     "execution_count": 23,
     "metadata": {},
     "output_type": "execute_result"
    }
   ],
   "source": [
    "person.address"
   ]
  },
  {
   "cell_type": "code",
   "execution_count": 24,
   "id": "01e1a4d5-4a8d-4249-8e59-920218feda5d",
   "metadata": {},
   "outputs": [
    {
     "data": {
      "text/plain": [
       "'Chandwad'"
      ]
     },
     "execution_count": 24,
     "metadata": {},
     "output_type": "execute_result"
    }
   ],
   "source": [
    "person.address.city"
   ]
  },
  {
   "cell_type": "code",
   "execution_count": null,
   "id": "0822e9ae-23c4-4687-9b5a-1de5f0ab7efb",
   "metadata": {},
   "outputs": [],
   "source": []
  }
 ],
 "metadata": {
  "kernelspec": {
   "display_name": "Python 3 (ipykernel)",
   "language": "python",
   "name": "python3"
  },
  "language_info": {
   "codemirror_mode": {
    "name": "ipython",
    "version": 3
   },
   "file_extension": ".py",
   "mimetype": "text/x-python",
   "name": "python",
   "nbconvert_exporter": "python",
   "pygments_lexer": "ipython3",
   "version": "3.11.7"
  },
  "widgets": {
   "application/vnd.jupyter.widget-state+json": {
    "state": {},
    "version_major": 2,
    "version_minor": 0
   }
  }
 },
 "nbformat": 4,
 "nbformat_minor": 5
}
