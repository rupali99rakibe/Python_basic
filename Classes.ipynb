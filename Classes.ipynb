{
 "cells": [
  {
   "cell_type": "code",
   "execution_count": 1,
   "id": "f2058a7c-1050-40d0-a7fe-8964b1efbc70",
   "metadata": {},
   "outputs": [],
   "source": [
    "class Myclass():\n",
    "    def fun(self):\n",
    "        print(\"This is a function class\")"
   ]
  },
  {
   "cell_type": "code",
   "execution_count": 2,
   "id": "44438b1c-6832-4ed0-a811-ce103bedcbab",
   "metadata": {},
   "outputs": [],
   "source": [
    "m = Myclass()"
   ]
  },
  {
   "cell_type": "code",
   "execution_count": 3,
   "id": "1976865a-9900-435e-b400-2861f3d243a8",
   "metadata": {},
   "outputs": [
    {
     "name": "stdout",
     "output_type": "stream",
     "text": [
      "This is a function class\n"
     ]
    }
   ],
   "source": [
    "m.fun()"
   ]
  },
  {
   "cell_type": "code",
   "execution_count": 4,
   "id": "291a8dab-69f1-47bb-b254-4915aba234fe",
   "metadata": {},
   "outputs": [],
   "source": [
    "class test():\n",
    "    def __init__(self,a,b):\n",
    "        self.a = a\n",
    "        self.b = b\n",
    "    def add(self):\n",
    "        print(self.a + self.b)"
   ]
  },
  {
   "cell_type": "code",
   "execution_count": 5,
   "id": "70b49ff8-ac62-47d3-9e19-b4609306f1f7",
   "metadata": {},
   "outputs": [],
   "source": [
    "t = test(11,33)"
   ]
  },
  {
   "cell_type": "code",
   "execution_count": 6,
   "id": "7775719d-aa23-43b4-8e29-995a3a125908",
   "metadata": {},
   "outputs": [
    {
     "name": "stdout",
     "output_type": "stream",
     "text": [
      "44\n"
     ]
    }
   ],
   "source": [
    "t.add()"
   ]
  },
  {
   "cell_type": "code",
   "execution_count": 7,
   "id": "57e7832c-344e-4ab7-8a0a-c377eef196f1",
   "metadata": {},
   "outputs": [],
   "source": [
    "class Test():\n",
    "    def __init__(self,a,b):\n",
    "        self.a = a\n",
    "        self.b = b\n",
    "    def add(self):\n",
    "        print(self.a + self.b)\n",
    "    def minus(self):\n",
    "        print(self.a - self.b)"
   ]
  },
  {
   "cell_type": "code",
   "execution_count": 8,
   "id": "6f60f9df-b327-47fa-b5a2-6914ec36399e",
   "metadata": {},
   "outputs": [],
   "source": [
    "t = Test(11,22)"
   ]
  },
  {
   "cell_type": "code",
   "execution_count": 9,
   "id": "803d24b6-6593-4b86-b2c3-b001f0ac1674",
   "metadata": {},
   "outputs": [
    {
     "name": "stdout",
     "output_type": "stream",
     "text": [
      "33\n"
     ]
    }
   ],
   "source": [
    "t.add()"
   ]
  },
  {
   "cell_type": "code",
   "execution_count": 10,
   "id": "98375b7a-9171-4d33-8878-993ce26bcaf4",
   "metadata": {},
   "outputs": [
    {
     "name": "stdout",
     "output_type": "stream",
     "text": [
      "-11\n"
     ]
    }
   ],
   "source": [
    "t.minus()"
   ]
  },
  {
   "cell_type": "code",
   "execution_count": 11,
   "id": "af7a93e4-2d44-40f4-900f-4cace751123d",
   "metadata": {},
   "outputs": [],
   "source": [
    "class Test():\n",
    "    def __init__(self,a,b):\n",
    "        self.a = a\n",
    "        self.b = b\n",
    "    def add(self):\n",
    "        print(self.a + self.b)\n",
    "    def minus(self):\n",
    "        print(self.a - self.b)\n",
    "    def multi(self):\n",
    "        print(self.a * self.b)"
   ]
  },
  {
   "cell_type": "code",
   "execution_count": 12,
   "id": "95e8acdf-c3a1-4347-aa91-a24f56eee206",
   "metadata": {},
   "outputs": [],
   "source": [
    "t = Test(33,22)"
   ]
  },
  {
   "cell_type": "code",
   "execution_count": 13,
   "id": "3c7b9dc1-ddd0-463e-90ab-a7558953a28b",
   "metadata": {},
   "outputs": [
    {
     "name": "stdout",
     "output_type": "stream",
     "text": [
      "55\n"
     ]
    }
   ],
   "source": [
    "t.add()"
   ]
  },
  {
   "cell_type": "code",
   "execution_count": 14,
   "id": "71701d05-c180-404f-9b5b-c00b94777715",
   "metadata": {},
   "outputs": [
    {
     "name": "stdout",
     "output_type": "stream",
     "text": [
      "11\n"
     ]
    }
   ],
   "source": [
    "t.minus()"
   ]
  },
  {
   "cell_type": "code",
   "execution_count": 15,
   "id": "feb06f39-710a-402c-9a5b-a1e4998fa2b6",
   "metadata": {},
   "outputs": [
    {
     "name": "stdout",
     "output_type": "stream",
     "text": [
      "726\n"
     ]
    }
   ],
   "source": [
    "t.multi()"
   ]
  },
  {
   "cell_type": "code",
   "execution_count": 16,
   "id": "cfa19628-01b5-499f-815c-1251c2f09f4a",
   "metadata": {},
   "outputs": [],
   "source": [
    "# create a doc string in a class\n",
    "class Test():\n",
    "    \"This is a class fun\"\n",
    "    def __init__(self,a,b):\n",
    "        self.a = a\n",
    "        self.b = b\n",
    "    def add(self):\n",
    "        \"\"\" This will return sum \"\"\"\n",
    "        print(self.a + self.b)\n",
    "    def minus(self):\n",
    "        \"\"\" This will return difference\"\"\"\n",
    "        print(self.a - self.b)\n",
    "    def multi(self):\n",
    "        \"\"\" This will return multiplication\"\"\"\n",
    "        print(self.a * self.b)"
   ]
  },
  {
   "cell_type": "code",
   "execution_count": 17,
   "id": "a9314955-a995-405e-8cf2-d55dff51d42f",
   "metadata": {},
   "outputs": [],
   "source": [
    "t = Test(34,11)"
   ]
  },
  {
   "cell_type": "code",
   "execution_count": 18,
   "id": "a7d7b2b5-94ba-4af4-8c45-5b0178a5f791",
   "metadata": {},
   "outputs": [
    {
     "name": "stdout",
     "output_type": "stream",
     "text": [
      "45\n"
     ]
    }
   ],
   "source": [
    "t.add()"
   ]
  },
  {
   "cell_type": "code",
   "execution_count": 19,
   "id": "f33a236e-5f72-4620-9d2c-01a96a0486ce",
   "metadata": {},
   "outputs": [
    {
     "name": "stdout",
     "output_type": "stream",
     "text": [
      "23\n"
     ]
    }
   ],
   "source": [
    "t.minus()"
   ]
  },
  {
   "cell_type": "code",
   "execution_count": 20,
   "id": "7e86cc75-c804-4452-ae27-67528fb29ac9",
   "metadata": {},
   "outputs": [
    {
     "name": "stdout",
     "output_type": "stream",
     "text": [
      "374\n"
     ]
    }
   ],
   "source": [
    "t.multi()"
   ]
  },
  {
   "cell_type": "code",
   "execution_count": 21,
   "id": "6f794e84-e488-4808-af09-8717e4b75668",
   "metadata": {},
   "outputs": [],
   "source": [
    "class Test():\n",
    "    \"\"\"This class will give calculation\"\"\"\n",
    "    def __init__(self,a,b):\n",
    "        self.a = a\n",
    "        self.b = b\n",
    "    def add(self,c):\n",
    "        \"\"\"This will return sum\"\"\"\n",
    "        print(self.a + self.b + c)"
   ]
  },
  {
   "cell_type": "code",
   "execution_count": 22,
   "id": "17be77a8-da61-4983-a686-88acbe3588ab",
   "metadata": {},
   "outputs": [],
   "source": [
    "t = Test(11,22)"
   ]
  },
  {
   "cell_type": "code",
   "execution_count": 23,
   "id": "0cd04659-7aec-48f1-9487-ea34e08fc205",
   "metadata": {},
   "outputs": [
    {
     "name": "stdout",
     "output_type": "stream",
     "text": [
      "42\n"
     ]
    }
   ],
   "source": [
    "t.add(9)"
   ]
  },
  {
   "cell_type": "code",
   "execution_count": 24,
   "id": "98dc0b4e-a633-442e-88d5-8501c245a791",
   "metadata": {},
   "outputs": [],
   "source": [
    "class Rectangle():\n",
    "    def __init__(self,height,weight):\n",
    "        self.height = height\n",
    "        self.Width = weight\n",
    "    def info(self):\n",
    "        print(\"Height is\",self.height)\n",
    "        print(\"Width is\",self.Width)"
   ]
  },
  {
   "cell_type": "code",
   "execution_count": 25,
   "id": "e04ebe8a-9299-4328-bc93-fdd230a0e4e6",
   "metadata": {},
   "outputs": [],
   "source": [
    "r = Rectangle(100,200)"
   ]
  },
  {
   "cell_type": "code",
   "execution_count": 26,
   "id": "57fec091-dd69-4c4c-b05e-4a8bc5a45961",
   "metadata": {},
   "outputs": [
    {
     "name": "stdout",
     "output_type": "stream",
     "text": [
      "Height is 100\n",
      "Width is 200\n"
     ]
    }
   ],
   "source": [
    "r.info()"
   ]
  },
  {
   "cell_type": "code",
   "execution_count": 27,
   "id": "0c9c029e-54f3-4dbf-b079-312ab2858a45",
   "metadata": {},
   "outputs": [],
   "source": [
    "class Rectangle():\n",
    "    def __init__(self,height,width):\n",
    "        self.height = height\n",
    "        self.width = width\n",
    "    def info(self):\n",
    "        print(\"height is:\",self.height)\n",
    "        print(\"width is:\",self.width)\n",
    "    def area(self):\n",
    "        print(\"area of rectangle:\",self.height * self.width)"
   ]
  },
  {
   "cell_type": "code",
   "execution_count": 28,
   "id": "878313e8-3aab-45bb-a971-3f016a0d3f38",
   "metadata": {},
   "outputs": [],
   "source": [
    "r = Rectangle(100,200)"
   ]
  },
  {
   "cell_type": "code",
   "execution_count": 29,
   "id": "eab6ea8c-0fb0-4f5c-801a-0b897100f883",
   "metadata": {},
   "outputs": [
    {
     "name": "stdout",
     "output_type": "stream",
     "text": [
      "area of rectangle: 20000\n"
     ]
    }
   ],
   "source": [
    "r.area()"
   ]
  },
  {
   "cell_type": "code",
   "execution_count": 30,
   "id": "5ee6ba23-6756-4fc8-81c7-fa7bec24a469",
   "metadata": {},
   "outputs": [],
   "source": [
    "# Inheritance\n",
    "# form fillup processing\n",
    "class Student():\n",
    "    def __init__(self,name,city):\n",
    "        self.name = name\n",
    "        self.city = city\n",
    "    def info(self):\n",
    "        print(\"student name is:\",self.name)\n",
    "        print(\"student city is:\",self.city)"
   ]
  },
  {
   "cell_type": "code",
   "execution_count": 31,
   "id": "84c68898-5a62-484e-8599-963884179603",
   "metadata": {},
   "outputs": [],
   "source": [
    "s = Student(\"rupali\",\"nashik\")"
   ]
  },
  {
   "cell_type": "code",
   "execution_count": 32,
   "id": "277c9be1-8e05-4709-8000-5dabd6fb32a5",
   "metadata": {},
   "outputs": [
    {
     "name": "stdout",
     "output_type": "stream",
     "text": [
      "student name is: rupali\n",
      "student city is: nashik\n"
     ]
    }
   ],
   "source": [
    "s.info()"
   ]
  },
  {
   "cell_type": "code",
   "execution_count": 33,
   "id": "68dc2378-6d91-4ae7-a16e-833124284bd4",
   "metadata": {},
   "outputs": [],
   "source": [
    "# Admission processing\n",
    "class Admin():\n",
    "    def __init__(self,name,city,course):\n",
    "        self.name = name\n",
    "        self.city = city\n",
    "        self.course = course\n",
    "    def info(self):\n",
    "        print(\"Student name is:\",self.name)\n",
    "        print(\"Student city is:\",self.city)\n",
    "        print(\"Student course is:\",self.course)"
   ]
  },
  {
   "cell_type": "code",
   "execution_count": 34,
   "id": "a274ae5e-388c-4156-bd02-83f0d25b4efd",
   "metadata": {},
   "outputs": [],
   "source": [
    "s = Admin(\"rupali\",\"nashik\",\"Phd\")"
   ]
  },
  {
   "cell_type": "code",
   "execution_count": 35,
   "id": "20b235b9-318f-4b1c-89ed-f8b4684e79fc",
   "metadata": {},
   "outputs": [
    {
     "name": "stdout",
     "output_type": "stream",
     "text": [
      "Student name is: rupali\n",
      "Student city is: nashik\n",
      "Student course is: Phd\n"
     ]
    }
   ],
   "source": [
    "s.info()"
   ]
  },
  {
   "cell_type": "raw",
   "id": "9d43c96a-aac2-45ed-bbae-428fd55d3bb5",
   "metadata": {},
   "source": [
    "# Three type of inheritance\n",
    "1.single class\n",
    "2.multilevel class\n",
    "3.multiple class\n",
    "   multiple class has two type\n",
    "    a) Hiritical\n",
    "     b) Hybrid"
   ]
  },
  {
   "cell_type": "code",
   "execution_count": 36,
   "id": "ff41cbfc-4182-493d-9868-c0803a1531fd",
   "metadata": {},
   "outputs": [],
   "source": [
    "# multilevel class\n",
    "class Marks(Admin):\n",
    "    def __init__(self,name,city,course,rollno):\n",
    "        Admin. __init__(self,name,city,course)\n",
    "        self.rollno = rollno\n",
    "    def display(self):\n",
    "        Admin.info(self)\n",
    "        print(\"Student roll no.is:\",self.rollno)"
   ]
  },
  {
   "cell_type": "code",
   "execution_count": 37,
   "id": "581a6b0b-c8f1-46ca-919b-59761c61f73a",
   "metadata": {},
   "outputs": [],
   "source": [
    "m = Marks(\"rupali\",\"Nashik\",\"Phd\",9)"
   ]
  },
  {
   "cell_type": "code",
   "execution_count": 38,
   "id": "c00a7d7b-f5ce-4afb-8169-c091bad8e5ac",
   "metadata": {},
   "outputs": [
    {
     "name": "stdout",
     "output_type": "stream",
     "text": [
      "Student name is: rupali\n",
      "Student city is: Nashik\n",
      "Student course is: Phd\n",
      "Student roll no.is: 9\n"
     ]
    }
   ],
   "source": [
    "m.display()"
   ]
  },
  {
   "cell_type": "code",
   "execution_count": 39,
   "id": "14256c5a-d356-4541-be10-abe74aa4ec36",
   "metadata": {},
   "outputs": [],
   "source": [
    "# multiple class\n",
    "class Pepole(): \n",
    "    def __init__(self,veg,non_veg,mixed):\n",
    "        self.veg = veg\n",
    "        self.non_veg = non_veg\n",
    "        self.mixed = mixed\n",
    "    def pepole1(self):\n",
    "        print(\"pepole are don't like non_veg:\",self.veg)\n",
    "    def pepole2(self):\n",
    "        print(\"pepole are don't like veg:\",self.non_veg)\n",
    "    def pepole3(self):\n",
    "        print(\"pepole they are like veg and non-veg\",self.mixed)"
   ]
  },
  {
   "cell_type": "code",
   "execution_count": 40,
   "id": "2b04b24d-9cb9-4b0b-9d3d-e1023346e1f6",
   "metadata": {},
   "outputs": [],
   "source": [
    "p = Pepole(\"veg\",\"non_veg\",\"mixed\")"
   ]
  },
  {
   "cell_type": "code",
   "execution_count": 41,
   "id": "4b8edb99-0f53-4f5e-9be2-0737558c56f5",
   "metadata": {},
   "outputs": [
    {
     "name": "stdout",
     "output_type": "stream",
     "text": [
      "pepole are don't like non_veg: veg\n"
     ]
    }
   ],
   "source": [
    "p.pepole1()"
   ]
  },
  {
   "cell_type": "code",
   "execution_count": 42,
   "id": "70a30b5b-5e64-403d-a820-6de9fd06ab00",
   "metadata": {},
   "outputs": [
    {
     "name": "stdout",
     "output_type": "stream",
     "text": [
      "pepole are don't like veg: non_veg\n"
     ]
    }
   ],
   "source": [
    "p.pepole2()"
   ]
  },
  {
   "cell_type": "code",
   "execution_count": 43,
   "id": "c5fdab0c-e49b-4669-8be6-0bf1f95b44f6",
   "metadata": {},
   "outputs": [
    {
     "name": "stdout",
     "output_type": "stream",
     "text": [
      "pepole they are like veg and non-veg mixed\n"
     ]
    }
   ],
   "source": [
    "p.pepole3()"
   ]
  },
  {
   "cell_type": "code",
   "execution_count": 44,
   "id": "ac514d1b-9d7c-4090-b55f-b9286a24922a",
   "metadata": {},
   "outputs": [],
   "source": [
    "# hiritical class\n",
    "class Circle():\n",
    "    def __init__(self,pi,radius,theta):\n",
    "        self.pi = pi\n",
    "        self.radius = radius\n",
    "        self.theta = theta\n",
    "    def Area(self):\n",
    "        print(\"Area of circle is:\",self.pi*self.radius*self.radius)\n",
    "    def Circumfernce(self):\n",
    "        print(\"Circumference of circle is:\",2*self.pi*self.radius)\n",
    "    def arc(self):\n",
    "        print(\"Arc of circle is:\",self.radius * self.theta)"
   ]
  },
  {
   "cell_type": "code",
   "execution_count": 45,
   "id": "a962e264-2c62-4a6c-8f0a-1d728a6d0d25",
   "metadata": {},
   "outputs": [],
   "source": [
    "c = Circle(3.14,5,75)"
   ]
  },
  {
   "cell_type": "code",
   "execution_count": 46,
   "id": "2b1ac6b0-a359-4183-b8c9-3ead595fb895",
   "metadata": {},
   "outputs": [
    {
     "name": "stdout",
     "output_type": "stream",
     "text": [
      "Area of circle is: 78.5\n"
     ]
    }
   ],
   "source": [
    "c.Area()"
   ]
  },
  {
   "cell_type": "code",
   "execution_count": 47,
   "id": "b4aca73e-ca8c-4640-b296-f23f6526fee2",
   "metadata": {},
   "outputs": [
    {
     "name": "stdout",
     "output_type": "stream",
     "text": [
      "Circumference of circle is: 31.400000000000002\n"
     ]
    }
   ],
   "source": [
    "c.Circumfernce()"
   ]
  },
  {
   "cell_type": "code",
   "execution_count": 48,
   "id": "6f76828a-bf79-4019-8569-43e2d87ea653",
   "metadata": {},
   "outputs": [
    {
     "name": "stdout",
     "output_type": "stream",
     "text": [
      "Arc of circle is: 375\n"
     ]
    }
   ],
   "source": [
    "c.arc()"
   ]
  },
  {
   "cell_type": "code",
   "execution_count": 49,
   "id": "6343dc2d-71f3-4cec-ba87-b994ae11c027",
   "metadata": {},
   "outputs": [],
   "source": [
    "# Hybrid class\n",
    "class University():\n",
    "    def __init__(self,pune):\n",
    "        self.pune = pune\n",
    "    def display(self):\n",
    "        print(\"University name is:\",self.pune)"
   ]
  },
  {
   "cell_type": "code",
   "execution_count": 50,
   "id": "0c2acfdd-1f34-4868-8b6a-7bf3379ea800",
   "metadata": {},
   "outputs": [],
   "source": [
    "class Course(University):\n",
    "    def __init__(self,pune,Masters):\n",
    "        self.Masters = Masters\n",
    "        self.pune = pune\n",
    "        University.__init__(self,pune)\n",
    "    def Degree(self):\n",
    "        University.display(self)\n",
    "        print(\"completed degree in:\",self.Masters)"
   ]
  },
  {
   "cell_type": "code",
   "execution_count": 51,
   "id": "cc996e73-24c8-40de-9201-53de81c1965b",
   "metadata": {},
   "outputs": [],
   "source": [
    "class Subject(Course):\n",
    "    def __init__(self,pune,Masters,Physics):\n",
    "        self.pune = pune\n",
    "        self.masters = Masters\n",
    "        self.Physics = Physics\n",
    "        Course.__init__(self,pune,Masters)\n",
    "    def Speciallization(self):\n",
    "        Course.Degree(self)\n",
    "        print(\"speciallized in:\",self.Physics)"
   ]
  },
  {
   "cell_type": "code",
   "execution_count": 52,
   "id": "1caf9963-d8a7-4295-8eb3-ec471ec44701",
   "metadata": {},
   "outputs": [],
   "source": [
    "s = Subject(\"pune\",\"Masters\",\"Physics\")"
   ]
  },
  {
   "cell_type": "code",
   "execution_count": 53,
   "id": "3ae30677-a713-4dd9-9f05-a391d1fcec12",
   "metadata": {},
   "outputs": [
    {
     "name": "stdout",
     "output_type": "stream",
     "text": [
      "University name is: pune\n",
      "completed degree in: Masters\n",
      "speciallized in: Physics\n"
     ]
    }
   ],
   "source": [
    "s.Speciallization()"
   ]
  },
  {
   "cell_type": "code",
   "execution_count": 54,
   "id": "dd398146-525b-47e3-b86e-ff782a9206eb",
   "metadata": {},
   "outputs": [],
   "source": [
    "# Encapsulation\n",
    "class Encap:\n",
    "    def __init__(self,a,b):\n",
    "        self.a = a\n",
    "        self.b = b\n",
    "    def info(self):\n",
    "        print(\"Value of a is:\",self.a)\n",
    "        print(\"Value of b is:\",self.b)"
   ]
  },
  {
   "cell_type": "code",
   "execution_count": 55,
   "id": "91a9eacc-9519-4451-baed-90f84146f30a",
   "metadata": {},
   "outputs": [],
   "source": [
    "e = Encap(11,33)"
   ]
  },
  {
   "cell_type": "code",
   "execution_count": 56,
   "id": "f867f3a4-a113-4982-a87b-aa30b4cf0bd8",
   "metadata": {},
   "outputs": [
    {
     "name": "stdout",
     "output_type": "stream",
     "text": [
      "Value of a is: 11\n",
      "Value of b is: 33\n"
     ]
    }
   ],
   "source": [
    "e.info()"
   ]
  },
  {
   "cell_type": "code",
   "execution_count": 57,
   "id": "6a7dd175-8af0-485b-9399-d86fa4bd3e23",
   "metadata": {},
   "outputs": [],
   "source": [
    "# Generate a id using Encapsulation\n",
    "class Encap:\n",
    "    def __init__(self,a,b):\n",
    "        self.a = a\n",
    "        self.b = b\n",
    "    def info(self):\n",
    "        print(\"Value of a is:\",self.a)\n",
    "        print(\"Id of a is:\",id(self.a))\n",
    "        print(\"Value of b is:\",self.b)\n",
    "        print(\"Id of b is:\",self.b)\n",
    "        print(\"Id of b is:\",id(self.b))"
   ]
  },
  {
   "cell_type": "code",
   "execution_count": 58,
   "id": "c51654fe-f2e8-49c3-9074-75ff3ec17ef0",
   "metadata": {},
   "outputs": [],
   "source": [
    "e = Encap(11,33)"
   ]
  },
  {
   "cell_type": "code",
   "execution_count": 59,
   "id": "a15cc58e-a374-414e-b9b3-2ef9e7d1c2ef",
   "metadata": {},
   "outputs": [
    {
     "name": "stdout",
     "output_type": "stream",
     "text": [
      "Value of a is: 11\n",
      "Id of a is: 140726072415336\n",
      "Value of b is: 33\n",
      "Id of b is: 33\n",
      "Id of b is: 140726072416040\n"
     ]
    }
   ],
   "source": [
    "e.info()"
   ]
  },
  {
   "cell_type": "code",
   "execution_count": 60,
   "id": "5eb7e42c-9d03-403e-84e0-bce67621b6cd",
   "metadata": {},
   "outputs": [],
   "source": [
    "# create a private variable using encapsulation\n",
    "class Encap:\n",
    "    def __init__(self,a,b):\n",
    "        self.a = a\n",
    "        self.__b = b\n",
    "    def info(self):\n",
    "        print(\"value of a is:\",self.a)\n",
    "        print(\"Id of a is:\",id(self.a))\n",
    "        print(\"Value of b is:\",self.__b)\n",
    "        print(\"Id of b is:\",id(self.__b))"
   ]
  },
  {
   "cell_type": "code",
   "execution_count": 61,
   "id": "720c3d27-8515-4be5-a48d-f75b5fb6fe5a",
   "metadata": {},
   "outputs": [],
   "source": [
    "e = Encap(11,33)"
   ]
  },
  {
   "cell_type": "code",
   "execution_count": 62,
   "id": "74611a32-7a87-495b-8c9b-8b0a1ab97d6f",
   "metadata": {},
   "outputs": [
    {
     "name": "stdout",
     "output_type": "stream",
     "text": [
      "value of a is: 11\n",
      "Id of a is: 140726072415336\n",
      "Value of b is: 33\n",
      "Id of b is: 140726072416040\n"
     ]
    }
   ],
   "source": [
    "e.info()"
   ]
  },
  {
   "cell_type": "code",
   "execution_count": 63,
   "id": "cec08426-f2c6-4556-9598-f2239555fa20",
   "metadata": {},
   "outputs": [],
   "source": [
    "# Encapsulation example is Bank\n",
    "class Bank():\n",
    "    def __init__(self,name,account_no,balance):\n",
    "        self.name = name\n",
    "        self.account_no = account_no\n",
    "        self.__balance = balance\n",
    "    def info(self):\n",
    "        print(\"Customer name is:\",self.name)\n",
    "        print(\"Customer Account number is:\",self.account_no)\n",
    "        print(\"Customer balance is:\",self.__balance)"
   ]
  },
  {
   "cell_type": "code",
   "execution_count": 64,
   "id": "0c497fbf-dfbe-4002-8a93-828f64e676a5",
   "metadata": {},
   "outputs": [],
   "source": [
    "b = Bank(\"rupali\",9119,\"10000\")"
   ]
  },
  {
   "cell_type": "code",
   "execution_count": 65,
   "id": "3f201ae5-6fae-48ee-aa0f-8e1abf32b88a",
   "metadata": {},
   "outputs": [
    {
     "name": "stdout",
     "output_type": "stream",
     "text": [
      "Customer name is: rupali\n",
      "Customer Account number is: 9119\n",
      "Customer balance is: 10000\n"
     ]
    }
   ],
   "source": [
    "b.info()"
   ]
  },
  {
   "cell_type": "code",
   "execution_count": 66,
   "id": "b596d04b-c02f-4dcd-8dff-e023386410c9",
   "metadata": {},
   "outputs": [],
   "source": [
    "class Bank():\n",
    "    def __init__(self,name,account_no,balance):\n",
    "        self.name = name\n",
    "        self.account_no = account_no\n",
    "        self.__balance = balance\n",
    "    def info(self):\n",
    "        print(\"Customer name is:\",self.name)\n",
    "        print(\"Customer account_no is:\",self.account_no)\n",
    "        print(\"Customer balance is:\",self.__balance)\n",
    "    def deposit(self,amt):\n",
    "        self.__balance += amt\n",
    "    def withdrawl(self,amt):\n",
    "        self.__balance += amt\n",
    "    def display(self):\n",
    "        print(\"Customer balance is:\",self.__balance)"
   ]
  },
  {
   "cell_type": "code",
   "execution_count": 67,
   "id": "545aba5c-faff-4d01-9a29-5d6a7f03a4a5",
   "metadata": {},
   "outputs": [],
   "source": [
    "b = Bank(\"rupali\",9119,10000)"
   ]
  },
  {
   "cell_type": "code",
   "execution_count": 68,
   "id": "5a6714fd-64cb-4b0b-b113-18d13d5c75ef",
   "metadata": {},
   "outputs": [
    {
     "name": "stdout",
     "output_type": "stream",
     "text": [
      "Customer name is: rupali\n",
      "Customer account_no is: 9119\n",
      "Customer balance is: 10000\n"
     ]
    }
   ],
   "source": [
    "b.info()"
   ]
  },
  {
   "cell_type": "code",
   "execution_count": 69,
   "id": "1fd15519-2500-43b7-b67b-7b1e74b4c1b8",
   "metadata": {},
   "outputs": [],
   "source": [
    "b.deposit(9000)"
   ]
  },
  {
   "cell_type": "code",
   "execution_count": 70,
   "id": "22f60dc7-db0a-4162-88cc-231ed202bff9",
   "metadata": {},
   "outputs": [],
   "source": [
    "b.withdrawl(100)"
   ]
  },
  {
   "cell_type": "code",
   "execution_count": 71,
   "id": "2e314bfd-cbab-45c8-a539-6ab53ac7c28d",
   "metadata": {},
   "outputs": [
    {
     "name": "stdout",
     "output_type": "stream",
     "text": [
      "Customer balance is: 19100\n"
     ]
    }
   ],
   "source": [
    "b.display()"
   ]
  },
  {
   "cell_type": "code",
   "execution_count": 72,
   "id": "35c731e1-f552-48b4-ad50-0eb69d872e3c",
   "metadata": {},
   "outputs": [],
   "source": [
    "# Polymorphism - Same fun with different meaning/op"
   ]
  },
  {
   "cell_type": "code",
   "execution_count": 73,
   "id": "f0bcf779-335f-4cf0-ad69-82be76e5aed1",
   "metadata": {},
   "outputs": [],
   "source": [
    "class Dog:\n",
    "    def __init__(self,name):\n",
    "        self.name = name\n",
    "    def info(self):\n",
    "        print(self.name,\"is eating\")"
   ]
  },
  {
   "cell_type": "code",
   "execution_count": 74,
   "id": "d76ee5c1-68c8-467b-80a3-3873527b73e1",
   "metadata": {},
   "outputs": [],
   "source": [
    "d = Dog(\"King\")"
   ]
  },
  {
   "cell_type": "code",
   "execution_count": 75,
   "id": "dfc74865-d290-46e3-b348-86b087d2a2e8",
   "metadata": {},
   "outputs": [],
   "source": [
    "class Cat:\n",
    "    def __init__(self,name):\n",
    "        self.name = name\n",
    "    def info(self):\n",
    "        print(self.name,\"is eating\")"
   ]
  },
  {
   "cell_type": "code",
   "execution_count": 76,
   "id": "2e4220c5-89af-407e-98b3-6ea2dc154dae",
   "metadata": {},
   "outputs": [],
   "source": [
    "c = Cat(\"kitten\")"
   ]
  },
  {
   "cell_type": "code",
   "execution_count": 77,
   "id": "17055710-7ea2-4493-9482-a405b91db450",
   "metadata": {},
   "outputs": [],
   "source": [
    "def test(name):\n",
    "    name.info()"
   ]
  },
  {
   "cell_type": "code",
   "execution_count": 78,
   "id": "e32bdf78-1962-4b02-8fa3-a3b4a03dfc2c",
   "metadata": {},
   "outputs": [
    {
     "name": "stdout",
     "output_type": "stream",
     "text": [
      "King is eating\n"
     ]
    }
   ],
   "source": [
    "test(d)"
   ]
  },
  {
   "cell_type": "code",
   "execution_count": 79,
   "id": "fe0064b9-fb3a-46fe-807c-33f13d6597a6",
   "metadata": {},
   "outputs": [
    {
     "name": "stdout",
     "output_type": "stream",
     "text": [
      "kitten is eating\n"
     ]
    }
   ],
   "source": [
    "test(c)"
   ]
  },
  {
   "cell_type": "code",
   "execution_count": 80,
   "id": "9bb9ae79-95b2-436f-a4ba-b52a62eac080",
   "metadata": {},
   "outputs": [],
   "source": [
    "# Abstraction - hide any execution\n",
    "from abc import ABC\n",
    "class car(ABC):\n",
    "    def price(self):\n",
    "        pass"
   ]
  },
  {
   "cell_type": "code",
   "execution_count": 81,
   "id": "f16b230a-a031-4776-82f9-bbc208831b65",
   "metadata": {},
   "outputs": [],
   "source": [
    "class Honda(car):\n",
    "    def price(self):\n",
    "        print(\"Honda car price is 22L\")\n",
    "class BMW(car):\n",
    "    def price(self):\n",
    "        print(\"BMW car price is 222L\")\n",
    "class Tesla(car):\n",
    "    def price(self):\n",
    "        print(\"Tesla car price is 220L\")"
   ]
  },
  {
   "cell_type": "code",
   "execution_count": 82,
   "id": "b7a00692-9db5-4933-9203-ea6d5aad8d96",
   "metadata": {},
   "outputs": [],
   "source": [
    "h = Honda()"
   ]
  },
  {
   "cell_type": "code",
   "execution_count": 83,
   "id": "9607fa11-f9f1-45a1-9ca3-7f4a3dbf4b72",
   "metadata": {},
   "outputs": [
    {
     "name": "stdout",
     "output_type": "stream",
     "text": [
      "Honda car price is 22L\n"
     ]
    }
   ],
   "source": [
    "h.price()"
   ]
  },
  {
   "cell_type": "code",
   "execution_count": 84,
   "id": "481adf5a-6f14-417c-a8cf-07f62146f328",
   "metadata": {},
   "outputs": [],
   "source": [
    "b = BMW()"
   ]
  },
  {
   "cell_type": "code",
   "execution_count": 85,
   "id": "54d176c0-c6e9-4383-912a-18973f487519",
   "metadata": {},
   "outputs": [
    {
     "name": "stdout",
     "output_type": "stream",
     "text": [
      "BMW car price is 222L\n"
     ]
    }
   ],
   "source": [
    "b.price()"
   ]
  },
  {
   "cell_type": "code",
   "execution_count": 86,
   "id": "a476e980-cad9-4c13-b25d-cd42bfa2a238",
   "metadata": {},
   "outputs": [],
   "source": [
    "t = Tesla()"
   ]
  },
  {
   "cell_type": "code",
   "execution_count": 87,
   "id": "0d205594-f238-4108-9794-2efa37c0730d",
   "metadata": {},
   "outputs": [
    {
     "name": "stdout",
     "output_type": "stream",
     "text": [
      "Tesla car price is 220L\n"
     ]
    }
   ],
   "source": [
    "t.price()"
   ]
  }
 ],
 "metadata": {
  "kernelspec": {
   "display_name": "Python 3 (ipykernel)",
   "language": "python",
   "name": "python3"
  },
  "language_info": {
   "codemirror_mode": {
    "name": "ipython",
    "version": 3
   },
   "file_extension": ".py",
   "mimetype": "text/x-python",
   "name": "python",
   "nbconvert_exporter": "python",
   "pygments_lexer": "ipython3",
   "version": "3.11.5"
  }
 },
 "nbformat": 4,
 "nbformat_minor": 5
}
