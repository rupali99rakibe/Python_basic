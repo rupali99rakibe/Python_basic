{
 "cells": [
  {
   "cell_type": "code",
   "execution_count": 1,
   "id": "ab836030-6693-4850-ab42-66f2e374ea53",
   "metadata": {},
   "outputs": [
    {
     "name": "stdout",
     "output_type": "stream",
     "text": [
      "5.0\n"
     ]
    }
   ],
   "source": [
    "a = 10\n",
    "print(a/2)"
   ]
  },
  {
   "cell_type": "code",
   "execution_count": 2,
   "id": "5b47f73c-77d2-4e65-9e84-7436f3f9cfad",
   "metadata": {},
   "outputs": [
    {
     "name": "stdout",
     "output_type": "stream",
     "text": [
      "5.5\n"
     ]
    }
   ],
   "source": [
    "a = 11\n",
    "try:\n",
    "    print(a/2)\n",
    "except:\n",
    "    print(\"cannot devide by zero\")"
   ]
  },
  {
   "cell_type": "code",
   "execution_count": 16,
   "id": "bdfc0d7f-bbca-4c39-8d97-1169458261a3",
   "metadata": {},
   "outputs": [
    {
     "name": "stdout",
     "output_type": "stream",
     "text": [
      "file does not exist\n"
     ]
    }
   ],
   "source": [
    "try:\n",
    "    f = open(\"abc.txt\",\"r\")\n",
    "    print(\"File opened\")\n",
    "except:\n",
    "    print(\"file does not exist\")"
   ]
  },
  {
   "cell_type": "code",
   "execution_count": null,
   "id": "7cc0b8b4-c9d9-48fc-b259-404ae9d8cfb1",
   "metadata": {},
   "outputs": [],
   "source": []
  },
  {
   "cell_type": "code",
   "execution_count": 3,
   "id": "165ad3cd-3d5a-42cb-bd6b-83bc37af4c5e",
   "metadata": {},
   "outputs": [
    {
     "name": "stdout",
     "output_type": "stream",
     "text": [
      "5.5\n",
      "code is ompleted\n"
     ]
    }
   ],
   "source": [
    "a = 11\n",
    "try:\n",
    "    print(a/2)\n",
    "except:\n",
    "    print(\"file does not exist\")\n",
    "finally:\n",
    "    print(\"code is ompleted\")"
   ]
  },
  {
   "cell_type": "code",
   "execution_count": 4,
   "id": "2fa1c2ef-35ec-4f83-8236-05674ad42ffe",
   "metadata": {},
   "outputs": [
    {
     "name": "stdout",
     "output_type": "stream",
     "text": [
      "file does not exist\n"
     ]
    }
   ],
   "source": [
    "try:\n",
    "    f = open(\"test.txt\",\"w\")\n",
    "    f.close()\n",
    "    f.write('This is data science class')\n",
    "except:\n",
    "    print(\"file does not exist\")"
   ]
  },
  {
   "cell_type": "code",
   "execution_count": 5,
   "id": "fa541891-a472-4eef-9bd4-dbe336ab1660",
   "metadata": {},
   "outputs": [
    {
     "name": "stdout",
     "output_type": "stream",
     "text": [
      "I/O operation on closed file.\n"
     ]
    }
   ],
   "source": [
    "try:\n",
    "    f = open(\"Test.txt\",\"w\")\n",
    "    f.close()\n",
    "    f.write(\"This is a data science class\")\n",
    "except Exception as e:\n",
    "    print(e)"
   ]
  },
  {
   "cell_type": "code",
   "execution_count": 6,
   "id": "65062c67-7588-44e7-9811-dce82c18be21",
   "metadata": {},
   "outputs": [],
   "source": [
    "r = \"python is easy\"\n",
    "def test(var,old,new):\n",
    "    try:\n",
    "        print(var.replace(old,new))\n",
    "    except Exception as e:\n",
    "        print(e)"
   ]
  },
  {
   "cell_type": "code",
   "execution_count": 7,
   "id": "07fef36e-ac86-43e7-9dc6-38708d2752d1",
   "metadata": {},
   "outputs": [
    {
     "name": "stdout",
     "output_type": "stream",
     "text": [
      "python is hard\n"
     ]
    }
   ],
   "source": [
    "test(r,\"easy\",\"hard\")"
   ]
  },
  {
   "cell_type": "code",
   "execution_count": 10,
   "id": "f84b1636-d2d6-4cff-9ccf-874967afad6a",
   "metadata": {},
   "outputs": [],
   "source": [
    "r = \"python is easy\"\n",
    "try:\n",
    "    def test(var1,old,new):\n",
    "        try:\n",
    "            print(var1.replace(old,new))\n",
    "        except Exception as e:\n",
    "            test(r,\"is\",\"is a\")\n",
    "except Exception as e:\n",
    "    print(e)"
   ]
  },
  {
   "cell_type": "code",
   "execution_count": 11,
   "id": "b4d8d6d2-b624-46a3-bd36-6532663752ca",
   "metadata": {},
   "outputs": [
    {
     "name": "stdout",
     "output_type": "stream",
     "text": [
      "python is hard\n"
     ]
    }
   ],
   "source": [
    "t = test(r,\"easy\",\"hard\")"
   ]
  },
  {
   "cell_type": "code",
   "execution_count": null,
   "id": "5bd6d8b0-9356-4dd9-a96e-60e8dc79dcc7",
   "metadata": {},
   "outputs": [],
   "source": []
  }
 ],
 "metadata": {
  "kernelspec": {
   "display_name": "Python 3 (ipykernel)",
   "language": "python",
   "name": "python3"
  },
  "language_info": {
   "codemirror_mode": {
    "name": "ipython",
    "version": 3
   },
   "file_extension": ".py",
   "mimetype": "text/x-python",
   "name": "python",
   "nbconvert_exporter": "python",
   "pygments_lexer": "ipython3",
   "version": "3.11.5"
  },
  "widgets": {
   "application/vnd.jupyter.widget-state+json": {
    "state": {},
    "version_major": 2,
    "version_minor": 0
   }
  }
 },
 "nbformat": 4,
 "nbformat_minor": 5
}
