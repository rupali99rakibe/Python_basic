{
 "cells": [
  {
   "cell_type": "code",
   "execution_count": 1,
   "id": "cce441a3-457b-41d4-84d2-235227455d9b",
   "metadata": {},
   "outputs": [
    {
     "name": "stdout",
     "output_type": "stream",
     "text": [
      "number is positive\n"
     ]
    }
   ],
   "source": [
    "# number is a positive or not\n",
    "a = 9\n",
    "if a > 0:\n",
    "    print(\"number is positive\")\n",
    "else:\n",
    "    print(\"number is negative\")"
   ]
  },
  {
   "cell_type": "code",
   "execution_count": 2,
   "id": "e5eac799-24da-435e-bb4c-737ba72a33c0",
   "metadata": {},
   "outputs": [
    {
     "name": "stdout",
     "output_type": "stream",
     "text": [
      "number is zero\n"
     ]
    }
   ],
   "source": [
    "# number is positive,negative or zero by using nested if else\n",
    "b = 0\n",
    "if b >= 0:\n",
    "    if b == 0:\n",
    "        print(\"number is zero\")\n",
    "    else:\n",
    "        print(\"number is positive\")\n",
    "else:\n",
    "    print(\"number is negative\")"
   ]
  },
  {
   "cell_type": "code",
   "execution_count": 4,
   "id": "c918be1d-b6b7-41b7-9b42-a96a902bd6cf",
   "metadata": {},
   "outputs": [
    {
     "name": "stdout",
     "output_type": "stream",
     "text": [
      "number is even\n"
     ]
    }
   ],
   "source": [
    "# check number is even or odd\n",
    "a = 6\n",
    "if a % 2 == 0:\n",
    "    print(\"number is even\")\n",
    "else:\n",
    "    print(\"number is odd\")"
   ]
  },
  {
   "cell_type": "code",
   "execution_count": null,
   "id": "3879b04f-c829-4764-9c43-c95dd6bb87dc",
   "metadata": {},
   "outputs": [],
   "source": [
    "# year is leap or not\n",
    "r = 2002\n",
    "if r % 4 == 0:\n",
    "    print(\"it is a leap year\")\n",
    "else:\n",
    "    print(\"it is not a leap year\")"
   ]
  },
  {
   "cell_type": "code",
   "execution_count": 5,
   "id": "2bdfcfb7-91d1-4f02-94ef-159e47f6aad2",
   "metadata": {},
   "outputs": [
    {
     "name": "stdout",
     "output_type": "stream",
     "text": [
      "lagest number is 15\n"
     ]
    }
   ],
   "source": [
    "# To find a largest number in a given number\n",
    "num1 = 9\n",
    "num2 = 15\n",
    "num3 = 3\n",
    "if (num1 > num2) and (num1 > num3):\n",
    "    a = num1\n",
    "elif (num2 > num1) and (num2 > num3):\n",
    "    a = num2\n",
    "elif (num3 > num1) and (num3 > num2):\n",
    "    a = num3\n",
    "print(\"lagest number is\",a)"
   ]
  },
  {
   "cell_type": "code",
   "execution_count": 15,
   "id": "40df52e9-7f0c-41f1-abfc-c434fce9ab2c",
   "metadata": {},
   "outputs": [
    {
     "data": {
      "text/plain": [
       "80"
      ]
     },
     "execution_count": 15,
     "metadata": {},
     "output_type": "execute_result"
    }
   ],
   "source": [
    "# to find largest number in list\n",
    "l = [10,20,30,60,80]\n",
    "max(l)"
   ]
  },
  {
   "cell_type": "code",
   "execution_count": 18,
   "id": "c5f4738e-39a0-40c1-99db-b3a6c863bcfa",
   "metadata": {},
   "outputs": [
    {
     "name": "stdout",
     "output_type": "stream",
     "text": [
      "prime number\n",
      "prime number\n",
      "prime number\n",
      "prime number\n",
      "prime number\n",
      "prime number\n",
      "prime number\n",
      "prime number\n",
      "prime number\n"
     ]
    }
   ],
   "source": [
    "# find a prime number\n",
    "a = 11\n",
    "x = 0\n",
    "for i in range(2,a):\n",
    "    if a % i == 0:\n",
    "        x = 0\n",
    "        break\n",
    "        \n",
    "    else:\n",
    "        x = 1\n",
    "        if x == 0:\n",
    "            print(\"this is not a prime number\")\n",
    "        else:\n",
    "            print(\"prime number\")"
   ]
  },
  {
   "cell_type": "code",
   "execution_count": null,
   "id": "295bf09f-7c54-4633-a9bc-bb9b199ec781",
   "metadata": {},
   "outputs": [],
   "source": []
  }
 ],
 "metadata": {
  "kernelspec": {
   "display_name": "Python 3 (ipykernel)",
   "language": "python",
   "name": "python3"
  },
  "language_info": {
   "codemirror_mode": {
    "name": "ipython",
    "version": 3
   },
   "file_extension": ".py",
   "mimetype": "text/x-python",
   "name": "python",
   "nbconvert_exporter": "python",
   "pygments_lexer": "ipython3",
   "version": "3.11.5"
  },
  "widgets": {
   "application/vnd.jupyter.widget-state+json": {
    "state": {},
    "version_major": 2,
    "version_minor": 0
   }
  }
 },
 "nbformat": 4,
 "nbformat_minor": 5
}
