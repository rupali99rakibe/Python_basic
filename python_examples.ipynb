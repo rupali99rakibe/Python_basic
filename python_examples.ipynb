{
 "cells": [
  {
   "cell_type": "code",
   "execution_count": 1,
   "id": "cce441a3-457b-41d4-84d2-235227455d9b",
   "metadata": {},
   "outputs": [
    {
     "name": "stdout",
     "output_type": "stream",
     "text": [
      "number is positive\n"
     ]
    }
   ],
   "source": [
    "# number is a positive or not\n",
    "a = 9\n",
    "if a > 0:\n",
    "    print(\"number is positive\")\n",
    "else:\n",
    "    print(\"number is negative\")"
   ]
  },
  {
   "cell_type": "code",
   "execution_count": 2,
   "id": "e5eac799-24da-435e-bb4c-737ba72a33c0",
   "metadata": {},
   "outputs": [
    {
     "name": "stdout",
     "output_type": "stream",
     "text": [
      "number is zero\n"
     ]
    }
   ],
   "source": [
    "# number is positive,negative or zero by using nested if else\n",
    "b = 0\n",
    "if b >= 0:\n",
    "    if b == 0:\n",
    "        print(\"number is zero\")\n",
    "    else:\n",
    "        print(\"number is positive\")\n",
    "else:\n",
    "    print(\"number is negative\")"
   ]
  },
  {
   "cell_type": "code",
   "execution_count": 4,
   "id": "c918be1d-b6b7-41b7-9b42-a96a902bd6cf",
   "metadata": {},
   "outputs": [
    {
     "name": "stdout",
     "output_type": "stream",
     "text": [
      "number is even\n"
     ]
    }
   ],
   "source": [
    "# check number is even or odd\n",
    "a = 6\n",
    "if a % 2 == 0:\n",
    "    print(\"number is even\")\n",
    "else:\n",
    "    print(\"number is odd\")"
   ]
  },
  {
   "cell_type": "code",
   "execution_count": null,
   "id": "3879b04f-c829-4764-9c43-c95dd6bb87dc",
   "metadata": {},
   "outputs": [],
   "source": [
    "# year is leap or not\n",
    "r = 2002\n",
    "if r % 4 == 0:\n",
    "    print(\"it is a leap year\")\n",
    "else:\n",
    "    print(\"it is not a leap year\")"
   ]
  },
  {
   "cell_type": "code",
   "execution_count": null,
   "id": "2bdfcfb7-91d1-4f02-94ef-159e47f6aad2",
   "metadata": {},
   "outputs": [],
   "source": [
    "# To find a largest number in a given number\n",
    "num1 = 9\n",
    "num2 = 15\n",
    "num3 = 3\n",
    "if (num1 "
   ]
  }
 ],
 "metadata": {
  "kernelspec": {
   "display_name": "Python 3 (ipykernel)",
   "language": "python",
   "name": "python3"
  },
  "language_info": {
   "codemirror_mode": {
    "name": "ipython",
    "version": 3
   },
   "file_extension": ".py",
   "mimetype": "text/x-python",
   "name": "python",
   "nbconvert_exporter": "python",
   "pygments_lexer": "ipython3",
   "version": "3.11.5"
  }
 },
 "nbformat": 4,
 "nbformat_minor": 5
}
